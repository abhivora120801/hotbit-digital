{
 "cells": [
  {
   "cell_type": "code",
   "execution_count": 1,
   "metadata": {},
   "outputs": [],
   "source": [
    "from random import randint\n",
    "from xml import dom\n",
    "import boto3\n",
    "from selenium import webdriver\n",
    "from selenium.webdriver.chrome.service import Service\n",
    "from webdriver_manager.chrome import ChromeDriverManager\n",
    "from selenium.webdriver.common.by import By\n",
    "import time\n",
    "import csv\n",
    "from bs4 import BeautifulSoup \n",
    "from credentials import *"
   ]
  },
  {
   "cell_type": "code",
   "execution_count": 2,
   "metadata": {},
   "outputs": [],
   "source": [
    "def init_driver():\n",
    "    options = webdriver.ChromeOptions()\n",
    "    # options.add_argument(\"--headless\")\n",
    "    main_driver=webdriver.Chrome(service=Service(ChromeDriverManager().install()))\n",
    "    main_driver.maximize_window()\n",
    "    return main_driver"
   ]
  },
  {
   "cell_type": "code",
   "execution_count": 25,
   "metadata": {},
   "outputs": [],
   "source": [
    "main_driver = init_driver()"
   ]
  },
  {
   "cell_type": "code",
   "execution_count": 62,
   "metadata": {},
   "outputs": [],
   "source": [
    "def scrape_emails_from_google(main_driver,url):\n",
    "    # main_driver.get(url)\n",
    "    emails=[]\n",
    "    source=main_driver.page_source\n",
    "    soup=BeautifulSoup(source,'html.parser')    \n",
    "\n",
    "    email_div=soup.find('div',class_='dURPMd').find_all('div',class_='MjjYud')\n",
    "\n",
    "    for email in email_div:\n",
    "        company=email.find('h3','LC20lb MBeuO DKV0Md').text\n",
    "        email=get_email(email)\n",
    "        emails.append({'company':company,'email':email})\n",
    "    return emails"
   ]
  },
  {
   "cell_type": "code",
   "execution_count": 29,
   "metadata": {},
   "outputs": [],
   "source": []
  },
  {
   "cell_type": "code",
   "execution_count": 81,
   "metadata": {},
   "outputs": [],
   "source": [
    "def get_email(email_div_temp):\n",
    "    temp=email_div_temp.find('div',class_='VwiC3b yXK7lf lVm3ye r025kc hJNv6b Hdw6tb').text.split(' ')\n",
    "    for i in temp:\n",
    "        if '@' in i:\n",
    "            if i[-1] == '.':\n",
    "                return i[:-1]\n",
    "            return i\n",
    "    return None\n"
   ]
  },
  {
   "cell_type": "code",
   "execution_count": 34,
   "metadata": {},
   "outputs": [],
   "source": []
  },
  {
   "cell_type": "code",
   "execution_count": 56,
   "metadata": {},
   "outputs": [],
   "source": [
    "gsearch_url=\"https://www.google.com/search?q=site:facebook.com+%22Roofing%22+AND+London+AND+Gmail&sca_esv=369bb2d90aa2509e&sca_upv=1&cs=0&tbas=0&sxsrf=ACQVn08h49W1RtrSVTzziYYOCnAjCt5A8Q:1713766575143&source=lnt&tbs=qdr:m&sa=X&ved=2ahUKEwifwMH_ldWFAxXthq8BHR7wB1sQpwV6BAgFEAo&biw=1821&bih=844&dpr=0.75\"\n"
   ]
  },
  {
   "cell_type": "code",
   "execution_count": 82,
   "metadata": {},
   "outputs": [],
   "source": [
    "Emails_data=scrape_emails_from_google(main_driver,gsearch_url)"
   ]
  },
  {
   "cell_type": "code",
   "execution_count": 83,
   "metadata": {},
   "outputs": [
    {
     "name": "stdout",
     "output_type": "stream",
     "text": [
      "done\n"
     ]
    }
   ],
   "source": [
    "with open('emails.csv', mode='w') as file:\n",
    "    writer = csv.writer(file)\n",
    "    writer.writerow(['Company', 'Email'])\n",
    "    for email in Emails_data:\n",
    "        writer.writerow([email['company'], email['email']])\n",
    "print('done')\n"
   ]
  },
  {
   "cell_type": "code",
   "execution_count": 71,
   "metadata": {},
   "outputs": [],
   "source": [
    "main_driver.get(gsearch_url)"
   ]
  },
  {
   "cell_type": "code",
   "execution_count": 72,
   "metadata": {},
   "outputs": [],
   "source": [
    "source=main_driver.page_source\n",
    "soup=BeautifulSoup(source,'html.parser')    \n",
    "\n",
    "email_div=soup.find('div',class_='dURPMd').find_all('div',class_='MjjYud')"
   ]
  },
  {
   "cell_type": "code",
   "execution_count": null,
   "metadata": {},
   "outputs": [],
   "source": []
  },
  {
   "cell_type": "code",
   "execution_count": 4,
   "metadata": {},
   "outputs": [],
   "source": [
    "import json\n",
    "import requests"
   ]
  },
  {
   "cell_type": "code",
   "execution_count": 8,
   "metadata": {},
   "outputs": [],
   "source": [
    "test123 = {'company': 'Apple'}\n",
    "test={\n",
    "                'company': test123.get('company'),\n",
    "            }"
   ]
  },
  {
   "cell_type": "code",
   "execution_count": 9,
   "metadata": {},
   "outputs": [],
   "source": [
    "def extract_data_from_yellow_pages(main_driver,url,pages):\n",
    "\n",
    "    prospect_data=[]\n",
    "    for i in range(1, pages+1):\n",
    "        if i == 1:\n",
    "            main_driver.get(url)\n",
    "        else:\n",
    "            if '?' in url:\n",
    "                main_driver.get(f\"{url}&page={i}\")\n",
    "            else:\n",
    "                main_driver.get(f\"{url}?page={i}\")\n",
    "        time.sleep(5)\n",
    "        # the_soup = BeautifulSoup(response.text)\n",
    "        the_soup = BeautifulSoup(main_driver.page_source)\n",
    "        json_tag = the_soup.find_all(\"script\", type=\"application/ld+json\")\n",
    "        json_obj = json.loads(json_tag[1].text)\n",
    "        for item in json_obj:\n",
    "            response_ = requests.get(item['url'])\n",
    "            time.sleep(1)\n",
    "            the_soup_123 = BeautifulSoup(response_.text)\n",
    "            json_tag_123 = the_soup_123.find_all(\"script\", type=\"application/ld+json\")\n",
    "            json_obj_123 = json.loads(json_tag_123[0].text)\n",
    "            if 'email' in json_obj_123:\n",
    "                prospect_data.append({\n",
    "                    'company': json_obj_123.get('name'),\n",
    "                    'email': json_obj_123.get('email').replace('mailto:', ''),\n",
    "                    'phone': json_obj_123.get('telephone'),\n",
    "                    'website': json_obj_123.get('url'),\n",
    "                    'address': json_obj_123.get('address').get('streetAddress'),\n",
    "                    'city': json_obj_123.get('address').get('addressLocality'),\n",
    "                    'state': json_obj_123.get('address').get('addressRegion'),\n",
    "                    'country': json_obj_123.get('address').get('addressCountry')\n",
    "                })\n",
    "\n",
    "    return prospect_data\n",
    "\n",
    "    \n",
    "\n"
   ]
  },
  {
   "cell_type": "code",
   "execution_count": null,
   "metadata": {},
   "outputs": [],
   "source": [
    "main_driver=init_driver()"
   ]
  },
  {
   "cell_type": "code",
   "execution_count": 11,
   "metadata": {},
   "outputs": [
    {
     "ename": "KeyboardInterrupt",
     "evalue": "",
     "output_type": "error",
     "traceback": [
      "\u001b[0;31m---------------------------------------------------------------------------\u001b[0m",
      "\u001b[0;31mKeyboardInterrupt\u001b[0m                         Traceback (most recent call last)",
      "Cell \u001b[0;32mIn[11], line 3\u001b[0m\n\u001b[1;32m      1\u001b[0m url\u001b[38;5;241m=\u001b[39m\u001b[38;5;124m\"\u001b[39m\u001b[38;5;124mhttps://www.yellowpages.com/search?search_terms=Business\u001b[39m\u001b[38;5;124m%\u001b[39m\u001b[38;5;124m20Consultants&geo_location_terms=Atlanta\u001b[39m\u001b[38;5;124m%\u001b[39m\u001b[38;5;124m2C\u001b[39m\u001b[38;5;132;01m%20G\u001b[39;00m\u001b[38;5;124mA\u001b[39m\u001b[38;5;124m\"\u001b[39m\n\u001b[1;32m      2\u001b[0m pages\u001b[38;5;241m=\u001b[39m\u001b[38;5;241m100\u001b[39m\n\u001b[0;32m----> 3\u001b[0m main_data\u001b[38;5;241m=\u001b[39m\u001b[43mextract_data_from_yellow_pages\u001b[49m\u001b[43m(\u001b[49m\u001b[43mmain_driver\u001b[49m\u001b[43m,\u001b[49m\u001b[43murl\u001b[49m\u001b[43m,\u001b[49m\u001b[43mpages\u001b[49m\u001b[43m)\u001b[49m\n",
      "Cell \u001b[0;32mIn[9], line 18\u001b[0m, in \u001b[0;36mextract_data_from_yellow_pages\u001b[0;34m(main_driver, url, pages)\u001b[0m\n\u001b[1;32m     16\u001b[0m json_obj \u001b[38;5;241m=\u001b[39m json\u001b[38;5;241m.\u001b[39mloads(json_tag[\u001b[38;5;241m1\u001b[39m]\u001b[38;5;241m.\u001b[39mtext)\n\u001b[1;32m     17\u001b[0m \u001b[38;5;28;01mfor\u001b[39;00m item \u001b[38;5;129;01min\u001b[39;00m json_obj:\n\u001b[0;32m---> 18\u001b[0m     response_ \u001b[38;5;241m=\u001b[39m \u001b[43mrequests\u001b[49m\u001b[38;5;241;43m.\u001b[39;49m\u001b[43mget\u001b[49m\u001b[43m(\u001b[49m\u001b[43mitem\u001b[49m\u001b[43m[\u001b[49m\u001b[38;5;124;43m'\u001b[39;49m\u001b[38;5;124;43murl\u001b[39;49m\u001b[38;5;124;43m'\u001b[39;49m\u001b[43m]\u001b[49m\u001b[43m)\u001b[49m\n\u001b[1;32m     19\u001b[0m     time\u001b[38;5;241m.\u001b[39msleep(\u001b[38;5;241m1\u001b[39m)\n\u001b[1;32m     20\u001b[0m     the_soup_123 \u001b[38;5;241m=\u001b[39m BeautifulSoup(response_\u001b[38;5;241m.\u001b[39mtext)\n",
      "File \u001b[0;32m~/Projects/.venv/lib/python3.9/site-packages/requests/api.py:73\u001b[0m, in \u001b[0;36mget\u001b[0;34m(url, params, **kwargs)\u001b[0m\n\u001b[1;32m     62\u001b[0m \u001b[38;5;28;01mdef\u001b[39;00m \u001b[38;5;21mget\u001b[39m(url, params\u001b[38;5;241m=\u001b[39m\u001b[38;5;28;01mNone\u001b[39;00m, \u001b[38;5;241m*\u001b[39m\u001b[38;5;241m*\u001b[39mkwargs):\n\u001b[1;32m     63\u001b[0m \u001b[38;5;250m    \u001b[39m\u001b[38;5;124mr\u001b[39m\u001b[38;5;124;03m\"\"\"Sends a GET request.\u001b[39;00m\n\u001b[1;32m     64\u001b[0m \n\u001b[1;32m     65\u001b[0m \u001b[38;5;124;03m    :param url: URL for the new :class:`Request` object.\u001b[39;00m\n\u001b[0;32m   (...)\u001b[0m\n\u001b[1;32m     70\u001b[0m \u001b[38;5;124;03m    :rtype: requests.Response\u001b[39;00m\n\u001b[1;32m     71\u001b[0m \u001b[38;5;124;03m    \"\"\"\u001b[39;00m\n\u001b[0;32m---> 73\u001b[0m     \u001b[38;5;28;01mreturn\u001b[39;00m \u001b[43mrequest\u001b[49m\u001b[43m(\u001b[49m\u001b[38;5;124;43m\"\u001b[39;49m\u001b[38;5;124;43mget\u001b[39;49m\u001b[38;5;124;43m\"\u001b[39;49m\u001b[43m,\u001b[49m\u001b[43m \u001b[49m\u001b[43murl\u001b[49m\u001b[43m,\u001b[49m\u001b[43m \u001b[49m\u001b[43mparams\u001b[49m\u001b[38;5;241;43m=\u001b[39;49m\u001b[43mparams\u001b[49m\u001b[43m,\u001b[49m\u001b[43m \u001b[49m\u001b[38;5;241;43m*\u001b[39;49m\u001b[38;5;241;43m*\u001b[39;49m\u001b[43mkwargs\u001b[49m\u001b[43m)\u001b[49m\n",
      "File \u001b[0;32m~/Projects/.venv/lib/python3.9/site-packages/requests/api.py:59\u001b[0m, in \u001b[0;36mrequest\u001b[0;34m(method, url, **kwargs)\u001b[0m\n\u001b[1;32m     55\u001b[0m \u001b[38;5;66;03m# By using the 'with' statement we are sure the session is closed, thus we\u001b[39;00m\n\u001b[1;32m     56\u001b[0m \u001b[38;5;66;03m# avoid leaving sockets open which can trigger a ResourceWarning in some\u001b[39;00m\n\u001b[1;32m     57\u001b[0m \u001b[38;5;66;03m# cases, and look like a memory leak in others.\u001b[39;00m\n\u001b[1;32m     58\u001b[0m \u001b[38;5;28;01mwith\u001b[39;00m sessions\u001b[38;5;241m.\u001b[39mSession() \u001b[38;5;28;01mas\u001b[39;00m session:\n\u001b[0;32m---> 59\u001b[0m     \u001b[38;5;28;01mreturn\u001b[39;00m \u001b[43msession\u001b[49m\u001b[38;5;241;43m.\u001b[39;49m\u001b[43mrequest\u001b[49m\u001b[43m(\u001b[49m\u001b[43mmethod\u001b[49m\u001b[38;5;241;43m=\u001b[39;49m\u001b[43mmethod\u001b[49m\u001b[43m,\u001b[49m\u001b[43m \u001b[49m\u001b[43murl\u001b[49m\u001b[38;5;241;43m=\u001b[39;49m\u001b[43murl\u001b[49m\u001b[43m,\u001b[49m\u001b[43m \u001b[49m\u001b[38;5;241;43m*\u001b[39;49m\u001b[38;5;241;43m*\u001b[39;49m\u001b[43mkwargs\u001b[49m\u001b[43m)\u001b[49m\n",
      "File \u001b[0;32m~/Projects/.venv/lib/python3.9/site-packages/requests/sessions.py:589\u001b[0m, in \u001b[0;36mSession.request\u001b[0;34m(self, method, url, params, data, headers, cookies, files, auth, timeout, allow_redirects, proxies, hooks, stream, verify, cert, json)\u001b[0m\n\u001b[1;32m    584\u001b[0m send_kwargs \u001b[38;5;241m=\u001b[39m {\n\u001b[1;32m    585\u001b[0m     \u001b[38;5;124m\"\u001b[39m\u001b[38;5;124mtimeout\u001b[39m\u001b[38;5;124m\"\u001b[39m: timeout,\n\u001b[1;32m    586\u001b[0m     \u001b[38;5;124m\"\u001b[39m\u001b[38;5;124mallow_redirects\u001b[39m\u001b[38;5;124m\"\u001b[39m: allow_redirects,\n\u001b[1;32m    587\u001b[0m }\n\u001b[1;32m    588\u001b[0m send_kwargs\u001b[38;5;241m.\u001b[39mupdate(settings)\n\u001b[0;32m--> 589\u001b[0m resp \u001b[38;5;241m=\u001b[39m \u001b[38;5;28;43mself\u001b[39;49m\u001b[38;5;241;43m.\u001b[39;49m\u001b[43msend\u001b[49m\u001b[43m(\u001b[49m\u001b[43mprep\u001b[49m\u001b[43m,\u001b[49m\u001b[43m \u001b[49m\u001b[38;5;241;43m*\u001b[39;49m\u001b[38;5;241;43m*\u001b[39;49m\u001b[43msend_kwargs\u001b[49m\u001b[43m)\u001b[49m\n\u001b[1;32m    591\u001b[0m \u001b[38;5;28;01mreturn\u001b[39;00m resp\n",
      "File \u001b[0;32m~/Projects/.venv/lib/python3.9/site-packages/requests/sessions.py:703\u001b[0m, in \u001b[0;36mSession.send\u001b[0;34m(self, request, **kwargs)\u001b[0m\n\u001b[1;32m    700\u001b[0m start \u001b[38;5;241m=\u001b[39m preferred_clock()\n\u001b[1;32m    702\u001b[0m \u001b[38;5;66;03m# Send the request\u001b[39;00m\n\u001b[0;32m--> 703\u001b[0m r \u001b[38;5;241m=\u001b[39m \u001b[43madapter\u001b[49m\u001b[38;5;241;43m.\u001b[39;49m\u001b[43msend\u001b[49m\u001b[43m(\u001b[49m\u001b[43mrequest\u001b[49m\u001b[43m,\u001b[49m\u001b[43m \u001b[49m\u001b[38;5;241;43m*\u001b[39;49m\u001b[38;5;241;43m*\u001b[39;49m\u001b[43mkwargs\u001b[49m\u001b[43m)\u001b[49m\n\u001b[1;32m    705\u001b[0m \u001b[38;5;66;03m# Total elapsed time of the request (approximately)\u001b[39;00m\n\u001b[1;32m    706\u001b[0m elapsed \u001b[38;5;241m=\u001b[39m preferred_clock() \u001b[38;5;241m-\u001b[39m start\n",
      "File \u001b[0;32m~/Projects/.venv/lib/python3.9/site-packages/requests/adapters.py:486\u001b[0m, in \u001b[0;36mHTTPAdapter.send\u001b[0;34m(self, request, stream, timeout, verify, cert, proxies)\u001b[0m\n\u001b[1;32m    483\u001b[0m     timeout \u001b[38;5;241m=\u001b[39m TimeoutSauce(connect\u001b[38;5;241m=\u001b[39mtimeout, read\u001b[38;5;241m=\u001b[39mtimeout)\n\u001b[1;32m    485\u001b[0m \u001b[38;5;28;01mtry\u001b[39;00m:\n\u001b[0;32m--> 486\u001b[0m     resp \u001b[38;5;241m=\u001b[39m \u001b[43mconn\u001b[49m\u001b[38;5;241;43m.\u001b[39;49m\u001b[43murlopen\u001b[49m\u001b[43m(\u001b[49m\n\u001b[1;32m    487\u001b[0m \u001b[43m        \u001b[49m\u001b[43mmethod\u001b[49m\u001b[38;5;241;43m=\u001b[39;49m\u001b[43mrequest\u001b[49m\u001b[38;5;241;43m.\u001b[39;49m\u001b[43mmethod\u001b[49m\u001b[43m,\u001b[49m\n\u001b[1;32m    488\u001b[0m \u001b[43m        \u001b[49m\u001b[43murl\u001b[49m\u001b[38;5;241;43m=\u001b[39;49m\u001b[43murl\u001b[49m\u001b[43m,\u001b[49m\n\u001b[1;32m    489\u001b[0m \u001b[43m        \u001b[49m\u001b[43mbody\u001b[49m\u001b[38;5;241;43m=\u001b[39;49m\u001b[43mrequest\u001b[49m\u001b[38;5;241;43m.\u001b[39;49m\u001b[43mbody\u001b[49m\u001b[43m,\u001b[49m\n\u001b[1;32m    490\u001b[0m \u001b[43m        \u001b[49m\u001b[43mheaders\u001b[49m\u001b[38;5;241;43m=\u001b[39;49m\u001b[43mrequest\u001b[49m\u001b[38;5;241;43m.\u001b[39;49m\u001b[43mheaders\u001b[49m\u001b[43m,\u001b[49m\n\u001b[1;32m    491\u001b[0m \u001b[43m        \u001b[49m\u001b[43mredirect\u001b[49m\u001b[38;5;241;43m=\u001b[39;49m\u001b[38;5;28;43;01mFalse\u001b[39;49;00m\u001b[43m,\u001b[49m\n\u001b[1;32m    492\u001b[0m \u001b[43m        \u001b[49m\u001b[43massert_same_host\u001b[49m\u001b[38;5;241;43m=\u001b[39;49m\u001b[38;5;28;43;01mFalse\u001b[39;49;00m\u001b[43m,\u001b[49m\n\u001b[1;32m    493\u001b[0m \u001b[43m        \u001b[49m\u001b[43mpreload_content\u001b[49m\u001b[38;5;241;43m=\u001b[39;49m\u001b[38;5;28;43;01mFalse\u001b[39;49;00m\u001b[43m,\u001b[49m\n\u001b[1;32m    494\u001b[0m \u001b[43m        \u001b[49m\u001b[43mdecode_content\u001b[49m\u001b[38;5;241;43m=\u001b[39;49m\u001b[38;5;28;43;01mFalse\u001b[39;49;00m\u001b[43m,\u001b[49m\n\u001b[1;32m    495\u001b[0m \u001b[43m        \u001b[49m\u001b[43mretries\u001b[49m\u001b[38;5;241;43m=\u001b[39;49m\u001b[38;5;28;43mself\u001b[39;49m\u001b[38;5;241;43m.\u001b[39;49m\u001b[43mmax_retries\u001b[49m\u001b[43m,\u001b[49m\n\u001b[1;32m    496\u001b[0m \u001b[43m        \u001b[49m\u001b[43mtimeout\u001b[49m\u001b[38;5;241;43m=\u001b[39;49m\u001b[43mtimeout\u001b[49m\u001b[43m,\u001b[49m\n\u001b[1;32m    497\u001b[0m \u001b[43m        \u001b[49m\u001b[43mchunked\u001b[49m\u001b[38;5;241;43m=\u001b[39;49m\u001b[43mchunked\u001b[49m\u001b[43m,\u001b[49m\n\u001b[1;32m    498\u001b[0m \u001b[43m    \u001b[49m\u001b[43m)\u001b[49m\n\u001b[1;32m    500\u001b[0m \u001b[38;5;28;01mexcept\u001b[39;00m (ProtocolError, \u001b[38;5;167;01mOSError\u001b[39;00m) \u001b[38;5;28;01mas\u001b[39;00m err:\n\u001b[1;32m    501\u001b[0m     \u001b[38;5;28;01mraise\u001b[39;00m \u001b[38;5;167;01mConnectionError\u001b[39;00m(err, request\u001b[38;5;241m=\u001b[39mrequest)\n",
      "File \u001b[0;32m~/Projects/.venv/lib/python3.9/site-packages/urllib3/connectionpool.py:715\u001b[0m, in \u001b[0;36mHTTPConnectionPool.urlopen\u001b[0;34m(self, method, url, body, headers, retries, redirect, assert_same_host, timeout, pool_timeout, release_conn, chunked, body_pos, **response_kw)\u001b[0m\n\u001b[1;32m    712\u001b[0m     \u001b[38;5;28mself\u001b[39m\u001b[38;5;241m.\u001b[39m_prepare_proxy(conn)\n\u001b[1;32m    714\u001b[0m \u001b[38;5;66;03m# Make the request on the httplib connection object.\u001b[39;00m\n\u001b[0;32m--> 715\u001b[0m httplib_response \u001b[38;5;241m=\u001b[39m \u001b[38;5;28;43mself\u001b[39;49m\u001b[38;5;241;43m.\u001b[39;49m\u001b[43m_make_request\u001b[49m\u001b[43m(\u001b[49m\n\u001b[1;32m    716\u001b[0m \u001b[43m    \u001b[49m\u001b[43mconn\u001b[49m\u001b[43m,\u001b[49m\n\u001b[1;32m    717\u001b[0m \u001b[43m    \u001b[49m\u001b[43mmethod\u001b[49m\u001b[43m,\u001b[49m\n\u001b[1;32m    718\u001b[0m \u001b[43m    \u001b[49m\u001b[43murl\u001b[49m\u001b[43m,\u001b[49m\n\u001b[1;32m    719\u001b[0m \u001b[43m    \u001b[49m\u001b[43mtimeout\u001b[49m\u001b[38;5;241;43m=\u001b[39;49m\u001b[43mtimeout_obj\u001b[49m\u001b[43m,\u001b[49m\n\u001b[1;32m    720\u001b[0m \u001b[43m    \u001b[49m\u001b[43mbody\u001b[49m\u001b[38;5;241;43m=\u001b[39;49m\u001b[43mbody\u001b[49m\u001b[43m,\u001b[49m\n\u001b[1;32m    721\u001b[0m \u001b[43m    \u001b[49m\u001b[43mheaders\u001b[49m\u001b[38;5;241;43m=\u001b[39;49m\u001b[43mheaders\u001b[49m\u001b[43m,\u001b[49m\n\u001b[1;32m    722\u001b[0m \u001b[43m    \u001b[49m\u001b[43mchunked\u001b[49m\u001b[38;5;241;43m=\u001b[39;49m\u001b[43mchunked\u001b[49m\u001b[43m,\u001b[49m\n\u001b[1;32m    723\u001b[0m \u001b[43m\u001b[49m\u001b[43m)\u001b[49m\n\u001b[1;32m    725\u001b[0m \u001b[38;5;66;03m# If we're going to release the connection in ``finally:``, then\u001b[39;00m\n\u001b[1;32m    726\u001b[0m \u001b[38;5;66;03m# the response doesn't need to know about the connection. Otherwise\u001b[39;00m\n\u001b[1;32m    727\u001b[0m \u001b[38;5;66;03m# it will also try to release it and we'll have a double-release\u001b[39;00m\n\u001b[1;32m    728\u001b[0m \u001b[38;5;66;03m# mess.\u001b[39;00m\n\u001b[1;32m    729\u001b[0m response_conn \u001b[38;5;241m=\u001b[39m conn \u001b[38;5;28;01mif\u001b[39;00m \u001b[38;5;129;01mnot\u001b[39;00m release_conn \u001b[38;5;28;01melse\u001b[39;00m \u001b[38;5;28;01mNone\u001b[39;00m\n",
      "File \u001b[0;32m~/Projects/.venv/lib/python3.9/site-packages/urllib3/connectionpool.py:467\u001b[0m, in \u001b[0;36mHTTPConnectionPool._make_request\u001b[0;34m(self, conn, method, url, timeout, chunked, **httplib_request_kw)\u001b[0m\n\u001b[1;32m    462\u001b[0m             httplib_response \u001b[38;5;241m=\u001b[39m conn\u001b[38;5;241m.\u001b[39mgetresponse()\n\u001b[1;32m    463\u001b[0m         \u001b[38;5;28;01mexcept\u001b[39;00m \u001b[38;5;167;01mBaseException\u001b[39;00m \u001b[38;5;28;01mas\u001b[39;00m e:\n\u001b[1;32m    464\u001b[0m             \u001b[38;5;66;03m# Remove the TypeError from the exception chain in\u001b[39;00m\n\u001b[1;32m    465\u001b[0m             \u001b[38;5;66;03m# Python 3 (including for exceptions like SystemExit).\u001b[39;00m\n\u001b[1;32m    466\u001b[0m             \u001b[38;5;66;03m# Otherwise it looks like a bug in the code.\u001b[39;00m\n\u001b[0;32m--> 467\u001b[0m             \u001b[43msix\u001b[49m\u001b[38;5;241;43m.\u001b[39;49m\u001b[43mraise_from\u001b[49m\u001b[43m(\u001b[49m\u001b[43me\u001b[49m\u001b[43m,\u001b[49m\u001b[43m \u001b[49m\u001b[38;5;28;43;01mNone\u001b[39;49;00m\u001b[43m)\u001b[49m\n\u001b[1;32m    468\u001b[0m \u001b[38;5;28;01mexcept\u001b[39;00m (SocketTimeout, BaseSSLError, SocketError) \u001b[38;5;28;01mas\u001b[39;00m e:\n\u001b[1;32m    469\u001b[0m     \u001b[38;5;28mself\u001b[39m\u001b[38;5;241m.\u001b[39m_raise_timeout(err\u001b[38;5;241m=\u001b[39me, url\u001b[38;5;241m=\u001b[39murl, timeout_value\u001b[38;5;241m=\u001b[39mread_timeout)\n",
      "File \u001b[0;32m<string>:3\u001b[0m, in \u001b[0;36mraise_from\u001b[0;34m(value, from_value)\u001b[0m\n",
      "File \u001b[0;32m~/Projects/.venv/lib/python3.9/site-packages/urllib3/connectionpool.py:462\u001b[0m, in \u001b[0;36mHTTPConnectionPool._make_request\u001b[0;34m(self, conn, method, url, timeout, chunked, **httplib_request_kw)\u001b[0m\n\u001b[1;32m    459\u001b[0m \u001b[38;5;28;01mexcept\u001b[39;00m \u001b[38;5;167;01mTypeError\u001b[39;00m:\n\u001b[1;32m    460\u001b[0m     \u001b[38;5;66;03m# Python 3\u001b[39;00m\n\u001b[1;32m    461\u001b[0m     \u001b[38;5;28;01mtry\u001b[39;00m:\n\u001b[0;32m--> 462\u001b[0m         httplib_response \u001b[38;5;241m=\u001b[39m \u001b[43mconn\u001b[49m\u001b[38;5;241;43m.\u001b[39;49m\u001b[43mgetresponse\u001b[49m\u001b[43m(\u001b[49m\u001b[43m)\u001b[49m\n\u001b[1;32m    463\u001b[0m     \u001b[38;5;28;01mexcept\u001b[39;00m \u001b[38;5;167;01mBaseException\u001b[39;00m \u001b[38;5;28;01mas\u001b[39;00m e:\n\u001b[1;32m    464\u001b[0m         \u001b[38;5;66;03m# Remove the TypeError from the exception chain in\u001b[39;00m\n\u001b[1;32m    465\u001b[0m         \u001b[38;5;66;03m# Python 3 (including for exceptions like SystemExit).\u001b[39;00m\n\u001b[1;32m    466\u001b[0m         \u001b[38;5;66;03m# Otherwise it looks like a bug in the code.\u001b[39;00m\n\u001b[1;32m    467\u001b[0m         six\u001b[38;5;241m.\u001b[39mraise_from(e, \u001b[38;5;28;01mNone\u001b[39;00m)\n",
      "File \u001b[0;32m/Library/Developer/CommandLineTools/Library/Frameworks/Python3.framework/Versions/3.9/lib/python3.9/http/client.py:1349\u001b[0m, in \u001b[0;36mHTTPConnection.getresponse\u001b[0;34m(self)\u001b[0m\n\u001b[1;32m   1347\u001b[0m \u001b[38;5;28;01mtry\u001b[39;00m:\n\u001b[1;32m   1348\u001b[0m     \u001b[38;5;28;01mtry\u001b[39;00m:\n\u001b[0;32m-> 1349\u001b[0m         \u001b[43mresponse\u001b[49m\u001b[38;5;241;43m.\u001b[39;49m\u001b[43mbegin\u001b[49m\u001b[43m(\u001b[49m\u001b[43m)\u001b[49m\n\u001b[1;32m   1350\u001b[0m     \u001b[38;5;28;01mexcept\u001b[39;00m \u001b[38;5;167;01mConnectionError\u001b[39;00m:\n\u001b[1;32m   1351\u001b[0m         \u001b[38;5;28mself\u001b[39m\u001b[38;5;241m.\u001b[39mclose()\n",
      "File \u001b[0;32m/Library/Developer/CommandLineTools/Library/Frameworks/Python3.framework/Versions/3.9/lib/python3.9/http/client.py:316\u001b[0m, in \u001b[0;36mHTTPResponse.begin\u001b[0;34m(self)\u001b[0m\n\u001b[1;32m    314\u001b[0m \u001b[38;5;66;03m# read until we get a non-100 response\u001b[39;00m\n\u001b[1;32m    315\u001b[0m \u001b[38;5;28;01mwhile\u001b[39;00m \u001b[38;5;28;01mTrue\u001b[39;00m:\n\u001b[0;32m--> 316\u001b[0m     version, status, reason \u001b[38;5;241m=\u001b[39m \u001b[38;5;28;43mself\u001b[39;49m\u001b[38;5;241;43m.\u001b[39;49m\u001b[43m_read_status\u001b[49m\u001b[43m(\u001b[49m\u001b[43m)\u001b[49m\n\u001b[1;32m    317\u001b[0m     \u001b[38;5;28;01mif\u001b[39;00m status \u001b[38;5;241m!=\u001b[39m CONTINUE:\n\u001b[1;32m    318\u001b[0m         \u001b[38;5;28;01mbreak\u001b[39;00m\n",
      "File \u001b[0;32m/Library/Developer/CommandLineTools/Library/Frameworks/Python3.framework/Versions/3.9/lib/python3.9/http/client.py:277\u001b[0m, in \u001b[0;36mHTTPResponse._read_status\u001b[0;34m(self)\u001b[0m\n\u001b[1;32m    276\u001b[0m \u001b[38;5;28;01mdef\u001b[39;00m \u001b[38;5;21m_read_status\u001b[39m(\u001b[38;5;28mself\u001b[39m):\n\u001b[0;32m--> 277\u001b[0m     line \u001b[38;5;241m=\u001b[39m \u001b[38;5;28mstr\u001b[39m(\u001b[38;5;28;43mself\u001b[39;49m\u001b[38;5;241;43m.\u001b[39;49m\u001b[43mfp\u001b[49m\u001b[38;5;241;43m.\u001b[39;49m\u001b[43mreadline\u001b[49m\u001b[43m(\u001b[49m\u001b[43m_MAXLINE\u001b[49m\u001b[43m \u001b[49m\u001b[38;5;241;43m+\u001b[39;49m\u001b[43m \u001b[49m\u001b[38;5;241;43m1\u001b[39;49m\u001b[43m)\u001b[49m, \u001b[38;5;124m\"\u001b[39m\u001b[38;5;124miso-8859-1\u001b[39m\u001b[38;5;124m\"\u001b[39m)\n\u001b[1;32m    278\u001b[0m     \u001b[38;5;28;01mif\u001b[39;00m \u001b[38;5;28mlen\u001b[39m(line) \u001b[38;5;241m>\u001b[39m _MAXLINE:\n\u001b[1;32m    279\u001b[0m         \u001b[38;5;28;01mraise\u001b[39;00m LineTooLong(\u001b[38;5;124m\"\u001b[39m\u001b[38;5;124mstatus line\u001b[39m\u001b[38;5;124m\"\u001b[39m)\n",
      "File \u001b[0;32m/Library/Developer/CommandLineTools/Library/Frameworks/Python3.framework/Versions/3.9/lib/python3.9/socket.py:704\u001b[0m, in \u001b[0;36mSocketIO.readinto\u001b[0;34m(self, b)\u001b[0m\n\u001b[1;32m    702\u001b[0m \u001b[38;5;28;01mwhile\u001b[39;00m \u001b[38;5;28;01mTrue\u001b[39;00m:\n\u001b[1;32m    703\u001b[0m     \u001b[38;5;28;01mtry\u001b[39;00m:\n\u001b[0;32m--> 704\u001b[0m         \u001b[38;5;28;01mreturn\u001b[39;00m \u001b[38;5;28;43mself\u001b[39;49m\u001b[38;5;241;43m.\u001b[39;49m\u001b[43m_sock\u001b[49m\u001b[38;5;241;43m.\u001b[39;49m\u001b[43mrecv_into\u001b[49m\u001b[43m(\u001b[49m\u001b[43mb\u001b[49m\u001b[43m)\u001b[49m\n\u001b[1;32m    705\u001b[0m     \u001b[38;5;28;01mexcept\u001b[39;00m timeout:\n\u001b[1;32m    706\u001b[0m         \u001b[38;5;28mself\u001b[39m\u001b[38;5;241m.\u001b[39m_timeout_occurred \u001b[38;5;241m=\u001b[39m \u001b[38;5;28;01mTrue\u001b[39;00m\n",
      "File \u001b[0;32m/Library/Developer/CommandLineTools/Library/Frameworks/Python3.framework/Versions/3.9/lib/python3.9/ssl.py:1241\u001b[0m, in \u001b[0;36mSSLSocket.recv_into\u001b[0;34m(self, buffer, nbytes, flags)\u001b[0m\n\u001b[1;32m   1237\u001b[0m     \u001b[38;5;28;01mif\u001b[39;00m flags \u001b[38;5;241m!=\u001b[39m \u001b[38;5;241m0\u001b[39m:\n\u001b[1;32m   1238\u001b[0m         \u001b[38;5;28;01mraise\u001b[39;00m \u001b[38;5;167;01mValueError\u001b[39;00m(\n\u001b[1;32m   1239\u001b[0m           \u001b[38;5;124m\"\u001b[39m\u001b[38;5;124mnon-zero flags not allowed in calls to recv_into() on \u001b[39m\u001b[38;5;132;01m%s\u001b[39;00m\u001b[38;5;124m\"\u001b[39m \u001b[38;5;241m%\u001b[39m\n\u001b[1;32m   1240\u001b[0m           \u001b[38;5;28mself\u001b[39m\u001b[38;5;241m.\u001b[39m\u001b[38;5;18m__class__\u001b[39m)\n\u001b[0;32m-> 1241\u001b[0m     \u001b[38;5;28;01mreturn\u001b[39;00m \u001b[38;5;28;43mself\u001b[39;49m\u001b[38;5;241;43m.\u001b[39;49m\u001b[43mread\u001b[49m\u001b[43m(\u001b[49m\u001b[43mnbytes\u001b[49m\u001b[43m,\u001b[49m\u001b[43m \u001b[49m\u001b[43mbuffer\u001b[49m\u001b[43m)\u001b[49m\n\u001b[1;32m   1242\u001b[0m \u001b[38;5;28;01melse\u001b[39;00m:\n\u001b[1;32m   1243\u001b[0m     \u001b[38;5;28;01mreturn\u001b[39;00m \u001b[38;5;28msuper\u001b[39m()\u001b[38;5;241m.\u001b[39mrecv_into(buffer, nbytes, flags)\n",
      "File \u001b[0;32m/Library/Developer/CommandLineTools/Library/Frameworks/Python3.framework/Versions/3.9/lib/python3.9/ssl.py:1099\u001b[0m, in \u001b[0;36mSSLSocket.read\u001b[0;34m(self, len, buffer)\u001b[0m\n\u001b[1;32m   1097\u001b[0m \u001b[38;5;28;01mtry\u001b[39;00m:\n\u001b[1;32m   1098\u001b[0m     \u001b[38;5;28;01mif\u001b[39;00m buffer \u001b[38;5;129;01mis\u001b[39;00m \u001b[38;5;129;01mnot\u001b[39;00m \u001b[38;5;28;01mNone\u001b[39;00m:\n\u001b[0;32m-> 1099\u001b[0m         \u001b[38;5;28;01mreturn\u001b[39;00m \u001b[38;5;28;43mself\u001b[39;49m\u001b[38;5;241;43m.\u001b[39;49m\u001b[43m_sslobj\u001b[49m\u001b[38;5;241;43m.\u001b[39;49m\u001b[43mread\u001b[49m\u001b[43m(\u001b[49m\u001b[38;5;28;43mlen\u001b[39;49m\u001b[43m,\u001b[49m\u001b[43m \u001b[49m\u001b[43mbuffer\u001b[49m\u001b[43m)\u001b[49m\n\u001b[1;32m   1100\u001b[0m     \u001b[38;5;28;01melse\u001b[39;00m:\n\u001b[1;32m   1101\u001b[0m         \u001b[38;5;28;01mreturn\u001b[39;00m \u001b[38;5;28mself\u001b[39m\u001b[38;5;241m.\u001b[39m_sslobj\u001b[38;5;241m.\u001b[39mread(\u001b[38;5;28mlen\u001b[39m)\n",
      "\u001b[0;31mKeyboardInterrupt\u001b[0m: "
     ]
    }
   ],
   "source": [
    "url=\"https://www.yellowpages.com/search?search_terms=Business%20Consultants&geo_location_terms=Atlanta%2C%20GA\"\n",
    "pages=100\n",
    "main_data=extract_data_from_yellow_pages(main_driver,url,pages)"
   ]
  },
  {
   "cell_type": "code",
   "execution_count": 71,
   "metadata": {},
   "outputs": [
    {
     "data": {
      "text/plain": [
       "'https://www.yellowpages.com/atlanta-ga/mip/moving-squad-456496215'"
      ]
     },
     "execution_count": 71,
     "metadata": {},
     "output_type": "execute_result"
    }
   ],
   "source": [
    "page_sources[250]"
   ]
  },
  {
   "cell_type": "code",
   "execution_count": 67,
   "metadata": {},
   "outputs": [
    {
     "data": {
      "text/plain": [
       "{'@context': 'http://schema.org',\n",
       " '@type': 'http://schema.org/LocalBusiness',\n",
       " '@id': '/atlanta-ga/mip/moving-squad-456496215',\n",
       " 'name': 'Moving Squad',\n",
       " 'address': {'@type': 'PostalAddress',\n",
       "  'addressCountry': 'US',\n",
       "  'streetAddress': '72 Walton St NW',\n",
       "  'addressLocality': 'Atlanta',\n",
       "  'addressRegion': 'GA',\n",
       "  'postalCode': '30303'},\n",
       " 'geo': {'@type': 'GeoCoordinates',\n",
       "  'latitude': 33.756496,\n",
       "  'longitude': -84.39108},\n",
       " 'telephone': '(404) 891-6498',\n",
       " 'openingHours': ['Mo-Fr 09:00-20:00', 'Sa 10:00-15:00'],\n",
       " 'image': {'@type': 'ImageObject',\n",
       "  'url': 'https://i1.ypcdn.com/ypu/images/default-thumbnails/thumbnail-1.svg?addecef'},\n",
       " 'review': [],\n",
       " 'paymentAccepted': 'visa, master card, amex, discover, debit, check',\n",
       " 'email': 'mailto:info@movingcost.com'}"
      ]
     },
     "execution_count": 67,
     "metadata": {},
     "output_type": "execute_result"
    }
   ],
   "source": [
    "data[-1]"
   ]
  },
  {
   "cell_type": "code",
   "execution_count": 72,
   "metadata": {},
   "outputs": [
    {
     "name": "stdout",
     "output_type": "stream",
     "text": [
      "{'@context': 'http://schema.org', '@type': 'http://schema.org/LocalBusiness', '@id': '/atlanta-ga/mip/apartment-movers-atlanta-9211', 'name': 'Apartment Movers Atlanta', 'address': {'@type': 'PostalAddress', 'addressCountry': 'US', 'streetAddress': '303 Parkway Dr NE', 'addressLocality': 'Atlanta', 'addressRegion': 'GA', 'postalCode': '30312'}, 'geo': {'@type': 'GeoCoordinates', 'latitude': 33.76298, 'longitude': -84.37393}, 'telephone': '(404) 671-9537', 'openingHours': ['Mo-Su 09:00-17:00'], 'image': {'@type': 'ImageObject', 'url': 'https://i1.ypcdn.com/ypu/images/default-thumbnails/thumbnail-1.svg?addecef'}, 'review': [], 'url': 'http://www.apartmentmovers1.us', 'paymentAccepted': 'visa, master card, amex, discover, atm, check, diners club'}\n",
      "{'@context': 'http://schema.org', '@type': 'http://schema.org/LocalBusiness', '@id': '/atlanta-ga/mip/moving-help-472234858', 'name': 'Moving Help', 'address': {'@type': 'PostalAddress', 'addressCountry': 'US', 'streetAddress': '816 Pine Shoals Ct', 'addressLocality': 'Atlanta', 'addressRegion': 'GA', 'postalCode': '30349'}, 'geo': {'@type': 'GeoCoordinates', 'latitude': 33.5977, 'longitude': -84.41647}, 'telephone': '(678) 619-5711', 'image': {'@type': 'ImageObject', 'url': 'https://i1.ypcdn.com/ypu/images/default-thumbnails/thumbnail-1.svg?addecef'}, 'review': [], 'url': 'http://www.movinghelp.com/lighthousemovers'}\n",
      "{'@context': 'http://schema.org', '@type': 'http://schema.org/LocalBusiness', '@id': '/atlanta-ga/mip/atlanta-cargo-taxi-480183471', 'name': 'Atlanta Cargo Taxi', 'address': {'@type': 'PostalAddress', 'addressCountry': 'US', 'streetAddress': '2995 E Point St # 203', 'addressLocality': 'atlanta', 'addressRegion': 'GA', 'postalCode': '30344'}, 'aggregateRating': {'@type': 'AggregateRating', 'ratingValue': 5, 'reviewCount': 5}, 'geo': {'@type': 'GeoCoordinates', 'latitude': 33.67363, 'longitude': -84.44396}, 'telephone': '(404) 210-6765', 'openingHours': ['Mo-Su'], 'image': {'@type': 'ImageObject', 'url': 'https://i4.ypcdn.com/blob/796bceed4f62c24375c87913f493e4b310ad5d5e', 'contentUrl': 'https://i4.ypcdn.com/blob/796bceed4f62c24375c87913f493e4b310ad5d5e', 'thumbnailUrl': 'https://i4.ypcdn.com/blob/796bceed4f62c24375c87913f493e4b310ad5d5e_400x260_crop.jpg'}, 'review': [{'@type': 'Review', 'itemReviewed': 'Atlanta Cargo Taxi', 'author': {'@type': 'Person', 'name': 'wblake2525'}, 'reviewBody': 'Fast, reliable and affordable. Thank you Jason. I will spread the word.', 'reviewRating': {'@type': 'Rating', 'ratingValue': 5}, 'datePublished': '2013-03-11'}, {'@type': 'Review', 'itemReviewed': 'Atlanta Cargo Taxi', 'author': {'@type': 'Person', 'name': 'Robin T.'}, 'reviewBody': 'Very reliable. Nice guys.  arrived a little late but called prior to let me know. They were fast and professional and very affordable. Thank you guys.', 'reviewRating': {'@type': 'Rating', 'ratingValue': 5}, 'datePublished': '2013-24-10'}, {'@type': 'Review', 'itemReviewed': 'Atlanta Cargo Taxi', 'author': {'@type': 'Person', 'name': 'dolodeliverourlostones'}, 'reviewBody': \"Wow I'm impressed. I called on this company to move me and my family. They were so polite, very careful with my belongings, and took the time to perfect everything in the move. I am so happy to be in my new home, and will be calling this company again.\", 'reviewRating': {'@type': 'Rating', 'ratingValue': 5}, 'datePublished': '2013-17-10'}, {'@type': 'Review', 'itemReviewed': 'Atlanta Cargo Taxi', 'author': {'@type': 'Person', 'name': 'Melissa R.'}, 'reviewBody': 'Jason and Frank did a great job. They charged a low flat rate and kept to their word. Only charged me 90.00 to move a full van load of stuff. each item was carefully wrapped and placed in the van. It was treated as if it were their own.Jason was friendly and accommodating. With past moving nightmare experiences they truely are a light that shines bright... I highly recommend them for your small moving jobs, ... They use a cargo van', 'reviewRating': {'@type': 'Rating', 'ratingValue': 5}, 'datePublished': '2013-12-10'}, {'@type': 'Review', 'itemReviewed': 'Atlanta Cargo Taxi', 'author': {'@type': 'Person', 'name': 'itshoulda.beenus'}, 'reviewBody': 'They were great. Fast affordable. every things was wrapped up and nothing was damaged.', 'reviewRating': {'@type': 'Rating', 'ratingValue': 5}, 'datePublished': '2013-24-08'}], 'url': 'http://www.atlantacargotaxi.yolasite.com', 'paymentAccepted': 'cash', 'email': 'mailto:atlcargotaxi@aol.com'}\n",
      "{'@context': 'http://schema.org', '@type': 'http://schema.org/LocalBusiness', '@id': '/atlanta-ga/mip/allstar-piano-movers-inc-456065105', 'name': 'allstar piano movers inc.', 'address': {'@type': 'PostalAddress', 'addressCountry': 'US', 'streetAddress': '1994 Bent Creek Way SW', 'addressLocality': 'Atlanta', 'addressRegion': 'GA', 'postalCode': '30311'}, 'aggregateRating': {'@type': 'AggregateRating', 'ratingValue': 5, 'reviewCount': 3}, 'geo': {'@type': 'GeoCoordinates', 'latitude': 33.70082, 'longitude': -84.46547}, 'telephone': '(470) 330-1621', 'openingHours': ['Mo-Su'], 'image': {'@type': 'ImageObject', 'url': 'https://i1.ypcdn.com/ypu/images/default-thumbnails/thumbnail-1.svg?addecef'}, 'review': [{'@type': 'Review', 'itemReviewed': 'allstar piano movers inc.', 'author': {'@type': 'Person', 'name': 'Shawn J.'}, 'reviewBody': 'I used these guys and they were very prompt with me and my wife schedule I highly recommend these guys Jason, tim and dave were very careful with our 6 foot grand piano and we have a pretty heavy Steinway piano we just purchased the piano in charlotte,nc and they brought the piano to Jacksonville, fl  I will never use anyone else but allstar piano movers thanks so much these guys deserve 10 stars if there was such a rating.', 'reviewRating': {'@type': 'Rating', 'ratingValue': 5}, 'datePublished': '2016-04-04'}, {'@type': 'Review', 'itemReviewed': 'allstar piano movers inc.', 'author': {'@type': 'Person', 'name': 'justin_kate'}, 'reviewBody': 'Stellar Piano Movers!  Thanks Curtis and Sean for handling our piano and organ with such ease.  We were very pleased with your services this morning and look forward to using you both again for our future piano moving services.', 'reviewRating': {'@type': 'Rating', 'ratingValue': 5}, 'datePublished': '2011-01-07'}, {'@type': 'Review', 'itemReviewed': 'allstar piano movers inc.', 'author': {'@type': 'Person', 'name': 'rlawler52'}, 'reviewBody': 'Allstar Piano Movers has made my very first piano moving experience a pleasurable one.  These gentlemen displayed admirable professionalism and most of all they moved our grand piano with the best care one could ask for.  I will certainly recommend their services to anyone looking to have their piano professionally moved.', 'reviewRating': {'@type': 'Rating', 'ratingValue': 5}, 'datePublished': '2011-01-07'}], 'url': 'http://www.allstarpiano.com', 'paymentAccepted': 'cash only', 'email': 'mailto:allstarpianomovers@yahoo.com'}\n",
      "{'@context': 'http://schema.org', '@type': 'http://schema.org/LocalBusiness', '@id': '/atlanta-ga/mip/m3infinity-456263113', 'name': 'M3INFINITY', 'address': {'@type': 'PostalAddress', 'addressCountry': 'US', 'addressLocality': 'Atlanta', 'addressRegion': 'GA', 'postalCode': '30344'}, 'aggregateRating': {'@type': 'AggregateRating', 'ratingValue': 5, 'reviewCount': 3}, 'telephone': '(404) 969-6363', 'image': {'@type': 'ImageObject', 'url': 'https://i1.ypcdn.com/ypu/images/default-thumbnails/thumbnail-1.svg?addecef'}, 'review': [{'@type': 'Review', 'itemReviewed': 'M3INFINITY', 'author': {'@type': 'Person', 'name': 'ashley123123'}, 'reviewBody': 'Great movers! Cost effective, and they know what they are doing :)', 'reviewRating': {'@type': 'Rating', 'ratingValue': 5}, 'datePublished': '2013-25-04'}, {'@type': 'Review', 'itemReviewed': 'M3INFINITY', 'author': {'@type': 'Person', 'name': 'jonahljones'}, 'reviewBody': 'These guys are awesome, reasonable pricing and all. I called them to move me. The packed, moved, cleaned, unpacked and organized my homes. Now I use them for monthly cleaning and organizing services!! Very nice people. I am out of town a lot, but I trust them to come and clean, even when I am not home. Loyal customer since 09!!', 'reviewRating': {'@type': 'Rating', 'ratingValue': 5}, 'datePublished': '2013-25-04'}, {'@type': 'Review', 'itemReviewed': 'M3INFINITY', 'author': {'@type': 'Person', 'name': 'ashley123123'}, 'reviewBody': '', 'reviewRating': {'@type': 'Rating', 'ratingValue': 5}, 'datePublished': '2013-25-04'}], 'paymentAccepted': 'debit, check, cash, all major credit cards'}\n",
      "{'@context': 'http://schema.org', '@type': 'http://schema.org/LocalBusiness', '@id': '/atlanta-ga/mip/atlanta-furniture-taxi-504083940', 'name': 'Atlanta Furniture Taxi', 'address': {'@type': 'PostalAddress', 'addressCountry': 'US', 'streetAddress': '2340 Chamblee Tucker Rd', 'addressLocality': 'Atlanta', 'addressRegion': 'GA', 'postalCode': '30341'}, 'aggregateRating': {'@type': 'AggregateRating', 'ratingValue': 5, 'reviewCount': 2}, 'geo': {'@type': 'GeoCoordinates', 'latitude': 33.885853, 'longitude': -84.29343}, 'telephone': '(404) 228-7404', 'openingHours': ['Mo-Fr 08:00-18:00', 'Sa 08:00-13:00'], 'image': {'@type': 'ImageObject', 'url': 'https://i1.ypcdn.com/ypu/images/default-thumbnails/thumbnail-1.svg?addecef'}, 'review': [{'@type': 'Review', 'itemReviewed': 'Atlanta Furniture Taxi', 'author': {'@type': 'Person', 'name': 'Ben W.'}, 'reviewBody': 'Atlanta Furniture Taxi is one of the best moving companies in Atlanta. They have excellent customer service.', 'reviewRating': {'@type': 'Rating', 'ratingValue': 5}, 'datePublished': '2019-11-01'}, {'@type': 'Review', 'itemReviewed': 'Atlanta Furniture Taxi', 'author': {'@type': 'Person', 'name': 'John P.'}, 'reviewBody': 'This week I attacked one of the toughest challenges I have every had ... I moved my elderly Dad from his home of 40 years in Athens to Atlanta to be closer to us.This move was emotional and exhausting for so many reasons... but there was one part of the move which gave me no hesitation and no concern. While it was my task to go through and pare down years of memories and treasures - I knew Atlanta Furniture Taxi could be trusted to handle with care and respect those things we chose to save. And they did.We hired them for this move knowing that the moment where Dad closed the door to his home in Athens for the last time would be him saying good-bye to a huge part of his life. I knew Atlanta Furniture Taxi had the respect and the manners to handle both his \"things\" and his heart with care - and they did not disappoint.We have moved 8 times in the last years (finally we are settled!). Our daughter has used them. And now our PaPaw has used them. I\\'d say we wouldn\\'t think of hiring any other company!', 'reviewRating': {'@type': 'Rating', 'ratingValue': 5}, 'datePublished': '2016-11-10'}], 'url': 'http://www.atlantafurnituremovers.com', 'paymentAccepted': 'all major credit cards', 'email': 'mailto:AtlantaFurnitureMovers@gmail.com'}\n",
      "{'@context': 'http://schema.org', '@type': 'http://schema.org/LocalBusiness', '@id': '/atlanta-ga/mip/no-sweat-xpress-17177179', 'name': 'No Sweat Xpress', 'address': {'@type': 'PostalAddress', 'addressCountry': 'US', 'streetAddress': '1038 Oglethorpe Ave SW', 'addressLocality': 'Atlanta', 'addressRegion': 'GA', 'postalCode': '30310'}, 'aggregateRating': {'@type': 'AggregateRating', 'ratingValue': 5, 'reviewCount': 2}, 'geo': {'@type': 'GeoCoordinates', 'latitude': 33.735664, 'longitude': -84.42157}, 'telephone': '(404) 580-6376', 'openingHours': ['Mo-Fr 07:00-22:00', 'Sa 07:00-21:00', 'Su 07:00-22:00'], 'image': {'@type': 'ImageObject', 'url': 'https://i1.ypcdn.com/ypu/images/default-thumbnails/thumbnail-1.svg?addecef'}, 'review': [{'@type': 'Review', 'itemReviewed': 'No Sweat Xpress', 'author': {'@type': 'Person', 'name': 'roger001'}, 'reviewBody': \"I called Doug -based on a recommendation by a dealer in fine furnishings- to assist with moving an antique sofa from said dealer's residence to my home. Doug's quoted price was actually within the same range as if I rented a U-Haul and moved the piece myself, including mileage, gas and insurance, and much more reasonable than prices proffered by other movers I had dealt with in the past. The times of availability for the piece to be moved were a bit unorthodox, but Doug went out of his way to accommodate me. He did not know me, and had never met me... our conversations were all conducted over the phone, but he treated me with the utmost fairness, respect and honesty.  He took extreme care with securing and moving said antique from the former owner, and into our home, and was very gentle with it.  You can tell this is a man that genuinely takes pride in what he does. I will continue to employ his services whenever needed. In this industry, it is rare to find an individual with that level of care and consideration and I unequivocally endorse him and his company.\", 'reviewRating': {'@type': 'Rating', 'ratingValue': 5}, 'datePublished': '2010-01-03'}, {'@type': 'Review', 'itemReviewed': 'No Sweat Xpress', 'author': {'@type': 'Person', 'name': 'dtmcginnis'}, 'reviewBody': 'Doug did a wonderful job.  We asked for delivery on a Sunday evening, and he was happy to accomodate us.  All of the furniture was protected nicely.  Delivery was prompt.  We felt comfortable having him in our home.  I definitely recommend the company.', 'reviewRating': {'@type': 'Rating', 'ratingValue': 5}, 'datePublished': '2009-09-03'}], 'url': 'http://www.nosweat-movers.com', 'paymentAccepted': 'discover, amex, mastercard, visa', 'email': 'mailto:nosweatx@aol.com'}\n",
      "{'@context': 'http://schema.org', '@type': 'http://schema.org/LocalBusiness', '@id': '/atlanta-ga/mip/united-movers-524345982', 'name': 'United Movers', 'address': {'@type': 'PostalAddress', 'addressCountry': 'US', 'streetAddress': '1862 Harvard Ave', 'addressLocality': 'Atlanta', 'addressRegion': 'GA', 'postalCode': '30337'}, 'aggregateRating': {'@type': 'AggregateRating', 'ratingValue': 3.5, 'reviewCount': 3}, 'geo': {'@type': 'GeoCoordinates', 'latitude': 33.65326, 'longitude': -84.44997}, 'telephone': '(678) 358-1007', 'openingHours': ['Mo-Sa 09:00-22:00'], 'image': {'@type': 'ImageObject', 'url': 'https://i1.ypcdn.com/ypu/images/default-thumbnails/thumbnail-1.svg?addecef'}, 'review': [{'@type': 'Review', 'itemReviewed': 'United Movers', 'author': {'@type': 'Person', 'name': 'Shamya C.'}, 'reviewBody': 'OMGOSH. I was in a bit of a time crunch, I mean closing on my house the day before having to move out of my current home. It was a disaster. So I googled same day Movers and United Movers LLC popped up. A bit skeptical but I gave it a try. And when I say amazing company. These gentleman were well worth every dime. Professional and down to earth. The three gentlemen Dereck, Shaun and BJay were an awesome trio, I am forever grateful for their work. The packed and prepped my home the first day and hauled out every piece the next day. Thanks United Movers LLC for relieving some stress in such a stressful time.', 'reviewRating': {'@type': 'Rating', 'ratingValue': 5}, 'datePublished': '2016-19-10'}, {'@type': 'Review', 'itemReviewed': 'United Movers', 'author': {'@type': 'Person', 'name': 'Bobby M.'}, 'reviewBody': 'Great company,  the guys was very good really knew what they was doing.  Great Job Derek, and Frank!', 'reviewRating': {'@type': 'Rating', 'ratingValue': 5}, 'datePublished': '2016-11-08'}, {'@type': 'Review', 'itemReviewed': 'United Movers', 'author': {'@type': 'Person', 'name': 'Vicki M.'}, 'reviewBody': \"Absolutely the most unprofessional person that I have ever dealt with in my 51 years of life. When I asked if this representative was the owner of the company he said no he's the operations manager. I feltlike I was in the twilight zone when I was told that because I was a living social coupon customer every one paying full price came before me even though I scheduled my move 2 months in advance. What kind of company tells their customer that even if that's what they are doing. I was also told that there was a 100.00 service fee. When I reminded the representative that identified himself as the operations manager that he originally told me 75.00 he said he must have just been trying to get my business at that point but the rate is always 100.00. Once I insisted that he honor the 75.00 he agreed. After telling me he would keep me updated through out the day for an eta, except that he never even took my address down, I never received a return call. DO NOT USE THIS COMPANY!!\", 'reviewRating': {'@type': 'Rating', 'ratingValue': 1}, 'datePublished': '2016-09-07'}], 'email': 'mailto:dlmdred@gmail.com'}\n",
      "{'@context': 'http://schema.org', '@type': 'http://schema.org/LocalBusiness', '@id': '/atlanta-ga/mip/404movers-com-482191004', 'name': '404Movers.com', 'address': {'@type': 'PostalAddress', 'addressCountry': 'US', 'streetAddress': '1762 Brewer Blvd SW', 'addressLocality': 'Atlanta', 'addressRegion': 'GA', 'postalCode': '30310'}, 'aggregateRating': {'@type': 'AggregateRating', 'ratingValue': 5, 'reviewCount': 1}, 'geo': {'@type': 'GeoCoordinates', 'latitude': 33.706535, 'longitude': -84.41431}, 'telephone': '(404) 753-6683', 'openingHours': ['Sa 10:00-17:00'], 'image': {'@type': 'ImageObject', 'url': 'https://i1.ypcdn.com/ypu/images/default-thumbnails/thumbnail-1.svg?addecef'}, 'review': [{'@type': 'Review', 'itemReviewed': '404Movers.com', 'author': {'@type': 'Person', 'name': 'Ashley C.'}, 'reviewBody': \"Great moving service. They were on time, efficient and friendly. When they took breaks the stopped the clock and let me know that I wouldn't be charged for that time. I'd definitely recommend them again!\", 'reviewRating': {'@type': 'Rating', 'ratingValue': 5}, 'datePublished': '2016-20-04'}], 'url': 'http://www.404movers.com', 'paymentAccepted': 'insurance, financing available, cash, debit, paypal, all major credit cards', 'email': 'mailto:mitchiem@404movers.com'}\n",
      "{'@context': 'http://schema.org', '@type': 'http://schema.org/LocalBusiness', '@id': '/atlanta-ga/mip/midtown-express-482196141', 'name': 'Midtown Express', 'address': {'@type': 'PostalAddress', 'addressCountry': 'US', 'streetAddress': '1150 Collier Rd NW Apt E3', 'addressLocality': 'Atlanta', 'addressRegion': 'GA', 'postalCode': '30318'}, 'aggregateRating': {'@type': 'AggregateRating', 'ratingValue': 5, 'reviewCount': 1}, 'geo': {'@type': 'GeoCoordinates', 'latitude': 33.810432, 'longitude': -84.42361}, 'telephone': '(404) 210-6765', 'openingHours': ['Sa-Su'], 'image': {'@type': 'ImageObject', 'url': 'https://i2.ypcdn.com/blob/a25e13464e81e96aa0534ba1dd66ab1af160aa07', 'contentUrl': 'https://i2.ypcdn.com/blob/a25e13464e81e96aa0534ba1dd66ab1af160aa07', 'thumbnailUrl': 'https://i2.ypcdn.com/blob/a25e13464e81e96aa0534ba1dd66ab1af160aa07_400x260_crop.jpg'}, 'review': [{'@type': 'Review', 'itemReviewed': 'Midtown Express', 'author': {'@type': 'Person', 'name': 'Robin T.'}, 'reviewBody': 'Jason was great. He dropped what he was doing and rased from Atlanta Ga to Tampa FL. Arrived 6 hours later and brought it to Greenville SC. Nothing was broken. Everything was completely professional. Thank you ACT', 'reviewRating': {'@type': 'Rating', 'ratingValue': 5}, 'datePublished': '2013-30-10'}], 'url': 'http://www.midtownexpress.yolasite.com', 'paymentAccepted': 'cash only'}\n",
      "{'@context': 'http://schema.org', '@type': 'http://schema.org/LocalBusiness', '@id': '/atlanta-ga/mip/buckhead-movers-and-storage-460764378', 'name': 'Buckhead Movers and Storage', 'address': {'@type': 'PostalAddress', 'addressCountry': 'US', 'streetAddress': '2282 Defoor Hills Rd NW', 'addressLocality': 'Atlanta', 'addressRegion': 'GA', 'postalCode': '30318'}, 'aggregateRating': {'@type': 'AggregateRating', 'ratingValue': 5, 'reviewCount': 1}, 'geo': {'@type': 'GeoCoordinates', 'latitude': 33.81726, 'longitude': -84.43538}, 'telephone': '(404) 603-0234', 'openingHours': ['Mo-Fr 07:30-19:30', 'Sa 07:30-12:30', 'Su 09:00-12:30'], 'image': {'@type': 'ImageObject', 'url': 'https://i1.ypcdn.com/ypu/images/default-thumbnails/thumbnail-1.svg?addecef'}, 'review': [{'@type': 'Review', 'itemReviewed': 'Buckhead Movers and Storage', 'author': {'@type': 'Person', 'name': 'Sara G.'}, 'reviewBody': 'Buckhead Movers helped me with a partial house move across town.  They were very professional, on time, and well-priced.', 'reviewRating': {'@type': 'Rating', 'ratingValue': 5}, 'datePublished': '2015-03-11'}], 'url': 'http://www.buckheadmovers.com', 'paymentAccepted': 'mastercard, amex, discover, visa'}\n",
      "{'@context': 'http://schema.org', '@type': 'http://schema.org/LocalBusiness', '@id': '/atlanta-ga/mip/two-men-and-a-truck-chamblee-472869308', 'name': 'Two Men And A Truck® Chamblee', 'address': {'@type': 'PostalAddress', 'addressCountry': 'US', 'streetAddress': '2375 John Glenn Dr, Suite 102', 'addressLocality': 'Atlanta', 'addressRegion': 'GA', 'postalCode': '30341'}, 'aggregateRating': {'@type': 'AggregateRating', 'ratingValue': 5, 'reviewCount': 1}, 'geo': {'@type': 'GeoCoordinates', 'latitude': 33.90414, 'longitude': -84.29143}, 'telephone': '(770) 457-0111', 'openingHours': ['Mo-Fr 07:30-16:30', 'Sa 07:30-11:30'], 'image': {'@type': 'ImageObject', 'url': 'https://i1.ypcdn.com/ypu/images/default-thumbnails/thumbnail-1.svg?addecef'}, 'review': [{'@type': 'Review', 'itemReviewed': 'Two Men And A Truck® Chamblee', 'author': {'@type': 'Person', 'name': 'Wm S.'}, 'reviewBody': \"Professional work. We're tight budget for life. Very fast workers, saved time. When packing paper was needed, enough was used. When none was needed, none was used. (We moved to another apartment in same building, so less packing and padding were needed.) Overall, time and money both well spent. Special thanks for Michael's extra attention on packing day, then returning a few days later to work on the move, for it to go more smoothly. Of our seven moves in the Atlanta area since 1997, each with a different company, this company was by far the best. This moving company will also be our first repeat moving business (when time eventually comes).\", 'reviewRating': {'@type': 'Rating', 'ratingValue': 5}, 'datePublished': '2017-08-02'}], 'url': 'http://twomenchamblee.com', 'paymentAccepted': 'visa, mastercard, amex, discover, cash', 'location': {'@type': 'Place', 'description': 'Our office is located behind the Hyundai and Maserati dealerships off Peachtree Industrial. Stop by for packing supplies!'}, 'email': 'mailto:info0283@twomen.com'}\n",
      "{'@context': 'http://schema.org', '@type': 'http://schema.org/LocalBusiness', '@id': '/atlanta-ga/mip/reign-moving-and-relocation-co-507546078', 'name': 'Reign Moving And Relocation Co', 'address': {'@type': 'PostalAddress', 'addressCountry': 'US', 'streetAddress': '800 Pine Tree Trl', 'addressLocality': 'Atlanta', 'addressRegion': 'GA', 'postalCode': '30349'}, 'aggregateRating': {'@type': 'AggregateRating', 'ratingValue': 5, 'reviewCount': 1}, 'geo': {'@type': 'GeoCoordinates', 'latitude': 33.567245, 'longitude': -84.48129}, 'telephone': '(404) 213-0374', 'openingHours': ['Mo-Sa 09:00-17:00', 'Su 12:00-17:00'], 'image': {'@type': 'ImageObject', 'url': 'https://i1.ypcdn.com/ypu/images/default-thumbnails/thumbnail-1.svg?addecef'}, 'review': [{'@type': 'Review', 'itemReviewed': 'Reign Moving And Relocation Co', 'author': {'@type': 'Person', 'name': 'Jessica R.'}, 'reviewBody': \"We had a great experience moving our 6 bedroom home down to south Georgia. We've  moved several time in the past &amp; this was the best one by far. No damages, no complaints and that's great considering how much furniture i had to move.Thanks again!\", 'reviewRating': {'@type': 'Rating', 'ratingValue': 5}, 'datePublished': '2015-27-09'}], 'paymentAccepted': 'debit, cash, all major credit cards, visa, master card, amex, discover, company card'}\n",
      "{'@context': 'http://schema.org', '@type': 'http://schema.org/LocalBusiness', '@id': '/atlanta-ga/mip/chicagos-pool-table-repair-460100737', 'name': \"Chicago's Pool Table Repair\", 'address': {'@type': 'PostalAddress', 'addressCountry': 'US', 'addressLocality': 'Atlanta', 'addressRegion': 'GA', 'postalCode': '30308'}, 'aggregateRating': {'@type': 'AggregateRating', 'ratingValue': 5, 'reviewCount': 1}, 'telephone': '(770) 833-2989', 'image': {'@type': 'ImageObject', 'url': 'https://i1.ypcdn.com/ypu/images/default-thumbnails/thumbnail-1.svg?addecef'}, 'review': [{'@type': 'Review', 'itemReviewed': \"Chicago's Pool Table Repair\", 'author': {'@type': 'Person', 'name': 'Wesley D.'}, 'reviewBody': 'Great job and great customer service! They did very nice work on my pool table and used care while moving my old table.', 'reviewRating': {'@type': 'Rating', 'ratingValue': 5}, 'datePublished': '2018-17-05'}], 'paymentAccepted': 'check, no credit cards', 'email': 'mailto:ryandavis296@yahoo.com'}\n",
      "{'@context': 'http://schema.org', '@type': 'http://schema.org/LocalBusiness', '@id': '/atlanta-ga/mip/region-relocation-534889444', 'name': 'Region Relocation', 'address': {'@type': 'PostalAddress', 'addressCountry': 'US', 'streetAddress': '2255 Button Gwinett Dr', 'addressLocality': 'Atlanta', 'addressRegion': 'GA', 'postalCode': '30340'}, 'aggregateRating': {'@type': 'AggregateRating', 'ratingValue': 3, 'reviewCount': 2}, 'geo': {'@type': 'GeoCoordinates', 'latitude': 33.91488, 'longitude': -84.23943}, 'telephone': '(877) 973-8755', 'openingHours': ['Mo-Su 09:00-18:00'], 'image': {'@type': 'ImageObject', 'url': 'https://i4.ypcdn.com/blob/5c8cde4e104393efbd33b68707b17e4550f6ea31', 'contentUrl': 'https://i4.ypcdn.com/blob/5c8cde4e104393efbd33b68707b17e4550f6ea31', 'thumbnailUrl': 'https://i4.ypcdn.com/blob/5c8cde4e104393efbd33b68707b17e4550f6ea31_400x260_crop.jpg'}, 'review': [{'@type': 'Review', 'itemReviewed': 'Region Relocation', 'author': {'@type': 'Person', 'name': 'Gray G.'}, 'reviewBody': \"Don't do business with this company if you value your property. I've first made business with this company as the manager promised my property will be delivered in 2 weeks. That was all a lie when it taken over a month and half for me to see all my property. I only to find that this company just piles everyone stuff without caring a damn. Most of my boxes were damages along with my furniture I've had. Not only I had property damaged, but find that I'm missing few of my furniture such as my kitchen table and chairs.  I've attached a photo in showing how Region Relocations will treat your property if you do your business with them. You're better off paying more with Upack or just move it yourself through Uhaul.\", 'reviewRating': {'@type': 'Rating', 'ratingValue': 1}, 'datePublished': '2017-31-12'}, {'@type': 'Review', 'itemReviewed': 'Region Relocation', 'author': {'@type': 'Person', 'name': 'Tavia R.'}, 'reviewBody': 'I loved working with Lisa. She kept me informed the entire move. Austin and Sedaris were my movers, they were kind and helpful in showing me how to pack correctly. I will defently be calling them again.', 'reviewRating': {'@type': 'Rating', 'ratingValue': 5}, 'datePublished': '2017-05-07'}], 'paymentAccepted': 'cash, money order, discover, master card, check', 'email': 'mailto:info@nation-relocation.com'}\n",
      "{'@context': 'http://schema.org', '@type': 'http://schema.org/LocalBusiness', '@id': '/atlanta-ga/mip/georgia-premier-logistics-llc-525230370', 'name': 'Georgia Premier Logistics, LLC.', 'address': {'@type': 'PostalAddress', 'addressCountry': 'US', 'streetAddress': '2771 Shallowford Rd NE', 'addressLocality': 'Atlanta', 'addressRegion': 'GA', 'postalCode': '30341'}, 'aggregateRating': {'@type': 'AggregateRating', 'ratingValue': 4, 'reviewCount': 1}, 'geo': {'@type': 'GeoCoordinates', 'latitude': 33.867676, 'longitude': -84.289635}, 'telephone': '(404) 500-9675', 'openingHours': ['Mo-Fr 09:00-17:00'], 'image': {'@type': 'ImageObject', 'url': 'https://i1.ypcdn.com/ypu/images/default-thumbnails/thumbnail-1.svg?addecef'}, 'review': [{'@type': 'Review', 'itemReviewed': 'Georgia Premier Logistics, LLC.', 'author': {'@type': 'Person', 'name': 'Ata H.'}, 'reviewBody': 'These guys were awesome! Anthony the lead was very helpful and the rest of the crew was great too. They made our move a lot easier.', 'reviewRating': {'@type': 'Rating', 'ratingValue': 4}, 'datePublished': '2016-20-05'}], 'url': 'http://www.lookingformovers.com', 'paymentAccepted': 'visa, discover, mastercard, all major credit cards, debit, paypal', 'email': 'mailto:Contact@Lookingformovers.com'}\n"
     ]
    },
    {
     "ename": "KeyboardInterrupt",
     "evalue": "",
     "output_type": "error",
     "traceback": [
      "\u001b[0;31m---------------------------------------------------------------------------\u001b[0m",
      "\u001b[0;31mKeyboardInterrupt\u001b[0m                         Traceback (most recent call last)",
      "Cell \u001b[0;32mIn[72], line 2\u001b[0m\n\u001b[1;32m      1\u001b[0m \u001b[38;5;28;01mfor\u001b[39;00m url \u001b[38;5;129;01min\u001b[39;00m page_sources[\u001b[38;5;241m251\u001b[39m:]:\n\u001b[0;32m----> 2\u001b[0m     response \u001b[38;5;241m=\u001b[39m \u001b[43mrequests\u001b[49m\u001b[38;5;241;43m.\u001b[39;49m\u001b[43mget\u001b[49m\u001b[43m(\u001b[49m\u001b[43murl\u001b[49m\u001b[43m)\u001b[49m\n\u001b[1;32m      3\u001b[0m     the_soup_123 \u001b[38;5;241m=\u001b[39m BeautifulSoup(response\u001b[38;5;241m.\u001b[39mtext)\n\u001b[1;32m      4\u001b[0m     json_tag_123 \u001b[38;5;241m=\u001b[39m the_soup_123\u001b[38;5;241m.\u001b[39mfind_all(\u001b[38;5;124m\"\u001b[39m\u001b[38;5;124mscript\u001b[39m\u001b[38;5;124m\"\u001b[39m, \u001b[38;5;28mtype\u001b[39m\u001b[38;5;241m=\u001b[39m\u001b[38;5;124m\"\u001b[39m\u001b[38;5;124mapplication/ld+json\u001b[39m\u001b[38;5;124m\"\u001b[39m)\n",
      "File \u001b[0;32m~/Projects/.venv/lib/python3.9/site-packages/requests/api.py:73\u001b[0m, in \u001b[0;36mget\u001b[0;34m(url, params, **kwargs)\u001b[0m\n\u001b[1;32m     62\u001b[0m \u001b[38;5;28;01mdef\u001b[39;00m \u001b[38;5;21mget\u001b[39m(url, params\u001b[38;5;241m=\u001b[39m\u001b[38;5;28;01mNone\u001b[39;00m, \u001b[38;5;241m*\u001b[39m\u001b[38;5;241m*\u001b[39mkwargs):\n\u001b[1;32m     63\u001b[0m \u001b[38;5;250m    \u001b[39m\u001b[38;5;124mr\u001b[39m\u001b[38;5;124;03m\"\"\"Sends a GET request.\u001b[39;00m\n\u001b[1;32m     64\u001b[0m \n\u001b[1;32m     65\u001b[0m \u001b[38;5;124;03m    :param url: URL for the new :class:`Request` object.\u001b[39;00m\n\u001b[0;32m   (...)\u001b[0m\n\u001b[1;32m     70\u001b[0m \u001b[38;5;124;03m    :rtype: requests.Response\u001b[39;00m\n\u001b[1;32m     71\u001b[0m \u001b[38;5;124;03m    \"\"\"\u001b[39;00m\n\u001b[0;32m---> 73\u001b[0m     \u001b[38;5;28;01mreturn\u001b[39;00m \u001b[43mrequest\u001b[49m\u001b[43m(\u001b[49m\u001b[38;5;124;43m\"\u001b[39;49m\u001b[38;5;124;43mget\u001b[39;49m\u001b[38;5;124;43m\"\u001b[39;49m\u001b[43m,\u001b[49m\u001b[43m \u001b[49m\u001b[43murl\u001b[49m\u001b[43m,\u001b[49m\u001b[43m \u001b[49m\u001b[43mparams\u001b[49m\u001b[38;5;241;43m=\u001b[39;49m\u001b[43mparams\u001b[49m\u001b[43m,\u001b[49m\u001b[43m \u001b[49m\u001b[38;5;241;43m*\u001b[39;49m\u001b[38;5;241;43m*\u001b[39;49m\u001b[43mkwargs\u001b[49m\u001b[43m)\u001b[49m\n",
      "File \u001b[0;32m~/Projects/.venv/lib/python3.9/site-packages/requests/api.py:59\u001b[0m, in \u001b[0;36mrequest\u001b[0;34m(method, url, **kwargs)\u001b[0m\n\u001b[1;32m     55\u001b[0m \u001b[38;5;66;03m# By using the 'with' statement we are sure the session is closed, thus we\u001b[39;00m\n\u001b[1;32m     56\u001b[0m \u001b[38;5;66;03m# avoid leaving sockets open which can trigger a ResourceWarning in some\u001b[39;00m\n\u001b[1;32m     57\u001b[0m \u001b[38;5;66;03m# cases, and look like a memory leak in others.\u001b[39;00m\n\u001b[1;32m     58\u001b[0m \u001b[38;5;28;01mwith\u001b[39;00m sessions\u001b[38;5;241m.\u001b[39mSession() \u001b[38;5;28;01mas\u001b[39;00m session:\n\u001b[0;32m---> 59\u001b[0m     \u001b[38;5;28;01mreturn\u001b[39;00m \u001b[43msession\u001b[49m\u001b[38;5;241;43m.\u001b[39;49m\u001b[43mrequest\u001b[49m\u001b[43m(\u001b[49m\u001b[43mmethod\u001b[49m\u001b[38;5;241;43m=\u001b[39;49m\u001b[43mmethod\u001b[49m\u001b[43m,\u001b[49m\u001b[43m \u001b[49m\u001b[43murl\u001b[49m\u001b[38;5;241;43m=\u001b[39;49m\u001b[43murl\u001b[49m\u001b[43m,\u001b[49m\u001b[43m \u001b[49m\u001b[38;5;241;43m*\u001b[39;49m\u001b[38;5;241;43m*\u001b[39;49m\u001b[43mkwargs\u001b[49m\u001b[43m)\u001b[49m\n",
      "File \u001b[0;32m~/Projects/.venv/lib/python3.9/site-packages/requests/sessions.py:589\u001b[0m, in \u001b[0;36mSession.request\u001b[0;34m(self, method, url, params, data, headers, cookies, files, auth, timeout, allow_redirects, proxies, hooks, stream, verify, cert, json)\u001b[0m\n\u001b[1;32m    584\u001b[0m send_kwargs \u001b[38;5;241m=\u001b[39m {\n\u001b[1;32m    585\u001b[0m     \u001b[38;5;124m\"\u001b[39m\u001b[38;5;124mtimeout\u001b[39m\u001b[38;5;124m\"\u001b[39m: timeout,\n\u001b[1;32m    586\u001b[0m     \u001b[38;5;124m\"\u001b[39m\u001b[38;5;124mallow_redirects\u001b[39m\u001b[38;5;124m\"\u001b[39m: allow_redirects,\n\u001b[1;32m    587\u001b[0m }\n\u001b[1;32m    588\u001b[0m send_kwargs\u001b[38;5;241m.\u001b[39mupdate(settings)\n\u001b[0;32m--> 589\u001b[0m resp \u001b[38;5;241m=\u001b[39m \u001b[38;5;28;43mself\u001b[39;49m\u001b[38;5;241;43m.\u001b[39;49m\u001b[43msend\u001b[49m\u001b[43m(\u001b[49m\u001b[43mprep\u001b[49m\u001b[43m,\u001b[49m\u001b[43m \u001b[49m\u001b[38;5;241;43m*\u001b[39;49m\u001b[38;5;241;43m*\u001b[39;49m\u001b[43msend_kwargs\u001b[49m\u001b[43m)\u001b[49m\n\u001b[1;32m    591\u001b[0m \u001b[38;5;28;01mreturn\u001b[39;00m resp\n",
      "File \u001b[0;32m~/Projects/.venv/lib/python3.9/site-packages/requests/sessions.py:703\u001b[0m, in \u001b[0;36mSession.send\u001b[0;34m(self, request, **kwargs)\u001b[0m\n\u001b[1;32m    700\u001b[0m start \u001b[38;5;241m=\u001b[39m preferred_clock()\n\u001b[1;32m    702\u001b[0m \u001b[38;5;66;03m# Send the request\u001b[39;00m\n\u001b[0;32m--> 703\u001b[0m r \u001b[38;5;241m=\u001b[39m \u001b[43madapter\u001b[49m\u001b[38;5;241;43m.\u001b[39;49m\u001b[43msend\u001b[49m\u001b[43m(\u001b[49m\u001b[43mrequest\u001b[49m\u001b[43m,\u001b[49m\u001b[43m \u001b[49m\u001b[38;5;241;43m*\u001b[39;49m\u001b[38;5;241;43m*\u001b[39;49m\u001b[43mkwargs\u001b[49m\u001b[43m)\u001b[49m\n\u001b[1;32m    705\u001b[0m \u001b[38;5;66;03m# Total elapsed time of the request (approximately)\u001b[39;00m\n\u001b[1;32m    706\u001b[0m elapsed \u001b[38;5;241m=\u001b[39m preferred_clock() \u001b[38;5;241m-\u001b[39m start\n",
      "File \u001b[0;32m~/Projects/.venv/lib/python3.9/site-packages/requests/adapters.py:486\u001b[0m, in \u001b[0;36mHTTPAdapter.send\u001b[0;34m(self, request, stream, timeout, verify, cert, proxies)\u001b[0m\n\u001b[1;32m    483\u001b[0m     timeout \u001b[38;5;241m=\u001b[39m TimeoutSauce(connect\u001b[38;5;241m=\u001b[39mtimeout, read\u001b[38;5;241m=\u001b[39mtimeout)\n\u001b[1;32m    485\u001b[0m \u001b[38;5;28;01mtry\u001b[39;00m:\n\u001b[0;32m--> 486\u001b[0m     resp \u001b[38;5;241m=\u001b[39m \u001b[43mconn\u001b[49m\u001b[38;5;241;43m.\u001b[39;49m\u001b[43murlopen\u001b[49m\u001b[43m(\u001b[49m\n\u001b[1;32m    487\u001b[0m \u001b[43m        \u001b[49m\u001b[43mmethod\u001b[49m\u001b[38;5;241;43m=\u001b[39;49m\u001b[43mrequest\u001b[49m\u001b[38;5;241;43m.\u001b[39;49m\u001b[43mmethod\u001b[49m\u001b[43m,\u001b[49m\n\u001b[1;32m    488\u001b[0m \u001b[43m        \u001b[49m\u001b[43murl\u001b[49m\u001b[38;5;241;43m=\u001b[39;49m\u001b[43murl\u001b[49m\u001b[43m,\u001b[49m\n\u001b[1;32m    489\u001b[0m \u001b[43m        \u001b[49m\u001b[43mbody\u001b[49m\u001b[38;5;241;43m=\u001b[39;49m\u001b[43mrequest\u001b[49m\u001b[38;5;241;43m.\u001b[39;49m\u001b[43mbody\u001b[49m\u001b[43m,\u001b[49m\n\u001b[1;32m    490\u001b[0m \u001b[43m        \u001b[49m\u001b[43mheaders\u001b[49m\u001b[38;5;241;43m=\u001b[39;49m\u001b[43mrequest\u001b[49m\u001b[38;5;241;43m.\u001b[39;49m\u001b[43mheaders\u001b[49m\u001b[43m,\u001b[49m\n\u001b[1;32m    491\u001b[0m \u001b[43m        \u001b[49m\u001b[43mredirect\u001b[49m\u001b[38;5;241;43m=\u001b[39;49m\u001b[38;5;28;43;01mFalse\u001b[39;49;00m\u001b[43m,\u001b[49m\n\u001b[1;32m    492\u001b[0m \u001b[43m        \u001b[49m\u001b[43massert_same_host\u001b[49m\u001b[38;5;241;43m=\u001b[39;49m\u001b[38;5;28;43;01mFalse\u001b[39;49;00m\u001b[43m,\u001b[49m\n\u001b[1;32m    493\u001b[0m \u001b[43m        \u001b[49m\u001b[43mpreload_content\u001b[49m\u001b[38;5;241;43m=\u001b[39;49m\u001b[38;5;28;43;01mFalse\u001b[39;49;00m\u001b[43m,\u001b[49m\n\u001b[1;32m    494\u001b[0m \u001b[43m        \u001b[49m\u001b[43mdecode_content\u001b[49m\u001b[38;5;241;43m=\u001b[39;49m\u001b[38;5;28;43;01mFalse\u001b[39;49;00m\u001b[43m,\u001b[49m\n\u001b[1;32m    495\u001b[0m \u001b[43m        \u001b[49m\u001b[43mretries\u001b[49m\u001b[38;5;241;43m=\u001b[39;49m\u001b[38;5;28;43mself\u001b[39;49m\u001b[38;5;241;43m.\u001b[39;49m\u001b[43mmax_retries\u001b[49m\u001b[43m,\u001b[49m\n\u001b[1;32m    496\u001b[0m \u001b[43m        \u001b[49m\u001b[43mtimeout\u001b[49m\u001b[38;5;241;43m=\u001b[39;49m\u001b[43mtimeout\u001b[49m\u001b[43m,\u001b[49m\n\u001b[1;32m    497\u001b[0m \u001b[43m        \u001b[49m\u001b[43mchunked\u001b[49m\u001b[38;5;241;43m=\u001b[39;49m\u001b[43mchunked\u001b[49m\u001b[43m,\u001b[49m\n\u001b[1;32m    498\u001b[0m \u001b[43m    \u001b[49m\u001b[43m)\u001b[49m\n\u001b[1;32m    500\u001b[0m \u001b[38;5;28;01mexcept\u001b[39;00m (ProtocolError, \u001b[38;5;167;01mOSError\u001b[39;00m) \u001b[38;5;28;01mas\u001b[39;00m err:\n\u001b[1;32m    501\u001b[0m     \u001b[38;5;28;01mraise\u001b[39;00m \u001b[38;5;167;01mConnectionError\u001b[39;00m(err, request\u001b[38;5;241m=\u001b[39mrequest)\n",
      "File \u001b[0;32m~/Projects/.venv/lib/python3.9/site-packages/urllib3/connectionpool.py:715\u001b[0m, in \u001b[0;36mHTTPConnectionPool.urlopen\u001b[0;34m(self, method, url, body, headers, retries, redirect, assert_same_host, timeout, pool_timeout, release_conn, chunked, body_pos, **response_kw)\u001b[0m\n\u001b[1;32m    712\u001b[0m     \u001b[38;5;28mself\u001b[39m\u001b[38;5;241m.\u001b[39m_prepare_proxy(conn)\n\u001b[1;32m    714\u001b[0m \u001b[38;5;66;03m# Make the request on the httplib connection object.\u001b[39;00m\n\u001b[0;32m--> 715\u001b[0m httplib_response \u001b[38;5;241m=\u001b[39m \u001b[38;5;28;43mself\u001b[39;49m\u001b[38;5;241;43m.\u001b[39;49m\u001b[43m_make_request\u001b[49m\u001b[43m(\u001b[49m\n\u001b[1;32m    716\u001b[0m \u001b[43m    \u001b[49m\u001b[43mconn\u001b[49m\u001b[43m,\u001b[49m\n\u001b[1;32m    717\u001b[0m \u001b[43m    \u001b[49m\u001b[43mmethod\u001b[49m\u001b[43m,\u001b[49m\n\u001b[1;32m    718\u001b[0m \u001b[43m    \u001b[49m\u001b[43murl\u001b[49m\u001b[43m,\u001b[49m\n\u001b[1;32m    719\u001b[0m \u001b[43m    \u001b[49m\u001b[43mtimeout\u001b[49m\u001b[38;5;241;43m=\u001b[39;49m\u001b[43mtimeout_obj\u001b[49m\u001b[43m,\u001b[49m\n\u001b[1;32m    720\u001b[0m \u001b[43m    \u001b[49m\u001b[43mbody\u001b[49m\u001b[38;5;241;43m=\u001b[39;49m\u001b[43mbody\u001b[49m\u001b[43m,\u001b[49m\n\u001b[1;32m    721\u001b[0m \u001b[43m    \u001b[49m\u001b[43mheaders\u001b[49m\u001b[38;5;241;43m=\u001b[39;49m\u001b[43mheaders\u001b[49m\u001b[43m,\u001b[49m\n\u001b[1;32m    722\u001b[0m \u001b[43m    \u001b[49m\u001b[43mchunked\u001b[49m\u001b[38;5;241;43m=\u001b[39;49m\u001b[43mchunked\u001b[49m\u001b[43m,\u001b[49m\n\u001b[1;32m    723\u001b[0m \u001b[43m\u001b[49m\u001b[43m)\u001b[49m\n\u001b[1;32m    725\u001b[0m \u001b[38;5;66;03m# If we're going to release the connection in ``finally:``, then\u001b[39;00m\n\u001b[1;32m    726\u001b[0m \u001b[38;5;66;03m# the response doesn't need to know about the connection. Otherwise\u001b[39;00m\n\u001b[1;32m    727\u001b[0m \u001b[38;5;66;03m# it will also try to release it and we'll have a double-release\u001b[39;00m\n\u001b[1;32m    728\u001b[0m \u001b[38;5;66;03m# mess.\u001b[39;00m\n\u001b[1;32m    729\u001b[0m response_conn \u001b[38;5;241m=\u001b[39m conn \u001b[38;5;28;01mif\u001b[39;00m \u001b[38;5;129;01mnot\u001b[39;00m release_conn \u001b[38;5;28;01melse\u001b[39;00m \u001b[38;5;28;01mNone\u001b[39;00m\n",
      "File \u001b[0;32m~/Projects/.venv/lib/python3.9/site-packages/urllib3/connectionpool.py:467\u001b[0m, in \u001b[0;36mHTTPConnectionPool._make_request\u001b[0;34m(self, conn, method, url, timeout, chunked, **httplib_request_kw)\u001b[0m\n\u001b[1;32m    462\u001b[0m             httplib_response \u001b[38;5;241m=\u001b[39m conn\u001b[38;5;241m.\u001b[39mgetresponse()\n\u001b[1;32m    463\u001b[0m         \u001b[38;5;28;01mexcept\u001b[39;00m \u001b[38;5;167;01mBaseException\u001b[39;00m \u001b[38;5;28;01mas\u001b[39;00m e:\n\u001b[1;32m    464\u001b[0m             \u001b[38;5;66;03m# Remove the TypeError from the exception chain in\u001b[39;00m\n\u001b[1;32m    465\u001b[0m             \u001b[38;5;66;03m# Python 3 (including for exceptions like SystemExit).\u001b[39;00m\n\u001b[1;32m    466\u001b[0m             \u001b[38;5;66;03m# Otherwise it looks like a bug in the code.\u001b[39;00m\n\u001b[0;32m--> 467\u001b[0m             \u001b[43msix\u001b[49m\u001b[38;5;241;43m.\u001b[39;49m\u001b[43mraise_from\u001b[49m\u001b[43m(\u001b[49m\u001b[43me\u001b[49m\u001b[43m,\u001b[49m\u001b[43m \u001b[49m\u001b[38;5;28;43;01mNone\u001b[39;49;00m\u001b[43m)\u001b[49m\n\u001b[1;32m    468\u001b[0m \u001b[38;5;28;01mexcept\u001b[39;00m (SocketTimeout, BaseSSLError, SocketError) \u001b[38;5;28;01mas\u001b[39;00m e:\n\u001b[1;32m    469\u001b[0m     \u001b[38;5;28mself\u001b[39m\u001b[38;5;241m.\u001b[39m_raise_timeout(err\u001b[38;5;241m=\u001b[39me, url\u001b[38;5;241m=\u001b[39murl, timeout_value\u001b[38;5;241m=\u001b[39mread_timeout)\n",
      "File \u001b[0;32m<string>:3\u001b[0m, in \u001b[0;36mraise_from\u001b[0;34m(value, from_value)\u001b[0m\n",
      "File \u001b[0;32m~/Projects/.venv/lib/python3.9/site-packages/urllib3/connectionpool.py:462\u001b[0m, in \u001b[0;36mHTTPConnectionPool._make_request\u001b[0;34m(self, conn, method, url, timeout, chunked, **httplib_request_kw)\u001b[0m\n\u001b[1;32m    459\u001b[0m \u001b[38;5;28;01mexcept\u001b[39;00m \u001b[38;5;167;01mTypeError\u001b[39;00m:\n\u001b[1;32m    460\u001b[0m     \u001b[38;5;66;03m# Python 3\u001b[39;00m\n\u001b[1;32m    461\u001b[0m     \u001b[38;5;28;01mtry\u001b[39;00m:\n\u001b[0;32m--> 462\u001b[0m         httplib_response \u001b[38;5;241m=\u001b[39m \u001b[43mconn\u001b[49m\u001b[38;5;241;43m.\u001b[39;49m\u001b[43mgetresponse\u001b[49m\u001b[43m(\u001b[49m\u001b[43m)\u001b[49m\n\u001b[1;32m    463\u001b[0m     \u001b[38;5;28;01mexcept\u001b[39;00m \u001b[38;5;167;01mBaseException\u001b[39;00m \u001b[38;5;28;01mas\u001b[39;00m e:\n\u001b[1;32m    464\u001b[0m         \u001b[38;5;66;03m# Remove the TypeError from the exception chain in\u001b[39;00m\n\u001b[1;32m    465\u001b[0m         \u001b[38;5;66;03m# Python 3 (including for exceptions like SystemExit).\u001b[39;00m\n\u001b[1;32m    466\u001b[0m         \u001b[38;5;66;03m# Otherwise it looks like a bug in the code.\u001b[39;00m\n\u001b[1;32m    467\u001b[0m         six\u001b[38;5;241m.\u001b[39mraise_from(e, \u001b[38;5;28;01mNone\u001b[39;00m)\n",
      "File \u001b[0;32m/Library/Developer/CommandLineTools/Library/Frameworks/Python3.framework/Versions/3.9/lib/python3.9/http/client.py:1349\u001b[0m, in \u001b[0;36mHTTPConnection.getresponse\u001b[0;34m(self)\u001b[0m\n\u001b[1;32m   1347\u001b[0m \u001b[38;5;28;01mtry\u001b[39;00m:\n\u001b[1;32m   1348\u001b[0m     \u001b[38;5;28;01mtry\u001b[39;00m:\n\u001b[0;32m-> 1349\u001b[0m         \u001b[43mresponse\u001b[49m\u001b[38;5;241;43m.\u001b[39;49m\u001b[43mbegin\u001b[49m\u001b[43m(\u001b[49m\u001b[43m)\u001b[49m\n\u001b[1;32m   1350\u001b[0m     \u001b[38;5;28;01mexcept\u001b[39;00m \u001b[38;5;167;01mConnectionError\u001b[39;00m:\n\u001b[1;32m   1351\u001b[0m         \u001b[38;5;28mself\u001b[39m\u001b[38;5;241m.\u001b[39mclose()\n",
      "File \u001b[0;32m/Library/Developer/CommandLineTools/Library/Frameworks/Python3.framework/Versions/3.9/lib/python3.9/http/client.py:316\u001b[0m, in \u001b[0;36mHTTPResponse.begin\u001b[0;34m(self)\u001b[0m\n\u001b[1;32m    314\u001b[0m \u001b[38;5;66;03m# read until we get a non-100 response\u001b[39;00m\n\u001b[1;32m    315\u001b[0m \u001b[38;5;28;01mwhile\u001b[39;00m \u001b[38;5;28;01mTrue\u001b[39;00m:\n\u001b[0;32m--> 316\u001b[0m     version, status, reason \u001b[38;5;241m=\u001b[39m \u001b[38;5;28;43mself\u001b[39;49m\u001b[38;5;241;43m.\u001b[39;49m\u001b[43m_read_status\u001b[49m\u001b[43m(\u001b[49m\u001b[43m)\u001b[49m\n\u001b[1;32m    317\u001b[0m     \u001b[38;5;28;01mif\u001b[39;00m status \u001b[38;5;241m!=\u001b[39m CONTINUE:\n\u001b[1;32m    318\u001b[0m         \u001b[38;5;28;01mbreak\u001b[39;00m\n",
      "File \u001b[0;32m/Library/Developer/CommandLineTools/Library/Frameworks/Python3.framework/Versions/3.9/lib/python3.9/http/client.py:277\u001b[0m, in \u001b[0;36mHTTPResponse._read_status\u001b[0;34m(self)\u001b[0m\n\u001b[1;32m    276\u001b[0m \u001b[38;5;28;01mdef\u001b[39;00m \u001b[38;5;21m_read_status\u001b[39m(\u001b[38;5;28mself\u001b[39m):\n\u001b[0;32m--> 277\u001b[0m     line \u001b[38;5;241m=\u001b[39m \u001b[38;5;28mstr\u001b[39m(\u001b[38;5;28;43mself\u001b[39;49m\u001b[38;5;241;43m.\u001b[39;49m\u001b[43mfp\u001b[49m\u001b[38;5;241;43m.\u001b[39;49m\u001b[43mreadline\u001b[49m\u001b[43m(\u001b[49m\u001b[43m_MAXLINE\u001b[49m\u001b[43m \u001b[49m\u001b[38;5;241;43m+\u001b[39;49m\u001b[43m \u001b[49m\u001b[38;5;241;43m1\u001b[39;49m\u001b[43m)\u001b[49m, \u001b[38;5;124m\"\u001b[39m\u001b[38;5;124miso-8859-1\u001b[39m\u001b[38;5;124m\"\u001b[39m)\n\u001b[1;32m    278\u001b[0m     \u001b[38;5;28;01mif\u001b[39;00m \u001b[38;5;28mlen\u001b[39m(line) \u001b[38;5;241m>\u001b[39m _MAXLINE:\n\u001b[1;32m    279\u001b[0m         \u001b[38;5;28;01mraise\u001b[39;00m LineTooLong(\u001b[38;5;124m\"\u001b[39m\u001b[38;5;124mstatus line\u001b[39m\u001b[38;5;124m\"\u001b[39m)\n",
      "File \u001b[0;32m/Library/Developer/CommandLineTools/Library/Frameworks/Python3.framework/Versions/3.9/lib/python3.9/socket.py:704\u001b[0m, in \u001b[0;36mSocketIO.readinto\u001b[0;34m(self, b)\u001b[0m\n\u001b[1;32m    702\u001b[0m \u001b[38;5;28;01mwhile\u001b[39;00m \u001b[38;5;28;01mTrue\u001b[39;00m:\n\u001b[1;32m    703\u001b[0m     \u001b[38;5;28;01mtry\u001b[39;00m:\n\u001b[0;32m--> 704\u001b[0m         \u001b[38;5;28;01mreturn\u001b[39;00m \u001b[38;5;28;43mself\u001b[39;49m\u001b[38;5;241;43m.\u001b[39;49m\u001b[43m_sock\u001b[49m\u001b[38;5;241;43m.\u001b[39;49m\u001b[43mrecv_into\u001b[49m\u001b[43m(\u001b[49m\u001b[43mb\u001b[49m\u001b[43m)\u001b[49m\n\u001b[1;32m    705\u001b[0m     \u001b[38;5;28;01mexcept\u001b[39;00m timeout:\n\u001b[1;32m    706\u001b[0m         \u001b[38;5;28mself\u001b[39m\u001b[38;5;241m.\u001b[39m_timeout_occurred \u001b[38;5;241m=\u001b[39m \u001b[38;5;28;01mTrue\u001b[39;00m\n",
      "File \u001b[0;32m/Library/Developer/CommandLineTools/Library/Frameworks/Python3.framework/Versions/3.9/lib/python3.9/ssl.py:1241\u001b[0m, in \u001b[0;36mSSLSocket.recv_into\u001b[0;34m(self, buffer, nbytes, flags)\u001b[0m\n\u001b[1;32m   1237\u001b[0m     \u001b[38;5;28;01mif\u001b[39;00m flags \u001b[38;5;241m!=\u001b[39m \u001b[38;5;241m0\u001b[39m:\n\u001b[1;32m   1238\u001b[0m         \u001b[38;5;28;01mraise\u001b[39;00m \u001b[38;5;167;01mValueError\u001b[39;00m(\n\u001b[1;32m   1239\u001b[0m           \u001b[38;5;124m\"\u001b[39m\u001b[38;5;124mnon-zero flags not allowed in calls to recv_into() on \u001b[39m\u001b[38;5;132;01m%s\u001b[39;00m\u001b[38;5;124m\"\u001b[39m \u001b[38;5;241m%\u001b[39m\n\u001b[1;32m   1240\u001b[0m           \u001b[38;5;28mself\u001b[39m\u001b[38;5;241m.\u001b[39m\u001b[38;5;18m__class__\u001b[39m)\n\u001b[0;32m-> 1241\u001b[0m     \u001b[38;5;28;01mreturn\u001b[39;00m \u001b[38;5;28;43mself\u001b[39;49m\u001b[38;5;241;43m.\u001b[39;49m\u001b[43mread\u001b[49m\u001b[43m(\u001b[49m\u001b[43mnbytes\u001b[49m\u001b[43m,\u001b[49m\u001b[43m \u001b[49m\u001b[43mbuffer\u001b[49m\u001b[43m)\u001b[49m\n\u001b[1;32m   1242\u001b[0m \u001b[38;5;28;01melse\u001b[39;00m:\n\u001b[1;32m   1243\u001b[0m     \u001b[38;5;28;01mreturn\u001b[39;00m \u001b[38;5;28msuper\u001b[39m()\u001b[38;5;241m.\u001b[39mrecv_into(buffer, nbytes, flags)\n",
      "File \u001b[0;32m/Library/Developer/CommandLineTools/Library/Frameworks/Python3.framework/Versions/3.9/lib/python3.9/ssl.py:1099\u001b[0m, in \u001b[0;36mSSLSocket.read\u001b[0;34m(self, len, buffer)\u001b[0m\n\u001b[1;32m   1097\u001b[0m \u001b[38;5;28;01mtry\u001b[39;00m:\n\u001b[1;32m   1098\u001b[0m     \u001b[38;5;28;01mif\u001b[39;00m buffer \u001b[38;5;129;01mis\u001b[39;00m \u001b[38;5;129;01mnot\u001b[39;00m \u001b[38;5;28;01mNone\u001b[39;00m:\n\u001b[0;32m-> 1099\u001b[0m         \u001b[38;5;28;01mreturn\u001b[39;00m \u001b[38;5;28;43mself\u001b[39;49m\u001b[38;5;241;43m.\u001b[39;49m\u001b[43m_sslobj\u001b[49m\u001b[38;5;241;43m.\u001b[39;49m\u001b[43mread\u001b[49m\u001b[43m(\u001b[49m\u001b[38;5;28;43mlen\u001b[39;49m\u001b[43m,\u001b[49m\u001b[43m \u001b[49m\u001b[43mbuffer\u001b[49m\u001b[43m)\u001b[49m\n\u001b[1;32m   1100\u001b[0m     \u001b[38;5;28;01melse\u001b[39;00m:\n\u001b[1;32m   1101\u001b[0m         \u001b[38;5;28;01mreturn\u001b[39;00m \u001b[38;5;28mself\u001b[39m\u001b[38;5;241m.\u001b[39m_sslobj\u001b[38;5;241m.\u001b[39mread(\u001b[38;5;28mlen\u001b[39m)\n",
      "\u001b[0;31mKeyboardInterrupt\u001b[0m: "
     ]
    }
   ],
   "source": [
    "for url in page_sources[251:]:\n",
    "    response = requests.get(url)\n",
    "    the_soup_123 = BeautifulSoup(response.text)\n",
    "    json_tag_123 = the_soup_123.find_all(\"script\", type=\"application/ld+json\")\n",
    "    json_obj_123 = json.loads(json_tag_123[0].text)\n",
    "    data.append(json_obj_123)\n",
    "    print(json_obj_123)"
   ]
  },
  {
   "cell_type": "code",
   "execution_count": 58,
   "metadata": {},
   "outputs": [
    {
     "data": {
      "text/plain": [
       "'US'"
      ]
     },
     "execution_count": 58,
     "metadata": {},
     "output_type": "execute_result"
    }
   ],
   "source": [
    "data[0]['address']['addressCountry']"
   ]
  },
  {
   "cell_type": "code",
   "execution_count": 65,
   "metadata": {},
   "outputs": [
    {
     "name": "stdout",
     "output_type": "stream",
     "text": [
      "{'@context': 'http://schema.org', '@type': 'http://schema.org/MovingCompany', '@id': '/atlanta-ga/mip/air-7-seas-transport-logistics-inc-457918084', 'name': 'AIR 7 SEAS Transport Logistics Inc', 'address': {'@type': 'PostalAddress', 'addressCountry': 'US', 'streetAddress': '560 Atlanta South Pkwy', 'addressLocality': 'Atlanta', 'addressRegion': 'GA', 'postalCode': '30349'}, 'aggregateRating': {'@type': 'AggregateRating', 'ratingValue': 5, 'reviewCount': 64}, 'geo': {'@type': 'GeoCoordinates', 'latitude': 33.611256, 'longitude': -84.40813}, 'telephone': '(888) 404-8124', 'openingHours': ['Mo-Fr 08:00-17:30', 'Sa 09:00-16:00', 'Su 10:00-15:00'], 'image': {'@type': 'ImageObject', 'url': 'https://i3.ypcdn.com/blob/db18eccc583f6a534dade2809c70cb895e06243a', 'contentUrl': 'https://i3.ypcdn.com/blob/db18eccc583f6a534dade2809c70cb895e06243a', 'thumbnailUrl': 'https://i3.ypcdn.com/blob/db18eccc583f6a534dade2809c70cb895e06243a_400x260_crop.jpg'}, 'review': [{'@type': 'Review', 'itemReviewed': 'AIR 7 SEAS Transport Logistics Inc', 'author': {'@type': 'Person', 'name': 'Kamal W.'}, 'reviewBody': 'Satisfied services. Really try this again', 'reviewRating': {'@type': 'Rating', 'ratingValue': 5}, 'datePublished': '2024-07-01'}, {'@type': 'Review', 'itemReviewed': 'AIR 7 SEAS Transport Logistics Inc', 'author': {'@type': 'Person', 'name': 'Pranith K.'}, 'reviewBody': 'good place and good service', 'reviewRating': {'@type': 'Rating', 'ratingValue': 5}, 'datePublished': '2024-07-01'}, {'@type': 'Review', 'itemReviewed': 'AIR 7 SEAS Transport Logistics Inc', 'author': {'@type': 'Person', 'name': 'YPMobile User'}, 'reviewBody': 'This is very nice business.. service providers were very helpful.. nice service provided', 'reviewRating': {'@type': 'Rating', 'ratingValue': 5}, 'datePublished': '2024-07-01'}, {'@type': 'Review', 'itemReviewed': 'AIR 7 SEAS Transport Logistics Inc', 'author': {'@type': 'Person', 'name': '到達 N.'}, 'reviewBody': 'Best air cargo and shipment services', 'reviewRating': {'@type': 'Rating', 'ratingValue': 5}, 'datePublished': '2024-07-01'}, {'@type': 'Review', 'itemReviewed': 'AIR 7 SEAS Transport Logistics Inc', 'author': {'@type': 'Person', 'name': 'Krunal S.'}, 'reviewBody': 'Great experience and best service 🤩🤩🤩', 'reviewRating': {'@type': 'Rating', 'ratingValue': 5}, 'datePublished': '2024-07-01'}, {'@type': 'Review', 'itemReviewed': 'AIR 7 SEAS Transport Logistics Inc', 'author': {'@type': 'Person', 'name': 'Ohio B.'}, 'reviewBody': 'Really good service. Recomended 👍👍', 'reviewRating': {'@type': 'Rating', 'ratingValue': 5}, 'datePublished': '2024-07-01'}, {'@type': 'Review', 'itemReviewed': 'AIR 7 SEAS Transport Logistics Inc', 'author': {'@type': 'Person', 'name': 'Ashieq H.'}, 'reviewBody': 'A very good customer care response', 'reviewRating': {'@type': 'Rating', 'ratingValue': 5}, 'datePublished': '2023-27-12'}, {'@type': 'Review', 'itemReviewed': 'AIR 7 SEAS Transport Logistics Inc', 'author': {'@type': 'Person', 'name': 'Deepankar D.'}, 'reviewBody': 'Best and good work and behaviour', 'reviewRating': {'@type': 'Rating', 'ratingValue': 5}, 'datePublished': '2023-27-12'}, {'@type': 'Review', 'itemReviewed': 'AIR 7 SEAS Transport Logistics Inc', 'author': {'@type': 'Person', 'name': 'Sukhjit B.'}, 'reviewBody': \"It's really good 👍😊....\", 'reviewRating': {'@type': 'Rating', 'ratingValue': 5}, 'datePublished': '2023-09-12'}, {'@type': 'Review', 'itemReviewed': 'AIR 7 SEAS Transport Logistics Inc', 'author': {'@type': 'Person', 'name': 'Shalbin S.'}, 'reviewBody': '👍👍👍👍👍👍👍👍👍👍👍👍👍👍👍👍👍👍👍👍👍', 'reviewRating': {'@type': 'Rating', 'ratingValue': 5}, 'datePublished': '2023-09-12'}, {'@type': 'Review', 'itemReviewed': 'AIR 7 SEAS Transport Logistics Inc', 'author': {'@type': 'Person', 'name': 'God O.'}, 'reviewBody': 'Very Very Good Experience', 'reviewRating': {'@type': 'Rating', 'ratingValue': 5}, 'datePublished': '2023-09-12'}, {'@type': 'Review', 'itemReviewed': 'AIR 7 SEAS Transport Logistics Inc', 'author': {'@type': 'Person', 'name': 'Vicky M.'}, 'reviewBody': 'Nice, awesome, keep it up.', 'reviewRating': {'@type': 'Rating', 'ratingValue': 4}, 'datePublished': '2023-09-12'}, {'@type': 'Review', 'itemReviewed': 'AIR 7 SEAS Transport Logistics Inc', 'author': {'@type': 'Person', 'name': 'Sachin R.'}, 'reviewBody': 'Fantastic Service 👍👍👍👍👍👍', 'reviewRating': {'@type': 'Rating', 'ratingValue': 5}, 'datePublished': '2023-09-12'}, {'@type': 'Review', 'itemReviewed': 'AIR 7 SEAS Transport Logistics Inc', 'author': {'@type': 'Person', 'name': 'Shyam K.'}, 'reviewBody': 'This is a very good ,and better then other', 'reviewRating': {'@type': 'Rating', 'ratingValue': 5}, 'datePublished': '2023-09-12'}, {'@type': 'Review', 'itemReviewed': 'AIR 7 SEAS Transport Logistics Inc', 'author': {'@type': 'Person', 'name': 'Madhusudhan G.'}, 'reviewBody': 'Nice experience and ovaral Good', 'reviewRating': {'@type': 'Rating', 'ratingValue': 5}, 'datePublished': '2023-09-12'}, {'@type': 'Review', 'itemReviewed': 'AIR 7 SEAS Transport Logistics Inc', 'author': {'@type': 'Person', 'name': 'The right M.'}, 'reviewBody': \"Have worked with them on numerous occaisions. Jobs consisted of loading and unloading containers. One thing I would say they are very good at is communication. Even if it seems like it's repeated or redundant, because Lord knows to a busy person like me it gets aggravating, they continue to push the needle as far as communication to make sure there are no slip ups. We've had some pricing arguments in the past but overall, it's been a pleasure working with them when they have a Houston area job for us.\", 'reviewRating': {'@type': 'Rating', 'ratingValue': 5}, 'datePublished': '2023-03-12'}, {'@type': 'Review', 'itemReviewed': 'AIR 7 SEAS Transport Logistics Inc', 'author': {'@type': 'Person', 'name': 'Pratheep X.'}, 'reviewBody': 'Good company and the staffs are friendly', 'reviewRating': {'@type': 'Rating', 'ratingValue': 5}, 'datePublished': '2023-27-11'}, {'@type': 'Review', 'itemReviewed': 'AIR 7 SEAS Transport Logistics Inc', 'author': {'@type': 'Person', 'name': 'Abu khayer A.'}, 'reviewBody': 'Very good service and trustable 🖤', 'reviewRating': {'@type': 'Rating', 'ratingValue': 5}, 'datePublished': '2023-09-11'}, {'@type': 'Review', 'itemReviewed': 'AIR 7 SEAS Transport Logistics Inc', 'author': {'@type': 'Person', 'name': 'Shiv D.'}, 'reviewBody': 'I feel rare experience....', 'reviewRating': {'@type': 'Rating', 'ratingValue': 5}, 'datePublished': '2023-09-11'}, {'@type': 'Review', 'itemReviewed': 'AIR 7 SEAS Transport Logistics Inc', 'author': {'@type': 'Person', 'name': 'Fatima C.'}, 'reviewBody': 'Wonderful experience loved it', 'reviewRating': {'@type': 'Rating', 'ratingValue': 5}, 'datePublished': '2023-09-11'}], 'url': 'http://www.air7seas.com/', 'paymentAccepted': 'all major credit cards, amex, discover, mastercard, visa, paypal', 'location': {'@type': 'Place', 'description': 'Areas Served: Your town via nearest terminal / depot'}, 'email': 'mailto:ypcom@air7seas.us', 'logo': 'https://i4.ypcdn.com/blob/bb21bac3580813e84941499e6f905d0eb647f101'}\n",
      "{'@context': 'http://schema.org', '@type': 'http://schema.org/MovingCompany', '@id': '/atlanta-ga/mip/southern-comfort-movers-523090613', 'name': 'Southern Comfort Movers', 'address': {'@type': 'PostalAddress', 'addressCountry': 'US', 'streetAddress': '4780 Ashford Dunwoody Rd', 'addressLocality': 'Atlanta', 'addressRegion': 'GA', 'postalCode': '30338'}, 'geo': {'@type': 'GeoCoordinates', 'latitude': 33.93512, 'longitude': -84.33804}, 'telephone': '(404) 369-1227', 'openingHours': ['Mo-Sa 08:30-23:00', 'Su 09:30-21:00'], 'image': {'@type': 'ImageObject', 'url': 'https://i4.ypcdn.com/blob/9f9ed281edc7b18f68477d5ce712e943d648e5f6', 'contentUrl': 'https://i4.ypcdn.com/blob/9f9ed281edc7b18f68477d5ce712e943d648e5f6', 'thumbnailUrl': 'https://i4.ypcdn.com/blob/9f9ed281edc7b18f68477d5ce712e943d648e5f6_400x260_crop.jpg'}, 'review': [], 'url': 'https://southerncomfortmovers.com', 'paymentAccepted': 'check, cash, mastercard, visa', 'location': {'@type': 'Place', 'description': 'Ashford Place'}, 'email': 'mailto:southerncomfortmoving@gmail.com', 'logo': 'https://i2.ypcdn.com/blob/b4b877793a15ea7fdd26200c478bc61a77ee7edb'}\n",
      "{'@context': 'http://schema.org', '@type': 'http://schema.org/MovingCompany', '@id': '/cumming-ga/mip/jason-taylor-moving-storage-451063586', 'name': 'Jason Taylor Moving & Storage', 'address': {'@type': 'PostalAddress', 'addressCountry': 'US', 'addressLocality': 'Cumming', 'addressRegion': 'GA', 'postalCode': '30040'}, 'aggregateRating': {'@type': 'AggregateRating', 'ratingValue': 5, 'reviewCount': 5}, 'telephone': '(770) 744-0816', 'openingHours': ['Mo-Fr 08:00-17:00'], 'image': {'@type': 'ImageObject', 'url': 'https://i2.ypcdn.com/blob/635908c4f7e0362ea4f75297bcff73c7bb9e9faf', 'contentUrl': 'https://i2.ypcdn.com/blob/635908c4f7e0362ea4f75297bcff73c7bb9e9faf', 'thumbnailUrl': 'https://i2.ypcdn.com/blob/635908c4f7e0362ea4f75297bcff73c7bb9e9faf_400x260_crop.jpg'}, 'review': [{'@type': 'Review', 'itemReviewed': 'Jason Taylor Moving & Storage', 'author': {'@type': 'Person', 'name': 'Kacey L.'}, 'reviewBody': \"These guys went above and beyond in making our move as easy as a move can be! They moved us faster than the time they originally estimated (only charging me for the hours they actually spent doing the work), had great attitudes, kept things light-hearted but still very professional, &amp; worked hard to make sure things were exactly as we wanted them before they left for the day. They were upfront with all charges, laid out exactly what was included, &amp; showed up on time. Each phone call with the office was informative and they didn't waste my time trying to upsell me on things they knew I didn't need. I would recommend these guys in a heartbeat. Incredible experience.\", 'reviewRating': {'@type': 'Rating', 'ratingValue': 5}, 'datePublished': '2016-04-04'}, {'@type': 'Review', 'itemReviewed': 'Jason Taylor Moving & Storage', 'author': {'@type': 'Person', 'name': 'Jacforr ..'}, 'reviewBody': \"BEST moving experience EVER! Bobby's crew was very friendly, arrived on time, and never wasted any time! VERY IMPRESSIVE!\", 'reviewRating': {'@type': 'Rating', 'ratingValue': 5}, 'datePublished': '2015-26-10'}, {'@type': 'Review', 'itemReviewed': 'Jason Taylor Moving & Storage', 'author': {'@type': 'Person', 'name': 'Maya B.'}, 'reviewBody': 'I hired this company on 12/27/14 to move me from Alpharetta to Cumming.  They were prompt, professional and worked their butts off. They first moved my stuff from storage(which was almost a household by itself) and then moved the rest of my stuff from my apartment. The price quoted was the price i paid. My stuff was not damaged. I was attempting to move a box and one of the crew told me to put it down that is what they were there for. I had two little kids and they worked around them and even played with them indirectly as they worked. I was impressed. Needless to say i will recommend them. If i were to move again, i know who i will be hiring! Thank you guys for a job well done.', 'reviewRating': {'@type': 'Rating', 'ratingValue': 5}, 'datePublished': '2015-20-01'}, {'@type': 'Review', 'itemReviewed': 'Jason Taylor Moving & Storage', 'author': {'@type': 'Person', 'name': 'thebazilenoval2'}, 'reviewBody': \"All we had that needed to be moved were a couple of used conference tables. Not a big job, at all. But they were too long, and too heavy to use a pickup truck and a couple of friends.  So we started shopping around.Ew!  Several companies wanted as much to move the tables as we had paid to buy them!Jason not only found a way to make the move affordable, but his guys were fabulous!  They made sure the tables were well protected and handled them gingerly. They asked to see 'where they were going' and made good judgements on which doors to use, and how to get them down the hallways. And then, they set them up for us!  (3 pieces each)I didn't expect that, and was absolutely thrilled!They were so great at this little, bitty job, I imagine they are more terrific at the big ones.Jason, you will hear from us again!L HatcherSurvival Strokes\", 'reviewRating': {'@type': 'Rating', 'ratingValue': 5}, 'datePublished': '2009-16-01'}, {'@type': 'Review', 'itemReviewed': 'Jason Taylor Moving & Storage', 'author': {'@type': 'Person', 'name': 'figgy2004'}, 'reviewBody': 'Jason Taylor Moving &amp; Storage provided prompt and professional service when moving our offices.  I would highly recommend them to anyone.', 'reviewRating': {'@type': 'Rating', 'ratingValue': 5}, 'datePublished': '2009-15-01'}], 'url': 'http://www.jasontaylormoving.com', 'paymentAccepted': 'master card, visa, discover, amex, cash, check, debit', 'location': {'@type': 'Place', 'description': 'Serving all of Metro Atlanta and North Georgia.'}, 'email': 'mailto:jason@jasontaylormoving.com', 'logo': 'https://i1.ypcdn.com/blob/4e3aa1fc33dfae938163e27b7f35534177ff3169'}\n",
      "{'@context': 'http://schema.org', '@type': 'http://schema.org/MovingCompany', '@id': '/nationwide/mip/oakdale-moving-storage-573537597', 'name': 'Oakdale Moving & Storage', 'aggregateRating': {'@type': 'AggregateRating', 'ratingValue': 5, 'reviewCount': 18}, 'telephone': '(844) 681-4827', 'openingHours': ['Mo-Sa 10:00-18:00'], 'image': {'@type': 'ImageObject', 'url': 'https://i1.ypcdn.com/blob/5a9cd3189e526f5527b53da720def045755bb5b4', 'contentUrl': 'https://i1.ypcdn.com/blob/5a9cd3189e526f5527b53da720def045755bb5b4', 'thumbnailUrl': 'https://i1.ypcdn.com/blob/5a9cd3189e526f5527b53da720def045755bb5b4_400x260_crop.jpg'}, 'review': [{'@type': 'Review', 'itemReviewed': 'Oakdale Moving & Storage', 'author': {'@type': 'Person', 'name': 'Kamal W.'}, 'reviewBody': 'Awesome. Satisfied with services.', 'reviewRating': {'@type': 'Rating', 'ratingValue': 5}, 'datePublished': '2024-07-01'}, {'@type': 'Review', 'itemReviewed': 'Oakdale Moving & Storage', 'author': {'@type': 'Person', 'name': 'Ohio B.'}, 'reviewBody': 'Service is very good. Time and money efficient. Recomended👍', 'reviewRating': {'@type': 'Rating', 'ratingValue': 5}, 'datePublished': '2024-07-01'}, {'@type': 'Review', 'itemReviewed': 'Oakdale Moving & Storage', 'author': {'@type': 'Person', 'name': 'Nishachar T.'}, 'reviewBody': 'Best service in township for moving and storage', 'reviewRating': {'@type': 'Rating', 'ratingValue': 5}, 'datePublished': '2024-07-01'}, {'@type': 'Review', 'itemReviewed': 'Oakdale Moving & Storage', 'author': {'@type': 'Person', 'name': 'Krunal S.'}, 'reviewBody': 'Great experience and best service 🤩🤩🤩', 'reviewRating': {'@type': 'Rating', 'ratingValue': 5}, 'datePublished': '2024-07-01'}, {'@type': 'Review', 'itemReviewed': 'Oakdale Moving & Storage', 'author': {'@type': 'Person', 'name': '到達 N.'}, 'reviewBody': 'The best service centre for everyone', 'reviewRating': {'@type': 'Rating', 'ratingValue': 5}, 'datePublished': '2024-07-01'}, {'@type': 'Review', 'itemReviewed': 'Oakdale Moving & Storage', 'author': {'@type': 'Person', 'name': 'Sanju C.'}, 'reviewBody': 'Good service, professional', 'reviewRating': {'@type': 'Rating', 'ratingValue': 5}, 'datePublished': '2024-07-01'}, {'@type': 'Review', 'itemReviewed': 'Oakdale Moving & Storage', 'author': {'@type': 'Person', 'name': 'Ujjwal S.'}, 'reviewBody': 'Decent, professional and on time', 'reviewRating': {'@type': 'Rating', 'ratingValue': 4}, 'datePublished': '2024-07-01'}, {'@type': 'Review', 'itemReviewed': 'Oakdale Moving & Storage', 'author': {'@type': 'Person', 'name': 'Shahid A.'}, 'reviewBody': 'highly recommended for professional services', 'reviewRating': {'@type': 'Rating', 'ratingValue': 5}, 'datePublished': '2023-08-12'}, {'@type': 'Review', 'itemReviewed': 'Oakdale Moving & Storage', 'author': {'@type': 'Person', 'name': 'Amisha M.'}, 'reviewBody': 'I had my best experience and excellent service', 'reviewRating': {'@type': 'Rating', 'ratingValue': 5}, 'datePublished': '2023-08-12'}, {'@type': 'Review', 'itemReviewed': 'Oakdale Moving & Storage', 'author': {'@type': 'Person', 'name': 'Amisha R.'}, 'reviewBody': 'What a great business work', 'reviewRating': {'@type': 'Rating', 'ratingValue': 5}, 'datePublished': '2023-08-12'}, {'@type': 'Review', 'itemReviewed': 'Oakdale Moving & Storage', 'author': {'@type': 'Person', 'name': 'Radhe P.'}, 'reviewBody': 'Nice gesture 🙂🙂🙂🙂🙂🙂', 'reviewRating': {'@type': 'Rating', 'ratingValue': 5}, 'datePublished': '2023-07-10'}, {'@type': 'Review', 'itemReviewed': 'Oakdale Moving & Storage', 'author': {'@type': 'Person', 'name': 'John F.'}, 'reviewBody': 'Good service well done...', 'reviewRating': {'@type': 'Rating', 'ratingValue': 5}, 'datePublished': '2023-07-10'}, {'@type': 'Review', 'itemReviewed': 'Oakdale Moving & Storage', 'author': {'@type': 'Person', 'name': 'Ayush K.'}, 'reviewBody': \"Wow, that's an awesome....\", 'reviewRating': {'@type': 'Rating', 'ratingValue': 5}, 'datePublished': '2023-07-10'}, {'@type': 'Review', 'itemReviewed': 'Oakdale Moving & Storage', 'author': {'@type': 'Person', 'name': 'Monika S.'}, 'reviewBody': 'Very professional and cooperative.', 'reviewRating': {'@type': 'Rating', 'ratingValue': 5}, 'datePublished': '2023-07-09'}, {'@type': 'Review', 'itemReviewed': 'Oakdale Moving & Storage', 'author': {'@type': 'Person', 'name': 'Farhan H.'}, 'reviewBody': 'Nice good environment great', 'reviewRating': {'@type': 'Rating', 'ratingValue': 5}, 'datePublished': '2023-07-09'}, {'@type': 'Review', 'itemReviewed': 'Oakdale Moving & Storage', 'author': {'@type': 'Person', 'name': 'Joe L.'}, 'reviewBody': 'I hired Oakdale Moving and Storage for my move from Philadelphia to Florida, the crew was very professional and did an excellent job.I was really happy and blown away by their service and professionalism. Thank You Oakdale if I ever need help with a move I will definitely be using them again and will recommend to friends and family.', 'reviewRating': {'@type': 'Rating', 'ratingValue': 5}, 'datePublished': '2023-27-07'}, {'@type': 'Review', 'itemReviewed': 'Oakdale Moving & Storage', 'author': {'@type': 'Person', 'name': 'Danny Z.'}, 'reviewBody': 'The service was great made everything easier. I had my family and friends used on me too.', 'reviewRating': {'@type': 'Rating', 'ratingValue': 5}, 'datePublished': '2023-27-07'}, {'@type': 'Review', 'itemReviewed': 'Oakdale Moving & Storage', 'author': {'@type': 'Person', 'name': 'Mike S.'}, 'reviewBody': 'I used oakdale movers the beginning of July for a move from New York to Naples Florida. They were very professional from start to finish. Also showed up a few hours early with my belongings would 100% us them again in the future thank you oakdale moving and storage', 'reviewRating': {'@type': 'Rating', 'ratingValue': 5}, 'datePublished': '2023-14-07'}], 'url': 'https://oakdalemovingandstorage.com', 'paymentAccepted': 'amex, check, discover, master card, visa', 'email': 'mailto:michaellarocca1986@gmail.com'}\n",
      "{'@context': 'http://schema.org', '@type': 'http://schema.org/MovingCompany', '@id': '/carrollton-ga/mip/barnes-van-lines-8440749', 'name': 'Barnes Van Lines', 'address': {'@type': 'PostalAddress', 'addressCountry': 'US', 'streetAddress': '3015 Carrollton Villa Rica Hwy', 'addressLocality': 'Carrollton', 'addressRegion': 'GA', 'postalCode': '30116'}, 'geo': {'@type': 'GeoCoordinates', 'latitude': 33.627575, 'longitude': -84.99152}, 'telephone': '(678) 664-8865', 'openingHours': ['Mo-Fr 08:00-17:00'], 'image': {'@type': 'ImageObject', 'url': 'https://i1.ypcdn.com/ypu/images/default-thumbnails/thumbnail-1.svg?addecef'}, 'url': 'https://api.superpages.com/xml/search?SRC=ypintfeed&subaffiliate=DXC&PGID=e02.7182.8182845904523&SPGID=1713525817459.03ae26f3&ADID=12318817&DEST=https%3A%2F%2Fbarnesvanlinesus.mydex.com%2FVuMNBv-uLBE&C=Movers&T=Carrollton&S=GA&PH=(678)%20664-8865&FL=url&TL=off&position=0&PS=1&PI=1&Results=FEED_CLCK&uid=03ae26f3-f85f-4ebf-b2d5-48b9d106d2da&REF=&IP=49.43.0.117&UserAgent=python-requests%2F2.31.0', 'paymentAccepted': 'visa, cash, check, discover, master card', 'email': 'mailto:chris@barnesvanlines.com'}\n",
      "{'@context': 'http://schema.org', '@type': 'http://schema.org/LocalBusiness', '@id': '/pompano-beach-fl/mip/we-will-transport-it-482880155', 'name': 'We Will Transport It', 'address': {'@type': 'PostalAddress', 'addressCountry': 'US', 'streetAddress': '2300 West Sample Road', 'addressLocality': 'Pompano Beach', 'addressRegion': 'FL', 'postalCode': '33073'}, 'aggregateRating': {'@type': 'AggregateRating', 'ratingValue': 5, 'reviewCount': 30}, 'geo': {'@type': 'GeoCoordinates', 'latitude': 26.274214, 'longitude': -80.15435}, 'telephone': '(844) 315-7733', 'openingHours': ['Mo-Sa', 'Su 06:00-22:00'], 'image': {'@type': 'ImageObject', 'url': 'https://i3.ypcdn.com/blob/5f22e048d6586080e7c8031245bf6d79a7053a10', 'contentUrl': 'https://i3.ypcdn.com/blob/5f22e048d6586080e7c8031245bf6d79a7053a10', 'thumbnailUrl': 'https://i3.ypcdn.com/blob/5f22e048d6586080e7c8031245bf6d79a7053a10_400x260_crop.jpg'}, 'review': [{'@type': 'Review', 'itemReviewed': 'We Will Transport It', 'author': {'@type': 'Person', 'name': 'Mohit P.'}, 'reviewBody': 'Over all good.    👍 👍 👌', 'reviewRating': {'@type': 'Rating', 'ratingValue': 5}, 'datePublished': '2023-27-12'}, {'@type': 'Review', 'itemReviewed': 'We Will Transport It', 'author': {'@type': 'Person', 'name': 'Ashieq H.'}, 'reviewBody': 'Very nice to handle and friendly', 'reviewRating': {'@type': 'Rating', 'ratingValue': 5}, 'datePublished': '2023-27-12'}, {'@type': 'Review', 'itemReviewed': 'We Will Transport It', 'author': {'@type': 'Person', 'name': 'Antony R.'}, 'reviewBody': 'Best and prompted and safety service', 'reviewRating': {'@type': 'Rating', 'ratingValue': 5}, 'datePublished': '2023-27-12'}, {'@type': 'Review', 'itemReviewed': 'We Will Transport It', 'author': {'@type': 'Person', 'name': 'Siva S.'}, 'reviewBody': 'Best service I so happy thank you', 'reviewRating': {'@type': 'Rating', 'ratingValue': 5}, 'datePublished': '2023-27-12'}, {'@type': 'Review', 'itemReviewed': 'We Will Transport It', 'author': {'@type': 'Person', 'name': 'Kiteretsu J.'}, 'reviewBody': 'Good survice and at decent price', 'reviewRating': {'@type': 'Rating', 'ratingValue': 5}, 'datePublished': '2023-27-12'}, {'@type': 'Review', 'itemReviewed': 'We Will Transport It', 'author': {'@type': 'Person', 'name': 'Sourabh H.'}, 'reviewBody': '🙂🙂🙂🙂🙂🙂🙂🙂🙂🙂🙂🙂🙂🙂🙂', 'reviewRating': {'@type': 'Rating', 'ratingValue': 5}, 'datePublished': '2023-27-12'}, {'@type': 'Review', 'itemReviewed': 'We Will Transport It', 'author': {'@type': 'Person', 'name': 'Harish S.'}, 'reviewBody': 'Transport was good and very affordable', 'reviewRating': {'@type': 'Rating', 'ratingValue': 5}, 'datePublished': '2023-27-12'}, {'@type': 'Review', 'itemReviewed': 'We Will Transport It', 'author': {'@type': 'Person', 'name': 'Avinash A.'}, 'reviewBody': 'Overall amazing and best..', 'reviewRating': {'@type': 'Rating', 'ratingValue': 5}, 'datePublished': '2023-29-10'}, {'@type': 'Review', 'itemReviewed': 'We Will Transport It', 'author': {'@type': 'Person', 'name': 'Chitransh S.'}, 'reviewBody': 'Good packers and movers..', 'reviewRating': {'@type': 'Rating', 'ratingValue': 5}, 'datePublished': '2023-29-10'}, {'@type': 'Review', 'itemReviewed': 'We Will Transport It', 'author': {'@type': 'Person', 'name': 'Gajender B.'}, 'reviewBody': 'Excellent services expertise staff', 'reviewRating': {'@type': 'Rating', 'ratingValue': 5}, 'datePublished': '2023-26-08'}, {'@type': 'Review', 'itemReviewed': 'We Will Transport It', 'author': {'@type': 'Person', 'name': 'Shiva P.'}, 'reviewBody': 'Good staff... And quality also good', 'reviewRating': {'@type': 'Rating', 'ratingValue': 5}, 'datePublished': '2023-26-08'}, {'@type': 'Review', 'itemReviewed': 'We Will Transport It', 'author': {'@type': 'Person', 'name': 'Saransh M.'}, 'reviewBody': 'It is a good transport company.', 'reviewRating': {'@type': 'Rating', 'ratingValue': 5}, 'datePublished': '2023-26-08'}, {'@type': 'Review', 'itemReviewed': 'We Will Transport It', 'author': {'@type': 'Person', 'name': 'Bill E.'}, 'reviewBody': \"I used Atlantic because of the reviews and Jessy talked a good game. Once he had my money, everything changed. According to the contract the truck was to be picked up at my place of residence and delivered to the residence in california within 7 to 10 days. I was also to be notified 24 hour in advance of the delivery. On the 9th day I called Jessie In the morning to find out what time the truck would be delivered so as I could plan my day. He told me he would find out and get back to me. I did not hear from him all day 4 PM I called him up to find out. What's going.jessy said oh it will be delivered tomorrow. He did not have a time for me he said the driver will call you. No phone call and no truck. This went on for 2 more days. Finally on sunday evening we get a text from the driver saying you can pick up your truck at this location . Over five miles from our house. In direct conflict to the contract which stated door-to-door delivery.Only use this company if you want to be Lied to. Have your vehicle delivered 4 days late. With no notice you have to pick up your vehicle 5 miles away from the agreed delivery point.\", 'reviewRating': {'@type': 'Rating', 'ratingValue': 1}, 'datePublished': '2023-10-04'}, {'@type': 'Review', 'itemReviewed': 'We Will Transport It', 'author': {'@type': 'Person', 'name': 'Javier S.'}, 'reviewBody': 'Strongly recommended. I have moved my Boat from New York to Florida with this company and I have got the best price and customers service. William was very polite and help me to make easy what other companies were making a nightmare. The delivery was fast and secure. A+++++', 'reviewRating': {'@type': 'Rating', 'ratingValue': 5}, 'datePublished': '2022-10-02'}], 'url': 'http://wewilltransportit.com', 'email': 'mailto:wewilltransportit@gmail.com'}\n",
      "{'@context': 'http://schema.org', '@type': 'http://schema.org/LocalBusiness', '@id': '/nationwide/mip/peach-state-moving-and-storage-513056158', 'name': 'Peach State Moving And Storage', 'telephone': '(404) 696-5433', 'openingHours': ['Mo-Su'], 'image': {'@type': 'ImageObject', 'url': 'https://i4.ypcdn.com/blob/c3bab45e7c6fa213dc5698226074dcb5d52e1e13', 'contentUrl': 'https://i4.ypcdn.com/blob/c3bab45e7c6fa213dc5698226074dcb5d52e1e13', 'thumbnailUrl': 'https://i4.ypcdn.com/blob/c3bab45e7c6fa213dc5698226074dcb5d52e1e13_400x260_crop.jpg'}, 'review': [], 'paymentAccepted': 'discover, mastercard, all major credit cards, visa', 'email': 'mailto:peachstatemovingastorage@gmail.com'}\n",
      "{'@context': 'http://schema.org', '@type': 'http://schema.org/MovingCompany', '@id': '/nationwide/mip/dcm-handyman-services-482185408', 'name': 'DCM HandyMan Services', 'telephone': '(912) 507-3454', 'openingHours': ['Sa-Su 06:00-00:00'], 'image': {'@type': 'ImageObject', 'url': 'https://i1.ypcdn.com/ypu/images/default-thumbnails/thumbnail-1.svg?addecef'}, 'review': [], 'paymentAccepted': 'cash', 'location': {'@type': 'Place', 'description': 'Serving the Metro Atlanta Area and all surrounding areas!'}, 'email': 'mailto:DCMHandyManServices1@gmail.com'}\n",
      "{'@context': 'http://schema.org', '@type': 'http://schema.org/MovingCompany', '@id': '/atlanta-ga/mip/angel-heart-movers-486739623', 'name': 'Angel Heart Movers', 'address': {'@type': 'PostalAddress', 'addressCountry': 'US', 'addressLocality': 'Atlanta', 'addressRegion': 'GA', 'postalCode': '30350'}, 'aggregateRating': {'@type': 'AggregateRating', 'ratingValue': 5, 'reviewCount': 55}, 'telephone': '(404) 313-7474', 'openingHours': ['Mo-Su'], 'image': {'@type': 'ImageObject', 'url': 'https://i1.ypcdn.com/ypu/images/default-thumbnails/thumbnail-1.svg?addecef'}, 'review': [{'@type': 'Review', 'itemReviewed': 'Angel Heart Movers', 'author': {'@type': 'Person', 'name': 'M S.'}, 'reviewBody': 'We called after hours and they gave us a quote. They were at the site the next morning at 9AM. They moved several bulky, heavy objects and were very careful...', 'reviewRating': {'@type': 'Rating', 'ratingValue': 5}, 'datePublished': '2016-08-08'}, {'@type': 'Review', 'itemReviewed': 'Angel Heart Movers', 'author': {'@type': 'Person', 'name': 'Jul S.'}, 'reviewBody': \"Everything was treated with such care, so that there was no damage to the furniture or the walls. David and his crew couldn't have been any nicer or more professional; they were terrific! I had been hoping the move wouldn't take as long as it did, but after seeing them work, I honestly can't imagine how it could have been done any faster. They were as quick and efficient as possible, while treating all my stuff with care. Within the first hour I knew I would use Angel Heart for moving some items from another location in the near future. I will definitely call David for my future moves, and would definitely recommend David and Angel Heart Movers!\", 'reviewRating': {'@type': 'Rating', 'ratingValue': 5}, 'datePublished': '2016-07-06'}, {'@type': 'Review', 'itemReviewed': 'Angel Heart Movers', 'author': {'@type': 'Person', 'name': 'Mel A.'}, 'reviewBody': 'First off, David came through at the last minute when we (my husband and I) were cancelled on by our moving company the morning of. They were the first company with movers available that day so we went with it. That was great! They showed up on time which was great. However, they were pretty slow. My husband and the assistant did the majority of the moving. Our couch was mildly damaged. To boot, he decided to take a restroom break outside of his truck rather than asking to use our restroom. The apartment we moved out of is in the middle of Buckhead...not an appropriate place to relieve yourself. Once arriving at our house, myself, my husband, and the assistant (who had NO idea how to properly move things as evidenced by stacking multiple boxes of books on top of FRAGILE china) moved absolutely everything. David did not get out of the truck at all.', 'reviewRating': {'@type': 'Rating', 'ratingValue': 5}, 'datePublished': '2016-19-05'}, {'@type': 'Review', 'itemReviewed': 'Angel Heart Movers', 'author': {'@type': 'Person', 'name': 'Ms. j C.'}, 'reviewBody': 'I used Angel Heart Movers during my move from Brooklyn, NY to Greensboro NC. I had called various moving companies and when they came to my home to give me a quote, they were outrageous. I had moved once before and the company that I had used gave me one quote but upon arrival at my new home, they tried to charge me a different amount and even attempted to hold my belongings until I paid them the difference. What a sham. I have since then been very cautious about movers, until I found Angel Heart Movers. David came to my home to do a walk through and gave me a quote, which was very reasonable. When the time came for me to move, Angel Heart Movers were very prompt. They handled all of my belongings with care. The staff was very polite and accommodating. They wrapped and packed and arrived in the North Carolina on time. The quote that was given to me was exactly what I paid. ANGEL HEART MOVERS is the best. I highly recommend Angel Heart Movers, you wont be disappointed.', 'reviewRating': {'@type': 'Rating', 'ratingValue': 5}, 'datePublished': '2016-11-05'}, {'@type': 'Review', 'itemReviewed': 'Angel Heart Movers', 'author': {'@type': 'Person', 'name': 'Mr. js W.'}, 'reviewBody': \"Angel Heart Movers came through for me when I really needed them. I had a small job of moving a chest of drawers and bed from an upstairs bedroom to a downstairs bedroom. Even though I knew this would only take a reputable moving company less than 30 minutes, they all insisted on charging me a minimum of two hours and a transportation fee!!! In despair I finally came across Angel Heart Movers! David was courteous, on time, and in less than thirty minutes had completed the move; for a reasonable price!!!! I now have the number to Angle Heart Movers programmed in my phone and will call them for all of my moving projects. In reading the last negative review, I am reminded you just can't please everyone and sometimes people do attempt to take advantage of the kindhearted! Angel Heart Movers, thank you for living up to your name!\", 'reviewRating': {'@type': 'Rating', 'ratingValue': 5}, 'datePublished': '2016-04-05'}, {'@type': 'Review', 'itemReviewed': 'Angel Heart Movers', 'author': {'@type': 'Person', 'name': 'Meharry M.'}, 'reviewBody': 'I used Angel Heart Movers for a local move. The service was exceptional and everything went just as I was told during the estimate. There were no hidden fees or additional charges. I was moved quickly and without incident or damages. Thanks for a job well done!', 'reviewRating': {'@type': 'Rating', 'ratingValue': 5}, 'datePublished': '2016-22-04'}, {'@type': 'Review', 'itemReviewed': 'Angel Heart Movers', 'author': {'@type': 'Person', 'name': 'Paradisen C.'}, 'reviewBody': \"Looking for reliable movers? You should definitely give Angelheart Movers a call. I had to move twice in the last two months and they assisted me both times with moving. They provided me excellent customer service, and quickly proved they could be trusted handling my antique furniture. Both times I was provided two movers and a truck. I briefly talked with the movers as they worked. They were very respectful, handled my items with care, and remained focus ed on the objective--moving my furniture from my two bedroom to my new place successfully in two hours. Everyone can't be trusted with your furniture, your time, and your money! Angelheart movers was a great choice.\", 'reviewRating': {'@type': 'Rating', 'ratingValue': 5}, 'datePublished': '2016-14-04'}, {'@type': 'Review', 'itemReviewed': 'Angel Heart Movers', 'author': {'@type': 'Person', 'name': 'Lucas P.'}, 'reviewBody': \"My interstate move to Florida exceeded my expectations; my moving experience was OUTSTANDING! I am an executive that has relocated from coast to coast three times in my career so it was extremely important to secure a moving company that was professional, reliable and reasonable. David Smith, of Angel Heart movers provided a stress-free customer experience while surpassing my expectations with personal attention to detail. The Angel Heart moving crew was professional, careful and on time. They delivered my furniture &amp; possessions the very next day as agreed and promptly moved furniture into my apartment, as well as, a nearby storage unit. I would definitely contact David Smith, Angle Heart Movers for all of my upcoming moves, whether it's a local move or another interstate job transfer. David told me not to worry and never gave me a reason to worry. I highly recommend David Smith for all your moving needs, you will not be disappointed!\", 'reviewRating': {'@type': 'Rating', 'ratingValue': 5}, 'datePublished': '2016-01-04'}, {'@type': 'Review', 'itemReviewed': 'Angel Heart Movers', 'author': {'@type': 'Person', 'name': 'Binn L.'}, 'reviewBody': 'What a great moving experience. They were professional, fast and efficient. We got a really good deal. Angel Heart movers get things done!', 'reviewRating': {'@type': 'Rating', 'ratingValue': 5}, 'datePublished': '2016-18-03'}, {'@type': 'Review', 'itemReviewed': 'Angel Heart Movers', 'author': {'@type': 'Person', 'name': 'Fnasmyth H.'}, 'reviewBody': 'David and his team at Angel Heart Movers assisted us in moving furniture from a storage container to our home and consolidating our remaining furnishings into one container. They did the job well, very efficiently and handled our belongins with a high level of care. Needless to say, we were very pleased with the service David and his team provided to us. They were careful, efficient, and timely in all phases of the move. I highly recommend Angel Heart Movers and would not hesitate to use them again!', 'reviewRating': {'@type': 'Rating', 'ratingValue': 5}, 'datePublished': '2016-10-03'}, {'@type': 'Review', 'itemReviewed': 'Angel Heart Movers', 'author': {'@type': 'Person', 'name': 'Faith K.'}, 'reviewBody': 'My husband and I are newlyweds and had to merge two homes to one. David and his team were prompt, friendly, and affordable. We will definitely use their services again and recommend to our network.', 'reviewRating': {'@type': 'Rating', 'ratingValue': 5}, 'datePublished': '2016-01-03'}, {'@type': 'Review', 'itemReviewed': 'Angel Heart Movers', 'author': {'@type': 'Person', 'name': 'Tiffany N.'}, 'reviewBody': \"David and his team have really been life savers for my husband and me. We've been desperately trying to get our house ready for our first baby -- which has included renovating more than 50% of our home. David's team was able to help us fill a POD with our furniture and will soon be returning to help unpack our storage unit. It should be noted that David brought his team out on Memorial Day and will be coming back on July 4th -- even for our small little project. We're so grateful and truly appreciate David's professionalism and flexibility in accommodating our crazy schedule.\", 'reviewRating': {'@type': 'Rating', 'ratingValue': 5}, 'datePublished': '2016-24-02'}, {'@type': 'Review', 'itemReviewed': 'Angel Heart Movers', 'author': {'@type': 'Person', 'name': 'Rain J.'}, 'reviewBody': 'Arrived on time, started immediately, got the job done quickly and professionally. David makes moving day FUN with his can-do positive attitude, his humor and his awesome singing voice. A 5-star crew in my book!', 'reviewRating': {'@type': 'Rating', 'ratingValue': 5}, 'datePublished': '2016-17-02'}, {'@type': 'Review', 'itemReviewed': 'Angel Heart Movers', 'author': {'@type': 'Person', 'name': 'Karen L.'}, 'reviewBody': 'The name says it all. Angel Heart Movers Moved me from Atlanta to Mobile AL and they did a good job.The movers packed up all my antiques properly and nothing was damaged I have lots of antiques and fragile collectibles to my surprise nothing was damaged or scratched! That is why I am writing this review, If you value your belongings and want to keep them in perfect condition use these nice young men.', 'reviewRating': {'@type': 'Rating', 'ratingValue': 5}, 'datePublished': '2016-10-02'}, {'@type': 'Review', 'itemReviewed': 'Angel Heart Movers', 'author': {'@type': 'Person', 'name': 'Steve P.'}, 'reviewBody': 'I\\'ve use Angel Heart on more than one occasion because of the quality, price, and reliability. And I can recommend to anyone that your furniture and \"stuff\" will be handled (and stored, like mine)properly. With David, it\\'s one less stressor during a move.', 'reviewRating': {'@type': 'Rating', 'ratingValue': 5}, 'datePublished': '2016-01-02'}, {'@type': 'Review', 'itemReviewed': 'Angel Heart Movers', 'author': {'@type': 'Person', 'name': 'Juvy P.'}, 'reviewBody': 'While trying to find a mover to assist an 85 year old client who had experienced a traumatic ordeal, I was lead to Mr. David at Angel Heart Movers. Mr. David, who was compassionate, caring and sympathetic was more than willing to assist my client and her family! I truly thank God for him and his staff for the AWESOME job they did in giving my client renewed hope in that no matter what....good triumphs over bad!', 'reviewRating': {'@type': 'Rating', 'ratingValue': 5}, 'datePublished': '2016-21-01'}, {'@type': 'Review', 'itemReviewed': 'Angel Heart Movers', 'author': {'@type': 'Person', 'name': 'Lo J.'}, 'reviewBody': 'I used Angel Heart Movers when I moved from New York to North Carolina. I was extremely apprehensive as I had called numerous moving companies to get quotes for the move and they appeared to be very shady. Lucky me, I found Angel heart movers. I found Mr. David to be such a gentleman. What he quoted to me was exactly what I paid. I found his workers to be extremely efficient and courteous. They took care with all of my belongings and wrapped and packed. I highly recommend ANGEL HEART MOVERS!!!!! They are truly the best in the business,......Mr. David, you are truly an ANGEL... Thank you!!!!', 'reviewRating': {'@type': 'Rating', 'ratingValue': 5}, 'datePublished': '2016-14-01'}, {'@type': 'Review', 'itemReviewed': 'Angel Heart Movers', 'author': {'@type': 'Person', 'name': 'Mike V.'}, 'reviewBody': \"Angel heart moved me from my 2 bed room apt in Atlanta to my condo in Miami. The movers were on time &amp; treated my belongings as if they were their own. On one occasion they found an old gold ring behind a dresser that I had lost for several months &amp; they were honest enough to let me know. The staff were friendly and hard working. I told them to watch the walls as my furniture is very expensive &amp; they ended up wrapping many pieces that didn't even need protection but it worked out. All of my furniture made it without being damaged &amp; my old apt was left spotless so I didn't have to end up wasting time painting &amp; paying damage fees. My unload was vitally important because we had to reserve the elevator at my new condo. Angel Heart Movers got there 15 minutes early &amp; finished unloading faster thank I expected. The value was good but the service was phenomenal. I would highly recommend them &amp; will use them in the future for sure.\", 'reviewRating': {'@type': 'Rating', 'ratingValue': 5}, 'datePublished': '2016-08-01'}, {'@type': 'Review', 'itemReviewed': 'Angel Heart Movers', 'author': {'@type': 'Person', 'name': 'R.a. L.'}, 'reviewBody': \"We had one item, a piano, to go from Atlanta, to Charleston. David piggybacked our delivery on one to Savannah to be more efficient (and cost effective) which we appreciated. I didn't tell him in advance that the Charleston house was one flight up, but managed without problem. Wrapped like a baby, no scratches. Recommend!\", 'reviewRating': {'@type': 'Rating', 'ratingValue': 5}, 'datePublished': '2015-18-12'}, {'@type': 'Review', 'itemReviewed': 'Angel Heart Movers', 'author': {'@type': 'Person', 'name': 'Willis H.'}, 'reviewBody': 'Angel Heart moved my law office for me and did a fantastic job. Quick, efficient and nothing broken! Recommend to anyone.', 'reviewRating': {'@type': 'Rating', 'ratingValue': 5}, 'datePublished': '2015-14-12'}], 'url': 'https://angelheartmovers.com', 'paymentAccepted': 'amex, cash, check, discover, master card, visa', 'email': 'mailto:angelheartmovers@yahoo.com'}\n",
      "{'@context': 'http://schema.org', '@type': 'http://schema.org/MovingCompany', '@id': '/atlanta-ga/mip/mark-the-mover-inc-18528618', 'name': 'Mark the Mover, Inc.', 'address': {'@type': 'PostalAddress', 'addressCountry': 'US', 'streetAddress': '1504 Carroll Dr NW', 'addressLocality': 'Atlanta', 'addressRegion': 'GA', 'postalCode': '30318'}, 'aggregateRating': {'@type': 'AggregateRating', 'ratingValue': 3.5, 'reviewCount': 3}, 'geo': {'@type': 'GeoCoordinates', 'latitude': 33.80234, 'longitude': -84.437}, 'telephone': '(404) 351-0018', 'openingHours': ['Mo-Fr 07:00-17:00', 'Sa 07:00-16:00'], 'image': {'@type': 'ImageObject', 'url': 'https://i1.ypcdn.com/ypu/images/default-thumbnails/thumbnail-1.svg?addecef'}, 'review': [{'@type': 'Review', 'itemReviewed': 'Mark the Mover, Inc.', 'author': {'@type': 'Person', 'name': 'Katherine S.'}, 'reviewBody': \"I used this company to move one bedroom set from my father's assisted living facility to my home. The distance from the facility to my home was about 13 miles. The total move consisted of a bed, a dresser, a side table, a bookcase, and two boxes. When I booked the move, they told me the hourly cost was $135. I told the sales rep that I estimated that it would take about 2 hours and he wrote 2-3 on the paperwork. However, they ended up taking more than 3 hours to complete the move and charged me $438. That's $438 to move a single set of bedroom furniture only about 13 miles. When I called to complain about the unexpected cost, they would not adjust the bill. I feel that a charge of more than $400 for such a small job is unacceptable and I told them I would not have used this company had thought the cost could be so high. By comparison, Peach Movers only charged me about $500 to move 3 rooms worth of furniture a few years ago. I would not recommend this company to anyone.\", 'reviewRating': {'@type': 'Rating', 'ratingValue': 1}, 'datePublished': '2016-04-12'}, {'@type': 'Review', 'itemReviewed': 'Mark the Mover, Inc.', 'author': {'@type': 'Person', 'name': 'justinwfrazier'}, 'reviewBody': 'I recently moved from Buckhead to Union City. From the first time I contacted them to they minute they completed my move, everyone was professional courteous and worked very hard to make this move as easy as possible for me. They went above and beyond what I expected and nothing was broken scratched etc. And thats saying alot since alot of my items are glass and highend wood items. Not even a nick on a wall..... You have to hire Mark the Movers if you want the best.', 'reviewRating': {'@type': 'Rating', 'ratingValue': 5}, 'datePublished': '2009-20-04'}, {'@type': 'Review', 'itemReviewed': 'Mark the Mover, Inc.', 'author': {'@type': 'Person', 'name': 'youcough'}, 'reviewBody': \"When I called, moving from Suwanee to Atlanta, I asked them why the other guys were cheaper.  They convinced me to go with four men instead of two, and I am so glad I took their advice.  The move went very well, my stuff was well taken care of, and I was able to get everything moved around in my new place, they were so good and willing, I made sure to give the lead man a tip, and he promptly split it with his guys.  They were so grateful, yet I was the one that was glad that I called Mark the Mover.  I am sure the other 'low-ball' company would have cost me more.  Highly recommended!\", 'reviewRating': {'@type': 'Rating', 'ratingValue': 5}, 'datePublished': '2008-07-07'}], 'url': 'http://www.markthemover.com', 'paymentAccepted': 'discover', 'email': 'mailto:customerservice@markthemover.com'}\n",
      "{'@context': 'http://schema.org', '@type': 'http://schema.org/MovingCompany', '@id': '/atlanta-ga/mip/b-b-movers-inc-16957190', 'name': 'B & B Movers, Inc.', 'address': {'@type': 'PostalAddress', 'addressCountry': 'US', 'streetAddress': '2587 Gresham Rd SE', 'addressLocality': 'Atlanta', 'addressRegion': 'GA', 'postalCode': '30316'}, 'aggregateRating': {'@type': 'AggregateRating', 'ratingValue': 5, 'reviewCount': 2}, 'geo': {'@type': 'GeoCoordinates', 'latitude': 33.71226, 'longitude': -84.310585}, 'telephone': '(404) 212-0819', 'openingHours': ['Mo-Fr 08:30-17:30', 'Sa 09:00-13:00'], 'image': {'@type': 'ImageObject', 'url': 'https://i1.ypcdn.com/ypu/images/default-thumbnails/thumbnail-1.svg?addecef'}, 'review': [{'@type': 'Review', 'itemReviewed': 'B & B Movers, Inc.', 'author': {'@type': 'Person', 'name': 'M T.'}, 'reviewBody': 'Wow! What a great moving experience I had with Jarvis, Jaqontice, Roderick and Gary! Professional, respectful, and prompt. I cannot imagine doing a move without such a great crew. B and B Movers are the company for you!', 'reviewRating': {'@type': 'Rating', 'ratingValue': 5}, 'datePublished': '2020-04-08'}, {'@type': 'Review', 'itemReviewed': 'B & B Movers, Inc.', 'author': {'@type': 'Person', 'name': 'Jeri B.'}, 'reviewBody': \"Excellent service!  Reasonable prices, on time, large truck so single trip.  Four men that hustled and had my entire house moved and finished within 2 hours.  They wrapped all furniture which I wasn't even expecting.  I would definitely use them again and would recommend to all of my friends!!\", 'reviewRating': {'@type': 'Rating', 'ratingValue': 5}, 'datePublished': '2014-30-10'}], 'paymentAccepted': 'discover, amex, mastercard', 'email': 'mailto:info@bbmovers.com'}\n",
      "{'@context': 'http://schema.org', '@type': 'http://schema.org/MovingCompany', '@id': '/atlanta-ga/mip/bekins-van-lines-459702392', 'name': 'Bekins Van Lines', 'address': {'@type': 'PostalAddress', 'addressCountry': 'US', 'streetAddress': '100 Piedmont Ct Ste B', 'addressLocality': 'Atlanta', 'addressRegion': 'GA', 'postalCode': '30340'}, 'geo': {'@type': 'GeoCoordinates', 'latitude': 33.909966, 'longitude': -84.23638}, 'telephone': '(770) 209-9300', 'image': {'@type': 'ImageObject', 'url': 'https://i1.ypcdn.com/ypu/images/default-thumbnails/thumbnail-1.svg?addecef'}, 'review': [], 'url': 'http://www.bekins.com', 'email': 'mailto:jmcconnell@bekinsa1.com'}\n",
      "{'@context': 'http://schema.org', '@type': 'http://schema.org/MovingCompany', '@id': '/atlanta-ga/mip/next-door-relocators-532607128', 'name': 'Next Door Relocators', 'address': {'@type': 'PostalAddress', 'addressCountry': 'US', 'streetAddress': '4780 Ashford Dunwoody Rd Ste A299', 'addressLocality': 'Atlanta', 'addressRegion': 'GA', 'postalCode': '30338'}, 'aggregateRating': {'@type': 'AggregateRating', 'ratingValue': 5, 'reviewCount': 12}, 'geo': {'@type': 'GeoCoordinates', 'latitude': 33.93512, 'longitude': -84.33804}, 'telephone': '(470) 273-3718', 'openingHours': ['Mo-Sa 08:00-18:00', 'Su 10:00-15:00'], 'image': {'@type': 'ImageObject', 'url': 'https://i1.ypcdn.com/ypu/images/default-thumbnails/thumbnail-1.svg?addecef'}, 'review': [{'@type': 'Review', 'itemReviewed': 'Next Door Relocators', 'author': {'@type': 'Person', 'name': 'Nina N.'}, 'reviewBody': 'Hello Customers for Next Door Relocators (past, present, and future): Accept this as a partial review: As this star rating states here at Yelp . . . \"Better than most.\"  And I truly mean that statement.  Nope, I\\'ve not used this moving service yet. However, I\\'m moving within the next month or so and have been seeking out various companies for this purpose. Something to know about me . . . When I\\'m taking on a company for a particular project, I like to do a bit of research about its operating procedures; particularly, before embarking into a bonding business venture. In spite of the not-so-good comments about this company\\'s business practices, I\\'ve just committed to utilizing their services (via paying a deposit for moving).  I\\'ve been communicating with the manager to prepare this move. Thus far, it has been a very promising situation and an amazingly smooth experience (through our communication).  I will give you updated details once it\\'s finalized and completed. Again, consider this a partial review.  I\\'m looking to increase those 4-stars to the maximum they can receive once this is a done deal. Often times there are reasons why one may feel a need to downgrade another\\'s ratings.  For one, perhaps, they didn\\'t get that \"free\" move they were looking for, among other factor.  These days, there is nothing in life that\\'s F-R-E-E.  Expect  updated details and ratings after moving.Potential Customer Moving from Mableton, GA to Acworth, GA', 'reviewRating': {'@type': 'Rating', 'ratingValue': 4}, 'datePublished': '2020-22-07'}, {'@type': 'Review', 'itemReviewed': 'Next Door Relocators', 'author': {'@type': 'Person', 'name': 'Tybie H.'}, 'reviewBody': 'We moved a child off to school and boy did these guys make it effortless. Moving is never fun but they were courteous, on time, and they worked fast. We highly recommend there services and will use them again for a larger move. No complaints...grateful for their help.  Thanks!', 'reviewRating': {'@type': 'Rating', 'ratingValue': 5}, 'datePublished': '2019-11-09'}, {'@type': 'Review', 'itemReviewed': 'Next Door Relocators', 'author': {'@type': 'Person', 'name': 'Keen D.'}, 'reviewBody': 'Great Company. Expert communication from the very beginning NDR of the first pone call with Scott, handled professionally. The movers were very careful and took care with all ítems to be moved. It was a hard work which was very appreciated.', 'reviewRating': {'@type': 'Rating', 'ratingValue': 5}, 'datePublished': '2019-04-09'}, {'@type': 'Review', 'itemReviewed': 'Next Door Relocators', 'author': {'@type': 'Person', 'name': 'Asav B.'}, 'reviewBody': 'My husband had a large piece of equipment that most moving companies could not move. Next Door Relocators moved my equipment without any problems. I plan on using them in the future!', 'reviewRating': {'@type': 'Rating', 'ratingValue': 5}, 'datePublished': '2019-14-08'}, {'@type': 'Review', 'itemReviewed': 'Next Door Relocators', 'author': {'@type': 'Person', 'name': 'Lulu H.'}, 'reviewBody': \"We hired Next Door to move from my apartment into a house about 15 minutes away. The 2 guys (Patrick and Jorge) that came were extremely nice, punctual and communicative. I was in my apartment the entire time they were packing everything up and they were very thorough and efficient in wrapping all of my furniture. I had some clothes in my closet I hadn't boxed so I was going to just take them later in my car but Patrick boxed them for me (and nicely!) When they got to our house they practically ran up and down the stairs - I told them to slow down because that looked exhausting haha. My furniture is oversized and most movers have struggled with it but they managed it very well and without complaint. They had me walk through the house and check out the furniture when they were done to ensure I was satisfied. I was! Awesome job.\", 'reviewRating': {'@type': 'Rating', 'ratingValue': 5}, 'datePublished': '2019-31-07'}, {'@type': 'Review', 'itemReviewed': 'Next Door Relocators', 'author': {'@type': 'Person', 'name': 'Morri S.'}, 'reviewBody': 'I was looking for an affordable but quality moving company. Next Door has been around for 12 years. They provided an estimate that was very accurate. Their crew was professional and polite, and worked fast. And that helps since the move is based on time spent. Clean truck, packed it very methodically. I would hire them again. Their price was lower than those you see advertised on TV while still giving me good service. Good communicators while on the site.', 'reviewRating': {'@type': 'Rating', 'ratingValue': 5}, 'datePublished': '2019-10-07'}, {'@type': 'Review', 'itemReviewed': 'Next Door Relocators', 'author': {'@type': 'Person', 'name': 'Rei B.'}, 'reviewBody': 'Excellent work from movers:  professional, punctual, efficient, very friendly and dependable.  Really good work!', 'reviewRating': {'@type': 'Rating', 'ratingValue': 5}, 'datePublished': '2019-19-06'}, {'@type': 'Review', 'itemReviewed': 'Next Door Relocators', 'author': {'@type': 'Person', 'name': 'Garth M.'}, 'reviewBody': \"I've used Next Door Relocators on 3 separate occasions. All 3 times they have shown up on time with a very friendly attitude. They disassembled everything that needed to be and padded and taped securely. In 3 moves nothing was damaged. They worked late to get the job done. Everything was reassembled and placed to our satisfaction. The price was in line with the quote I had been given beforehand. Will use them again next time\", 'reviewRating': {'@type': 'Rating', 'ratingValue': 5}, 'datePublished': '2019-12-06'}, {'@type': 'Review', 'itemReviewed': 'Next Door Relocators', 'author': {'@type': 'Person', 'name': 'Jatin B.'}, 'reviewBody': \"We moved from Johns Creek to the Milton area and used Next Door Relocators for our move. The experience was a great one (as much as moving can be!) due to the professionalism of this company.Michael came to the house to provide an estimate; Jazmin helped us coordinate and schedule the move (and followed up very nicely before the moving date); and 5 large, muscular and polite guys made it all work.This was a 2-day move with 4, 26ft truckloads so you can imagine how much packing and moving of heavy furniture, electronics, wine, etc. was involved. The movers (Mike, Jorge, King and the rest) all did a wonderful job of disassembling, packing, moving and reassembling our things. What a long two days it was, but this moving crew made it work out really well!!I have already recommended this company to friends who are moving later this month. I'd suggest you give them a call.\", 'reviewRating': {'@type': 'Rating', 'ratingValue': 5}, 'datePublished': '2019-15-05'}, {'@type': 'Review', 'itemReviewed': 'Next Door Relocators', 'author': {'@type': 'Person', 'name': 'Traci B.'}, 'reviewBody': \"I hired Next Door Relocators to move me to my new house. The office manager Amber was very knowledgeable and helpful with setting up the move. Carponi, Trevor, and Carlos did a great job and were very careful with my belongings. In the end I'm glad I hired them.\", 'reviewRating': {'@type': 'Rating', 'ratingValue': 5}, 'datePublished': '2019-08-05'}, {'@type': 'Review', 'itemReviewed': 'Next Door Relocators', 'author': {'@type': 'Person', 'name': 'Annabell H.'}, 'reviewBody': 'I called Next Door Relocaters the afternoon before I needed them for a local move and both Scott and Michael were very helpful in getting me the detailed quote and the required  insurance paperwork to make it happen.   Due to the circumstances of my move, they sent a supervisor along with the guys who arrived on time and ready to go. The fees for their service were reasonable, and  I am very happy with the service I received and will definitely consider using them again.', 'reviewRating': {'@type': 'Rating', 'ratingValue': 5}, 'datePublished': '2019-01-05'}, {'@type': 'Review', 'itemReviewed': 'Next Door Relocators', 'author': {'@type': 'Person', 'name': 'Baln B.'}, 'reviewBody': 'Moving is never easy, and these guys make it look look real simple, with all the furniture we had, we had no incidents, the guys did a great job, all of them, Patrick, Eric, Anthony and Terrell were fantastic and worked real hard to get us into our new home!!!', 'reviewRating': {'@type': 'Rating', 'ratingValue': 5}, 'datePublished': '2019-24-04'}], 'url': 'http://www.nextdoorrelocators.com', 'paymentAccepted': 'all major credit cards', 'location': {'@type': 'Place', 'description': 'Ashford Place'}, 'email': 'mailto:nextdoorrelocators@gmail.com'}\n",
      "{'@context': 'http://schema.org', '@type': 'http://schema.org/MovingCompany', '@id': '/atlanta-ga/mip/two-men-and-a-truck-474169950', 'name': 'Two Men And A Truck', 'address': {'@type': 'PostalAddress', 'addressCountry': 'US', 'streetAddress': '3450 Buffington Ctr Ste D', 'addressLocality': 'Atlanta', 'addressRegion': 'GA', 'postalCode': '30349'}, 'aggregateRating': {'@type': 'AggregateRating', 'ratingValue': 5, 'reviewCount': 8}, 'geo': {'@type': 'GeoCoordinates', 'latitude': 33.616306, 'longitude': -84.502525}, 'telephone': '(770) 631-6683', 'openingHours': ['Mo-Fr 08:00-17:30', 'Sa 08:00-12:30'], 'image': {'@type': 'ImageObject', 'url': 'https://i1.ypcdn.com/ypu/images/default-thumbnails/thumbnail-1.svg?addecef'}, 'review': [{'@type': 'Review', 'itemReviewed': 'Two Men And A Truck', 'author': {'@type': 'Person', 'name': 'Steven M.'}, 'reviewBody': 'These guys did a wonderful job, very courteous and hard working, I will definitely use uiir service again when the need arrives.', 'reviewRating': {'@type': 'Rating', 'ratingValue': 5}, 'datePublished': '2020-27-04'}, {'@type': 'Review', 'itemReviewed': 'Two Men And A Truck', 'author': {'@type': 'Person', 'name': 'Ann A.'}, 'reviewBody': 'We were pleased in every way with this move.  The guys were on time, worked quickly and efficiently.  They were courteous and careful as they worked.  They checked pre-move and at completion to make sure we were satisfied.  We recommend this company with no reservations.', 'reviewRating': {'@type': 'Rating', 'ratingValue': 5}, 'datePublished': '2017-04-07'}, {'@type': 'Review', 'itemReviewed': 'Two Men And A Truck', 'author': {'@type': 'Person', 'name': 'Corlette O.'}, 'reviewBody': 'The movers were on time and very professional throughout the process.  Calvin &amp; Que were perfect gentlemen and assessed the home prior to and after the move to ensure our expectations were met. The whole time they treated my move as if it was there own. Thank you for a job well done. I would definitely recommend the company to anyone.', 'reviewRating': {'@type': 'Rating', 'ratingValue': 5}, 'datePublished': '2016-02-12'}, {'@type': 'Review', 'itemReviewed': 'Two Men And A Truck', 'author': {'@type': 'Person', 'name': 'Rosanna D.'}, 'reviewBody': \"I was given a window of 1.5 hrs.  The movers called me about an hour before the window to let me know their first job was running a bit late.  They were still going to get there within the arrival window.  Even with this-  they actually arrived on time..... which was a huge + for them.  I really appreciated the fact that they were conscientious enough to call me of potential time issues.  The actual move couldn't have been smoother.  It was a divorce situation.... the movers were professional, quick, and helpful.  They went above and beyond to remove the stress from this situation.  They were quick, but precise.  There were no damages at all.  I will be using this team (or at least requesting them!!) for future moves-- and I will be combing at least 2 other houses in a few months-- they will be called first.\", 'reviewRating': {'@type': 'Rating', 'ratingValue': 5}, 'datePublished': '2016-15-10'}, {'@type': 'Review', 'itemReviewed': 'Two Men And A Truck', 'author': {'@type': 'Person', 'name': 'Angela R.'}, 'reviewBody': 'My movers arrived right on time, at the beginning of the start time window. Had sooo many packing blankets and did an amazing job protecting my furniture. They even transported some antique pieces with extra care and had zero problem with the stairs. They were definitely worth the extra money compared to a \"local\" company to me, as they did not stop moving the entire time and treated my items with the best of care.', 'reviewRating': {'@type': 'Rating', 'ratingValue': 5}, 'datePublished': '2016-06-09'}, {'@type': 'Review', 'itemReviewed': 'Two Men And A Truck', 'author': {'@type': 'Person', 'name': 'Deborah M.'}, 'reviewBody': 'Our movers were very patient, polite and professional. It was a pleasure working with them. We would definitely recommend Two Men and a Truck.', 'reviewRating': {'@type': 'Rating', 'ratingValue': 5}, 'datePublished': '2016-03-08'}, {'@type': 'Review', 'itemReviewed': 'Two Men And A Truck', 'author': {'@type': 'Person', 'name': 'Malaka G.'}, 'reviewBody': 'The mover was very professional on time and did an excellent job!!!!������������ I will be recommending this company to friends and family. Thank u so much for a job well done', 'reviewRating': {'@type': 'Rating', 'ratingValue': 5}, 'datePublished': '2016-02-08'}, {'@type': 'Review', 'itemReviewed': 'Two Men And A Truck', 'author': {'@type': 'Person', 'name': 'Diana M.'}, 'reviewBody': \"Excellent, quick service! I have used other moving companies, and they don't come close to the professionalism shown by Two Men and a Truck!I will definately recommend them and plan on using them for any subsequent moves !\", 'reviewRating': {'@type': 'Rating', 'ratingValue': 5}, 'datePublished': '2016-06-06'}], 'url': 'https://twomenandatruck.com/locations/ga/atlanta/peach-tree-city', 'paymentAccepted': 'all major credit cards, amex, discover, master card, visa', 'email': 'mailto:dana.ozee@twomen.com'}\n",
      "{'@context': 'http://schema.org', '@type': 'http://schema.org/MovingCompany', '@id': '/atlanta-ga/mip/truck-and-i-inc-461335878', 'name': 'Truck and I, Inc', 'address': {'@type': 'PostalAddress', 'addressCountry': 'US', 'streetAddress': '1401 Hills Pl NW', 'addressLocality': 'Atlanta', 'addressRegion': 'GA', 'postalCode': '30318'}, 'aggregateRating': {'@type': 'AggregateRating', 'ratingValue': 5, 'reviewCount': 2}, 'geo': {'@type': 'GeoCoordinates', 'latitude': 33.812077, 'longitude': -84.43345}, 'telephone': '(404) 355-5151', 'openingHours': ['Mo-Fr 08:00-17:00', 'Sa 08:00-10:30'], 'image': {'@type': 'ImageObject', 'url': 'https://i1.ypcdn.com/ypu/images/default-thumbnails/thumbnail-1.svg?addecef'}, 'review': [{'@type': 'Review', 'itemReviewed': 'Truck and I, Inc', 'author': {'@type': 'Person', 'name': 'Juliana M.'}, 'reviewBody': 'Truck and I did an amazing job moving us into our home! They called before they showed up to let me know what time their gps showed them getting there and let me ask any questions I had. They were extremely professional, polite, helpful and VERY careful with all of our belongings. They even wrapped our front door entrance with blankets and covered our stairs and hallways to not track in dirt. I am extremely pleased with my experience and will definitely use them again and recommend them to anyone! Thank you Truck and I for making our move smooth sailing!!', 'reviewRating': {'@type': 'Rating', 'ratingValue': 5}, 'datePublished': '2020-15-01'}, {'@type': 'Review', 'itemReviewed': 'Truck and I, Inc', 'author': {'@type': 'Person', 'name': 'Hanna L.'}, 'reviewBody': 'I have moved multiple times in the last few years and used Truck and I for every move due to my positive experiences.  Each crew has arrived on time, been courteous and I have never had any issues with my moves.  For my latest move, I underestimated the amount of items I had and requested two men instead of three men as they recommended.  The job took longer as a result of my miscalculation, but Julio and Luis worked diligently to to get it done quickly while taking care of my belongings. They were friendly, patient and professional, and made the moving process as painless as possible.', 'reviewRating': {'@type': 'Rating', 'ratingValue': 5}, 'datePublished': '2016-04-06'}], 'url': 'http://www.truckandi.com', 'paymentAccepted': 'amex, discover, master card, visa, cash, check, all major credit cards', 'email': 'mailto:Urrea.Carlos@truckandi.com'}\n",
      "{'@context': 'http://schema.org', '@type': 'http://schema.org/MovingCompany', '@id': '/atlanta-ga/mip/5-star-movers-496500091', 'name': '5 Star Movers', 'address': {'@type': 'PostalAddress', 'addressCountry': 'US', 'streetAddress': '5750 Buffington Rd', 'addressLocality': 'Atlanta', 'addressRegion': 'GA', 'postalCode': '30349'}, 'aggregateRating': {'@type': 'AggregateRating', 'ratingValue': 2, 'reviewCount': 12}, 'geo': {'@type': 'GeoCoordinates', 'latitude': 33.597946, 'longitude': -84.49824}, 'telephone': '(678) 681-4266', 'openingHours': ['Mo-Su 07:00-19:00'], 'image': {'@type': 'ImageObject', 'url': 'https://i1.ypcdn.com/ypu/images/default-thumbnails/thumbnail-1.svg?addecef'}, 'review': [{'@type': 'Review', 'itemReviewed': '5 Star Movers', 'author': {'@type': 'Person', 'name': 'Catrina S.'}, 'reviewBody': 'NOT RELIABLEPlease do not use this moving company.  I bought a deal on LivingSocial for $290 which included 3 movers and a truck for 4 hours.  Before I bought the deal, I called the company to make sure they had an opening for 10/4/2014.  I bought the deal on 9/12/2014.  On 9/30/2014,  I received a call to confirm my appointment.  At 8:15 am on 10/4/2014, I received a call stating their truck broke down the night before and they would be renting a truck and would be late.  1 hour, 2 hours, 3 hours later - nothing.  I called, my husband called - total of about 35 times - no answer and the voicemail was full. They NEVER called back and they NEVER showed up!!!  We were left in a lurch on a Saturday afternoon with no other moving companies available.  We had wait until 3:00 pm on Sunday on another moving company before we could move.    In this instance, communication was the key.  They did not stay in contact with us and they never showed.  They did not conduct themselves in a professional manner.  DO NOT use them.  You will be left out in the cold with no coat!!!!', 'reviewRating': {'@type': 'Rating', 'ratingValue': 1}, 'datePublished': '2017-25-03'}, {'@type': 'Review', 'itemReviewed': '5 Star Movers', 'author': {'@type': 'Person', 'name': 'Tiffany W.'}, 'reviewBody': 'VERY, VERY bad experience with this company.  Not only did the movers try to hustle me for an extra hour (and after calling the owner found out it was only supposed to be charged in half hour increments) but they also broke two items (one which was a mirrored nightstand).  Gave the movers a tip even though they did not deserve it based on the little hustle they pulled at the end but to add insult to injury, they never said thank you.  When I confronted them about charging me for an extra hour, they went on about being paid $10 an hour which had NOTHING to do with me.   I called the owner (Allen) to complain, got his voicemail and he NEVER returned my calls.  Do yourself a favor, DO NOT USE THIS COMPANY!  It is not worth the headache.  Cheap labor almost always equals bad service.  It absolutely does in this case.', 'reviewRating': {'@type': 'Rating', 'ratingValue': 1}, 'datePublished': '2015-17-05'}, {'@type': 'Review', 'itemReviewed': '5 Star Movers', 'author': {'@type': 'Person', 'name': 'Tiger O.'}, 'reviewBody': \"WORST MOVE EVER.Had move scheduled for 9-11a on 11/29/14. Confirmed on 11/28 everything was good. At 830a get a call that their truck had broken down and they needed to rent another and they would call me back. No call back. Call them again twice and same story. Keep calling with no answer. Finally someone named Waylan calls me back and says they have been assigned the job and will be there at 2p. call at 130p to confirm and he says one of his guys injured his leg on ramp and they are waiting on someone else to show up to finish job and he would call me back. no call back. keep calling and they said they have the guy and are almost done, will call me. no call back. I keep calling and no answer to any of the numbers. we ended up renting our on uhaul and moving everything that night. TERRIBLE experience. we could have had everything moved that morning but instead were strung along. Living Social credited it and guy apologized afterwards and said he was out of town and his brother was handling things. offered to drop off gift card on 12/1. checked on it a week later and still hasn't shown up. Biggest group of liars I've ever dealt with.\", 'reviewRating': {'@type': 'Rating', 'ratingValue': 1}, 'datePublished': '2014-15-12'}, {'@type': 'Review', 'itemReviewed': '5 Star Movers', 'author': {'@type': 'Person', 'name': 'Paula H.'}, 'reviewBody': 'HORRIBLE!!!! They did not show for their appointment and ended up costing me more money!! DO NOT USE!!!!!!!!!!!!!! Never heard from them even when they confirmed the appointment!!!!! BEWARE', 'reviewRating': {'@type': 'Rating', 'ratingValue': 1}, 'datePublished': '2014-14-12'}, {'@type': 'Review', 'itemReviewed': '5 Star Movers', 'author': {'@type': 'Person', 'name': 'Tammy U.'}, 'reviewBody': \"HORRIBLE.  Contacted them for available date because of the living social deal.  Of course they offered to do our move outside the deal.  BIG MISTAKE.  They RUINED two brand new mattress sets, AND put dozens of dents in my washer/dryer.  Promised to send someone to repair the gouges out of our dressers and an insurance adjuster for the rest.  Now, no responses and won't answer our calls.  I'm calling an attorney.\", 'reviewRating': {'@type': 'Rating', 'ratingValue': 1}, 'datePublished': '2014-13-11'}, {'@type': 'Review', 'itemReviewed': '5 Star Movers', 'author': {'@type': 'Person', 'name': 'Erin W.'}, 'reviewBody': \"HAVE NEVER BEEN THROUGH A MORE HORRIFIC MOVE IN OUR LIVES IN CHARLOTTE, NC ON 2 DAY MOVE ON 10/23/14 &amp; 10/24/14 WITH THIS ATROCIOUS COMPANY CALLING THEMSELVES A MOVING COMPANY!!!! DO NOT USE THIS ?? COMPANY - CHARLOTTE, NC!! CALLED CHARLES GAVNER/ SUPPOSED TO BE OWNER &amp; BECAUSE ON LIVING SOCIAL SET UP 2 DAY MOVE W/HIM &amp; HE STATE W/LARGE MOVE LET'S NOT USE THE LIVING SOCIAL PRICES &amp; AGREED ON 1,200.00 FOR 2 DAY W/6 MEN &amp; 2 TRUCKS (24 FT+ × 2 EACH DAY OF MOVE!) I WROTE EVERYONE WORD &amp; COMPLETE TOTALLY VERBAL AGREED UPON VERBAL CONTACT &amp; ASKED HIM TO FAX WRITTEN AGREED ON CONTRACT TO US WITH ALL MOVE INFO INCLUDING $1200.00 TOTAL &amp; STATING 6 MEN AND 2 24 FOOT TRUCKS AND JOB TO BE DONE BY HOW EVERYDAY LONG EACH DAY (MOVE 2 GARAGES 1ST DAY W/2 TRUCKS/6 MEN TO 2 GARAGES AT NEW APT TO BE MOVED ON 1ST DAY &amp; FIRST FLOOR LARGE 2 BDRM APT TO LARGE 2 BDRM ON 2ND DAY W/6 MEN AND 2 TRUCKS ON 2ND DAY -WE DID NOT EVERYONE RECEIVE FAX OR PHONE CALLS BACK &amp; COULD NEVER GET AHOLD OF HIM &amp; VOICEMAIL ALWAYS FULL SO FINALLY HE CALLED BACK TO CONFIRM JOB &amp; I SAID NO FAX OR CONTRACT AND FOR TO CANCEL JOB &amp; HE WAS RUDE AND STATE CHANGING AGREEMENT AND WE SAID CANCEL JOB THIS HAPPENED A FEW DAYS BEFORE MOVE SO HAD PARTNER CURTIS ROSEN BOROUGH CALL TO SAVE JOB &amp; HE CALLED AND WAS SO NICE &amp; APOLOGIZED FOR RUDENESS &amp; LIES OF OWNER &amp; PROMISED ALL VERBAL AGREEMENT WOULD ABSOLUTELY BE HONORED W/EVERYTHING ORIGINALLY AGREED ON AND UNDERSTAND TERRIBLE STRESS OF HUSBAND WITH CANCER &amp; SURGERY COMPANY UP AND VERY SICK FATHER TRUStED THAT HE WAS BEING HONEST SAID OK! AND MOVE WAS A TOTAL DISASTER! SHOWED UP W/1 TRUCKS BOTH DAYS AFTER LIES FROM BOTH MEN &amp; 5 MEN 1ST DAY - MY HUSBAND HAD TO HANDLE GARAGES BEING MOVED 1ST DAY DUE TO ME BEING SICK &amp; HE IS DISABLED AND THEY TOOK TOTAL ADVANTAGE OF HIM &amp; JUST PUT STUFF EVERYONE DID NOT WRAP GOOD, EXPENSIVE FURN &amp; WE HAVE FOUND SO MUCH DAY AGE NOW &amp; 2ND DAY MOVE TOTAL DISASTER WORD THAT FIRST DAY &amp; THEY WE'RE ALSO TO BE PACKING REST OF THINGS THAT NEEDED TO BE PACKED AT LAST MINUTE (IE:AEDROOM\", 'reviewRating': {'@type': 'Rating', 'ratingValue': 1}, 'datePublished': '2014-10-11'}, {'@type': 'Review', 'itemReviewed': '5 Star Movers', 'author': {'@type': 'Person', 'name': 'Roger A.'}, 'reviewBody': \"I bought a deal on Living Social with these guys for two hours of moving for about $130. When I got ready to move I called and set up an appointment for two days later. When the time came I called to verify and they claimed they were running about 15-20 min late. Three hours later I still had not heard nor seen them. Thirty phone calls later, still no answer. After threatening to sue for lost wages they returned my message and promised to try again the next day. Once again the day came and they never showed up. It's been a week and no word. After seeing the other terrible reviews I'm beginning to believe they aren't even a real company and Living Social is only giving me credit to their site in return. Waste of $130 and a vacation day for work. I hope these bastards get what's coming to them. Please avoid them at all costs. Learn from my mistake.\", 'reviewRating': {'@type': 'Rating', 'ratingValue': 1}, 'datePublished': '2014-06-11'}, {'@type': 'Review', 'itemReviewed': '5 Star Movers', 'author': {'@type': 'Person', 'name': 'Megan D.'}, 'reviewBody': \"I guess I should have read the other reviews online before buying this LivingSocial deal bc it looks like I'm not the only one that got scammed. Their tactic seems to be to schedule an appt then say they're running late and never show up. I took off two days of work when they promised they'd show up after bailing on me the first day. They conveniently don't answer when they don't show so I never heard from them again. Wasted $150 and was forced to move myself to a third floor apt. They should be shut down.DO NOT USE! SCAM!!\", 'reviewRating': {'@type': 'Rating', 'ratingValue': 1}, 'datePublished': '2014-06-11'}, {'@type': 'Review', 'itemReviewed': '5 Star Movers', 'author': {'@type': 'Person', 'name': 'Olga R.'}, 'reviewBody': \"These guys helped us with our move last weekend. They worked very fast and everything was loaded/unloaded pretty quickly. All the furniture and bulky items such as TVs were wrapped by them in blankets and/or plastic, the truck was clean. Wouldn't notice any damage so far! Thanks for the great work!\", 'reviewRating': {'@type': 'Rating', 'ratingValue': 5}, 'datePublished': '2014-15-10'}, {'@type': 'Review', 'itemReviewed': '5 Star Movers', 'author': {'@type': 'Person', 'name': 'Shakira W.'}, 'reviewBody': 'This was the best experience our family has encountered with a moving company. These guys were very professional, on time, and careful with our furniture. We did not experience any damages and we are HIGHLY recommending anyone in need of moving to use these guys!', 'reviewRating': {'@type': 'Rating', 'ratingValue': 5}, 'datePublished': '2014-08-10'}, {'@type': 'Review', 'itemReviewed': '5 Star Movers', 'author': {'@type': 'Person', 'name': 'Lauren O.'}, 'reviewBody': 'Absolutely do not give one dime to this company. I paid over $100 for 2 hours of moving services through a deal with Living Social. I scheduled my appointment almost a month in advance and was given a window of 1-2pm for my movers arrival. 2pm I called and was assured everything was on track but they were running a little behind schedule. 3:30pm I am again assured everything is ok and they are wrapping up at the previous stop. 5:30 I call again....crickets. They will not respond to my NUMEROUS phone calls. Left me high and dry on a Saturday evening with zero options. I have never dealt with a more unprofessional company in my entire life. DO NOT USE this company, even in desperation. They will ruin your move without the decency to call to let you know. Absolutely unbelievable. I will not stop until Charlotte and surrounding areas have received the message that this is 100% a scam.', 'reviewRating': {'@type': 'Rating', 'ratingValue': 1}, 'datePublished': '2014-28-09'}, {'@type': 'Review', 'itemReviewed': '5 Star Movers', 'author': {'@type': 'Person', 'name': 'John R.'}, 'reviewBody': 'Moved my 1-bedroom apartment in less than three hours; 3rd floor to 3rd floor.  Quick, professional, no damages, and a great value.  Highly recommend!', 'reviewRating': {'@type': 'Rating', 'ratingValue': 5}, 'datePublished': '2014-20-08'}], 'email': 'mailto:fivestarmoversatl@yahoo.com'}\n",
      "{'@context': 'http://schema.org', '@type': 'http://schema.org/MovingCompany', '@id': '/atlanta-ga/mip/blitz-moving-services-inc-454050726', 'name': 'Blitz Moving Services Inc', 'address': {'@type': 'PostalAddress', 'addressCountry': 'US', 'streetAddress': '1718 Sandtown Rd SW', 'addressLocality': 'Atlanta', 'addressRegion': 'GA', 'postalCode': '30311'}, 'aggregateRating': {'@type': 'AggregateRating', 'ratingValue': 5, 'reviewCount': 1}, 'geo': {'@type': 'GeoCoordinates', 'latitude': 33.717182, 'longitude': -84.444725}, 'telephone': '(404) 659-7974', 'openingHours': ['Mo-Su'], 'image': {'@type': 'ImageObject', 'url': 'https://i1.ypcdn.com/blob/f169a2248cce2f55df1085107401988ac5dd69d8', 'contentUrl': 'https://i1.ypcdn.com/blob/f169a2248cce2f55df1085107401988ac5dd69d8', 'thumbnailUrl': 'https://i1.ypcdn.com/blob/f169a2248cce2f55df1085107401988ac5dd69d8_400x260_crop.jpg'}, 'review': [{'@type': 'Review', 'itemReviewed': 'Blitz Moving Services Inc', 'author': {'@type': 'Person', 'name': 'Ian B.'}, 'reviewBody': \"These guys are the best movers I've ever had. Punctual, professional, efficient, and last but not least, reasonably priced. Finished an in-town move (1bd) in 3 hours. Will definitely hire again.\", 'reviewRating': {'@type': 'Rating', 'ratingValue': 5}, 'datePublished': '2018-05-05'}], 'url': 'http://www.blitzmovingservices.com', 'paymentAccepted': 'no credit cards', 'email': 'mailto:blitz_movers@yahoo.com'}\n",
      "{'@context': 'http://schema.org', '@type': 'http://schema.org/MovingCompany', '@id': '/atlanta-ga/mip/1866umoving-460722101', 'name': '1866UMoving', 'address': {'@type': 'PostalAddress', 'addressCountry': 'US', 'streetAddress': '1874 Piedmont Ave NE Ste 305-c', 'addressLocality': 'Atlanta', 'addressRegion': 'GA', 'postalCode': '30324'}, 'aggregateRating': {'@type': 'AggregateRating', 'ratingValue': 5, 'reviewCount': 1}, 'geo': {'@type': 'GeoCoordinates', 'latitude': 33.80757, 'longitude': -84.36661}, 'telephone': '(770) 458-0500', 'openingHours': ['Mo-Fr 09:00-19:00'], 'image': {'@type': 'ImageObject', 'url': 'https://i1.ypcdn.com/ypu/images/default-thumbnails/thumbnail-1.svg?addecef'}, 'review': [{'@type': 'Review', 'itemReviewed': '1866UMoving', 'author': {'@type': 'Person', 'name': 'stedk21'}, 'reviewBody': 'We called 1866 to get a quote for our move to macon.  They wanted to do an estimate at our house rather than over the phone which we liked.  The price for our move was just about what we though it would cost and the movers were very easy to deal with and they really worked hard to get us moved.  They did put a small chip in the wall of the house we moved out of but they sent some one out to fix it with in a week of the move.  Over all we were very happy', 'reviewRating': {'@type': 'Rating', 'ratingValue': 5}, 'datePublished': '2010-22-12'}], 'paymentAccepted': 'amex, debit, discover, master card, visa, all major credit cards', 'location': {'@type': 'Place', 'description': 'Piedmont Pointe'}, 'email': 'mailto:sales@1866umoving.com'}\n",
      "{'@context': 'http://schema.org', '@type': 'http://schema.org/MovingCompany', '@id': '/atlanta-ga/mip/bulldog-movers-480197649', 'name': 'Bulldog Movers', 'address': {'@type': 'PostalAddress', 'addressCountry': 'US', 'streetAddress': '4194 Northeast Expy', 'addressLocality': 'Atlanta', 'addressRegion': 'GA', 'postalCode': '30340'}, 'aggregateRating': {'@type': 'AggregateRating', 'ratingValue': 5, 'reviewCount': 1}, 'geo': {'@type': 'GeoCoordinates', 'latitude': 33.895264, 'longitude': -84.25484}, 'telephone': '(770) 333-8100', 'openingHours': ['Mo-Fr 08:00-18:00', 'Sa 08:00-12:00'], 'image': {'@type': 'ImageObject', 'url': 'https://i1.ypcdn.com/ypu/images/default-thumbnails/thumbnail-1.svg?addecef'}, 'review': [{'@type': 'Review', 'itemReviewed': 'Bulldog Movers', 'author': {'@type': 'Person', 'name': 'Jan D.'}, 'reviewBody': 'Showed up on time, loaded quickly and efficiently, unloaded just as quickly and efficiently. Nothing broken, reasonable costs.', 'reviewRating': {'@type': 'Rating', 'ratingValue': 5}, 'datePublished': '2017-22-08'}], 'url': 'http://www.bulldogmovers.net', 'paymentAccepted': 'amex, discover, master card, visa, all major credit cards', 'email': 'mailto:Reuben@bulldogmovers.com'}\n",
      "{'@context': 'http://schema.org', '@type': 'http://schema.org/MovingCompany', '@id': '/atlanta-ga/mip/f-t-affordable-movers-6393639', 'name': 'F & T Affordable Movers', 'address': {'@type': 'PostalAddress', 'addressCountry': 'US', 'streetAddress': '8601 Roberts Dr', 'addressLocality': 'Atlanta', 'addressRegion': 'GA', 'postalCode': '30350'}, 'aggregateRating': {'@type': 'AggregateRating', 'ratingValue': 5, 'reviewCount': 1}, 'geo': {'@type': 'GeoCoordinates', 'latitude': 33.99216, 'longitude': -84.33665}, 'telephone': '(678) 558-4910', 'openingHours': ['Mo-Su'], 'image': {'@type': 'ImageObject', 'url': 'https://i1.ypcdn.com/ypu/images/default-thumbnails/thumbnail-1.svg?addecef'}, 'review': [{'@type': 'Review', 'itemReviewed': 'F & T Affordable Movers', 'author': {'@type': 'Person', 'name': 'marrylady35'}, 'reviewBody': 'These movers was superb. From the start of booking to the end of delivery. Glad i picked this company.', 'reviewRating': {'@type': 'Rating', 'ratingValue': 5}, 'datePublished': '2014-02-01'}], 'paymentAccepted': 'cash, debit, discover, master card, visa', 'email': 'mailto:f_taffordablemovers@yahoo.com'}\n",
      "{'@context': 'http://schema.org', '@type': 'http://schema.org/MovingCompany', '@id': '/atlanta-ga/mip/mack-relocation-services-inc-22149735', 'name': 'Mack Relocation Services, Inc', 'address': {'@type': 'PostalAddress', 'addressCountry': 'US', 'streetAddress': '1252 Oakleigh Dr', 'addressLocality': 'Atlanta', 'addressRegion': 'GA', 'postalCode': '30344'}, 'aggregateRating': {'@type': 'AggregateRating', 'ratingValue': 3, 'reviewCount': 2}, 'geo': {'@type': 'GeoCoordinates', 'latitude': 33.689617, 'longitude': -84.42967}, 'telephone': '(678) 592-4850', 'image': {'@type': 'ImageObject', 'url': 'https://i1.ypcdn.com/ypu/images/default-thumbnails/thumbnail-1.svg?addecef'}, 'review': [{'@type': 'Review', 'itemReviewed': 'Mack Relocation Services, Inc', 'author': {'@type': 'Person', 'name': 'mrminer'}, 'reviewBody': \"These guys are quite possibly the worst moving company ever.  They took forever to load, they overcharged on delivery, they broke my stuff, and now they won't reimburse me for anything.\", 'reviewRating': {'@type': 'Rating', 'ratingValue': 1}, 'datePublished': '2012-13-02'}, {'@type': 'Review', 'itemReviewed': 'Mack Relocation Services, Inc', 'author': {'@type': 'Person', 'name': 'alyknight'}, 'reviewBody': 'I was definitely impessed with my experience with this company. I would reccommend them.', 'reviewRating': {'@type': 'Rating', 'ratingValue': 5}, 'datePublished': '2011-28-09'}], 'email': 'mailto:mackrelocations@aol.com'}\n",
      "{'@context': 'http://schema.org', '@type': 'http://schema.org/MovingCompany', '@id': '/atlanta-ga/mip/first-choice-movers-476304324', 'name': 'First Choice Movers', 'address': {'@type': 'PostalAddress', 'addressCountry': 'US', 'streetAddress': '3201 Atlanta Industrial Pkwy NW Ste 214', 'addressLocality': 'Atlanta', 'addressRegion': 'GA', 'postalCode': '30331'}, 'aggregateRating': {'@type': 'AggregateRating', 'ratingValue': 1, 'reviewCount': 3}, 'geo': {'@type': 'GeoCoordinates', 'latitude': 33.791954, 'longitude': -84.49538}, 'telephone': '(404) 343-3053', 'image': {'@type': 'ImageObject', 'url': 'https://i1.ypcdn.com/ypu/images/default-thumbnails/thumbnail-1.svg?addecef'}, 'review': [{'@type': 'Review', 'itemReviewed': 'First Choice Movers', 'author': {'@type': 'Person', 'name': 'Unsatisfied C.'}, 'reviewBody': 'FIRST CHOICE MOVERS ARE THIEVES AND STEAL FROM YOU DURING THE MOVE! This was the worst moving experience I have ever had with a moving company. I saw a deal on Groupon and called the company first to see if they could move me on the date needed. ERIC told me that they would honor the Groupon price if I went directly through them instead of Groupon. BIG MISTAKE! Thinking that they were a reputable company because I found them on Groupon, I agreed. One week before the move, I called/left messages several times to confirm that we were still scheduled for the agreed upon date. When I FINALLY got in touch with them, they said I needed to pay an additional $40 fuel charge (not a part of the original agreement). The only reason I agreed to pay it was because I did not have enough time to find another company. The movers did arrive on time, but with a long contract that included the additional charge. After I signed, they started moving. About an hour into the move, they began to move a big leather sofa. I told them to take the hinges off the door so they could get it through the door frame. They were determined not to do it and ended up scratching both arms of the sofa and busting a hole in the ceiling (which I did not find out until after I want back to the house to clean up). I told them that I was not happy and KAREEM told me that because I signed the contract, they were not responsible. Then, they could not figure out how to turn off the water in my house to disconnect the refrigerator. They ended up breaking the copper water line on the refrigerator itself and almost flooded the house. Again, KAREEM said that they were not responsible because I signed the contract. There\\'s more… as I was trying to stop the water from rushing into my house, they quietly jumped in the truck and sat there eating snacks. I didn\\'t even know they were finished because I was still trying to stop the water from flooding my house... yes, they left me there with the mess. I asked what they were doing, and they said, \"we are waiting on you\"... Huh? KAREEM jumped out of the truck and then said that he would not move my stuff until I paid him $500 in cash right then. That was $50 more than the total that was on the contract that I signed earlier. I SHOULD HAVE CALLED THE POLICE RIGHT THEN, but instead I called ERIC and he told me that he would tell KAREEM not to charge me. So we get to the new house and KAREEM apologized for the $50 \"MISTAKE\". Everything seemed to be OK until one of the guys got sick and threw up in the bushes. They had not eaten or had any water with them so he got overheated. I should have provided water, but we were moving and my house was in shambles. I would have expected that they would have at least had water bottles in the truck with them considering that moving in hot weather is what they do for a living. In the new house, the damage continued.... They dented the walls in the foyer and scraped off the paint on the stairwell. I could go on, but I\\'ll stop there. At one point, KAREEM told me that most customers feed them fried chicken, but all they got from us was \"jumped on\". I was insulted and couldn\\'t believe that he would say such a thing, especially after all they damage they caused at BOTH houses. Oh, did I mention that they STOLE my son\\'s wireless speakers? I did get the speakers back after one of the guys brought them back and said “they must have been forgotten on the truck”…. Of course he ran when the police showed up. Eric did give me $100 for the inconvenience, but it does not even come close to covering the other damage they did. I hesitated to post this review, but decided to do it since they have not offered to pay me for the other damages that I know about. I haven\\'t gone through the entire house yet to see what else they stole.... PLEASE SAVE YOURSELF SOME STRESS, MONEY, AND HEARTACHE AND DO NOT HIRE THIS COMPANY!', 'reviewRating': {'@type': 'Rating', 'ratingValue': 1}, 'datePublished': '2014-03-02'}, {'@type': 'Review', 'itemReviewed': 'First Choice Movers', 'author': {'@type': 'Person', 'name': 'loretti'}, 'reviewBody': \"Agreed with the other review. Please don't use this company. They will damage your doorway, furniture, will complain, no manners, no card acceptance. I don't even like to remember how unpleasant this moving was.\", 'reviewRating': {'@type': 'Rating', 'ratingValue': 1}, 'datePublished': '2013-24-09'}, {'@type': 'Review', 'itemReviewed': 'First Choice Movers', 'author': {'@type': 'Person', 'name': 'startover'}, 'reviewBody': 'First Choice Movers?  The worse experience ever!!! I purchased a voucher from LivingSocial and can anyone say regret?!  #1..When I called to set up an appointment, the appointment taker exuded bad attitude.  So, I began to think that my experience with them may be less than stellar. #2..The movers showed up 2 hrs. late.  #3..The voucher failed to mention the fuel surcharge and the fact that the voucher does not include insurance (WHO WOULD KNOWINGLY HIRE UNINSURED MOVERS!!!???)..I was told about the fuel surcharge during the appointment setting and I was not told about the exclusion of insurance coverage when the movers arrived.  #4..The movers were not able to accept a credit card payment for the fuel surcharge, so I had to go to the ATM to get cash.  #5..The movers were not able to get my sofa in the front door of my condo and did not attempt to move my loveseat off of the truck.  #6..The movers said they would wrap my furniture, but did not bother to do so because I had already wrapped it.  But, when my sofa was taken off of the truck, my sofa was no longer wrapped.  If your normal protocol is to wrap the furniture, why not wrap my sofa, before it comes off of the truck if my wrapping comes off??  #7..A once clean sofa is now filthy!....***P.S...Unfortunately, I had to hire another moving company.  Compared to First Choice Movers, my experience with UCall &amp; IHAUL was outstanding!  They were able to get all of my furniture (yes, this includes my standard size sofa) into my condo!!  Do yourself a favor...JUST SAY NO!!...to First Choice Movers.', 'reviewRating': {'@type': 'Rating', 'ratingValue': 1}, 'datePublished': '2013-04-07'}], 'url': 'http://www.firstchoicemovers.com', 'location': {'@type': 'Place', 'description': 'Atlanta West Business Ctr'}, 'email': 'mailto:firstchoicemovers1@yahoo.com'}\n",
      "{'@context': 'http://schema.org', '@type': 'http://schema.org/MovingCompany', '@id': '/atlanta-ga/mip/ads-moving-storage-473089624', 'name': 'ADS Moving & Storage', 'address': {'@type': 'PostalAddress', 'addressCountry': 'US', 'streetAddress': '1252 Oakleigh Dr', 'addressLocality': 'Atlanta', 'addressRegion': 'GA', 'postalCode': '30344'}, 'aggregateRating': {'@type': 'AggregateRating', 'ratingValue': 1, 'reviewCount': 1}, 'geo': {'@type': 'GeoCoordinates', 'latitude': 33.689617, 'longitude': -84.42967}, 'telephone': '(404) 767-2277', 'image': {'@type': 'ImageObject', 'url': 'https://i1.ypcdn.com/ypu/images/default-thumbnails/thumbnail-1.svg?addecef'}, 'review': [{'@type': 'Review', 'itemReviewed': 'ADS Moving & Storage', 'author': {'@type': 'Person', 'name': 'conundrum22'}, 'reviewBody': 'They are not reliable.  Three days have gone by and they still have not come to pick up my stuff.  They collected a deposit but the movers never claimed.  I filed a dispute with the Better Business Bureau to get a refund.  Do not put yourself through the hassle of moving and have to deal with this company.', 'reviewRating': {'@type': 'Rating', 'ratingValue': 1}, 'datePublished': '2008-24-07'}], 'email': 'mailto:adsmove@bellsouth.net'}\n",
      "{'@context': 'http://schema.org', '@type': 'http://schema.org/MovingCompany', '@id': '/atlanta-ga/mip/mars-van-lines-inc-473196338', 'name': 'Mars Van Lines Inc', 'address': {'@type': 'PostalAddress', 'addressCountry': 'US', 'streetAddress': '3402 Oakcliff Rd Ste B5', 'addressLocality': 'Atlanta', 'addressRegion': 'GA', 'postalCode': '30340'}, 'aggregateRating': {'@type': 'AggregateRating', 'ratingValue': 1, 'reviewCount': 1}, 'geo': {'@type': 'GeoCoordinates', 'latitude': 33.906013, 'longitude': -84.25434}, 'telephone': '(678) 547-0773', 'image': {'@type': 'ImageObject', 'url': 'https://i2.ypcdn.com/blob/3d7ad4fe6e65edc4496b99f48bfdc707ce3d760a', 'contentUrl': 'https://i2.ypcdn.com/blob/3d7ad4fe6e65edc4496b99f48bfdc707ce3d760a', 'thumbnailUrl': 'https://i2.ypcdn.com/blob/3d7ad4fe6e65edc4496b99f48bfdc707ce3d760a_400x260_crop.jpg'}, 'review': [{'@type': 'Review', 'itemReviewed': 'Mars Van Lines Inc', 'author': {'@type': 'Person', 'name': 'girlsgoingwild3'}, 'reviewBody': 'Please don\\'t use these guys. Just check out www.bbb.org that have a rating score of \"F\". Just check it out for your self.', 'reviewRating': {'@type': 'Rating', 'ratingValue': 1}, 'datePublished': '2009-09-07'}], 'email': 'mailto:redepot@bellsouth.net'}\n",
      "{'@context': 'http://schema.org', '@type': 'http://schema.org/MovingCompany', '@id': '/atlanta-ga/mip/flowers-by-lucas-460737460', 'name': 'Flowers By Lucas', 'address': {'@type': 'PostalAddress', 'addressCountry': 'US', 'streetAddress': '100 Peachtree St NW Ste 130', 'addressLocality': 'Atlanta', 'addressRegion': 'GA', 'postalCode': '30303'}, 'geo': {'@type': 'GeoCoordinates', 'latitude': 33.75677, 'longitude': -84.38837}, 'telephone': '(404) 523-2909', 'openingHours': ['Mo-Fr 09:00-17:00', 'Sa 10:00-13:00'], 'image': {'@type': 'ImageObject', 'url': 'https://i1.ypcdn.com/ypu/images/default-thumbnails/thumbnail-1.svg?addecef'}, 'review': [], 'url': 'http://www.flowersbylucas.com?y_source=1_mjmwmzc5mdmtntuzlwxvy2f0aw9ulndlynnpdgu%3d', 'paymentAccepted': 'amex, discover, master card, visa, cash', 'location': {'@type': 'Place', 'description': 'Equitable Bldg'}, 'email': 'mailto:flowersbylucas@gmail.com'}\n",
      "{'@context': 'http://schema.org', '@type': 'http://schema.org/MovingCompany', '@id': '/atlanta-ga/mip/truck-and-i-557113999', 'name': 'Truck and i', 'address': {'@type': 'PostalAddress', 'addressCountry': 'US', 'streetAddress': '3287 Marjan Dr', 'addressLocality': 'Atlanta', 'addressRegion': 'GA', 'postalCode': '30340'}, 'geo': {'@type': 'GeoCoordinates', 'latitude': 33.884087, 'longitude': -84.26402}, 'telephone': '(404) 355-5151', 'openingHours': ['Mo-Fr 08:00-17:00'], 'image': {'@type': 'ImageObject', 'url': 'https://i4.ypcdn.com/blob/bff95cfd22ecd43da9f4f66925d99c243d210d92', 'contentUrl': 'https://i4.ypcdn.com/blob/bff95cfd22ecd43da9f4f66925d99c243d210d92', 'thumbnailUrl': 'https://i4.ypcdn.com/blob/bff95cfd22ecd43da9f4f66925d99c243d210d92_400x260_crop.jpg'}, 'review': [], 'url': 'https://truckandi.com', 'paymentAccepted': 'amex, cash, check, discover, master card, visa', 'email': 'mailto:moving@truckandi.com'}\n",
      "{'@context': 'http://schema.org', '@type': 'http://schema.org/MovingCompany', '@id': '/atlanta-ga/mip/netmove-556091841', 'name': 'Netmove', 'address': {'@type': 'PostalAddress', 'addressCountry': 'US', 'streetAddress': '6845 Mimms Dr', 'addressLocality': 'Atlanta', 'addressRegion': 'GA', 'postalCode': '30340'}, 'geo': {'@type': 'GeoCoordinates', 'latitude': 33.91715, 'longitude': -84.241844}, 'telephone': '(317) 558-0932', 'openingHours': ['Mo-Fr 08:00-17:00'], 'image': {'@type': 'ImageObject', 'url': 'https://i1.ypcdn.com/ypu/images/default-thumbnails/thumbnail-1.svg?addecef'}, 'review': [], 'url': 'https://www.netmoveinc.com/atlanta', 'paymentAccepted': 'amex, discover, visa, mastercard', 'email': 'mailto:jkupersmith@netmoveatlanta.com'}\n",
      "{'@context': 'http://schema.org', '@type': 'http://schema.org/MovingCompany', '@id': '/atlanta-ga/mip/1st-corporate-limousine-479303080', 'name': '1st Corporate Limousine', 'address': {'@type': 'PostalAddress', 'addressCountry': 'US', 'streetAddress': '245 University Ave SW', 'addressLocality': 'Atlanta', 'addressRegion': 'GA', 'postalCode': '30315'}, 'geo': {'@type': 'GeoCoordinates', 'latitude': 33.722263, 'longitude': -84.39639}, 'telephone': '(770) 933-9000', 'image': {'@type': 'ImageObject', 'url': 'https://i1.ypcdn.com/ypu/images/default-thumbnails/thumbnail-1.svg?addecef'}, 'review': [], 'url': 'http://www.1stcorplimo.com', 'email': 'mailto:info@1stcorplimo.com'}\n",
      "{'@context': 'http://schema.org', '@type': 'http://schema.org/MovingCompany', '@id': '/atlanta-ga/mip/bellhops-497083180', 'name': 'Bellhops', 'address': {'@type': 'PostalAddress', 'addressCountry': 'US', 'streetAddress': '190 5th St NW', 'addressLocality': 'Atlanta', 'addressRegion': 'GA', 'postalCode': '30332'}, 'geo': {'@type': 'GeoCoordinates', 'latitude': 33.776768, 'longitude': -84.39327}, 'telephone': '(404) 975-1428', 'openingHours': ['Mo-Su 09:00-20:00'], 'image': {'@type': 'ImageObject', 'url': 'https://i3.ypcdn.com/blob/b8d37adb3d9f0c7efaf2de16d6b09e62e06e4d55', 'contentUrl': 'https://i3.ypcdn.com/blob/b8d37adb3d9f0c7efaf2de16d6b09e62e06e4d55', 'thumbnailUrl': 'https://i3.ypcdn.com/blob/b8d37adb3d9f0c7efaf2de16d6b09e62e06e4d55_400x260_crop.jpg'}, 'review': [], 'url': 'http://www.getbellhops.com/market/atlanta-georgia', 'paymentAccepted': 'all major credit cards', 'email': 'mailto:dingding@getbellhops.com'}\n",
      "{'@context': 'http://schema.org', '@type': 'http://schema.org/MovingCompany', '@id': '/atlanta-ga/mip/bellhop-moving-574364392', 'name': 'Bellhop Moving', 'address': {'@type': 'PostalAddress', 'addressCountry': 'US', 'streetAddress': '725 Ponce De Leon Ave NE', 'addressLocality': 'Atlanta', 'addressRegion': 'GA', 'postalCode': '30306'}, 'geo': {'@type': 'GeoCoordinates', 'latitude': 33.77365, 'longitude': -84.363}, 'telephone': '(404) 975-1428', 'openingHours': ['Mo-Su 09:00-20:00'], 'image': {'@type': 'ImageObject', 'url': 'https://i1.ypcdn.com/ypu/images/default-thumbnails/thumbnail-1.svg?addecef'}, 'review': [], 'url': 'https://www.getbellhops.com/ga/atlanta/movers', 'paymentAccepted': 'all major credit cards', 'email': 'mailto:dingding@getbellhops.com'}\n",
      "{'@context': 'http://schema.org', '@type': 'http://schema.org/MovingCompany', '@id': '/atlanta-ga/mip/24-7-moving-526220416', 'name': '24/7 Moving', 'address': {'@type': 'PostalAddress', 'addressCountry': 'US', 'streetAddress': '1130 Donald Lee Hollowell Pkwy NW # A', 'addressLocality': 'Atlanta', 'addressRegion': 'GA', 'postalCode': '30318'}, 'geo': {'@type': 'GeoCoordinates', 'latitude': 33.772804, 'longitude': -84.42435}, 'telephone': '(404) 668-0677', 'openingHours': ['Mo-Fr 08:00-17:00', 'Sa 08:00-16:00'], 'image': {'@type': 'ImageObject', 'url': 'https://i1.ypcdn.com/ypu/images/default-thumbnails/thumbnail-1.svg?addecef'}, 'review': [{'@type': 'Review', 'itemReviewed': '24/7 Moving', 'author': {'@type': 'Person', 'name': 'Lisa J.'}, 'reviewBody': \"I've moved. A lot. And these folks are the best in the.business. I've used them more than once. They're professional. Affordable. Honest. Highly skilled. Mindful. Treat your things like they're theirs. And, I loved getting to know them personally. By the time they unloaded the last item, I wanted to cook them dinner. And it wasn't because I'm southern, it was because they rocked it. My crew this time was Fred, Francisco and Elvis. Book them. Now. If there were 10 stars, that's what I'd give them.\", 'reviewRating': {'@type': 'Rating', 'ratingValue': 5}, 'datePublished': '2017-10-07'}, {'@type': 'Review', 'itemReviewed': '24/7 Moving', 'author': {'@type': 'Person', 'name': 'anonymous'}, 'reviewBody': 'We just had a new baby and my wife has a bad back. These guys were terrific. They helped us pack everything and get us moved really quick. Id use them again. Lee S.', 'reviewRating': {'@type': 'Rating', 'ratingValue': 5}, 'datePublished': '2010-05-04'}, {'@type': 'Review', 'itemReviewed': '24/7 Moving', 'author': {'@type': 'Person', 'name': 'anonymous'}, 'reviewBody': 'Movers with charm! These guys are polite and professional. A small and affordable company with excellent customer service. They have lots of experience working with high-end furniture, and will treat all of your possessions with care.', 'reviewRating': {'@type': 'Rating', 'ratingValue': 5}, 'datePublished': '2010-05-04'}], 'url': 'http://www.247moving.net', 'paymentAccepted': 'amex, cash, master card, visa, all major credit cards, discover', 'email': 'mailto:daniel@247moving.net'}\n",
      "{'@context': 'http://schema.org', '@type': 'http://schema.org/MovingCompany', '@id': '/atlanta-ga/mip/bellhop-moving-551114047', 'name': 'Bellhop Moving', 'address': {'@type': 'PostalAddress', 'addressCountry': 'US', 'streetAddress': '271 17th St NW Ste 1520', 'addressLocality': 'Atlanta', 'addressRegion': 'GA', 'postalCode': '30363'}, 'geo': {'@type': 'GeoCoordinates', 'latitude': 33.791416, 'longitude': -84.39578}, 'telephone': '(404) 975-1428', 'openingHours': ['Mo-Su 09:00-20:00'], 'image': {'@type': 'ImageObject', 'url': 'https://i2.ypcdn.com/blob/d7ab3d851503831ecf254ef5ff6066e82073bb59', 'contentUrl': 'https://i2.ypcdn.com/blob/d7ab3d851503831ecf254ef5ff6066e82073bb59', 'thumbnailUrl': 'https://i2.ypcdn.com/blob/d7ab3d851503831ecf254ef5ff6066e82073bb59_400x260_crop.jpg'}, 'review': [], 'url': 'http://www.getbellhops.com/market/atlanta-georgia', 'paymentAccepted': 'amex, debit, discover, master card, paypal, visa', 'location': {'@type': 'Place', 'description': '271 Seventeenth Street Bldg'}, 'email': 'mailto:support@bellhop.com'}\n",
      "{'@context': 'http://schema.org', '@type': 'http://schema.org/MovingCompany', '@id': '/atlanta-ga/mip/burden-movers-547737963', 'name': 'Burden Movers', 'address': {'@type': 'PostalAddress', 'addressCountry': 'US', 'streetAddress': '1121 Northwest Dr NW', 'addressLocality': 'Atlanta', 'addressRegion': 'GA', 'postalCode': '30318'}, 'geo': {'@type': 'GeoCoordinates', 'latitude': 33.78569, 'longitude': -84.47434}, 'telephone': '(404) 788-3444', 'openingHours': ['Mo-Su'], 'image': {'@type': 'ImageObject', 'url': 'https://i1.ypcdn.com/ypu/images/default-thumbnails/thumbnail-1.svg?addecef'}, 'review': [], 'url': 'http://burdenmoversga.com', 'paymentAccepted': 'discover, visa, cash, check, mastercard', 'email': 'mailto:burdenmovers@gmail.com'}\n",
      "{'@context': 'http://schema.org', '@type': 'http://schema.org/MovingCompany', '@id': '/atlanta-ga/mip/walter-and-son-llc-510066380', 'name': 'Walter and Son LLC', 'address': {'@type': 'PostalAddress', 'addressCountry': 'US', 'streetAddress': '1990 Sombrero Way SE', 'addressLocality': 'Atlanta', 'addressRegion': 'GA', 'postalCode': '30316'}, 'geo': {'@type': 'GeoCoordinates', 'latitude': 33.697968, 'longitude': -84.308846}, 'telephone': '(404) 552-6836', 'openingHours': ['Mo-Th 10:00-17:00', 'Fr 11:00-17:00'], 'image': {'@type': 'ImageObject', 'url': 'https://i1.ypcdn.com/ypu/images/default-thumbnails/thumbnail-1.svg?addecef'}, 'review': [], 'url': 'http://walterandson.myfreesites.net', 'paymentAccepted': 'all major credit cards, debit, discover, mastercard, visa', 'email': 'mailto:walterandson11@gmail.com'}\n",
      "{'@context': 'http://schema.org', '@type': 'http://schema.org/MovingCompany', '@id': '/atlanta-ga/mip/all-my-sons-moving-storage-560372905', 'name': 'All My Sons Moving & Storage', 'address': {'@type': 'PostalAddress', 'addressCountry': 'US', 'streetAddress': '2960 Olympic Industrial Dr SE', 'addressLocality': 'Atlanta', 'addressRegion': 'GA', 'postalCode': '30339'}, 'geo': {'@type': 'GeoCoordinates', 'latitude': 33.8332, 'longitude': -84.46927}, 'telephone': '(770) 637-6111', 'openingHours': ['Mo-Su 06:00-21:00'], 'image': {'@type': 'ImageObject', 'url': 'https://i1.ypcdn.com/ypu/images/default-thumbnails/thumbnail-1.svg?addecef'}, 'review': [], 'url': 'https://www.allmysons.com/southatlanta/index.aspx?phone=770-637-6111', 'email': 'mailto:bbbresolution@allmysons.com'}\n",
      "{'@context': 'http://schema.org', '@type': 'http://schema.org/MovingCompany', '@id': '/atlanta-ga/mip/a-1-hortons-moving-service-inc-8150516', 'name': \"A-1 Horton's Moving Service, Inc.\", 'address': {'@type': 'PostalAddress', 'addressCountry': 'US', 'streetAddress': '5315 Tulane Dr SW Ste N', 'addressLocality': 'Atlanta', 'addressRegion': 'GA', 'postalCode': '30336'}, 'geo': {'@type': 'GeoCoordinates', 'latitude': 33.75082, 'longitude': -84.56231}, 'telephone': '(404) 699-9075', 'openingHours': ['Mo-Fr 08:30-16:30'], 'image': {'@type': 'ImageObject', 'url': 'https://i1.ypcdn.com/ypu/images/default-thumbnails/thumbnail-1.svg?addecef'}, 'review': [], 'paymentAccepted': 'paypal, check', 'email': 'mailto:a1hortonsmovings@bellsouth.net'}\n",
      "{'@context': 'http://schema.org', '@type': 'http://schema.org/MovingCompany', '@id': '/atlanta-ga/mip/positive-moving-company-cleaning-services-llc-545485762', 'name': 'Positive Moving Company & Cleaning Services LLC', 'address': {'@type': 'PostalAddress', 'addressCountry': 'US', 'streetAddress': '755 Battery Ave SE', 'addressLocality': 'Atlanta', 'addressRegion': 'GA', 'postalCode': '30339'}, 'geo': {'@type': 'GeoCoordinates', 'latitude': 33.890007, 'longitude': -84.46934}, 'telephone': '(678) 671-8823', 'image': {'@type': 'ImageObject', 'url': 'https://i1.ypcdn.com/ypu/images/default-thumbnails/thumbnail-1.svg?addecef'}, 'review': [], 'email': 'mailto:pmccsllc@gmail.com'}\n",
      "{'@context': 'http://schema.org', '@type': 'http://schema.org/MovingCompany', '@id': '/atlanta-ga/mip/a-1-freeman-moving-group-526785815', 'name': 'A-1 Freeman Moving Group', 'address': {'@type': 'PostalAddress', 'addressCountry': 'US', 'streetAddress': '1485 Westlake Pkwy SW # 150', 'addressLocality': 'Atlanta', 'addressRegion': 'GA', 'postalCode': '30336'}, 'geo': {'@type': 'GeoCoordinates', 'latitude': 33.71627, 'longitude': -84.57955}, 'telephone': '(404) 975-1444', 'openingHours': ['Mo-Su 08:00-17:30'], 'image': {'@type': 'ImageObject', 'url': 'https://i1.ypcdn.com/ypu/images/default-thumbnails/thumbnail-1.svg?addecef'}, 'review': [], 'url': 'http://www.a1freemanatlanta.com', 'paymentAccepted': 'amex, cash, check, visa', 'email': 'mailto:atlanta@a-1freeman.com'}\n",
      "{'@context': 'http://schema.org', '@type': 'http://schema.org/MovingCompany', '@id': '/atlanta-ga/mip/big-small-moving-550607564', 'name': 'Big & Small Moving', 'address': {'@type': 'PostalAddress', 'addressCountry': 'US', 'streetAddress': '5825 Glenridge Dr', 'addressLocality': 'Atlanta', 'addressRegion': 'GA', 'postalCode': '30328'}, 'geo': {'@type': 'GeoCoordinates', 'latitude': 33.914375, 'longitude': -84.36215}, 'telephone': '(404) 360-6662', 'openingHours': ['Mo-Su'], 'image': {'@type': 'ImageObject', 'url': 'https://i1.ypcdn.com/ypu/images/default-thumbnails/thumbnail-1.svg?addecef'}, 'review': [], 'url': 'https://bigandsmallmovingatl.com', 'email': 'mailto:info@bigandsmallmovingatl.com'}\n",
      "{'@context': 'http://schema.org', '@type': 'http://schema.org/MovingCompany', '@id': '/atlanta-ga/mip/two-men-and-a-truck-550617634', 'name': 'Two Men and a Truck', 'address': {'@type': 'PostalAddress', 'addressCountry': 'US', 'streetAddress': '3127 Presidential Dr Ste 102', 'addressLocality': 'Atlanta', 'addressRegion': 'GA', 'postalCode': '30340'}, 'geo': {'@type': 'GeoCoordinates', 'latitude': 33.886612, 'longitude': -84.26079}, 'telephone': '(470) 336-1377', 'openingHours': ['Mo-Fr 07:30-16:30'], 'image': {'@type': 'ImageObject', 'url': 'https://i1.ypcdn.com/ypu/images/default-thumbnails/thumbnail-1.svg?addecef'}, 'review': [], 'url': 'https://twomenandatruck.com/movers/ga/atlanta/chamblee', 'paymentAccepted': 'amex, master card, visa, cash', 'email': 'mailto:info0556@twomen.com'}\n",
      "{'@context': 'http://schema.org', '@type': 'http://schema.org/MovingCompany', '@id': '/atlanta-ga/mip/moving-help-t-l-moving-services-464639032', 'name': 'Moving Help - T & L Moving Services', 'address': {'@type': 'PostalAddress', 'addressCountry': 'US', 'streetAddress': '2299 Dunwoody Xing Apt D', 'addressLocality': 'Atlanta', 'addressRegion': 'GA', 'postalCode': '30338'}, 'geo': {'@type': 'GeoCoordinates', 'latitude': 33.922165, 'longitude': -84.295746}, 'telephone': '(678) 825-3268', 'openingHours': ['Mo-Th 07:00-19:00', 'Fr 07:00-20:00', 'Sa-Su 07:00-19:00'], 'image': {'@type': 'ImageObject', 'url': 'https://i1.ypcdn.com/ypu/images/default-thumbnails/thumbnail-1.svg?addecef'}, 'review': [], 'url': 'http://www.uhaul.com/movinghelp', 'paymentAccepted': 'master card, visa, amex, debit, discover', 'email': 'mailto:chefguru@bellsouth.net'}\n",
      "{'@context': 'http://schema.org', '@type': 'http://schema.org/MovingCompany', '@id': '/atlanta-ga/mip/two-men-and-a-truck-504214713', 'name': 'Two Men and a Truck', 'address': {'@type': 'PostalAddress', 'addressCountry': 'US', 'streetAddress': '700 Dalrymple Rd Ste 301', 'addressLocality': 'Atlanta', 'addressRegion': 'GA', 'postalCode': '30328'}, 'geo': {'@type': 'GeoCoordinates', 'latitude': 33.955215, 'longitude': -84.363525}, 'telephone': '(770) 450-9428', 'openingHours': ['Mo-Fr 08:00-17:30', 'Sa 08:00-16:00'], 'image': {'@type': 'ImageObject', 'url': 'https://i2.ypcdn.com/blob/eab693f8899cb13fa47caad6d471fa11531c8830', 'contentUrl': 'https://i2.ypcdn.com/blob/eab693f8899cb13fa47caad6d471fa11531c8830', 'thumbnailUrl': 'https://i2.ypcdn.com/blob/eab693f8899cb13fa47caad6d471fa11531c8830_400x260_crop.jpg'}, 'review': [], 'url': 'https://twomenandatruck.com/movers/ga/atlanta/sandy-springs', 'paymentAccepted': 'all major credit cards, amex, discover, master card, visa, cash', 'email': 'mailto:info0106@twomen.com'}\n",
      "{'@context': 'http://schema.org', '@type': 'http://schema.org/MovingCompany', '@id': '/atlanta-ga/mip/always-exceptional-moving-516570635', 'name': 'Always Exceptional Moving', 'address': {'@type': 'PostalAddress', 'addressCountry': 'US', 'streetAddress': 'PO Box 18671', 'addressLocality': 'Atlanta', 'addressRegion': 'GA', 'postalCode': '31126'}, 'geo': {'@type': 'GeoCoordinates', 'latitude': 33.7624, 'longitude': -84.4234}, 'telephone': '(770) 776-8140', 'image': {'@type': 'ImageObject', 'url': 'https://i1.ypcdn.com/ypu/images/default-thumbnails/thumbnail-1.svg?addecef'}, 'review': [], 'email': 'mailto:hap1104@gmail.com'}\n",
      "{'@context': 'http://schema.org', '@type': 'http://schema.org/MovingCompany', '@id': '/atlanta-ga/mip/wtc-movers-531013209', 'name': 'WTC Movers', 'address': {'@type': 'PostalAddress', 'addressCountry': 'US', 'streetAddress': '1100 Peachtree St NE # 200-1d', 'addressLocality': 'Atlanta', 'addressRegion': 'GA', 'postalCode': '30309'}, 'geo': {'@type': 'GeoCoordinates', 'latitude': 33.78488, 'longitude': -84.38365}, 'telephone': '(404) 910-3539', 'image': {'@type': 'ImageObject', 'url': 'https://i1.ypcdn.com/ypu/images/default-thumbnails/thumbnail-1.svg?addecef'}, 'review': [], 'email': 'mailto:jagodoy76@gmail.com'}\n",
      "{'@context': 'http://schema.org', '@type': 'http://schema.org/MovingCompany', '@id': '/atlanta-ga/mip/jda-movers-544421293', 'name': 'Jda Movers', 'address': {'@type': 'PostalAddress', 'addressCountry': 'US', 'streetAddress': '1848 Lisbon Dr SW', 'addressLocality': 'Atlanta', 'addressRegion': 'GA', 'postalCode': '30310'}, 'geo': {'@type': 'GeoCoordinates', 'latitude': 33.704338, 'longitude': -84.41343}, 'telephone': '(404) 835-2202', 'openingHours': ['Mo-Sa 08:00-18:00'], 'image': {'@type': 'ImageObject', 'url': 'https://i1.ypcdn.com/ypu/images/default-thumbnails/thumbnail-1.svg?addecef'}, 'review': [], 'email': 'mailto:Jdamoversllc@gmail.com'}\n",
      "{'@context': 'http://schema.org', '@type': 'http://schema.org/MovingCompany', '@id': '/atlanta-ga/mip/stroude-movers-507489329', 'name': 'Stroude Movers', 'address': {'@type': 'PostalAddress', 'addressCountry': 'US', 'streetAddress': '2001 Martin Luther King Jr Dr SW', 'addressLocality': 'Atlanta', 'addressRegion': 'GA', 'postalCode': '30310'}, 'geo': {'@type': 'GeoCoordinates', 'latitude': 33.750328, 'longitude': -84.45038}, 'telephone': '(404) 914-5366', 'image': {'@type': 'ImageObject', 'url': 'https://i1.ypcdn.com/ypu/images/default-thumbnails/thumbnail-1.svg?addecef'}, 'review': [], 'email': 'mailto:everythingoesmoving@gmail.com'}\n",
      "{'@context': 'http://schema.org', '@type': 'http://schema.org/MovingCompany', '@id': '/atlanta-ga/mip/the-thrifty-movers-478430117', 'name': 'The Thrifty Movers', 'address': {'@type': 'PostalAddress', 'addressCountry': 'US', 'streetAddress': '1718 Peachtree St NW Ste 285', 'addressLocality': 'Atlanta', 'addressRegion': 'GA', 'postalCode': '30309'}, 'geo': {'@type': 'GeoCoordinates', 'latitude': 33.800915, 'longitude': -84.39286}, 'telephone': '(404) 996-6466', 'openingHours': ['Mo-Fr 08:30-19:00', 'Sa 09:00-16:00'], 'image': {'@type': 'ImageObject', 'url': 'https://i1.ypcdn.com/ypu/images/default-thumbnails/thumbnail-1.svg?addecef'}, 'review': [], 'email': 'mailto:info@thethriftymovers.com'}\n",
      "{'@context': 'http://schema.org', '@type': 'http://schema.org/MovingCompany', '@id': '/atlanta-ga/mip/atlanta-pro-movers-473299723', 'name': 'Atlanta Pro Movers', 'address': {'@type': 'PostalAddress', 'addressCountry': 'US', 'streetAddress': '1705 Commerce Dr NW # 301', 'addressLocality': 'Atlanta', 'addressRegion': 'GA', 'postalCode': '30318'}, 'geo': {'@type': 'GeoCoordinates', 'latitude': 33.800507, 'longitude': -84.411095}, 'telephone': '(404) 462-1230', 'openingHours': ['Mo-Sa 08:00-17:00'], 'image': {'@type': 'ImageObject', 'url': 'https://i1.ypcdn.com/blob/9dc065147ed7359c9b3bc28c68a627cec6eb59a6', 'contentUrl': 'https://i1.ypcdn.com/blob/9dc065147ed7359c9b3bc28c68a627cec6eb59a6', 'thumbnailUrl': 'https://i1.ypcdn.com/blob/9dc065147ed7359c9b3bc28c68a627cec6eb59a6_400x260_crop.jpg'}, 'review': [], 'url': 'http://www.atlantapromovers.net', 'paymentAccepted': 'all major credit cards, cash', 'email': 'mailto:info@atlantapromovers.net'}\n",
      "{'@context': 'http://schema.org', '@type': 'http://schema.org/MovingCompany', '@id': '/atlanta-ga/mip/404-movers-inc-528532279', 'name': '404 Movers, Inc.', 'address': {'@type': 'PostalAddress', 'addressCountry': 'US', 'streetAddress': '2175 Metropolitan Pkwy SW', 'addressLocality': 'Atlanta', 'addressRegion': 'GA', 'postalCode': '30315'}, 'geo': {'@type': 'GeoCoordinates', 'latitude': 33.694775, 'longitude': -84.4083}, 'telephone': '(404) 753-6683', 'openingHours': ['Mo-Sa 08:30-17:30', 'Su 10:00-15:00'], 'image': {'@type': 'ImageObject', 'url': 'https://i1.ypcdn.com/ypu/images/default-thumbnails/thumbnail-1.svg?addecef'}, 'review': [], 'url': 'http://www.404movers.com', 'paymentAccepted': 'amex, cash, check, discover, master card, visa', 'email': 'mailto:info@404movers.com'}\n",
      "{'@context': 'http://schema.org', '@type': 'http://schema.org/MovingCompany', '@id': '/atlanta-ga/mip/rockline-moving-512575426', 'name': 'Rockline Moving', 'address': {'@type': 'PostalAddress', 'addressCountry': 'US', 'streetAddress': '1984 Howell Mill Rd NW Unit 19654', 'addressLocality': 'Atlanta', 'addressRegion': 'GA', 'postalCode': '30325'}, 'geo': {'@type': 'GeoCoordinates', 'latitude': 33.808796, 'longitude': -84.413025}, 'telephone': '(678) 524-4045', 'openingHours': ['Mo-Sa 07:30-18:30', 'Su 10:00-16:30'], 'image': {'@type': 'ImageObject', 'url': 'https://i1.ypcdn.com/ypu/images/default-thumbnails/thumbnail-1.svg?addecef'}, 'review': [], 'url': 'http://www.rocklinemoving.com', 'paymentAccepted': 'all major credit cards', 'email': 'mailto:contact@rocklinemoving.com'}\n",
      "{'@context': 'http://schema.org', '@type': 'http://schema.org/MovingCompany', '@id': '/atlanta-ga/mip/atlas-van-lines-539474646', 'name': 'Atlas Van Lines', 'address': {'@type': 'PostalAddress', 'addressCountry': 'US', 'streetAddress': '1314 Chattahoochee Ave NW', 'addressLocality': 'Atlanta', 'addressRegion': 'GA', 'postalCode': '30318'}, 'geo': {'@type': 'GeoCoordinates', 'latitude': 33.802353, 'longitude': -84.43119}, 'telephone': '(404) 605-9713', 'image': {'@type': 'ImageObject', 'url': 'https://i1.ypcdn.com/ypu/images/default-thumbnails/thumbnail-1.svg?addecef'}, 'review': [], 'url': 'http://atlanticrelocation.com', 'email': 'mailto:atlanta-moving@atlanticrelocation.com'}\n",
      "{'@context': 'http://schema.org', '@type': 'http://schema.org/MovingCompany', '@id': '/atlanta-ga/mip/rockline-moving-512575426', 'name': 'Rockline Moving', 'address': {'@type': 'PostalAddress', 'addressCountry': 'US', 'streetAddress': '1984 Howell Mill Rd NW Unit 19654', 'addressLocality': 'Atlanta', 'addressRegion': 'GA', 'postalCode': '30325'}, 'geo': {'@type': 'GeoCoordinates', 'latitude': 33.808796, 'longitude': -84.413025}, 'telephone': '(678) 524-4045', 'openingHours': ['Mo-Sa 07:30-18:30', 'Su 10:00-16:30'], 'image': {'@type': 'ImageObject', 'url': 'https://i1.ypcdn.com/ypu/images/default-thumbnails/thumbnail-1.svg?addecef'}, 'review': [], 'url': 'http://www.rocklinemoving.com', 'paymentAccepted': 'all major credit cards', 'email': 'mailto:contact@rocklinemoving.com'}\n",
      "{'@context': 'http://schema.org', '@type': 'http://schema.org/MovingCompany', '@id': '/atlanta-ga/mip/atlas-van-lines-539474646', 'name': 'Atlas Van Lines', 'address': {'@type': 'PostalAddress', 'addressCountry': 'US', 'streetAddress': '1314 Chattahoochee Ave NW', 'addressLocality': 'Atlanta', 'addressRegion': 'GA', 'postalCode': '30318'}, 'geo': {'@type': 'GeoCoordinates', 'latitude': 33.802353, 'longitude': -84.43119}, 'telephone': '(404) 605-9713', 'image': {'@type': 'ImageObject', 'url': 'https://i1.ypcdn.com/ypu/images/default-thumbnails/thumbnail-1.svg?addecef'}, 'review': [], 'url': 'http://atlanticrelocation.com', 'email': 'mailto:atlanta-moving@atlanticrelocation.com'}\n",
      "{'@context': 'http://schema.org', '@type': 'http://schema.org/MovingCompany', '@id': '/atlanta-ga/mip/cali-ridge-movers-507510176', 'name': 'Cali Ridge Movers', 'address': {'@type': 'PostalAddress', 'addressCountry': 'US', 'streetAddress': '415 Armour Dr NE', 'addressLocality': 'Atlanta', 'addressRegion': 'GA', 'postalCode': '30324'}, 'geo': {'@type': 'GeoCoordinates', 'latitude': 33.812443, 'longitude': -84.37349}, 'telephone': '(443) 543-6683', 'openingHours': ['Mo-Su 00:00-23:59'], 'image': {'@type': 'ImageObject', 'url': 'https://i1.ypcdn.com/ypu/images/default-thumbnails/thumbnail-1.svg?addecef'}, 'review': [], 'paymentAccepted': 'all major credit cards, amex, cash, visa, debit, discover, master card', 'email': 'mailto:candice@caliridgemovers.com'}\n",
      "{'@context': 'http://schema.org', '@type': 'http://schema.org/MovingCompany', '@id': '/atlanta-ga/mip/atlanta-peachtree-movers-468669449', 'name': 'Atlanta Peachtree Movers', 'address': {'@type': 'PostalAddress', 'addressCountry': 'US', 'streetAddress': '1695 Marietta Blvd NW', 'addressLocality': 'Atlanta', 'addressRegion': 'GA', 'postalCode': '30318'}, 'geo': {'@type': 'GeoCoordinates', 'latitude': 33.801094, 'longitude': -84.43559}, 'openingHours': ['Mo-Fr 08:00-17:00'], 'image': {'@type': 'ImageObject', 'url': 'https://i1.ypcdn.com/ypu/images/default-thumbnails/thumbnail-1.svg?addecef'}, 'review': [], 'url': 'http://www.peachtreemovers.com', 'paymentAccepted': 'check, all major credit cards', 'email': 'mailto:webmaster@peachtreemovers.com'}\n",
      "{'@context': 'http://schema.org', '@type': 'http://schema.org/MovingCompany', '@id': '/atlanta-ga/mip/total-moving-services-497258659', 'name': 'Total Moving Services', 'address': {'@type': 'PostalAddress', 'addressCountry': 'US', 'streetAddress': '2657 Lenox Rd NE', 'addressLocality': 'Atlanta', 'addressRegion': 'GA', 'postalCode': '30324'}, 'geo': {'@type': 'GeoCoordinates', 'latitude': 33.826897, 'longitude': -84.353905}, 'telephone': '(404) 814-9442', 'openingHours': ['Mo-Fr 09:00-20:00', 'Sa 09:00-21:00', 'Su 09:30-19:00'], 'image': {'@type': 'ImageObject', 'url': 'https://i1.ypcdn.com/ypu/images/default-thumbnails/thumbnail-1.svg?addecef'}, 'review': [], 'email': 'mailto:totalmovingservices@yahoo.com'}\n",
      "{'@context': 'http://schema.org', '@type': 'http://schema.org/MovingCompany', '@id': '/atlanta-ga/mip/smooth-moves-561744071', 'name': 'Smooth Moves', 'address': {'@type': 'PostalAddress', 'addressCountry': 'US', 'streetAddress': '1870 Glenview Dr SW', 'addressLocality': 'Atlanta', 'addressRegion': 'GA', 'postalCode': '30331'}, 'geo': {'@type': 'GeoCoordinates', 'latitude': 33.70443, 'longitude': -84.49933}, 'telephone': '(678) 622-1184', 'image': {'@type': 'ImageObject', 'url': 'https://i1.ypcdn.com/ypu/images/default-thumbnails/thumbnail-1.svg?addecef'}, 'review': [], 'email': 'mailto:eriksreeves@gmail.com'}\n",
      "{'@context': 'http://schema.org', '@type': 'http://schema.org/MovingCompany', '@id': '/atlanta-ga/mip/speedy-men-491583880', 'name': 'Speedy Men', 'address': {'@type': 'PostalAddress', 'addressCountry': 'US', 'streetAddress': '3455 Peachtree Rd NE # 533', 'addressLocality': 'Atlanta', 'addressRegion': 'GA', 'postalCode': '30326'}, 'geo': {'@type': 'GeoCoordinates', 'latitude': 33.85087, 'longitude': -84.36134}, 'telephone': '(800) 265-7636', 'openingHours': ['Mo-Fr 07:00-21:00', 'Sa 08:00-17:00'], 'image': {'@type': 'ImageObject', 'url': 'https://i1.ypcdn.com/ypu/images/default-thumbnails/thumbnail-1.svg?addecef'}, 'review': [], 'url': 'http://www.speedymen.com/homemove.asp?city=Atlanta', 'email': 'mailto:info@speedymen.com'}\n",
      "{'@context': 'http://schema.org', '@type': 'http://schema.org/MovingCompany', '@id': '/atlanta-ga/mip/in-and-out-movers-538460449', 'name': 'In and Out Movers', 'address': {'@type': 'PostalAddress', 'addressCountry': 'US', 'streetAddress': '3727 Wendell Dr SW', 'addressLocality': 'Atlanta', 'addressRegion': 'GA', 'postalCode': '30336'}, 'geo': {'@type': 'GeoCoordinates', 'latitude': 33.768257, 'longitude': -84.51676}, 'telephone': '(404) 732-3630', 'image': {'@type': 'ImageObject', 'url': 'https://i1.ypcdn.com/ypu/images/default-thumbnails/thumbnail-1.svg?addecef'}, 'review': [], 'email': 'mailto:contact@inandoutmoversatl.com'}\n",
      "{'@context': 'http://schema.org', '@type': 'http://schema.org/MovingCompany', '@id': '/atlanta-ga/mip/corey-get-it-done-moving-and-storage-llc-516565556', 'name': 'Corey Get It Done Moving and Storage, LLC.', 'address': {'@type': 'PostalAddress', 'addressCountry': 'US', 'streetAddress': '3901 Campbellton Rd SW Apt R1', 'addressLocality': 'Atlanta', 'addressRegion': 'GA', 'postalCode': '30331'}, 'geo': {'@type': 'GeoCoordinates', 'latitude': 33.692444, 'longitude': -84.51635}, 'telephone': '(470) 388-5901', 'openingHours': ['Mo-Su'], 'image': {'@type': 'ImageObject', 'url': 'https://i3.ypcdn.com/blob/3f5db246aa4d9e86361bfed99bf2bc73ef68cc3e', 'contentUrl': 'https://i3.ypcdn.com/blob/3f5db246aa4d9e86361bfed99bf2bc73ef68cc3e', 'thumbnailUrl': 'https://i3.ypcdn.com/blob/3f5db246aa4d9e86361bfed99bf2bc73ef68cc3e_400x260_crop.jpg'}, 'review': [], 'email': 'mailto:corey.movingandstorage@gmail.com'}\n",
      "{'@context': 'http://schema.org', '@type': 'http://schema.org/MovingCompany', '@id': '/atlanta-ga/mip/precise-moving-storage-520907099', 'name': 'Precise Moving & Storage', 'address': {'@type': 'PostalAddress', 'addressCountry': 'US', 'streetAddress': '414 Summer Terrace Ln', 'addressLocality': 'Atlanta', 'addressRegion': 'GA', 'postalCode': '30342'}, 'geo': {'@type': 'GeoCoordinates', 'latitude': 33.88684, 'longitude': -84.379364}, 'telephone': '(404) 905-2180', 'openingHours': ['Mo-Fr 09:00-17:00'], 'image': {'@type': 'ImageObject', 'url': 'https://i1.ypcdn.com/ypu/images/default-thumbnails/thumbnail-1.svg?addecef'}, 'review': [], 'url': 'https://www.precisemovingcorp.com', 'email': 'mailto:sales@moving-atlanta-georgia.com'}\n",
      "{'@context': 'http://schema.org', '@type': 'http://schema.org/MovingCompany', '@id': '/atlanta-ga/mip/colonial-van-lines-of-georgia-531180574', 'name': 'Colonial Van Lines of Georgia', 'address': {'@type': 'PostalAddress', 'addressCountry': 'US', 'streetAddress': '3330 Cumberland Blvd SE Ste 500', 'addressLocality': 'Atlanta', 'addressRegion': 'GA', 'postalCode': '30339'}, 'geo': {'@type': 'GeoCoordinates', 'latitude': 33.875557, 'longitude': -84.4583}, 'telephone': '(800) 409-7704', 'openingHours': ['Mo-Fr 09:00-21:00', 'Sa 09:00-19:00'], 'image': {'@type': 'ImageObject', 'url': 'https://i1.ypcdn.com/ypu/images/default-thumbnails/thumbnail-1.svg?addecef'}, 'review': [], 'paymentAccepted': 'all major credit cards', 'email': 'mailto:Info@ColonialVanLines.com'}\n",
      "{'@context': 'http://schema.org', '@type': 'http://schema.org/MovingCompany', '@id': '/atlanta-ga/mip/first-choice-movers-475323141', 'name': 'First Choice Movers', 'address': {'@type': 'PostalAddress', 'addressCountry': 'US', 'streetAddress': '4854 Old National Hwy', 'addressLocality': 'Atlanta', 'addressRegion': 'GA', 'postalCode': '30337'}, 'geo': {'@type': 'GeoCoordinates', 'latitude': 33.623142, 'longitude': -84.47417}, 'telephone': '(404) 596-3535', 'openingHours': ['Mo-Su 00:00-23:59'], 'image': {'@type': 'ImageObject', 'url': 'https://i1.ypcdn.com/ypu/images/default-thumbnails/thumbnail-1.svg?addecef'}, 'review': [], 'url': 'http://www.firstchoicemovers.com', 'paymentAccepted': 'no credit cards', 'email': 'mailto:lynhand@hotmail.com'}\n",
      "{'@context': 'http://schema.org', '@type': 'http://schema.org/MovingCompany', '@id': '/atlanta-ga/mip/move-it-asap-457938538', 'name': 'Move IT ASAP', 'address': {'@type': 'PostalAddress', 'addressCountry': 'US', 'streetAddress': '2386 Chamblee Tucker Rd', 'addressLocality': 'Atlanta', 'addressRegion': 'GA', 'postalCode': '30341'}, 'geo': {'@type': 'GeoCoordinates', 'latitude': 33.885853, 'longitude': -84.29343}, 'telephone': '(678) 768-2461', 'image': {'@type': 'ImageObject', 'url': 'https://i1.ypcdn.com/ypu/images/default-thumbnails/thumbnail-1.svg?addecef'}, 'review': [], 'url': 'http://www.moveitasap.com', 'paymentAccepted': 'amex, cash, check, discover, master card, visa', 'email': 'mailto:tattv28@aol.com'}\n",
      "{'@context': 'http://schema.org', '@type': 'http://schema.org/MovingCompany', '@id': '/atlanta-ga/mip/truck-and-i-557113999', 'name': 'Truck and i', 'address': {'@type': 'PostalAddress', 'addressCountry': 'US', 'streetAddress': '3287 Marjan Dr', 'addressLocality': 'Atlanta', 'addressRegion': 'GA', 'postalCode': '30340'}, 'geo': {'@type': 'GeoCoordinates', 'latitude': 33.884087, 'longitude': -84.26402}, 'telephone': '(404) 355-5151', 'openingHours': ['Mo-Fr 08:00-17:00'], 'image': {'@type': 'ImageObject', 'url': 'https://i3.ypcdn.com/blob/bff95cfd22ecd43da9f4f66925d99c243d210d92', 'contentUrl': 'https://i3.ypcdn.com/blob/bff95cfd22ecd43da9f4f66925d99c243d210d92', 'thumbnailUrl': 'https://i3.ypcdn.com/blob/bff95cfd22ecd43da9f4f66925d99c243d210d92_400x260_crop.jpg'}, 'review': [], 'url': 'https://truckandi.com', 'paymentAccepted': 'amex, cash, check, discover, master card, visa', 'email': 'mailto:moving@truckandi.com'}\n",
      "{'@context': 'http://schema.org', '@type': 'http://schema.org/MovingCompany', '@id': '/atlanta-ga/mip/milestone-relocation-solutions-inc-516029773', 'name': 'Milestone Relocation Solutions Inc.', 'address': {'@type': 'PostalAddress', 'addressCountry': 'US', 'streetAddress': '3070 Presidential Dr', 'addressLocality': 'Atlanta', 'addressRegion': 'GA', 'postalCode': '30340'}, 'geo': {'@type': 'GeoCoordinates', 'latitude': 33.886883, 'longitude': -84.26304}, 'telephone': '(404) 492-6889', 'openingHours': ['Mo-Fr 09:00-18:00', 'Sa 09:00-17:00'], 'image': {'@type': 'ImageObject', 'url': 'https://i1.ypcdn.com/ypu/images/default-thumbnails/thumbnail-1.svg?addecef'}, 'review': [{'@type': 'Review', 'itemReviewed': 'Milestone Relocation Solutions Inc.', 'author': {'@type': 'Person', 'name': 'ljderksen'}, 'reviewBody': 'My Milestone Relocation movers were great!  They carried my furniture and boxes down 3 flights of stairs without complaint and were very efficient.  A great moving company for a great price!', 'reviewRating': {'@type': 'Rating', 'ratingValue': 5}, 'datePublished': '2013-28-01'}, {'@type': 'Review', 'itemReviewed': 'Milestone Relocation Solutions Inc.', 'author': {'@type': 'Person', 'name': 'Tyffani_Thompson'}, 'reviewBody': 'Milestone Relocation did a very great job, despite the lateness they redeemed themselves. I would highly recommend them to others that I know of. Would definitely use them AGAIN!! ;-) Thanks!!! T. Thompson', 'reviewRating': {'@type': 'Rating', 'ratingValue': 5}, 'datePublished': '2012-17-12'}, {'@type': 'Review', 'itemReviewed': 'Milestone Relocation Solutions Inc.', 'author': {'@type': 'Person', 'name': 'araysor08'}, 'reviewBody': 'Milestone Relocation is very professional.  The movers were very professional and courteous.  My furniture was wrapped and handled with care.  I would definitely recommend Milestone Relocation for all of your moving needs!', 'reviewRating': {'@type': 'Rating', 'ratingValue': 4}, 'datePublished': '2012-06-12'}, {'@type': 'Review', 'itemReviewed': 'Milestone Relocation Solutions Inc.', 'author': {'@type': 'Person', 'name': 'anonymous'}, 'reviewBody': 'Superb experience with the company.  Moved from one city to another in North Carolina.  From the call into the office to get a quote, to the start, and completion of services.  I could not have asked for a better moving experience.  Movers were professional clearly knew what they were doing and fast.  Great attitudes all around and willing to help in any way possible to make the job easy for me.  Set up bed and frame and asked where I wanted big furniture items placed. Aiden and Ben were true moving professionals Price quoted was higher than the price I paid which was a nice surprise. HIGHLY RECOMMENDED!', 'reviewRating': {'@type': 'Rating', 'ratingValue': 5}, 'datePublished': '2012-20-11'}, {'@type': 'Review', 'itemReviewed': 'Milestone Relocation Solutions Inc.', 'author': {'@type': 'Person', 'name': 'redfeatheredboa'}, 'reviewBody': 'I moved from NY to NC and this company was absolutely wonderful to work with!  They were affordable, efficient, careful with my stuff and very hard workers.  Tori was great!  He never stopped once.  Thank you so much!', 'reviewRating': {'@type': 'Rating', 'ratingValue': 5}, 'datePublished': '2012-20-11'}, {'@type': 'Review', 'itemReviewed': 'Milestone Relocation Solutions Inc.', 'author': {'@type': 'Person', 'name': 'andrewstephenphotography'}, 'reviewBody': \"i.e., A local favorite, or highly recommended becauseCouldn't be happier with the service from Milestone Relocation Services. The three men we hired were very careful with our items. They were professional and worked as fast as they could. They only stopped to quickly eat and then went right back to work. I highly recommend them. Andrew Kilpatrick\", 'reviewRating': {'@type': 'Rating', 'ratingValue': 5}, 'datePublished': '2012-19-11'}, {'@type': 'Review', 'itemReviewed': 'Milestone Relocation Solutions Inc.', 'author': {'@type': 'Person', 'name': 'jenny'}, 'reviewBody': \"The movers arrived on schedule and began working right away. They took a few minutes to review the apartment and then promptly got started. They took great care with my property and finished within the estimated time.  I wouldn't hesitate to call them for my next move.\", 'reviewRating': {'@type': 'Rating', 'ratingValue': 4}, 'datePublished': '2012-14-11'}, {'@type': 'Review', 'itemReviewed': 'Milestone Relocation Solutions Inc.', 'author': {'@type': 'Person', 'name': 'cegmojica'}, 'reviewBody': 'Awesome moving company -- professional, courteous and ridiculously hard-working.  I honestly cannot believe how much was accomplished in such a short amount of time!  The loading, travel across the county and then the unloading was done promptly and quite affordably.  I highly recommend them!', 'reviewRating': {'@type': 'Rating', 'ratingValue': 5}, 'datePublished': '2012-12-11'}, {'@type': 'Review', 'itemReviewed': 'Milestone Relocation Solutions Inc.', 'author': {'@type': 'Person', 'name': 'grosato231'}, 'reviewBody': 'Guys showed up with 4 men rather than the 2 I was quoted for and finished the job an hour earlier than estimated! Still charged the original quote for 2 guys. Furniture was undamaged as were the walls in both locations.  Very nice, personable workers who took precautions with my things and got the job done quickly. What more can I ask for?', 'reviewRating': {'@type': 'Rating', 'ratingValue': 5}, 'datePublished': '2012-12-10'}, {'@type': 'Review', 'itemReviewed': 'Milestone Relocation Solutions Inc.', 'author': {'@type': 'Person', 'name': 'anonymous'}, 'reviewBody': 'Service was awesome! Movers did a great job and worked hard! Definitely worth the price!! Thank you for making my move successful!-Leigh k.', 'reviewRating': {'@type': 'Rating', 'ratingValue': 4}, 'datePublished': '2012-01-10'}, {'@type': 'Review', 'itemReviewed': 'Milestone Relocation Solutions Inc.', 'author': {'@type': 'Person', 'name': 'anonymous'}, 'reviewBody': 'The service was great and the movers were extremely helpful and careful with our belongings. I would definitely use them again!', 'reviewRating': {'@type': 'Rating', 'ratingValue': 4}, 'datePublished': '2012-23-09'}, {'@type': 'Review', 'itemReviewed': 'Milestone Relocation Solutions Inc.', 'author': {'@type': 'Person', 'name': 'anonymous'}, 'reviewBody': 'We really liked our movers, they did a fabulous job. I already recommended this company to some friends who are looking to move in the near future. Were very professional and enthusiastic throughout the whole time.', 'reviewRating': {'@type': 'Rating', 'ratingValue': 5}, 'datePublished': '2012-13-09'}, {'@type': 'Review', 'itemReviewed': 'Milestone Relocation Solutions Inc.', 'author': {'@type': 'Person', 'name': 'alwaysinlove16'}, 'reviewBody': \"Milestone relocation solutions helped me move this past Sunday and they were great. I had two guys and they were awesome, everything was moved in a timely manner, they were professional and they took good care of my stuff. The price was pretty great, better than other places I called. I'd recommend them to anyone!!\", 'reviewRating': {'@type': 'Rating', 'ratingValue': 5}, 'datePublished': '2012-25-07'}, {'@type': 'Review', 'itemReviewed': 'Milestone Relocation Solutions Inc.', 'author': {'@type': 'Person', 'name': 'margaret.l.purcell'}, 'reviewBody': 'My first time ever using movers - everything went smoothly and professional for a great price. I have recommended them to all my friends!', 'reviewRating': {'@type': 'Rating', 'ratingValue': 5}, 'datePublished': '2012-06-06'}, {'@type': 'Review', 'itemReviewed': 'Milestone Relocation Solutions Inc.', 'author': {'@type': 'Person', 'name': 'anonymous'}, 'reviewBody': \"Milestone was quick to call me back after I requested a quote. When I requested a morning move and none were available the office staff reached out to me the next day to ask if I wanted to switch from my previously scheduled afternoon time slot. The movers arrived on time, were efficient and were endlessly patient when I had issues with the management in my new apartment. The movers even drove me home from my storage unit so I didn't need a cab. It was a great experience!\", 'reviewRating': {'@type': 'Rating', 'ratingValue': 4}, 'datePublished': '2012-02-06'}, {'@type': 'Review', 'itemReviewed': 'Milestone Relocation Solutions Inc.', 'author': {'@type': 'Person', 'name': 'poonamgrewal20'}, 'reviewBody': 'I would have given five stars my movers came very late i was so angry that i wanted to cancel but it turns out that there is a corporate office and these people are sub contractors and the office double booked us. Well after that was clear the guys did an amazing job they were very quick and were very careful with my stuff. so would recommend them just check the time again.', 'reviewRating': {'@type': 'Rating', 'ratingValue': 4}, 'datePublished': '2012-08-05'}, {'@type': 'Review', 'itemReviewed': 'Milestone Relocation Solutions Inc.', 'author': {'@type': 'Person', 'name': 'ksteiner1921'}, 'reviewBody': 'I recently relocated from Baltimore MD to Pittsburgh PA. I had never used movers before since my father typically helps me with my moving. However, two weeks before my move my father became ill and was hospitalized. Not only did I have the stress from my father being sick but I also needed to figure out a new plan to get my belongings back to Pittsburgh. I contacted Milestone two weeks before my move (which I know is short notice) but they were extremely helpful with my situation. I moved on March 28th and was given a flat rate for my move. The movers arrived on time and moved everything out of my apartment in less than an hour which took me and my father about 6 hours to move when I had moved into the place! To say that they were very hard working is an understatement. Everything made it to Pittsburgh in one piece and in a timely manner.  I have to thank Milestone and my movers for making this move very easy and not adding any more stress to me during this stressful time!', 'reviewRating': {'@type': 'Rating', 'ratingValue': 5}, 'datePublished': '2012-12-04'}, {'@type': 'Review', 'itemReviewed': 'Milestone Relocation Solutions Inc.', 'author': {'@type': 'Person', 'name': 'ashlee.davis7'}, 'reviewBody': 'Never thought hiring movers was worth the money but I was definitely wrong.  My two movers were professional and hardworking. They worked from the moment they backed their truck up to the moment the last box was in my new home.  Everyone hates moving but Milestone made it manageable. Thanks guys!', 'reviewRating': {'@type': 'Rating', 'ratingValue': 5}, 'datePublished': '2012-15-01'}, {'@type': 'Review', 'itemReviewed': 'Milestone Relocation Solutions Inc.', 'author': {'@type': 'Person', 'name': 'Stefani P.'}, 'reviewBody': 'Excellent moving service! They were the best company I have ever worked with. Kind, professional, experienced and considerate of our belongings. I will definitely be using their services for future moves.', 'reviewRating': {'@type': 'Rating', 'ratingValue': 5}, 'datePublished': '2011-27-12'}, {'@type': 'Review', 'itemReviewed': 'Milestone Relocation Solutions Inc.', 'author': {'@type': 'Person', 'name': 'rp967'}, 'reviewBody': 'All went very well/. Guys were quick and efficient. Also budget friendly. This is the corporate company. My move was in Philadelphia', 'reviewRating': {'@type': 'Rating', 'ratingValue': 4}, 'datePublished': '2011-09-12'}], 'url': 'http://www.milestonerelocation.com/atlanta', 'paymentAccepted': 'all major credit cards', 'email': 'mailto:info@expedientmovers.net'}\n",
      "{'@context': 'http://schema.org', '@type': 'http://schema.org/MovingCompany', '@id': '/atlanta-ga/mip/smooth-move-movers-472725212', 'name': 'Smooth Move Movers', 'address': {'@type': 'PostalAddress', 'addressCountry': 'US', 'streetAddress': '2773 old farm rd', 'addressLocality': 'Atlanta', 'addressRegion': 'GA', 'postalCode': '30349'}, 'geo': {'@type': 'GeoCoordinates', 'latitude': 33.59113, 'longitude': -84.48022}, 'telephone': '(678) 984-3381', 'openingHours': ['Mo-Fr 07:00-14:00', 'Sa 07:00-17:00'], 'image': {'@type': 'ImageObject', 'url': 'https://i1.ypcdn.com/ypu/images/default-thumbnails/thumbnail-1.svg?addecef'}, 'paymentAccepted': 'cash only', 'email': 'mailto:bernarduniforms@att.net'}\n",
      "{'@context': 'http://schema.org', '@type': 'http://schema.org/MovingCompany', '@id': '/atlanta-ga/mip/atlanta-promove-inc-513749702', 'name': 'Atlanta Promove, Inc.', 'address': {'@type': 'PostalAddress', 'addressCountry': 'US', 'streetAddress': '1810 Water Pl SE', 'addressLocality': 'Atlanta', 'addressRegion': 'GA', 'postalCode': '30339'}, 'geo': {'@type': 'GeoCoordinates', 'latitude': 33.90751, 'longitude': -84.48439}, 'telephone': '(770) 666-2812', 'image': {'@type': 'ImageObject', 'url': 'https://i1.ypcdn.com/ypu/images/default-thumbnails/thumbnail-1.svg?addecef'}, 'review': [], 'url': 'http://www.atlantapromove.com', 'paymentAccepted': 'no credit cards', 'email': 'mailto:Support@atlantapromove.com'}\n",
      "{'@context': 'http://schema.org', '@type': 'http://schema.org/MovingCompany', '@id': '/atlanta-ga/mip/south-eastern-movers-504730606', 'name': 'South Eastern Movers', 'address': {'@type': 'PostalAddress', 'addressCountry': 'US', 'streetAddress': '1755 The Exchange SE Ste 208', 'addressLocality': 'Atlanta', 'addressRegion': 'GA', 'postalCode': '30339'}, 'geo': {'@type': 'GeoCoordinates', 'latitude': 33.909245, 'longitude': -84.4835}, 'telephone': '(844) 551-0835', 'image': {'@type': 'ImageObject', 'url': 'https://i1.ypcdn.com/ypu/images/default-thumbnails/thumbnail-1.svg?addecef'}, 'review': [], 'email': 'mailto:info@unitedmoversofamerica.com'}\n",
      "{'@context': 'http://schema.org', '@type': 'http://schema.org/MovingCompany', '@id': '/atlanta-ga/mip/lift-it-520598634', 'name': 'Lift It', 'address': {'@type': 'PostalAddress', 'addressCountry': 'US', 'streetAddress': '303 Perimeter Ctr N', 'addressLocality': 'Atlanta', 'addressRegion': 'GA', 'postalCode': '30346'}, 'geo': {'@type': 'GeoCoordinates', 'latitude': 33.92906, 'longitude': -84.33524}, 'telephone': '(678) 790-1693', 'openingHours': ['Mo-Fr 09:00-17:00', 'Su 10:00-16:00'], 'image': {'@type': 'ImageObject', 'url': 'https://i1.ypcdn.com/blob/d9bd6d68387fd6026bcfbe22b5c193a6f21e31b3', 'contentUrl': 'https://i1.ypcdn.com/blob/d9bd6d68387fd6026bcfbe22b5c193a6f21e31b3', 'thumbnailUrl': 'https://i1.ypcdn.com/blob/d9bd6d68387fd6026bcfbe22b5c193a6f21e31b3_400x260_crop.jpg'}, 'review': [], 'paymentAccepted': 'all major credit cards, amex, cash, debit, discover, master card, visa', 'email': 'mailto:info@liftitmovingco.com'}\n",
      "{'@context': 'http://schema.org', '@type': 'http://schema.org/MovingCompany', '@id': '/atlanta-ga/mip/beltmann-moving-storage-co-472630512', 'name': 'Beltmann Moving & Storage Co', 'address': {'@type': 'PostalAddress', 'addressCountry': 'US', 'streetAddress': '7030 Buford Hwy NE', 'addressLocality': 'Atlanta', 'addressRegion': 'GA', 'postalCode': '30340'}, 'geo': {'@type': 'GeoCoordinates', 'latitude': 33.92237, 'longitude': -84.25283}, 'telephone': '(770) 368-0724', 'image': {'@type': 'ImageObject', 'url': 'https://i1.ypcdn.com/ypu/images/default-thumbnails/thumbnail-1.svg?addecef'}, 'review': [], 'url': 'http://www.northamerican.com', 'email': 'mailto:webmaster@beltmann.com'}\n",
      "{'@context': 'http://schema.org', '@type': 'http://schema.org/MovingCompany', '@id': '/atlanta-ga/mip/atlanta-peach-movers-474044060', 'name': 'Atlanta Peach Movers', 'address': {'@type': 'PostalAddress', 'addressCountry': 'US', 'streetAddress': '2911 Northeast Pkwy', 'addressLocality': 'Atlanta', 'addressRegion': 'GA', 'postalCode': '30360'}, 'geo': {'@type': 'GeoCoordinates', 'latitude': 33.92622, 'longitude': -84.2598}, 'telephone': '(770) 447-5121', 'openingHours': ['Mo-Fr 08:00-17:00'], 'image': {'@type': 'ImageObject', 'url': 'https://i1.ypcdn.com/ypu/images/default-thumbnails/thumbnail-1.svg?addecef'}, 'review': [], 'url': 'http://www.atlpeachmovers.com', 'paymentAccepted': 'discover, visa, debit, amex, check, all major credit cards, mastercard', 'email': 'mailto:jobs@atlpeachmovers.com'}\n",
      "{'@context': 'http://schema.org', '@type': 'http://schema.org/MovingCompany', '@id': '/atlanta-ga/mip/truck-and-i-inc-7098403', 'name': 'Truck and I Inc', 'address': {'@type': 'PostalAddress', 'addressCountry': 'US', 'streetAddress': '2924 Amwiler Rd', 'addressLocality': 'Atlanta', 'addressRegion': 'GA', 'postalCode': '30360'}, 'geo': {'@type': 'GeoCoordinates', 'latitude': 33.927418, 'longitude': -84.25924}, 'telephone': '(770) 903-5151', 'image': {'@type': 'ImageObject', 'url': 'https://i1.ypcdn.com/ypu/images/default-thumbnails/thumbnail-1.svg?addecef'}, 'review': [], 'email': 'mailto:optout@truckandi.com'}\n",
      "{'@context': 'http://schema.org', '@type': 'http://schema.org/MovingCompany', '@id': '/atlanta-ga/mip/a-mothers-touch-movers-inc-460474378', 'name': \"A Mother's Touch Movers Inc\", 'address': {'@type': 'PostalAddress', 'addressCountry': 'US', 'streetAddress': '405 Barrington Hills Dr', 'addressLocality': 'Atlanta', 'addressRegion': 'GA', 'postalCode': '30350'}, 'geo': {'@type': 'GeoCoordinates', 'latitude': 33.975945, 'longitude': -84.359146}, 'telephone': '(770) 587-9598', 'openingHours': ['Mo-Su 07:00-19:00'], 'image': {'@type': 'ImageObject', 'url': 'https://i1.ypcdn.com/ypu/images/default-thumbnails/thumbnail-1.svg?addecef'}, 'review': [], 'url': 'http://atlantabestmovers.com', 'paymentAccepted': 'all major credit cards', 'email': 'mailto:richard@amotherstouchmoversinc.com'}\n",
      "{'@context': 'http://schema.org', '@type': 'http://schema.org/MovingCompany', '@id': '/atlanta-ga/mip/freedom-moving-storage-477444508', 'name': 'Freedom Moving & Storage', 'address': {'@type': 'PostalAddress', 'addressCountry': 'US', 'streetAddress': '8601 Dunwoody Pl', 'addressLocality': 'Atlanta', 'addressRegion': 'GA', 'postalCode': '30350'}, 'geo': {'@type': 'GeoCoordinates', 'latitude': 33.989902, 'longitude': -84.34214}, 'telephone': '(678) 352-4580', 'image': {'@type': 'ImageObject', 'url': 'https://i1.ypcdn.com/ypu/images/default-thumbnails/thumbnail-1.svg?addecef'}, 'review': [], 'email': 'mailto:andy@freedommovers.net'}\n",
      "{'@context': 'http://schema.org', '@type': 'http://schema.org/MovingCompany', '@id': '/atlanta-ga/mip/angels-heart-movers-464650883', 'name': 'Angels Heart Movers', 'address': {'@type': 'PostalAddress', 'addressCountry': 'US', 'streetAddress': '804 Riverrun Dr', 'addressLocality': 'Atlanta', 'addressRegion': 'GA', 'postalCode': '30350'}, 'geo': {'@type': 'GeoCoordinates', 'latitude': 34.00228, 'longitude': -84.33864}, 'telephone': '(404) 313-7474', 'openingHours': ['Mo-Su 00:00-23:59'], 'image': {'@type': 'ImageObject', 'url': 'https://i1.ypcdn.com/ypu/images/default-thumbnails/thumbnail-1.svg?addecef'}, 'review': [], 'url': 'http://angelheartmovers.com', 'paymentAccepted': 'amex, discover, master card, visa, check, cash', 'email': 'mailto:david@angelheartmovers.info'}\n",
      "{'@context': 'http://schema.org', '@type': 'http://schema.org/MovingCompany', '@id': '/atlanta-ga/mip/go-pro-movers-llc-543628572', 'name': 'Go Pro Movers LLC', 'address': {'@type': 'PostalAddress', 'addressCountry': 'US', 'addressLocality': 'Atlanta', 'addressRegion': 'GA', 'postalCode': '30344'}, 'telephone': '(470) 449-3980', 'image': {'@type': 'ImageObject', 'url': 'https://i1.ypcdn.com/ypu/images/default-thumbnails/thumbnail-1.svg?addecef'}, 'review': [], 'email': 'mailto:global070@gmail.com'}\n",
      "{'@context': 'http://schema.org', '@type': 'http://schema.org/MovingCompany', '@id': '/atlanta-ga/mip/make-a-move-468391817', 'name': 'Make a Move', 'address': {'@type': 'PostalAddress', 'addressCountry': 'US', 'streetAddress': '1530 Carroll Dr NW', 'addressLocality': 'Atlanta', 'addressRegion': 'GA', 'postalCode': '30318'}, 'aggregateRating': {'@type': 'AggregateRating', 'ratingValue': 3.5, 'reviewCount': 3}, 'geo': {'@type': 'GeoCoordinates', 'latitude': 33.802338, 'longitude': -84.438}, 'telephone': '(404) 437-6338', 'openingHours': ['Mo-Sa 09:00-18:00', 'Su 09:00-13:00'], 'image': {'@type': 'ImageObject', 'url': 'https://i1.ypcdn.com/ypu/images/default-thumbnails/thumbnail-1.svg?addecef'}, 'review': [{'@type': 'Review', 'itemReviewed': 'Make a Move', 'author': {'@type': 'Person', 'name': 'Kim J.'}, 'reviewBody': 'THE WORST EXPERIENCE EVER!! Don\\'t use this company at all.  They will quote you one price over the phone and add on extra costs after the move.  They scratched several of my doors while moving large items, and even used my restroom without asking (and leaving a foul smell in my home)  I was very unhappy and demanded to speak with the owner, who never is in the \"office\"  You will always get one guy \"Johhny\" on a cell phone and there is no office. Very unprofessional!', 'reviewRating': {'@type': 'Rating', 'ratingValue': 1}, 'datePublished': '2014-22-01'}, {'@type': 'Review', 'itemReviewed': 'Make a Move', 'author': {'@type': 'Person', 'name': 'patricklobo'}, 'reviewBody': 'My friend told me about this company when i was looking for Moving company for my residential Move. as per his suggestion i contact with them and in a quick response they send me quotation about my moving. it was nice and i sign a contract with them. next day they start with their work and it was nice service. each and every accessories they handle carefully. it was a nice quality service and actually a cost effective. if anyone is looking for moving service then i will surely recommend Make A Move.', 'reviewRating': {'@type': 'Rating', 'ratingValue': 5}, 'datePublished': '2013-25-03'}, {'@type': 'Review', 'itemReviewed': 'Make a Move', 'author': {'@type': 'Person', 'name': 'dadhubby'}, 'reviewBody': \"I moved my family from Buckhead to Peachtree City recently.  We moved from a 6 bedroom house to an 7 bedroom house. We used Make A Move for our move.  I've used all types of movers before for corporate relocation but this was definitely my best experience.  What made my experience great was that they came and did the move with no issue but also what was refreshing is that things were so transparent.  In other words, they did exactly what they said they would do and the cost was clear and accurate.  Lastly, their movers were quality people that worked hard.  All in all, it was the easiest move I've had.\", 'reviewRating': {'@type': 'Rating', 'ratingValue': 5}, 'datePublished': '2012-22-10'}], 'url': 'http://www.makeamoveusa.com', 'paymentAccepted': 'debit, check, paypal, all major credit cards', 'location': {'@type': 'Place', 'description': '30309, 30308, 30306, 30324, 30307, 30318, 30030, 30033, 30319, 30329, 30312, 30339, 30345, 30341, 30340, 30080, 30328, 30342, 30022, 30004, 30067, 30327, 30060, 30068, 30350, 30338, 30075, 30076, 30024, 30043'}, 'email': 'mailto:info@makeamoveatl.com'}\n",
      "{'@context': 'http://schema.org', '@type': 'http://schema.org/MovingCompany', '@id': '/atlanta-ga/mip/bekins-van-lines-470297215', 'name': 'Bekins Van Lines', 'address': {'@type': 'PostalAddress', 'addressCountry': 'US', 'streetAddress': '3141 Vivian Sykes St', 'addressLocality': 'Atlanta', 'addressRegion': 'GA', 'postalCode': '30344'}, 'aggregateRating': {'@type': 'AggregateRating', 'ratingValue': 1, 'reviewCount': 1}, 'geo': {'@type': 'GeoCoordinates', 'latitude': 33.669323, 'longitude': -84.43704}, 'telephone': '(404) 761-6668', 'image': {'@type': 'ImageObject', 'url': 'https://i1.ypcdn.com/ypu/images/default-thumbnails/thumbnail-1.svg?addecef'}, 'review': [{'@type': 'Review', 'itemReviewed': 'Bekins Van Lines', 'author': {'@type': 'Person', 'name': 'Jeremy W.'}, 'reviewBody': 'I work for a moving and storage company in San Diego. It is my job to reach out to other moving companies throughout the United States to coordinate moves for my customers. The interaction that I just had with this company was HORRIFIC.  The first time I called someone answered the phone then immediately hung up. So I called back and someone answered the phone, I asked if they had a forklift at their facility (so they could receive a freight shipment of my customers portable storage box). The man on the phone said \"Sure, you give me $100 and I\\'ll sell you a forklift.\" Laughed, then hung up the phone. Thinking this clearly must be a misunderstanding, I called back and this time a man by the name of Josh. I said I was looking for a mover and he said \"nope, can\\'t help you\" and hung up in my face. If this is the way they treat prospective customer I shudder to think how they treat people who have already signed up with them. Please, I urge anyone who reads this review to STAY FAR AWAY FROM THIS COMPANY!', 'reviewRating': {'@type': 'Rating', 'ratingValue': 1}, 'datePublished': '2018-18-05'}], 'email': 'mailto:info@movesusa.com'}\n",
      "{'@context': 'http://schema.org', '@type': 'http://schema.org/MovingCompany', '@id': '/atlanta-ga/mip/atlas-van-lines-460328177', 'name': 'Atlas Van Lines', 'address': {'@type': 'PostalAddress', 'addressCountry': 'US', 'streetAddress': '5290 Westgate Dr SW Ste B', 'addressLocality': 'Atlanta', 'addressRegion': 'GA', 'postalCode': '30336'}, 'geo': {'@type': 'GeoCoordinates', 'latitude': 33.741356, 'longitude': -84.561646}, 'telephone': '(404) 305-1940', 'openingHours': ['Mo-Fr 08:00-17:00'], 'image': {'@type': 'ImageObject', 'url': 'https://i1.ypcdn.com/ypu/images/default-thumbnails/thumbnail-1.svg?addecef'}, 'review': [], 'url': 'http://www.danielmovingsystems.com', 'paymentAccepted': 'all major credit cards, master card, visa', 'email': 'mailto:bdaniel@danielmovingsystems.com'}\n",
      "{'@context': 'http://schema.org', '@type': 'http://schema.org/MovingCompany', '@id': '/atlanta-ga/mip/daniel-moving-systems-22699147', 'name': 'Daniel Moving Systems', 'address': {'@type': 'PostalAddress', 'addressCountry': 'US', 'streetAddress': '6025 Lagrange Blvd SW', 'addressLocality': 'Atlanta', 'addressRegion': 'GA', 'postalCode': '30336'}, 'geo': {'@type': 'GeoCoordinates', 'latitude': 33.72189, 'longitude': -84.59109}, 'telephone': '(404) 305-1940', 'openingHours': ['Mo-Fr 08:00-17:00', 'Sa 08:00-12:00'], 'image': {'@type': 'ImageObject', 'url': 'https://i1.ypcdn.com/ypu/images/default-thumbnails/thumbnail-1.svg?addecef'}, 'review': [], 'url': 'http://www.danielmovingsystems.com', 'paymentAccepted': 'all major credit cards, amex, cash, check, debit, master card, visa', 'email': 'mailto:bdaniel@danielmovingsystems.com'}\n",
      "{'@context': 'http://schema.org', '@type': 'http://schema.org/MovingCompany', '@id': '/atlanta-ga/mip/moving-boxes-of-atlanta-466421709', 'name': 'Moving Boxes of Atlanta', 'address': {'@type': 'PostalAddress', 'addressCountry': 'US', 'streetAddress': '2911 Northeast Pkwy', 'addressLocality': 'Atlanta', 'addressRegion': 'GA', 'postalCode': '30360'}, 'geo': {'@type': 'GeoCoordinates', 'latitude': 33.92622, 'longitude': -84.2598}, 'telephone': '(770) 447-5031', 'image': {'@type': 'ImageObject', 'url': 'https://i1.ypcdn.com/ypu/images/default-thumbnails/thumbnail-1.svg?addecef'}, 'review': [], 'email': 'mailto:mlynch@atlpeachmovers.com'}\n",
      "{'@context': 'http://schema.org', '@type': 'http://schema.org/MovingCompany', '@id': '/atlanta-ga/mip/moving-boxes-of-atlanta-466421709', 'name': 'Moving Boxes of Atlanta', 'address': {'@type': 'PostalAddress', 'addressCountry': 'US', 'streetAddress': '2911 Northeast Pkwy', 'addressLocality': 'Atlanta', 'addressRegion': 'GA', 'postalCode': '30360'}, 'geo': {'@type': 'GeoCoordinates', 'latitude': 33.92622, 'longitude': -84.2598}, 'telephone': '(770) 447-5031', 'image': {'@type': 'ImageObject', 'url': 'https://i1.ypcdn.com/ypu/images/default-thumbnails/thumbnail-1.svg?addecef'}, 'review': [], 'email': 'mailto:mlynch@atlpeachmovers.com'}\n",
      "{'@context': 'http://schema.org', '@type': 'http://schema.org/LocalBusiness', '@id': '/atlanta-ga/mip/movers-van-lines-inc-525621149', 'name': \"MOVER'S VAN LINES INC\", 'address': {'@type': 'PostalAddress', 'addressCountry': 'US', 'streetAddress': '2000 Clearview Ave Ste 208', 'addressLocality': 'Atlanta', 'addressRegion': 'GA', 'postalCode': '30340'}, 'aggregateRating': {'@type': 'AggregateRating', 'ratingValue': 5, 'reviewCount': 184}, 'geo': {'@type': 'GeoCoordinates', 'latitude': 33.901196, 'longitude': -84.27415}, 'telephone': '(770) 615-8972', 'openingHours': ['Mo-Fr 09:00-17:00'], 'image': {'@type': 'ImageObject', 'url': 'https://i3.ypcdn.com/blob/5501857a19ac72500e23a7543499799340419373', 'contentUrl': 'https://i3.ypcdn.com/blob/5501857a19ac72500e23a7543499799340419373', 'thumbnailUrl': 'https://i3.ypcdn.com/blob/5501857a19ac72500e23a7543499799340419373_400x260_crop.jpg'}, 'review': [{'@type': 'Review', 'itemReviewed': \"MOVER'S VAN LINES INC\", 'author': {'@type': 'Person', 'name': 'Kenneth P.'}, 'reviewBody': 'Movers van lines earned my respect given the way they handled my last move. Their quote wasn’t the lowest. But the guy on the phone explained exactly where my money was going. They could have easily lower their prices and send inefficient movers. But their movers provided great value for my money. They were excellently trained and very skilled. I got the proof when all my belongings were delivered without any damages. I couldn’t believe how reliable they turned out to be.', 'reviewRating': {'@type': 'Rating', 'ratingValue': 5}, 'datePublished': '2019-14-09'}, {'@type': 'Review', 'itemReviewed': \"MOVER'S VAN LINES INC\", 'author': {'@type': 'Person', 'name': 'Dennis C.'}, 'reviewBody': 'After moving uncountable times, I guess I can call myself a moving expert. In the midst of many moving companies, I found Movers van lines to be quite different from others. First of all, they charged me very reasonably while they moved my things. Their crew showed up on time and they were very efficient. The whole packing and loading process was completed sincerely. They delivered all my things on time and in great condition. This company is nothing like the inefficient yet costly ones I had hired before.', 'reviewRating': {'@type': 'Rating', 'ratingValue': 5}, 'datePublished': '2019-12-09'}, {'@type': 'Review', 'itemReviewed': \"MOVER'S VAN LINES INC\", 'author': {'@type': 'Person', 'name': 'Kenneth C.'}, 'reviewBody': \"Movers van lines made my last move seem too easy. I don't know how the company does it. They employ the best movers yet charge so less. The crew I got was outstanding. The four men worked tirelessly to pack up my years of hoardings into boxes. They did so in a very short amount of time. I was given a very wide window for delivery. But luckily they managed to deliver within a week. I was just so glad to see all my valuables intact again. They unpacked and put things in place. I have no issues about recommending them after such a good job.\", 'reviewRating': {'@type': 'Rating', 'ratingValue': 5}, 'datePublished': '2019-09-09'}, {'@type': 'Review', 'itemReviewed': \"MOVER'S VAN LINES INC\", 'author': {'@type': 'Person', 'name': 'Charles M.'}, 'reviewBody': \"This was my first time hiring movers to move my stuff, and it was definitely well worth it. It is not that much more than renting a truck and equipment yourself, and then you have to recruit people to help and move all the heavy stuff yourself. These movers were flexible (I changed my pickup location about 2 hrs before the pickup time) and they could do multiple pickups with no extra charge. They also squeezed a very large couch through a tiny door. I really didn't think it would fit. I'd definitely recommend Movers van lines and will probably use them the next time I need to move!\", 'reviewRating': {'@type': 'Rating', 'ratingValue': 5}, 'datePublished': '2019-06-09'}, {'@type': 'Review', 'itemReviewed': \"MOVER'S VAN LINES INC\", 'author': {'@type': 'Person', 'name': 'Peter R.'}, 'reviewBody': 'I forgot how many times I relocated in my professional life. That’s way too many moves. I have hired Movers van lines for my fourth move and I stuck with them since then. They are still as professional and efficient. The last time I hired them was a few months back. These guys are so efficient that it never takes them too long to finish wrapping my entire houses. The crew is always friendly and helpful. There have been situations where they had to deal with heavy pieces of furniture, a tricky door or a narrow hallway. But the movers always found a way to solve the issues. I advise everyone to hire them as well.', 'reviewRating': {'@type': 'Rating', 'ratingValue': 5}, 'datePublished': '2019-05-09'}, {'@type': 'Review', 'itemReviewed': \"MOVER'S VAN LINES INC\", 'author': {'@type': 'Person', 'name': 'Timmy B.'}, 'reviewBody': 'I was not sure how any mover could get my dodgy furniture out of that shoebox I called home. The movers from Movers van lines arrived on time and started packing. I wasn’t really concerned about that part though. When it came to carrying big pieces out, I started to panic. But the movers seemed quite unmoved. They put their efforts together and handled the job quite efficiently. There was no delay anywhere and they managed to deliver on time as well. I don’t know how they do it but my move with them went perfectly.', 'reviewRating': {'@type': 'Rating', 'ratingValue': 5}, 'datePublished': '2019-02-09'}, {'@type': 'Review', 'itemReviewed': \"MOVER'S VAN LINES INC\", 'author': {'@type': 'Person', 'name': 'Eugene C.'}, 'reviewBody': 'I decided to use the services of Movers van lines, and I have no regrets. Previously I used various moving companies who got everything wrong - damaging my possessions and late delivery, not to mention their tendency to overcharge. However, I’m so glad about the professional service of Movers van lines, with their courteous and helpful team. I suggest them anytime. I suggest this company to everyone! The company assisted me as well as my family to relocate all our possessions in a reasonable time which was very convenient for us. Their approach and work were professional and careful. Their demonstrated great skills in relocation and their organization endowed us with a safe and fast delivery of all our things. I recommend this moving company to everyone.', 'reviewRating': {'@type': 'Rating', 'ratingValue': 5}, 'datePublished': '2019-30-08'}, {'@type': 'Review', 'itemReviewed': \"MOVER'S VAN LINES INC\", 'author': {'@type': 'Person', 'name': 'Jesse R.'}, 'reviewBody': 'About a fortnight ago, I moved to Arizona. In my mind, I knew it was going to be one hectic and tiresome experience. Even when I was hiring a relocation company, I kept it fixed in my mind that the whole things were going to be tedious. It, therefore, came as a big surprise when what had been expected to be very involving turned out to be so much enjoyable. Movers van lines made it appear not only awesome but also manageable. I thank them so much for the good work and hope they will keep it so.', 'reviewRating': {'@type': 'Rating', 'ratingValue': 5}, 'datePublished': '2019-28-08'}, {'@type': 'Review', 'itemReviewed': \"MOVER'S VAN LINES INC\", 'author': {'@type': 'Person', 'name': 'Bruce L.'}, 'reviewBody': \"This was my first time using a moving company; I never thought that I would ever hire movers to relocate my valuables to another house. I heard all the horror stories about the moving industry and how all the people are getting scammed. Not with these guys! First of all I would like to thank the moving consultant for his help and making me feel a little bit more comfortable at the first stages. Once the moving date came all the tension and stress disappeared the minute after the huge Movers van lines truck showed up 15 min before the scheduled time. 3 guys jumped out and started to rock'n'roll. The guys were working like horses - fast and with extra high quality! So it turned out that the guys are brothers, almost twins and they are total pros. I would definitely use this company the next time I move.\", 'reviewRating': {'@type': 'Rating', 'ratingValue': 5}, 'datePublished': '2019-26-08'}, {'@type': 'Review', 'itemReviewed': \"MOVER'S VAN LINES INC\", 'author': {'@type': 'Person', 'name': 'Albert W.'}, 'reviewBody': 'This was a very new and interesting experience for us. The last time we moved here to be about 15 years ago and things have changed a lot. Back then it was only a handful of companies doing all the work nowadays you get cost them over ten companies. We got to see what was out there and we felt Movers van lines was the best choice for us. They came on time and never changed the price once. The delivery was even faster which was impressive. It was a move out of a dream. Everyone was so nice and willing to help. Remember the name Movers van lines.', 'reviewRating': {'@type': 'Rating', 'ratingValue': 5}, 'datePublished': '2019-23-08'}, {'@type': 'Review', 'itemReviewed': \"MOVER'S VAN LINES INC\", 'author': {'@type': 'Person', 'name': 'Shawn M.'}, 'reviewBody': 'Movers van lines did an amazing job with helping me move. Some companies I had used in the past had broken a multitude of small, fragile items while transporting them, but these guys didn’t break or damage anything. Not one dang thing!!! Additionally, many companies I had used before would take a very long time to transport my items. I’m talking weeks... They moved my items in merely days. I have nothing but praise for them doing a job well done.', 'reviewRating': {'@type': 'Rating', 'ratingValue': 5}, 'datePublished': '2019-22-08'}, {'@type': 'Review', 'itemReviewed': \"MOVER'S VAN LINES INC\", 'author': {'@type': 'Person', 'name': 'Jimmy M.'}, 'reviewBody': 'The movers came with their moving truck, moving tools and sufficient wraps at the stipulated time. They started the work immediately after inspecting the things to be moved. The guys ensured that everything was sufficiently wrapped before putting them into boxes so as to be sure they won’t be scratched. They managed to finish the packing and loading in two-and-a-half hours and started the journey to my new residence. Everything was brought in perfect condition and it was a perfect move by the flawless Movers van lines.', 'reviewRating': {'@type': 'Rating', 'ratingValue': 5}, 'datePublished': '2019-20-08'}, {'@type': 'Review', 'itemReviewed': \"MOVER'S VAN LINES INC\", 'author': {'@type': 'Person', 'name': 'Martin M.'}, 'reviewBody': 'I hired Movers van lines simply because they quoted quite low and I was short on cash. I wasn’t expecting much from them but they really astonished me. The crew of 4 men was very effective. They were experienced and highly skilled. Their packing skills were out of this world. I never imagined how professional packing could look like. Everything was taken care of by these men and we didn’t even have to lift a finger. They delivered everything in great condition and unpacked everything into the right rooms. I wasn’t expecting such a remarkable job with that price tag.', 'reviewRating': {'@type': 'Rating', 'ratingValue': 5}, 'datePublished': '2019-18-08'}, {'@type': 'Review', 'itemReviewed': \"MOVER'S VAN LINES INC\", 'author': {'@type': 'Person', 'name': 'Robert A.'}, 'reviewBody': 'Movers van lines helped me move last month and it was a very easy move. They quoted me reasonably and promised to send capable movers. The movers arrived on time and were carrying the right tools. They were very efficient. They packed all my belongings with great care and precision. They loaded my furniture into the van with caution. The delivery was made on time and I couldn’t find anything to fault with.', 'reviewRating': {'@type': 'Rating', 'ratingValue': 5}, 'datePublished': '2019-15-08'}, {'@type': 'Review', 'itemReviewed': \"MOVER'S VAN LINES INC\", 'author': {'@type': 'Person', 'name': 'Dennis W.'}, 'reviewBody': 'I was absolutely blown away by the way Movers van lines handled my last move. They gave me the lowest quote which they stuck to till the end. The movers showed up on time and they were very well organized. They packed all my things immaculately into boxes. My breakables received some extra attention from the movers. They used a lot of packing materials which resulted into a safe delivery of my valuables. Most of it was free so I had nothing to worry about. I have to give credits to Movers van lines for performing so well on such a low price.', 'reviewRating': {'@type': 'Rating', 'ratingValue': 5}, 'datePublished': '2019-13-08'}, {'@type': 'Review', 'itemReviewed': \"MOVER'S VAN LINES INC\", 'author': {'@type': 'Person', 'name': 'Sean F.'}, 'reviewBody': \"I had Movers van lines bring down my son's motorcycle, some boxes and a few furniture items.  They were reasonably priced and I am very happy with the job that they did.  I would use them again and recommend them to my friends (which I actually did - they also moved some things for my friend’s mother and everything went perfectly). I had NO issues during the move and everything was received in the same condition that I gave it to them.\", 'reviewRating': {'@type': 'Rating', 'ratingValue': 5}, 'datePublished': '2019-10-08'}, {'@type': 'Review', 'itemReviewed': \"MOVER'S VAN LINES INC\", 'author': {'@type': 'Person', 'name': 'Kenneth R.'}, 'reviewBody': 'I lived in a 5th floor walkup apartment. I was quite worried thinking how the movers would get all my belongings out through five sets of staircases. But the movers from Movers van lines got through them quite effortlessly. I suppose these men have experienced similar cases and they knew exactly how to tackle the job. The four men arrived right on time and got to work. The finished packing everything in no time at all. Then they started carrying the boxes down the stairs. Once all the boxes were downstairs, they carried big pieces of furniture one at a time. The collaboration among the men was impressive. They kept pushing each other to finish the job and showed no sign of being tired. I was exhausted just by watching them. God knows how they do it! I have gained some serious respect for these guys.', 'reviewRating': {'@type': 'Rating', 'ratingValue': 5}, 'datePublished': '2019-09-08'}, {'@type': 'Review', 'itemReviewed': \"MOVER'S VAN LINES INC\", 'author': {'@type': 'Person', 'name': 'Peter J.'}, 'reviewBody': 'We lived in our house for our whole lives and so naturally relocation seemed like a trauma. Besides, our friends kept telling us about the moving companies being total disasters. Unfortunately, we just had to hire one. We hired Movers van lines simply because they quoted the lowest and we couldn’t afford the fancy ones. This company turned out to be very professional. They sent over 4 movers who were all efficient. Every time they were confused about something, they didn’t hesitate to ask. They followed our instructions very well. In the end, all our items were securely delivered. I don’t know why people keep complaining about moving companies. Our move went really well.', 'reviewRating': {'@type': 'Rating', 'ratingValue': 5}, 'datePublished': '2019-07-08'}, {'@type': 'Review', 'itemReviewed': \"MOVER'S VAN LINES INC\", 'author': {'@type': 'Person', 'name': 'Benjamin J.'}, 'reviewBody': 'While moving last month, I hired Movers van lines to handle the move. My wife was quite skeptical about them. But I knew about their reputation. They proved me right. Everything about these guys was so professional. They were punctual and punctuality is a hard thing to find these days. Our belongings were very safely transported by the capable and experienced movers. There was not even a scratch on them when they were delivered. It was a fun and fast move and we thoroughly enjoyed it.', 'reviewRating': {'@type': 'Rating', 'ratingValue': 5}, 'datePublished': '2019-03-08'}, {'@type': 'Review', 'itemReviewed': \"MOVER'S VAN LINES INC\", 'author': {'@type': 'Person', 'name': 'Stephen G.'}, 'reviewBody': 'I needed to hire a moving company to move my things and it just happened to be Movers van lines. They are extraordinary. They showed up on time and worked very efficiently. With amazing pace and efficiency, they finished packing and loading everything from my 3-bed house. I give credit where credit is due and these movers deserve all the credits I can give them. The delivery was made on time and everything arrived in great condition. This company is just totally awesome.', 'reviewRating': {'@type': 'Rating', 'ratingValue': 5}, 'datePublished': '2019-29-07'}], 'url': 'http://www.movervanlines.com', 'paymentAccepted': 'all major credit cards, debit, visa, discover, mastercard', 'email': 'mailto:info@movervanlines.com'}\n",
      "{'@context': 'http://schema.org', '@type': 'http://schema.org/LocalBusiness', '@id': '/atlanta-ga/mip/total-moving-services-20521765', 'name': 'Total Moving Services', 'address': {'@type': 'PostalAddress', 'addressCountry': 'US', 'streetAddress': '2175 Piedmont Rd NE', 'addressLocality': 'Atlanta', 'addressRegion': 'GA', 'postalCode': '30324'}, 'aggregateRating': {'@type': 'AggregateRating', 'ratingValue': 4, 'reviewCount': 8}, 'geo': {'@type': 'GeoCoordinates', 'latitude': 33.81692, 'longitude': -84.36658}, 'telephone': '(678) 920-4828', 'openingHours': ['Mo-Fr 09:00-20:00', 'Sa 09:00-21:00', 'Su 09:30-19:00'], 'image': {'@type': 'ImageObject', 'url': 'https://i3.ypcdn.com/blob/9762050db28035a7130ab943ccf308fb65a292f5', 'contentUrl': 'https://i3.ypcdn.com/blob/9762050db28035a7130ab943ccf308fb65a292f5', 'thumbnailUrl': 'https://i3.ypcdn.com/blob/9762050db28035a7130ab943ccf308fb65a292f5_400x260_crop.jpg'}, 'review': [{'@type': 'Review', 'itemReviewed': 'Total Moving Services', 'author': {'@type': 'Person', 'name': 'Ashton P.'}, 'reviewBody': 'They did a great job, moved fast, utilized all their resources and were professional. I would definitely use them again for my next move!', 'reviewRating': {'@type': 'Rating', 'ratingValue': 5}, 'datePublished': '2014-14-12'}, {'@type': 'Review', 'itemReviewed': 'Total Moving Services', 'author': {'@type': 'Person', 'name': 'donnalw'}, 'reviewBody': 'I will write my review after I hear back from Gerald.  Please call me with the status of our furniture.', 'reviewRating': {'@type': 'Rating', 'ratingValue': 1}, 'datePublished': '2011-14-11'}, {'@type': 'Review', 'itemReviewed': 'Total Moving Services', 'author': {'@type': 'Person', 'name': 'jeffca'}, 'reviewBody': 'We called Total Moving and got everything set up and  even had to postpone our move at the last minute due to some fix-ups at the new place. They worked with us and gave us a very fair price. His workers were very professional and finished up the move with time to spare. Nothing was broken. We would definitely recommend them to anyone. Thanks guys.', 'reviewRating': {'@type': 'Rating', 'ratingValue': 5}, 'datePublished': '2010-18-08'}, {'@type': 'Review', 'itemReviewed': 'Total Moving Services', 'author': {'@type': 'Person', 'name': 'hermajesty1970'}, 'reviewBody': 'I hired Total Moving to move my two bedroom apartment.  I had a lot of glass furniture, which the guys protected very well.  The scheduling process was easy, they were on time, and they worked very hard.   I was very impressed and satisfied with the service.', 'reviewRating': {'@type': 'Rating', 'ratingValue': 5}, 'datePublished': '2010-15-08'}, {'@type': 'Review', 'itemReviewed': 'Total Moving Services', 'author': {'@type': 'Person', 'name': 'natpucci27'}, 'reviewBody': 'I hired Total Moving Services to me my four bedroom house. They did an excellent job. Nothing was broken and the crew was very well organized. I will refer them to all my friends.', 'reviewRating': {'@type': 'Rating', 'ratingValue': 5}, 'datePublished': '2010-12-08'}, {'@type': 'Review', 'itemReviewed': 'Total Moving Services', 'author': {'@type': 'Person', 'name': 'peterpaul2012'}, 'reviewBody': \"We hired this company for our cubicle relocation. Initially, we were going to hire another larger company, but they were busy on our move date. The guys at Total Moving really surprised us with their expertise and professionalism. They were well organized and actually their price came in below our budget and they did an excellent job. We couldn't be happier.\", 'reviewRating': {'@type': 'Rating', 'ratingValue': 5}, 'datePublished': '2010-12-08'}, {'@type': 'Review', 'itemReviewed': 'Total Moving Services', 'author': {'@type': 'Person', 'name': 'jayzp47'}, 'reviewBody': 'My wife and I moved from a three bedroom apartment to a split level townhouse (3 floors and 50 steps!) in Smyrna, GA. We found Total Moving on Craigslist and their prices were better than the other companies. They had REAL insurance, unlike a lot of the Craigslist movers. Plus, the guys were in uniform,were on time, had their own Gatorade on their truck, and everyone was American!! That really shocked me!! They were actually very good. We had four guys and they finished about an hour ahead of schedule. No damages whatsoever! To be a move, it really was nice doing business with this company. Thanks So Much Guys!', 'reviewRating': {'@type': 'Rating', 'ratingValue': 5}, 'datePublished': '2010-12-08'}, {'@type': 'Review', 'itemReviewed': 'Total Moving Services', 'author': {'@type': 'Person', 'name': 'southerngurl2009'}, 'reviewBody': 'Word to the wise - BEWARE of this so-called company!!!! Not only was their service HIGHLY unprofessional, he was EXTREMELY slow, VERY rude and he didn\\'t even finished the job. He uses a rented Ryder truck, which is fine... but he advertises as \"TWO MEN &amp; A TRUCK\". This second \"man\" is actually a little boy that can\\'t be older than 16 years old - this coupled with the fact that he himself looks to be in his late 50s and shouldn\\'t be hauling around anyone\\'s ANYTHING, was probably the reason they took so long. First of all, he uses a rented Ryder truck and doesn\\'t even carry receipts (which prove he\\'s not a real company). But my problem is that he took almost 3 hours to LOAD a 1 bedroom apt onto a truck, and they didn\\'t even have to pack anything and didn\\'t have to take stairs!!! My mistake was leaving them unsupervised, trusting that they would work fast and efficiently - like you expect a moving company to do. He kept running his mouth instead of working, telling me how long he\\'s been doing this... I suppose to try and convince me he knew what he was doing. He also kept asking who was carrying \"the money bag\", referring to who was paying the bill. How unprofessional!!! Then, once we got to the storage facility where I was storing the items, I actually had to help unload because they were taking so long... and he didn\\'t even finish the job!!! I told him that this should not have taken 4 hours, so he left my about 1/3 of my items sitting on the deck at the 4 hour mark and I had to call people from our church to come finish the rest! When I gave him his cash, I had to hand-write a receipt because with someone like him, you never know!This guy is a scam artist - NOT professional, very rude and is NOT efficient at what he does. He\\'ll spend time trying to make it seems like he knows what he\\'s talking about when the fact is, you\\'re not paying him to talk or take breaks. I found this company on Craigslist (go figure) because my sister and I needed a last minute mover. I hate to say this, but this is the reason I don\\'t trust certain black-owned operations! You try and give them a chance and look at what they do (and yes, I am BLACK)! Please do not allow yourselves to be taken advantage of like I was. Spring the extra $20 bucks an hour and hire a REAL MOVING COMPANY - one that is actually licensed, bonded and that won\\'t try to milk everything out of you because they think they can.As to Gerald, I will continue to spread the word about your shady, unprofessional business practices!', 'reviewRating': {'@type': 'Rating', 'ratingValue': 1}, 'datePublished': '2009-05-09'}], 'paymentAccepted': 'all major credit cards, cash, debit', 'location': {'@type': 'Place', 'description': 'We Are The ONLY Moving Service located in Buckhead that offers, 24 hour climate controlled storage, moving supplies, moving labor, packing services\\xa0& full service moving.<div> \\n</div><div>Our men are experts in the relocation field.</div><div><'}, 'email': 'mailto:totalmovingservices@yahoo.com'}\n",
      "{'@context': 'http://schema.org', '@type': 'http://schema.org/LocalBusiness', '@id': '/atlanta-ga/mip/allstate-van-lines-467903130', 'name': 'Allstate Van Lines', 'address': {'@type': 'PostalAddress', 'addressCountry': 'US', 'streetAddress': '5410 Old National Hwy', 'addressLocality': 'Atlanta', 'addressRegion': 'GA', 'postalCode': '30349'}, 'aggregateRating': {'@type': 'AggregateRating', 'ratingValue': 5, 'reviewCount': 1}, 'geo': {'@type': 'GeoCoordinates', 'latitude': 33.608406, 'longitude': -84.47098}, 'telephone': '(404) 891-6468', 'openingHours': ['Mo-Su 00:00-23:59'], 'image': {'@type': 'ImageObject', 'url': 'https://i1.ypcdn.com/ypu/images/default-thumbnails/thumbnail-1.svg?addecef'}, 'review': [{'@type': 'Review', 'itemReviewed': 'Allstate Van Lines', 'author': {'@type': 'Person', 'name': 'jopa123'}, 'reviewBody': 'I recently moved long distance from Atlanta to San Francisco. Allstate Van Lines gave me the best quote, so naturally I decided I would go with them. The three guys showed up on time, and quickly started to move my items. They made sure to take good care of my breakable items. The booking was seamless, the move was seamless. An  I recommended them to my family and friends and I think that going with this company is a smart choice. They are genuinely concerned over making your move go as well as possible and over addressing all of your concerns and uncertainties. They will give you peace of mind. The movers themselves are great at what they do and work extremely hard from start to finish.  Allstate Van Lines is extremely polite and are fun company. Experience it for yourselves, they are the real deal.', 'reviewRating': {'@type': 'Rating', 'ratingValue': 5}, 'datePublished': '2010-06-08'}], 'url': 'http://vanlineslongdistancemovers.info', 'email': 'mailto:info@vanlineslongdistancemovers.info'}\n",
      "{'@context': 'http://schema.org', '@type': 'http://schema.org/LocalBusiness', '@id': '/atlanta-ga/mip/mcs-moving-cleaning-solutions-480110805', 'name': 'MCS Moving & Cleaning Solutions', 'address': {'@type': 'PostalAddress', 'addressCountry': 'US', 'streetAddress': 'Atlanta 30342', 'addressLocality': 'Atlanta', 'addressRegion': 'GA', 'postalCode': '30342'}, 'aggregateRating': {'@type': 'AggregateRating', 'ratingValue': 1, 'reviewCount': 2}, 'geo': {'@type': 'GeoCoordinates', 'latitude': 33.885, 'longitude': -84.3721}, 'telephone': '(864) 517-4186', 'openingHours': ['Mo-Su 08:00-20:00'], 'image': {'@type': 'ImageObject', 'url': 'https://i1.ypcdn.com/ypu/images/default-thumbnails/thumbnail-1.svg?addecef'}, 'review': [{'@type': 'Review', 'itemReviewed': 'MCS Moving & Cleaning Solutions', 'author': {'@type': 'Person', 'name': 'Tommy H.'}, 'reviewBody': \"Don't use these guys!! Never showed up for our appointment. Then talked trash to my fiancé on the phone about not coming. These guys are not trained correctly and have horrible customer service. Stay away!!\", 'reviewRating': {'@type': 'Rating', 'ratingValue': 1}, 'datePublished': '2015-29-03'}, {'@type': 'Review', 'itemReviewed': 'MCS Moving & Cleaning Solutions', 'author': {'@type': 'Person', 'name': 'kcdurham'}, 'reviewBody': \"Don't use this company! They stole $300 from me and never showed up! Don't let it happen to you!\", 'reviewRating': {'@type': 'Rating', 'ratingValue': 1}, 'datePublished': '2014-19-01'}], 'paymentAccepted': 'check, amex, discover, visa, debit, paypal, cash, financing available, insurance, master card', 'email': 'mailto:hatecleaning9@gmail.com'}\n",
      "{'@context': 'http://schema.org', '@type': 'http://schema.org/LocalBusiness', '@id': '/atlanta-ga/mip/big-league-movers-atlanta-464649439', 'name': 'Big League Movers Atlanta', 'address': {'@type': 'PostalAddress', 'addressCountry': 'US', 'streetAddress': '1327 Boyd Ave NW Ste 1327', 'addressLocality': 'Atlanta', 'addressRegion': 'GA', 'postalCode': '30318'}, 'aggregateRating': {'@type': 'AggregateRating', 'ratingValue': 2, 'reviewCount': 1}, 'geo': {'@type': 'GeoCoordinates', 'latitude': 33.79058, 'longitude': -84.4191}, 'telephone': '(404) 984-3166', 'openingHours': ['Mo-Su'], 'image': {'@type': 'ImageObject', 'url': 'https://i1.ypcdn.com/blob/fb1d381a7328346a06b33a6f9bffc29226ee5ef7', 'contentUrl': 'https://i1.ypcdn.com/blob/fb1d381a7328346a06b33a6f9bffc29226ee5ef7', 'thumbnailUrl': 'https://i1.ypcdn.com/blob/fb1d381a7328346a06b33a6f9bffc29226ee5ef7_400x260_crop.jpg'}, 'review': [{'@type': 'Review', 'itemReviewed': 'Big League Movers Atlanta', 'author': {'@type': 'Person', 'name': 'Stephanie G.'}, 'reviewBody': 'What started out as a great experience, ended up bad.  The movers were awesome, but accidentally busted a window in our front door.  When dealing with corporate, we got the run around big time.  They never ended up repairing the window pane, we had to take care of it.', 'reviewRating': {'@type': 'Rating', 'ratingValue': 2}, 'datePublished': '2015-30-10'}], 'url': 'http://www.bigleaguemovers.com', 'paymentAccepted': 'all major credit cards, debit, paypal', 'email': 'mailto:info@bigleaguemovers.com'}\n",
      "{'@context': 'http://schema.org', '@type': 'http://schema.org/LocalBusiness', '@id': '/atlanta-ga/mip/moving-squad-456496215', 'name': 'Moving Squad', 'address': {'@type': 'PostalAddress', 'addressCountry': 'US', 'streetAddress': '72 Walton St NW', 'addressLocality': 'Atlanta', 'addressRegion': 'GA', 'postalCode': '30303'}, 'geo': {'@type': 'GeoCoordinates', 'latitude': 33.756496, 'longitude': -84.39108}, 'telephone': '(404) 891-6498', 'openingHours': ['Mo-Fr 09:00-20:00', 'Sa 10:00-15:00'], 'image': {'@type': 'ImageObject', 'url': 'https://i1.ypcdn.com/ypu/images/default-thumbnails/thumbnail-1.svg?addecef'}, 'review': [], 'paymentAccepted': 'visa, master card, amex, discover, debit, check', 'email': 'mailto:info@movingcost.com'}\n"
     ]
    }
   ],
   "source": [
    "prospect_data=[]\n",
    "for item in data:\n",
    "    if 'email' in item:\n",
    "        print(item)\n",
    "        prospect_data.append(\n",
    "            {\n",
    "                'company': item['name'],\n",
    "                'email': item['email'].replace('mailto:', ''),\n",
    "            }\n",
    "        )\n",
    "        "
   ]
  },
  {
   "cell_type": "code",
   "execution_count": null,
   "metadata": {},
   "outputs": [],
   "source": []
  },
  {
   "cell_type": "code",
   "execution_count": 43,
   "metadata": {},
   "outputs": [
    {
     "ename": "IndexError",
     "evalue": "list index out of range",
     "output_type": "error",
     "traceback": [
      "\u001b[0;31m---------------------------------------------------------------------------\u001b[0m",
      "\u001b[0;31mIndexError\u001b[0m                                Traceback (most recent call last)",
      "Cell \u001b[0;32mIn[43], line 7\u001b[0m\n\u001b[1;32m      4\u001b[0m json_tag \u001b[38;5;241m=\u001b[39m the_soup\u001b[38;5;241m.\u001b[39mfind_all(\u001b[38;5;124m\"\u001b[39m\u001b[38;5;124mscript\u001b[39m\u001b[38;5;124m\"\u001b[39m, \u001b[38;5;28mtype\u001b[39m\u001b[38;5;241m=\u001b[39m\u001b[38;5;124m\"\u001b[39m\u001b[38;5;124mapplication/ld+json\u001b[39m\u001b[38;5;124m\"\u001b[39m)\n\u001b[1;32m      6\u001b[0m \u001b[38;5;66;03m# load to json onject\u001b[39;00m\n\u001b[0;32m----> 7\u001b[0m json_obj \u001b[38;5;241m=\u001b[39m json\u001b[38;5;241m.\u001b[39mloads(\u001b[43mjson_tag\u001b[49m\u001b[43m[\u001b[49m\u001b[38;5;241;43m1\u001b[39;49m\u001b[43m]\u001b[49m\u001b[38;5;241m.\u001b[39mtext)\n\u001b[1;32m      8\u001b[0m json_obj[\u001b[38;5;241m0\u001b[39m]\n",
      "\u001b[0;31mIndexError\u001b[0m: list index out of range"
     ]
    }
   ],
   "source": [
    "the_soup = BeautifulSoup(response.text)\n",
    "\n",
    "# find <script type=\"application/ld+json\"> tag\n",
    "json_tag = the_soup.find_all(\"script\", type=\"application/ld+json\")\n",
    "\n",
    "# load to json onject\n",
    "json_obj = json.loads(json_tag[1].text)\n",
    "json_obj[0]"
   ]
  },
  {
   "cell_type": "code",
   "execution_count": null,
   "metadata": {},
   "outputs": [],
   "source": []
  },
  {
   "cell_type": "code",
   "execution_count": null,
   "metadata": {},
   "outputs": [],
   "source": []
  },
  {
   "cell_type": "code",
   "execution_count": null,
   "metadata": {},
   "outputs": [],
   "source": []
  },
  {
   "cell_type": "code",
   "execution_count": null,
   "metadata": {},
   "outputs": [],
   "source": []
  },
  {
   "cell_type": "code",
   "execution_count": 1,
   "metadata": {},
   "outputs": [
    {
     "ename": "NameError",
     "evalue": "name 'files' is not defined",
     "output_type": "error",
     "traceback": [
      "\u001b[0;31m---------------------------------------------------------------------------\u001b[0m",
      "\u001b[0;31mNameError\u001b[0m                                 Traceback (most recent call last)",
      "Cell \u001b[0;32mIn[1], line 5\u001b[0m\n\u001b[1;32m      1\u001b[0m \u001b[38;5;28;01mimport\u001b[39;00m \u001b[38;5;21;01mjson\u001b[39;00m\n\u001b[1;32m      3\u001b[0m main_list\u001b[38;5;241m=\u001b[39m[]\n\u001b[0;32m----> 5\u001b[0m \u001b[38;5;28;01mfor\u001b[39;00m file_name \u001b[38;5;129;01min\u001b[39;00m \u001b[43mfiles\u001b[49m:\n\u001b[1;32m      7\u001b[0m     the_soup \u001b[38;5;241m=\u001b[39m BeautifulSoup(\u001b[38;5;28mopen\u001b[39m(\u001b[38;5;124mf\u001b[39m\u001b[38;5;124m\"\u001b[39m\u001b[38;5;124m/Users/abhivora/Downloads/Cannabis_Data/\u001b[39m\u001b[38;5;132;01m{\u001b[39;00mfile_name\u001b[38;5;132;01m}\u001b[39;00m\u001b[38;5;124m\"\u001b[39m))\n\u001b[1;32m      8\u001b[0m     querries\u001b[38;5;241m=\u001b[39mthe_soup\u001b[38;5;241m.\u001b[39mfind_all(\u001b[38;5;124m'\u001b[39m\u001b[38;5;124mscript\u001b[39m\u001b[38;5;124m'\u001b[39m, \u001b[38;5;28mid\u001b[39m\u001b[38;5;241m=\u001b[39m\u001b[38;5;124m'\u001b[39m\u001b[38;5;124m__NEXT_DATA__\u001b[39m\u001b[38;5;124m'\u001b[39m)\n",
      "\u001b[0;31mNameError\u001b[0m: name 'files' is not defined"
     ]
    }
   ],
   "source": [
    "# scraper for weedmaps\n",
    "\n",
    "import os\n",
    "import json\n",
    "# list directory in sorted order\n",
    "files = os.listdir('/Users/abhivora/Downloads/Cannabis_Data')\n",
    "files.sort()\n",
    "\n",
    "\n",
    "\n",
    "main_list=[]\n",
    "\n",
    "for file_name in files:\n",
    "\n",
    "    the_soup = BeautifulSoup(open(f\"/Users/abhivora/Downloads/Cannabis_Data/{file_name}\"))\n",
    "    querries=the_soup.find_all('script', id='__NEXT_DATA__')\n",
    "\n",
    "    # json\n",
    "    data = json.loads(querries[0].text)\n",
    "    listings_data=(data['props']['dehydratedState']['queries'][0]['state']['data']['data']['listings'])\n",
    "    for listing in listings_data:\n",
    "        main_list.append({'company': listing['name'],\n",
    "                          'city': listing['city'],\n",
    "                          'email': listing['email'],\n",
    "                          'phone': listing['phoneNumber']})\n",
    "        \n",
    "# write main_list to csv\n",
    "with open('cannabis_data.csv', 'w') as f:\n",
    "    writer = csv.DictWriter(f, fieldnames=['company', 'city', 'email', 'phone'])\n",
    "    writer.writeheader()\n",
    "    writer.writerows(main_list)\n",
    "        "
   ]
  },
  {
   "cell_type": "code",
   "execution_count": null,
   "metadata": {},
   "outputs": [],
   "source": []
  },
  {
   "cell_type": "code",
   "execution_count": null,
   "metadata": {},
   "outputs": [],
   "source": []
  },
  {
   "cell_type": "code",
   "execution_count": null,
   "metadata": {},
   "outputs": [],
   "source": []
  },
  {
   "cell_type": "code",
   "execution_count": null,
   "metadata": {},
   "outputs": [],
   "source": []
  },
  {
   "cell_type": "code",
   "execution_count": null,
   "metadata": {},
   "outputs": [],
   "source": []
  },
  {
   "cell_type": "code",
   "execution_count": 63,
   "metadata": {},
   "outputs": [],
   "source": [
    "    \n",
    "\n",
    "# find <ul data-testid=\"map-listings-list-wrapper\" class=\"ListWrapper-sc-8b32aaa7-0 hKuVwl\">\n",
    "listings = the_soup.find('ul', {'data-testid': 'map-listings-list-wrapper'})\n",
    "# find all <li> tags\n",
    "listings = listings.find_all('li')\n",
    "\n",
    "    "
   ]
  },
  {
   "cell_type": "code",
   "execution_count": 18,
   "metadata": {},
   "outputs": [
    {
     "name": "stdout",
     "output_type": "stream",
     "text": [
      "1\n",
      "2\n",
      "3\n",
      "4\n",
      "5\n",
      "6\n",
      "7\n",
      "8\n",
      "9\n",
      "10\n",
      "11\n",
      "12\n",
      "13\n",
      "14\n",
      "15\n",
      "16\n",
      "17\n",
      "18\n",
      "19\n",
      "20\n",
      "21\n",
      "22\n",
      "23\n",
      "24\n",
      "25\n",
      "26\n",
      "27\n",
      "28\n",
      "29\n",
      "30\n",
      "31\n",
      "32\n",
      "33\n",
      "34\n",
      "35\n",
      "36\n",
      "37\n",
      "38\n",
      "39\n",
      "40\n",
      "41\n",
      "42\n",
      "43\n",
      "44\n",
      "45\n",
      "46\n",
      "47\n",
      "48\n",
      "49\n",
      "50\n",
      "51\n",
      "52\n",
      "53\n",
      "54\n",
      "55\n",
      "56\n",
      "57\n",
      "58\n",
      "59\n",
      "60\n",
      "61\n",
      "62\n",
      "63\n",
      "64\n",
      "65\n",
      "66\n",
      "67\n",
      "68\n"
     ]
    }
   ],
   "source": [
    "\n",
    "    print(i)"
   ]
  },
  {
   "cell_type": "code",
   "execution_count": 10,
   "metadata": {},
   "outputs": [],
   "source": [
    "main_driver.get(\"https://weedmaps.com/dispensaries/in/united-states/district-of-columbia/washington\")\n",
    "the_soup = BeautifulSoup(main_driver.page_source, 'html.parser')\n",
    "\n",
    "# find <ul data-testid=\"map-listings-list-wrapper\" class=\"ListWrapper-sc-8b32aaa7-0 hKuVwl\">\n",
    "listings = the_soup.find('ul', {'data-testid': 'map-listings-list-wrapper'})\n",
    "# find all <li> tags\n",
    "listings = listings.find_all('li')"
   ]
  },
  {
   "cell_type": "code",
   "execution_count": 33,
   "metadata": {},
   "outputs": [
    {
     "name": "stdout",
     "output_type": "stream",
     "text": [
      "<html lang=\"en\"><head>\n",
      "<meta charset=\"utf-8\"/>\n",
      "<meta content=\"width=device-width, initial-scale=1\" name=\"viewport\"/>\n",
      "<meta content=\"px-captcha\" name=\"description\"/>\n",
      "<title>Access to this page has been denied</title>\n",
      "<script src=\"/P750P64I/captcha/captcha.js?a=&amp;u=2bcdfcd0-fd71-11ee-a3ef-90c21b46ed45&amp;v=926ef34e-fd6f-11ee-878e-81c19c628ce7&amp;m=0\"></script><style>@import url('https://fonts.googleapis.com/css2?family=Roboto:ital,wght@0,100;0,300;0,400;0,500;0,700;0,900;1,100;1,300;1,400;1,500;1,700;1,900&display=swap');  div.px-captcha-background { position: fixed; top: 0; left: 0; width: 100%; height: 100%; background-color: rgba(0, 0, 0, 0.31); } div.px-captcha-container { position: fixed; height: 340px; background-color: #fff; font-family: Roboto, sans-serif; } img.px-captcha-logo { display: block; margin: auto; padding: 53px 0 31px; } div.px-captcha-header { color: #626364;  font-size: 29px; font-weight: 500; margin: 67px 0 33px; line-height: 0.83; text-align: center; } div.px-captcha-message { color: #626364; ; font-size: 18px;  min-height: 48px; margin: 0 0 29px; line-height: 1.33; text-align: center; } div#px-captcha { min-height: 74px; text-align: center; } div.px-captcha-report { font-size: 12px; line-height: 1.75; text-align: center; color: #b1b5b8; text-decoration: underline; margin-top: 5px; } a.px-captcha-report:hover { color: #626364; cursor: pointer; text-decoration: underline; } div.px-captcha-refid { border-top: solid 1px #f0eeee; min-height: 27px; margin: 11px 0 0; border-radius: 0 0 3px 3px; background-color: #fafbfc; font-size: 10px; line-height: 2.7; text-align: center; color: #b1b5b8; } @media (min-width: 620px) { div.px-captcha-container { width: 530px; top: 50%; left: 50%; margin-top: -170px; margin-left: -265px; border-radius: 3px; box-shadow: 0 2px 9px -1px rgba(0, 0, 0, 0.13); } } @media (min-width: 481px) and (max-width: 620px) { div.px-captcha-container { width: 85%; top: 50%; left: 50%; margin-top: -170px; margin-left: -42.5%; border-radius: 3px; box-shadow: 0 2px 9px -1px rgba(0, 0, 0, 0.13); } } @media (max-width: 480px) { div.px-captcha-refid { position: fixed; width: 100%; left: 0; bottom: 0; border-radius: 0; font-size: 14px; line-height: 2; } } @media (max-width: 390px) { div.px-captcha-refid { font-size: 12px; line-height: 2.5; } }body { background-color: #fafbfc; } @media (max-width: 480px) { body { background-color: #fff; } div.px-captcha-container { width: 100%; top: 50%; left: 50%; margin-top: -170px; margin-left: -50%; } }</style><style type=\"text/css\">.px-loader-wrapper {    display: flex;}@keyframes loadingEffect {    0% {        background-position: 0;    }    100% {        background-position: 60vw;    }}.px-inner-loading-area {    width: 253px;    height: 50px;    animation-name: loadingEffect;    animation-duration: 1.2s;    animation-iteration-count: infinite;    animation-timing-function: ease;    animation-fill-mode: forwards;    background: linear-gradient(to right, #f6f6f6 8%, #f0f0f0 18%, #f6f6f6 33%);}.px-loading-area {    width: 253px;    height: 50px;    margin: undefined;}</style><script src=\"https://client.px-cloud.net/PXP750P64I/main.min.js\"></script><style type=\"text/css\">.px-loader-wrapper {    display: flex;}@keyframes loadingEffect {    0% {        background-position: 0;    }    100% {        background-position: 60vw;    }}.px-inner-loading-area {    width: 253px;    height: 50;    animation-name: loadingEffect;    animation-duration: 1.2s;    animation-iteration-count: infinite;    animation-timing-function: ease;    animation-fill-mode: forwards;    background: linear-gradient(to right, #f6f6f6 8%, #f0f0f0 18%, #f6f6f6 33%);}.px-loading-area {    width: 253px;    height: 50;    margin: undefined;}</style></head>\n",
      "<body>\n",
      "<script>\n",
      "        window._pxVid = '926ef34e-fd6f-11ee-878e-81c19c628ce7';\n",
      "        window._pxUuid = '2bcdfcd0-fd71-11ee-a3ef-90c21b46ed45';\n",
      "        window._pxAppId = 'PXP750P64I';\n",
      "        window._pxHostUrl = '/P750P64I/xhr';\n",
      "        window._pxCustomLogo = '';\n",
      "        window._pxJsClientSrc = '/P750P64I/init.js';\n",
      "        window._pxFirstPartyEnabled = 'true';\n",
      "        var script = document.createElement('script');\n",
      "        script.src = '/P750P64I/captcha/captcha.js?a=&u=2bcdfcd0-fd71-11ee-a3ef-90c21b46ed45&v=926ef34e-fd6f-11ee-878e-81c19c628ce7&m=0';\n",
      "        document.head.appendChild(script);\n",
      "        script.onerror = function () {\n",
      "            script = document.createElement('script');\n",
      "            script.src = 'https://captcha.px-cloud.net/PXP750P64I/captcha.js?a=&u=2bcdfcd0-fd71-11ee-a3ef-90c21b46ed45&v=926ef34e-fd6f-11ee-878e-81c19c628ce7&m=0';\n",
      "            script.onerror = window._pxDisplayErrorMessage;\n",
      "            document.head.appendChild(script);\n",
      "        };\n",
      "        window._pxDisplayErrorMessage = function () {\n",
      "            var style = document.createElement('style');\n",
      "            style.innerText = '@import url(https://fonts.googleapis.com/css2?family=Roboto:ital,wght@0,100;0,300;0,400;0,500;0,700;0,900;1,100;1,300;1,400;1,500;1,700;1,900&display=swap);body{background-color:#fafbfc}@media (max-width:480px){body{background-color:#fff}}.px-captcha-error-container{position:fixed;height:328px;background-color:#fff;font-family:Roboto,sans-serif}.px-captcha-error-header{color:#f0f1f2;font-size:29px;margin:67px 0 33px;font-weight:500;line-height:.83;text-align:center}.px-captcha-error-message{color:#f0f1f2;font-size:18px;margin:0 0 29px;line-height:1.33;text-align:center}div.px-captcha-error-button{text-align:center;line-height:50px;width:253px;margin:auto;border-radius:25px;border:solid 1px #f0f1f2;font-size:20px;color:#f0f1f2}div.px-captcha-error-wrapper{margin:23px 0 0}div.px-captcha-error{margin:auto;text-align:center;width:400px;height:30px;font-size:12px;background-color:#fcf0f2;color:#ce0e2d}img.px-captcha-error{margin:6px 10px -2px 0}@media (min-width:620px){.px-captcha-error-container{width:528px;top:50%;left:50%;margin-top:-164px;margin-left:-264px;border-radius:3px;box-shadow:0 2px 9px -1px rgba(0,0,0,.13)}}@media (min-width:481px) and (max-width:620px){.px-captcha-error-container{width:85%;top:50%;left:50%;margin-top:-164px;margin-left:-42.5%;border-radius:3px;box-shadow:0 2px 9px -1px rgba(0,0,0,.13)}}@media (max-width:480px){.px-captcha-error-container{width:528px;top:50%;left:50%;margin-top:-164px;margin-left:-264px}}';\n",
      "            document.head.appendChild(style);\n",
      "            var div = document.createElement('div');\n",
      "            div.className = 'px-captcha-error-container';\n",
      "            div.innerHTML = '<div class=\"px-captcha-error-header\">Before we continue...</div><div class=\"px-captcha-error-message\">Press & Hold to confirm you are<br>a human (and not a bot).</div><div class=\"px-captcha-error-button\">Press & Hold</div><div class=\"px-captcha-error-wrapper\"><div class=\"px-captcha-error\"><img class=\"px-captcha-error\" src=\"data:image/png;base64,iVBORw0KGgoAAAANSUhEUgAAABMAAAAQCAMAAADDGrRQAAAABGdBTUEAALGPC/xhBQAAAAFzUkdCAK7OHOkAAABFUExURUdwTNYELOEGONQILd0AONwALtwEL+AAL9MFLfkJSNQGLdMJLdQJLdQGLdQKLtYFLNcELdUGLdcBL9gFL88OLdUFLNEOLglBhT4AAAAXdFJOUwC8CqgNIRgRoAS1dWWuR4RTjzgryZpYblfkcAAAAI9JREFUGNNdj+sWhCAIhAdvqGVa1r7/oy6RZ7eaH3D4ZACBIed9wlOOMtUnSrEmZ6cHa9YAIfsbCkWrdpi/c50Bk2CO9mNLdMAu03wJA3HpEnfpxbyOg6ruyx8JJi6KNstnslp1dbPd9GnqmuYq7mmcv1zjnbQw8cV0xzkqo+fX1zkjUOO7wnrInUTxJiruC3vtBNRoQQn2AAAAAElFTkSuQmCC\">Please check your network connection or disable your ad-blocker.</div></div>';\n",
      "            document.body.appendChild(div);\n",
      "        };\n",
      "    </script>\n",
      "<script src=\"\"></script>\n",
      "<div dir=\"auto\" id=\"px-captcha-wrapper\"><div class=\"px-captcha-container\"><div class=\"px-captcha-header\">Before we continue...</div><div class=\"px-captcha-message\">Press &amp; Hold to confirm you are<br/>a human (and not a bot).</div><div id=\"px-captcha\" style=\"display: block; min-width: 253px;\"><iframe style=\"display: none; width: 100%; height: 50px; border: 0px; user-select: none;\" title=\"Human verification challenge\" token=\"9d8925352bb6189613e59d5003ab58d8d054bd73acf80c97f51400b53bf660d06e02d70ab335428d8c6c44061c85e79ec698901f47489030c7c54a6bcbec50e3\"></iframe></div><div class=\"px-captcha-report\"><a aria-label=\"Feedback form\" class=\"px-captcha-report\" onclick=\"_pxToggleOpenForm(!0)\" onkeyup=\"_pxToggleOpenForm(!0,event)\" tabindex=\"0\">Having a problem?</a></div><div class=\"px-captcha-refid\">Reference ID 2bcdfcd0-fd71-11ee-a3ef-90c21b46ed45</div><div id=\"px-block-form-wrapper\" style=\"display: none;\"><div><style>#px-block-form-wrapper{width:400px;position:fixed;left:calc(50% - 200px);bottom:0;animation-name:formSlideIn;animation-duration:.5s;-webkit-animation-name:formSlideIn;-webkit-animation-duration:.5s}@keyframes formSlideIn{from{bottom:-500px}to{bottom:0}}@-webkit-keyframes formSlideIn{from{bottom:-500px}to{bottom:0}}#px-block-toggle-button{height:20px;background:#fff;color:#000;border-radius:3px;padding:10px;cursor:pointer;font-size:13px;text-align:center;width:270px;border:1px solid #000;font-weight:900;margin-left:75px;text-decoration:underline}#px-block-form{background:#f3f4f5;color:#000;border-radius:7px;font-size:12px;font-family:Heebo,'Open Sans',sans-serif}#px-buttons-container{display:flex;justify-content:flex-end}#px-buttons-container button{bottom:10px;cursor:pointer;align-self:flex-end;width:80px;height:30px;margin-left:20px;border-radius:20px;border:none}button#px-form-submit:disabled{background:#ddd;cursor:not-allowed;color:#000}#px-form-submit{background-color:#0091ff;color:#fff;box-shadow:0 1px 3px 0 rgba(0,0,0,.15)}#px-form-submit:hover{background-color:#0085eb}#px-form-cancel{background-color:#f3f4f5;color:#949ca6}#px-form-cancel:hover{background-color:#ebeced;box-shadow:0 2px 4px 0 rgba(0,0,0,.11)}div#px-form{color:#000;padding:15px}#px-form span#px-form-subtitle{color:#858c95}div#px-form-head{display:inline-block;color:#fff;background:#6a747f;border-top-left-radius:4px;border-top-right-radius:4px;font-size:16px;height:50px;width:100%}#copy-icon:hover path[id^=line]{stroke:#81858a}#px-reference-id{display:inline-flex;cursor:pointer}#px-form-title{margin:13px;display:inline-block}div#px-form textarea{width:300px;height:70px;max-height:200px;border-radius:7px;border:solid 1px #ebeced;margin-bottom:5px;resize:none;font-family:inherit;font-size:inherit}div#px-form div{margin-bottom:6px}#px-form-thank-you{background:#fff;color:#000;border:1px solid;border-color:#404040;border-radius:3px;height:35px;padding:5px 10px;text-align:center;width:330px;margin-left:24px}#px-form-thank-you div{font-size:15px;margin-top:4px}#px-form-thank-you span.checkmark{margin-right:8px;color:green;font-size:20px}div#px-form form h4{margin:30px 0 5px 7px}#px-form-close{width:20px;height:20px;position:relative;border-radius:2px;margin:15px;float:right;background:0 0;border:none;cursor:pointer}#px-form-close::after,#px-form-close::before{position:absolute;top:9px;left:0;content:'';display:block;width:20px;height:2px;background-color:#fff}#px-form-close::after{-webkit-transform:rotate(45deg);-moz-transform:rotate(45deg);-ms-transform:rotate(45deg);-o-transform:rotate(45deg);transform:rotate(45deg)}#px-form-close::before{-webkit-transform:rotate(-45deg);-moz-transform:rotate(-45deg);-ms-transform:rotate(-45deg);-o-transform:rotate(-45deg);transform:rotate(-45deg)}.px-block-item{margin:9px;padding:13px 25px 11px 25px;border-radius:7px;border:solid 1px #ebeced;background-color:#fff}#px-uuid-copy{color:#0b97ff;text-decoration:underline}form div{margin-top:10px;height:auto}form label{vertical-align:middle}input[id^=opt]{margin:2px;vertical-align:middle}@media (max-height:380px){#px-block-toggle-button{visibility:hidden}}@media (max-width:400px){#px-block-form-wrapper{width:96%;position:fixed;left:2%}#px-block-toggle-button{height:20px;background:#fff;color:#000;padding:3px;cursor:pointer;font-size:13px;text-align:center;border:none;font-weight:900;text-decoration:underline;margin-left:0;position:fixed;bottom:5px;right:10px;width:initial}#px-block-form{background:#f3f4f5;color:#000;border-radius:7px;height:auto;font-size:12px;font-family:Heebo,'Open Sans',sans-serif}div#px-form textarea{width:100%}#px-form-thank-you{background:#fff;color:#000;border:1px solid #404040;border-radius:3px;height:25px;padding:5px 10px;text-align:center;width:90%;margin-left:0}#px-form-thank-you div{font-size:15px;margin:auto}#px-form-thank-you span.checkmark{margin-right:8px;color:green;font-size:20px}.container{display:block;position:relative}.container .content-wrapper{padding-bottom:40px}.container .page-footer-wrapper{position:fixed;bottom:0}.container .content-wrapper .content{margin:0 auto}}</style><div hidden=\"\" id=\"px-block-form\"><div id=\"px-form-head\"><div id=\"px-form-title\">Report a problem</div><button id=\"px-form-close\" onclick=\"_pxToggleOpenForm(!1)\"></button></div><div id=\"px-form\"><span id=\"px-form-subtitle\">Experiencing issues with this page? please let us know:</span><div class=\"px-block-item\"><span id=\"px-form-item-ref-id\">You can contact us for assistance. You should use Ref ID</span><span>: <div id=\"px-reference-id\" onclick=\"_pxUuidCopyToClipboard()\"><div id=\"px-uuid-copy\">2bcdfcd0-fd71-11ee-a3ef-90c21b46ed45</div>  <svg height=\"16\" id=\"copy-icon\" viewbox=\"0 0 15 16\" width=\"15\" xmlns=\"http://www.w3.org/2000/svg\"><g fill=\"none\" fill-rule=\"evenodd\"><g><g><path d=\"M0 0H14.354V14.354H0z\" transform=\"translate(-121 -66) translate(121 67)\"></path><path d=\"M10.765 12.554c0 .179 0 .384-.003.615-.007.656-.579 1.185-1.282 1.185H3.076c-.708 0-1.282-.536-1.282-1.196V4.787c0-.66.571-1.194 1.277-1.196l.64-.003.002.599-.64.002c-.352 0-.638.268-.638.598v8.37c0 .331.287.599.64.599H9.48c.352 0 .638-.264.641-.592.002-.23.004-.433.004-.61h.64z\" fill=\"#BDC1C7\" fill-rule=\"nonzero\" id=\"line\" stroke=\"#BDC1C7\" stroke-width=\".4\" transform=\"translate(-121 -66) translate(121 67)\"></path><path d=\"M9.625.598H6.682c-.354 0-.64.267-.641.597l-.017 8.373c-.001.33.285.599.64.6h6.408c.354 0 .64-.268.64-.599V3.864L9.626.598zM9.862 0l4.492 3.588V9.57c0 .66-.574 1.196-1.282 1.196H6.665c-.71 0-1.284-.537-1.282-1.198L5.4 1.194C5.4.534 5.975 0 6.682 0h3.18z\" fill=\"#BDC1C7\" fill-rule=\"nonzero\" id=\"line\" stroke=\"#BDC1C7\" stroke-width=\".4\" transform=\"translate(-121 -66) translate(121 67)\"></path><path d=\"M9.644 3.076L9.644 0.449 8.971 0 8.971 3.588 14.354 3.588 13.585 3.076z\" fill=\"#BDC1C7\" fill-rule=\"nonzero\" id=\"line\" stroke=\"#BDC1C7\" stroke-linejoin=\"round\" stroke-width=\".4\" transform=\"translate(-121 -66) translate(121 67)\"></path></g></g></g></svg></div></span></div><div class=\"px-block-item\"><span id=\"px-form-item-options-title\">You can also send us your feedback:</span><form><div style=\"display:none\"><input id=\"opt0\" name=\"px-report-reason\" onchange=\"_pxItemSelected()\" type=\"radio\" value=\"-1\"/> <label for=\"opt0\">I’m a bot</label></div><div><input id=\"opt1\" name=\"px-report-reason\" onchange=\"_pxItemSelected()\" type=\"radio\" value=\"1\"/> <label for=\"opt1\" id=\"px-form-item-option-1\">I do not see where to confirm</label></div><div><input id=\"opt2\" name=\"px-report-reason\" onchange=\"_pxItemSelected()\" type=\"radio\" value=\"2\"/> <label for=\"opt2\" id=\"px-form-item-option-2\">I keep getting the \"Please try again\" message</label></div><div><input id=\"opt3\" name=\"px-report-reason\" onchange=\"_pxItemSelected()\" type=\"radio\" value=\"3\"/> <label for=\"opt3\" id=\"px-form-item-option-3\">Other (please elaborate below)</label></div><h4 id=\"px-form-textarea-title\">Experiencing other issues?</h4><textarea id=\"px-form-free-text\"></textarea></form><div id=\"px-buttons-container\"><button id=\"px-form-cancel\" onclick=\"_pxToggleOpenForm(!1)\">Cancel</button> <button disabled=\"disabled\" id=\"px-form-submit\" onclick=\"_pxSubmitForm()\">Send</button></div></div></div></div><div hidden=\"\" id=\"px-form-thank-you\"><div><span class=\"checkmark\">✓</span><span id=\"px-form-thank-you-text\">Thank you for the feedback</span></div></div></div></div></div></div></body></html>\n"
     ]
    }
   ],
   "source": [
    "the_soup = BeautifulSoup(main_driver.page_source, 'html.parser')\n",
    "\n",
    "print(the_soup)"
   ]
  },
  {
   "cell_type": "code",
   "execution_count": 20,
   "metadata": {},
   "outputs": [
    {
     "data": {
      "text/plain": [
       "<li class=\"ListItem-sc-8b32aaa7-1 gPRBLE\"><div data-testid=\"map-listings-list-card-wrapper\"><div class=\"_StyledDiv-sc-dcf1723c-0 iDOLjq\" data-test-id=\"card\"><div class=\"Card-sc-fd9387d6-1 kvnyNa\"><div class=\"src__Box-sc-1sbtrzs-0 src__Flex-sc-1sbtrzs-1 Main-sc-5f639846-6 hNEOfd eqdOIn fVGrob\" data-testid=\"map-listing-card\"><div class=\"src__Box-sc-1sbtrzs-0 src__Flex-sc-1sbtrzs-1 AvatarContainer-sc-5f639846-14 hNEOfd eqdOIn gRqYMG\"><a aria-label=\"Takoma Wellness Center\" href=\"/dispensaries/takoma-wellness-center-2-2\"><div><div class=\"AvatarStyled-sc-5e11720b-0 gkBHjm\" data-testid=\"avatar-container\" shape=\"square\" size=\"96\"><div class=\"LazyImgWrapper-sc-ac9b2a78-0 bjuNvy\" data-testid=\"lazy-img-wrapper\"><noscript data-testid=\"noscript\"><img alt=\"\" data-testid=\"lazy-avatar-img\" height=\"96\" loading=\"lazy\" src=\"https://weedmaps.com/images/dispensaries/000/036/837/avatar/1698606585-takoma-logonew.jpg?auto=format&amp;w=96&amp;h=96\" srcset=\"https://weedmaps.com/images/dispensaries/000/036/837/avatar/1698606585-takoma-logonew.jpg?w=96&amp;h=96&amp;dpr=1&amp;auto=format 1x, https://weedmaps.com/images/dispensaries/000/036/837/avatar/1698606585-takoma-logonew.jpg?w=96&amp;h=96&amp;dpr=2&amp;auto=format 2x\" width=\"96\"/></noscript><div data-testid=\"lazy-img-observer\"><img alt=\"\" class=\"img-component\" data-testid=\"lazy-avatar-img\" height=\"96\" loading=\"lazy\" src=\"https://weedmaps.com/images/dispensaries/000/036/837/avatar/1698606585-takoma-logonew.jpg?blur=500&amp;q=1&amp;auto=format&amp;w=96&amp;h=96\" srcset=\"https://weedmaps.com/images/dispensaries/000/036/837/avatar/1698606585-takoma-logonew.jpg?blur=500&amp;q=1&amp;w=96&amp;h=96&amp;dpr=1&amp;auto=format 1x, https://weedmaps.com/images/dispensaries/000/036/837/avatar/1698606585-takoma-logonew.jpg?blur=500&amp;q=1&amp;w=96&amp;h=96&amp;dpr=2&amp;auto=format 2x\" width=\"96\"/></div></div></div></div></a></div><div class=\"Info-sc-fd9387d6-4 hFYUFc\"><a href=\"/dispensaries/takoma-wellness-center-2-2\"><div><div class=\"Text-sc-42443ba-0 Title-sc-fd9387d6-5 bpRqjV bjbTgG\" data-test-id=\"name\">Takoma Wellness Center</div><div class=\"src__Box-sc-1sbtrzs-0 src__Flex-sc-1sbtrzs-1 hNEOfd eqdOIn\"><div class=\"RatingWrapper-sc-1cfe83e5-0 iJAFNf\"><svg aria-hidden=\"true\" class=\"Svg-sc-df3f6ed2-0 jRGuIY\" height=\"12px\" width=\"60px\">\n",
       "<use href=\"#stars-5\"></use>\n",
       "</svg><span class=\"ScreenReaderText-sc-8934b9de-0 hjmRnY\">5.0 star average rating from 407 reviews</span><div aria-hidden=\"true\" class=\"Text-sc-42443ba-0 RatingValue-sc-1cfe83e5-1 hUhwIb gwJfIX\" color=\"#252935\" data-testid=\"rating-value\">5.0</div><div aria-hidden=\"true\" class=\"Text-sc-42443ba-0 Count-sc-1cfe83e5-2 hUhwIb gcJCaf\" color=\"#252935\" data-testid=\"reviews-count\">(<span class=\"RatingCountNumber-sc-1cfe83e5-3 iqmxpD\">407</span>)</div></div></div><span class=\"Text-sc-42443ba-0 Helper-sc-fd9387d6-7 hVZdmy snqoa\" data-test-id=\"meta\"><span class=\"TitleCase-sc-5f639846-10 jqNpbR\">dispensary</span><span aria-hidden=\"true\" class=\"StyledDot-sc-2ef82c09-0 HYKbd\">·</span><span>Medical</span></span><div class=\"src__Box-sc-1sbtrzs-0 src__Flex-sc-1sbtrzs-1 ChipRow-sc-5f639846-8 drogAu eqdOIn gbPbQt\"><span class=\"Chip-sc-5f639846-9 cvaOiC\">Closed</span><span class=\"Chip-sc-5f639846-9 cvaOiC\" data-test-id=\"curbside-pickup\">Curbside pickup</span></div></div></a><div class=\"src__Box-sc-1sbtrzs-0 src__Flex-sc-1sbtrzs-1 DealTagsDesktopContainer-sc-5f639846-16 hNEOfd eqdOIn kHzFGe\"><div class=\"src__Box-sc-1sbtrzs-0 src__Flex-sc-1sbtrzs-1 MasterContainer-sc-632e4b9f-0 bVHrOB eqdOIn hlgskg\"><div class=\"src__Box-sc-1sbtrzs-0 MobileCarousel-sc-632e4b9f-3 jKuEnX jGuZZd\" width=\"-144\"><a class=\"StyledAnchor-sc-632e4b9f-6 lpcdqs\" href=\"/dispensaries/takoma-wellness-center-2-2/deals/takoma-wellness-center-alt-sol-carts\"><div class=\"src__Box-sc-1sbtrzs-0 src__Flex-sc-1sbtrzs-1 DealsTagBox-sc-632e4b9f-1 hNEOfd eqdOIn bNgnXO\"><div class=\"src__Box-sc-1sbtrzs-0 src__Flex-sc-1sbtrzs-1 Container-sc-4b34c22c-0 bVHrOB eqdOIn cKtsKM\" data-testid=\"deal-card\"><div class=\"src__Box-sc-1sbtrzs-0 src__Flex-sc-1sbtrzs-1 llpXmh eqdOIn\"><svg class=\"wm-deals-filled\" height=\"12px\" viewbox=\"0 0 24 24\" width=\"12px\"><path clip-rule=\"evenodd\" d=\"M12.41 2.58l9 9c.36.36.59.87.59 1.42 0 .55-.22 1.05-.59 1.41l-7 7a1.99 1.99 0 01-2.82.01l-9-9A2 2 0 012 11V4c0-1.1.9-2 2-2h7c.55 0 1.05.22 1.41.58zM5.74 7.24a1.5 1.5 0 103 0 1.5 1.5 0 00-3 0z\" fill=\"#4F91DF\" fill-rule=\"evenodd\"></path></svg></div><div class=\"Text-sc-42443ba-0 DealText-sc-4b34c22c-1 cbtjnE hGzglt\" color=\"#252935\">Alt Sol carts</div><div class=\"src__Box-sc-1sbtrzs-0 src__Flex-sc-1sbtrzs-1 exMVlW eqdOIn\"><svg class=\"wm-icon wm-arrow\" height=\"10px\" style=\"transform:rotate(-90deg)\" viewbox=\"0 0 24 24\" width=\"10px\"><path d=\"M12.0000 15.8744L20.5524 6.2780C20.8634 5.9290 21.3905 5.9054 21.7298 6.2253C22.0690 6.5452 22.0919 7.0874 21.7810 7.4363L12.6143 17.7220C12.2840 18.0927 11.7160 18.0927 11.3857 17.7220L2.2190 7.4363C1.9081 7.0874 1.9310 6.5452 2.2702 6.2253C2.6095 5.9054 3.1366 5.9290 3.4476 6.2780L12.0000 15.8744Z\" fill=\"#252935\"></path></svg></div></div></div></a><a class=\"StyledAnchor-sc-632e4b9f-6 lpcdqs\" href=\"/dispensaries/takoma-wellness-center-2-2/deals/takoma-wellness-center-non-dc-residents-sign-up-free\"><div class=\"src__Box-sc-1sbtrzs-0 src__Flex-sc-1sbtrzs-1 DealsTagBox-sc-632e4b9f-1 hNEOfd eqdOIn bNgnXO\"><div class=\"src__Box-sc-1sbtrzs-0 src__Flex-sc-1sbtrzs-1 Container-sc-4b34c22c-0 bVHrOB eqdOIn gajrHn\" data-testid=\"deal-card\"><div class=\"src__Box-sc-1sbtrzs-0 src__Flex-sc-1sbtrzs-1 llpXmh eqdOIn\"><svg class=\"wm-deals-filled\" height=\"12px\" viewbox=\"0 0 24 24\" width=\"12px\"><path clip-rule=\"evenodd\" d=\"M12.41 2.58l9 9c.36.36.59.87.59 1.42 0 .55-.22 1.05-.59 1.41l-7 7a1.99 1.99 0 01-2.82.01l-9-9A2 2 0 012 11V4c0-1.1.9-2 2-2h7c.55 0 1.05.22 1.41.58zM5.74 7.24a1.5 1.5 0 103 0 1.5 1.5 0 00-3 0z\" fill=\"#85d6ff\" fill-rule=\"evenodd\"></path></svg></div><div class=\"Text-sc-42443ba-0 DealText-sc-4b34c22c-1 cbtjnE hGzglt\" color=\"#252935\">Free DC Cannabis Visitor Passes</div><div class=\"src__Box-sc-1sbtrzs-0 src__Flex-sc-1sbtrzs-1 exMVlW eqdOIn\"><svg class=\"wm-icon wm-arrow\" height=\"10px\" style=\"transform:rotate(-90deg)\" viewbox=\"0 0 24 24\" width=\"10px\"><path d=\"M12.0000 15.8744L20.5524 6.2780C20.8634 5.9290 21.3905 5.9054 21.7298 6.2253C22.0690 6.5452 22.0919 7.0874 21.7810 7.4363L12.6143 17.7220C12.2840 18.0927 11.7160 18.0927 11.3857 17.7220L2.2190 7.4363C1.9081 7.0874 1.9310 6.5452 2.2702 6.2253C2.6095 5.9054 3.1366 5.9290 3.4476 6.2780L12.0000 15.8744Z\" fill=\"#252935\"></path></svg></div></div></div></a></div><div class=\"src__Box-sc-1sbtrzs-0 src__Flex-sc-1sbtrzs-1 NonMobileContainer-sc-632e4b9f-4 jKuEnX eqdOIn jtpGDG\" width=\"-144\"><a class=\"StyledAnchor-sc-632e4b9f-6 lpcdqs\" href=\"/dispensaries/takoma-wellness-center-2-2/deals/takoma-wellness-center-alt-sol-carts\"><div class=\"src__Box-sc-1sbtrzs-0 src__Flex-sc-1sbtrzs-1 DealsTagBox-sc-632e4b9f-1 hNEOfd eqdOIn bNgnXO\"><div class=\"src__Box-sc-1sbtrzs-0 src__Flex-sc-1sbtrzs-1 Container-sc-4b34c22c-0 bVHrOB eqdOIn cKtsKM\" data-testid=\"deal-card\"><div class=\"src__Box-sc-1sbtrzs-0 src__Flex-sc-1sbtrzs-1 llpXmh eqdOIn\"><svg class=\"wm-deals-filled\" height=\"12px\" viewbox=\"0 0 24 24\" width=\"12px\"><path clip-rule=\"evenodd\" d=\"M12.41 2.58l9 9c.36.36.59.87.59 1.42 0 .55-.22 1.05-.59 1.41l-7 7a1.99 1.99 0 01-2.82.01l-9-9A2 2 0 012 11V4c0-1.1.9-2 2-2h7c.55 0 1.05.22 1.41.58zM5.74 7.24a1.5 1.5 0 103 0 1.5 1.5 0 00-3 0z\" fill=\"#4F91DF\" fill-rule=\"evenodd\"></path></svg></div><div class=\"Text-sc-42443ba-0 DealText-sc-4b34c22c-1 cbtjnE hGzglt\" color=\"#252935\">Alt Sol carts</div><div class=\"src__Box-sc-1sbtrzs-0 src__Flex-sc-1sbtrzs-1 exMVlW eqdOIn\"><svg class=\"wm-icon wm-arrow\" height=\"10px\" style=\"transform:rotate(-90deg)\" viewbox=\"0 0 24 24\" width=\"10px\"><path d=\"M12.0000 15.8744L20.5524 6.2780C20.8634 5.9290 21.3905 5.9054 21.7298 6.2253C22.0690 6.5452 22.0919 7.0874 21.7810 7.4363L12.6143 17.7220C12.2840 18.0927 11.7160 18.0927 11.3857 17.7220L2.2190 7.4363C1.9081 7.0874 1.9310 6.5452 2.2702 6.2253C2.6095 5.9054 3.1366 5.9290 3.4476 6.2780L12.0000 15.8744Z\" fill=\"#252935\"></path></svg></div></div></div></a><a href=\"/dispensaries/takoma-wellness-center-2-2#deals\"><div class=\"src__Box-sc-1sbtrzs-0 src__Flex-sc-1sbtrzs-1 MoreTextContainer-sc-632e4b9f-5 hNEOfd eqdOIn flvAMh\"><div class=\"Text-sc-42443ba-0 MoreDealsText-sc-632e4b9f-2 eSMmip iDKIoO\">+ More</div></div></a></div></div></div></div></div></div><div class=\"src__Box-sc-1sbtrzs-0 src__Flex-sc-1sbtrzs-1 DealTagsMobileContainer-sc-5f639846-15 hNEOfd eqdOIn dNXZVj\"><div class=\"src__Box-sc-1sbtrzs-0 src__Flex-sc-1sbtrzs-1 MasterContainer-sc-632e4b9f-0 bVHrOB eqdOIn hlgskg\"><div class=\"src__Box-sc-1sbtrzs-0 MobileCarousel-sc-632e4b9f-3 TkfsR bItasX\" width=\"-16\"><a class=\"StyledAnchor-sc-632e4b9f-6 lpcdqs\" href=\"/dispensaries/takoma-wellness-center-2-2/deals/takoma-wellness-center-alt-sol-carts\"><div class=\"src__Box-sc-1sbtrzs-0 src__Flex-sc-1sbtrzs-1 DealsTagBox-sc-632e4b9f-1 hNEOfd eqdOIn bNgnXO\"><div class=\"src__Box-sc-1sbtrzs-0 src__Flex-sc-1sbtrzs-1 Container-sc-4b34c22c-0 bVHrOB eqdOIn fthoRn\" data-testid=\"deal-card\"><div class=\"src__Box-sc-1sbtrzs-0 src__Flex-sc-1sbtrzs-1 llpXmh eqdOIn\"><svg class=\"wm-deals-filled\" height=\"12px\" viewbox=\"0 0 24 24\" width=\"12px\"><path clip-rule=\"evenodd\" d=\"M12.41 2.58l9 9c.36.36.59.87.59 1.42 0 .55-.22 1.05-.59 1.41l-7 7a1.99 1.99 0 01-2.82.01l-9-9A2 2 0 012 11V4c0-1.1.9-2 2-2h7c.55 0 1.05.22 1.41.58zM5.74 7.24a1.5 1.5 0 103 0 1.5 1.5 0 00-3 0z\" fill=\"#33C27A\" fill-rule=\"evenodd\"></path></svg></div><div class=\"Text-sc-42443ba-0 DealText-sc-4b34c22c-1 cbtjnE hGzglt\" color=\"#252935\">Alt Sol carts</div><div class=\"src__Box-sc-1sbtrzs-0 src__Flex-sc-1sbtrzs-1 exMVlW eqdOIn\"><svg class=\"wm-icon wm-arrow\" height=\"10px\" style=\"transform:rotate(-90deg)\" viewbox=\"0 0 24 24\" width=\"10px\"><path d=\"M12.0000 15.8744L20.5524 6.2780C20.8634 5.9290 21.3905 5.9054 21.7298 6.2253C22.0690 6.5452 22.0919 7.0874 21.7810 7.4363L12.6143 17.7220C12.2840 18.0927 11.7160 18.0927 11.3857 17.7220L2.2190 7.4363C1.9081 7.0874 1.9310 6.5452 2.2702 6.2253C2.6095 5.9054 3.1366 5.9290 3.4476 6.2780L12.0000 15.8744Z\" fill=\"#252935\"></path></svg></div></div></div></a><a class=\"StyledAnchor-sc-632e4b9f-6 lpcdqs\" href=\"/dispensaries/takoma-wellness-center-2-2/deals/takoma-wellness-center-non-dc-residents-sign-up-free\"><div class=\"src__Box-sc-1sbtrzs-0 src__Flex-sc-1sbtrzs-1 DealsTagBox-sc-632e4b9f-1 hNEOfd eqdOIn bNgnXO\"><div class=\"src__Box-sc-1sbtrzs-0 src__Flex-sc-1sbtrzs-1 Container-sc-4b34c22c-0 bVHrOB eqdOIn iXFfm\" data-testid=\"deal-card\"><div class=\"src__Box-sc-1sbtrzs-0 src__Flex-sc-1sbtrzs-1 llpXmh eqdOIn\"><svg class=\"wm-deals-filled\" height=\"12px\" viewbox=\"0 0 24 24\" width=\"12px\"><path clip-rule=\"evenodd\" d=\"M12.41 2.58l9 9c.36.36.59.87.59 1.42 0 .55-.22 1.05-.59 1.41l-7 7a1.99 1.99 0 01-2.82.01l-9-9A2 2 0 012 11V4c0-1.1.9-2 2-2h7c.55 0 1.05.22 1.41.58zM5.74 7.24a1.5 1.5 0 103 0 1.5 1.5 0 00-3 0z\" fill=\"#EE8237\" fill-rule=\"evenodd\"></path></svg></div><div class=\"Text-sc-42443ba-0 DealText-sc-4b34c22c-1 cbtjnE hGzglt\" color=\"#252935\">Free DC Cannabis Visitor Passes</div><div class=\"src__Box-sc-1sbtrzs-0 src__Flex-sc-1sbtrzs-1 exMVlW eqdOIn\"><svg class=\"wm-icon wm-arrow\" height=\"10px\" style=\"transform:rotate(-90deg)\" viewbox=\"0 0 24 24\" width=\"10px\"><path d=\"M12.0000 15.8744L20.5524 6.2780C20.8634 5.9290 21.3905 5.9054 21.7298 6.2253C22.0690 6.5452 22.0919 7.0874 21.7810 7.4363L12.6143 17.7220C12.2840 18.0927 11.7160 18.0927 11.3857 17.7220L2.2190 7.4363C1.9081 7.0874 1.9310 6.5452 2.2702 6.2253C2.6095 5.9054 3.1366 5.9290 3.4476 6.2780L12.0000 15.8744Z\" fill=\"#252935\"></path></svg></div></div></div></a></div><div class=\"src__Box-sc-1sbtrzs-0 src__Flex-sc-1sbtrzs-1 NonMobileContainer-sc-632e4b9f-4 TkfsR eqdOIn jtpGDG\" width=\"-16\"><a class=\"StyledAnchor-sc-632e4b9f-6 lpcdqs\" href=\"/dispensaries/takoma-wellness-center-2-2/deals/takoma-wellness-center-alt-sol-carts\"><div class=\"src__Box-sc-1sbtrzs-0 src__Flex-sc-1sbtrzs-1 DealsTagBox-sc-632e4b9f-1 hNEOfd eqdOIn bNgnXO\"><div class=\"src__Box-sc-1sbtrzs-0 src__Flex-sc-1sbtrzs-1 Container-sc-4b34c22c-0 bVHrOB eqdOIn fthoRn\" data-testid=\"deal-card\"><div class=\"src__Box-sc-1sbtrzs-0 src__Flex-sc-1sbtrzs-1 llpXmh eqdOIn\"><svg class=\"wm-deals-filled\" height=\"12px\" viewbox=\"0 0 24 24\" width=\"12px\"><path clip-rule=\"evenodd\" d=\"M12.41 2.58l9 9c.36.36.59.87.59 1.42 0 .55-.22 1.05-.59 1.41l-7 7a1.99 1.99 0 01-2.82.01l-9-9A2 2 0 012 11V4c0-1.1.9-2 2-2h7c.55 0 1.05.22 1.41.58zM5.74 7.24a1.5 1.5 0 103 0 1.5 1.5 0 00-3 0z\" fill=\"#33C27A\" fill-rule=\"evenodd\"></path></svg></div><div class=\"Text-sc-42443ba-0 DealText-sc-4b34c22c-1 cbtjnE hGzglt\" color=\"#252935\">Alt Sol carts</div><div class=\"src__Box-sc-1sbtrzs-0 src__Flex-sc-1sbtrzs-1 exMVlW eqdOIn\"><svg class=\"wm-icon wm-arrow\" height=\"10px\" style=\"transform:rotate(-90deg)\" viewbox=\"0 0 24 24\" width=\"10px\"><path d=\"M12.0000 15.8744L20.5524 6.2780C20.8634 5.9290 21.3905 5.9054 21.7298 6.2253C22.0690 6.5452 22.0919 7.0874 21.7810 7.4363L12.6143 17.7220C12.2840 18.0927 11.7160 18.0927 11.3857 17.7220L2.2190 7.4363C1.9081 7.0874 1.9310 6.5452 2.2702 6.2253C2.6095 5.9054 3.1366 5.9290 3.4476 6.2780L12.0000 15.8744Z\" fill=\"#252935\"></path></svg></div></div></div></a><a href=\"/dispensaries/takoma-wellness-center-2-2#deals\"><div class=\"src__Box-sc-1sbtrzs-0 src__Flex-sc-1sbtrzs-1 MoreTextContainer-sc-632e4b9f-5 hNEOfd eqdOIn flvAMh\"><div class=\"Text-sc-42443ba-0 MoreDealsText-sc-632e4b9f-2 eSMmip iDKIoO\">+ More</div></div></a></div></div></div></div></div></li>"
      ]
     },
     "execution_count": 20,
     "metadata": {},
     "output_type": "execute_result"
    }
   ],
   "source": [
    "listings[0]"
   ]
  },
  {
   "cell_type": "code",
   "execution_count": 17,
   "metadata": {},
   "outputs": [
    {
     "data": {
      "text/plain": [
       "'Takoma Wellness Center'"
      ]
     },
     "execution_count": 17,
     "metadata": {},
     "output_type": "execute_result"
    }
   ],
   "source": [
    "listings[0].find('a').get('aria-label')"
   ]
  },
  {
   "cell_type": "code",
   "execution_count": 25,
   "metadata": {},
   "outputs": [
    {
     "ename": "AttributeError",
     "evalue": "ResultSet object has no attribute 'find'. You're probably treating a list of elements like a single element. Did you call find_all() when you meant to call find()?",
     "output_type": "error",
     "traceback": [
      "\u001b[0;31m---------------------------------------------------------------------------\u001b[0m",
      "\u001b[0;31mAttributeError\u001b[0m                            Traceback (most recent call last)",
      "Cell \u001b[0;32mIn[25], line 1\u001b[0m\n\u001b[0;32m----> 1\u001b[0m \u001b[38;5;28mprint\u001b[39m(\u001b[43mlistings\u001b[49m\u001b[38;5;241;43m.\u001b[39;49m\u001b[43mfind\u001b[49m(\u001b[38;5;124m'\u001b[39m\u001b[38;5;124memail\u001b[39m\u001b[38;5;124m'\u001b[39m))\n",
      "File \u001b[0;32m~/Projects/.venv/lib/python3.9/site-packages/bs4/element.py:2433\u001b[0m, in \u001b[0;36mResultSet.__getattr__\u001b[0;34m(self, key)\u001b[0m\n\u001b[1;32m   2431\u001b[0m \u001b[38;5;28;01mdef\u001b[39;00m \u001b[38;5;21m__getattr__\u001b[39m(\u001b[38;5;28mself\u001b[39m, key):\n\u001b[1;32m   2432\u001b[0m \u001b[38;5;250m    \u001b[39m\u001b[38;5;124;03m\"\"\"Raise a helpful exception to explain a common code fix.\"\"\"\u001b[39;00m\n\u001b[0;32m-> 2433\u001b[0m     \u001b[38;5;28;01mraise\u001b[39;00m \u001b[38;5;167;01mAttributeError\u001b[39;00m(\n\u001b[1;32m   2434\u001b[0m         \u001b[38;5;124m\"\u001b[39m\u001b[38;5;124mResultSet object has no attribute \u001b[39m\u001b[38;5;124m'\u001b[39m\u001b[38;5;132;01m%s\u001b[39;00m\u001b[38;5;124m'\u001b[39m\u001b[38;5;124m. You\u001b[39m\u001b[38;5;124m'\u001b[39m\u001b[38;5;124mre probably treating a list of elements like a single element. Did you call find_all() when you meant to call find()?\u001b[39m\u001b[38;5;124m\"\u001b[39m \u001b[38;5;241m%\u001b[39m key\n\u001b[1;32m   2435\u001b[0m     )\n",
      "\u001b[0;31mAttributeError\u001b[0m: ResultSet object has no attribute 'find'. You're probably treating a list of elements like a single element. Did you call find_all() when you meant to call find()?"
     ]
    }
   ],
   "source": [
    "print(listings.find('email'))"
   ]
  },
  {
   "cell_type": "code",
   "execution_count": 18,
   "metadata": {},
   "outputs": [
    {
     "data": {
      "text/plain": [
       "'/dispensaries/takoma-wellness-center-2-2'"
      ]
     },
     "execution_count": 18,
     "metadata": {},
     "output_type": "execute_result"
    }
   ],
   "source": [
    "listings[0].find('a').get('href')"
   ]
  },
  {
   "cell_type": "code",
   "execution_count": 19,
   "metadata": {},
   "outputs": [
    {
     "name": "stdout",
     "output_type": "stream",
     "text": [
      "https://weedmaps.com//dispensaries/takoma-wellness-center-2-2\n"
     ]
    }
   ],
   "source": [
    "print('https://weedmaps.com/'+listings[0].find('a').get('href'))"
   ]
  },
  {
   "cell_type": "code",
   "execution_count": null,
   "metadata": {},
   "outputs": [],
   "source": []
  },
  {
   "cell_type": "code",
   "execution_count": null,
   "metadata": {},
   "outputs": [],
   "source": []
  },
  {
   "cell_type": "code",
   "execution_count": 10,
   "metadata": {},
   "outputs": [],
   "source": [
    "def login_linkedin_sales_navigator(main_driver,user):\n",
    "\n",
    "    main_driver.get(\"https://www.linkedin.com/login?session_redirect=%2Fsales&_f=navigator&fromSignIn=true/1000\")\n",
    "    username,password = get_sales_navigator_creds(user)\n",
    "    time.sleep(5)\n",
    "\n",
    "    main_driver.find_element(By.XPATH, \"/html/body/div/main/div[2]/form/div[1]/input\").send_keys(username)\n",
    "    main_driver.find_element(By.XPATH, \"/html/body/div/main/div[2]/form/div[2]/input\").send_keys(password)\n",
    "\n",
    "    time.sleep(3)\n",
    "\n",
    "    main_driver.find_element(By.XPATH, \"/html/body/div/main/div[2]/form/div[3]/button\").click()\n"
   ]
  },
  {
   "cell_type": "code",
   "execution_count": 11,
   "metadata": {},
   "outputs": [],
   "source": [
    "url=\"https://www.linkedin.com/sales/search/company?query=(spellCorrectionEnabled%3Atrue%2Cfilters%3AList((type%3ACOMPANY_HEADCOUNT%2Cvalues%3AList((id%3AB%2Ctext%3A1-10%2CselectionType%3AINCLUDED)))%2C(type%3AINDUSTRY%2Cvalues%3AList((id%3A99%2Ctext%3ADesign%2520Services%2CselectionType%3AINCLUDED)))%2C(type%3AREGION%2Cvalues%3AList((id%3A101165590%2Ctext%3AUnited%2520Kingdom%2CselectionType%3AINCLUDED))))%2Ckeywords%3ADesign%2520agency)&sessionId=CQMB7RqpS8avLMW50KU7xg%3D%3D\""
   ]
  },
  {
   "cell_type": "code",
   "execution_count": 12,
   "metadata": {},
   "outputs": [],
   "source": [
    "main_driver.get(url)"
   ]
  },
  {
   "cell_type": "code",
   "execution_count": 23,
   "metadata": {},
   "outputs": [],
   "source": [
    "\n",
    "main_driver.find_element(By.XPATH, \"/html/body/main/div[1]/div[2]/div[1]/div[2]/div/button[1]\").click()\n"
   ]
  },
  {
   "cell_type": "code",
   "execution_count": null,
   "metadata": {},
   "outputs": [],
   "source": [
    "def automate_prospecting_sales_navigator(main_driver, url, list_name,num):\n",
    "    main_driver.get(url)\n",
    "    time.sleep(randint(5, 10))\n",
    "\n",
    "    for i in range(num):\n",
    "\n",
    "        #click on select all\n",
    "        main_driver.find_element(By.XPATH, \"/html/body/main/div[1]/div[2]/div[1]/div[2]/div/div[1]\").click()\n",
    "        time.sleep(randint(5, 10))\n",
    "\n",
    "        # click on save button\n",
    "        main_driver.find_element(By.XPATH, \"/html/body/main/div[1]/div[2]/div[1]/div[2]/div/button[1]\").click()\n",
    "        time.sleep(randint(5, 10))\n",
    "\n",
    "        #send list name\n",
    "        main_driver.find_element(By.XPATH,'/html/body/div[7]/div[2]/div/div/div[2]/form/div[1]/div[2]/div/div/div/div[2]/div/div/div/div/div/div[1]/input').send_keys(list_name)\n",
    "        time.sleep(randint(5, 10))\n",
    "\n",
    "        #click on save button\n",
    "        main_driver.find_element(By.XPATH,'/html/body/div[7]/div[2]/div/div/div[3]/button[1]').click()\n",
    "        time.sleep(randint(5, 10))\n",
    "\n",
    "        #refresh prospects\n",
    "        main_driver.find_element(By.XPATH,'/html/body/div[2]/div/div[2]/div[2]/div/div[4]/div/div[2]/div/div/div/div[2]/div/div[2]/div[2]').click()\n",
    "        time.sleep(randint(5, 10))\n",
    "\n",
    "\n",
    "        # # next page\n",
    "        # driver.find_element(By.XPATH,'/html/body/div[2]/div/div[2]/div[2]/div/div[2]/div/div/div/div[2]/div/div[2]/div/div/div/div/div/div[2]/div/div[4]/div/div/div/div/div[3]/div/div[2]/button[2]').click()\n",
    "        # time.sleep(randint(5, 10))"
   ]
  },
  {
   "cell_type": "code",
   "execution_count": 8,
   "metadata": {},
   "outputs": [],
   "source": [
    "main_driver.quit()"
   ]
  },
  {
   "cell_type": "code",
   "execution_count": null,
   "metadata": {},
   "outputs": [],
   "source": []
  },
  {
   "cell_type": "code",
   "execution_count": null,
   "metadata": {},
   "outputs": [],
   "source": []
  },
  {
   "cell_type": "code",
   "execution_count": null,
   "metadata": {},
   "outputs": [],
   "source": []
  },
  {
   "cell_type": "code",
   "execution_count": null,
   "metadata": {},
   "outputs": [],
   "source": []
  },
  {
   "cell_type": "code",
   "execution_count": 18,
   "metadata": {},
   "outputs": [],
   "source": [
    "from methods import *"
   ]
  },
  {
   "cell_type": "code",
   "execution_count": 13,
   "metadata": {},
   "outputs": [
    {
     "ename": "KeyboardInterrupt",
     "evalue": "",
     "output_type": "error",
     "traceback": [
      "\u001b[0;31m---------------------------------------------------------------------------\u001b[0m",
      "\u001b[0;31mKeyboardInterrupt\u001b[0m                         Traceback (most recent call last)",
      "Cell \u001b[0;32mIn[13], line 1\u001b[0m\n\u001b[0;32m----> 1\u001b[0m \u001b[43mlogin_apollo\u001b[49m\u001b[43m(\u001b[49m\u001b[43mdriver\u001b[49m\u001b[38;5;241;43m=\u001b[39;49m\u001b[43mmain_driver\u001b[49m\u001b[43m)\u001b[49m\n\u001b[1;32m      2\u001b[0m go_to_lists(driver\u001b[38;5;241m=\u001b[39mmain_driver)\n",
      "File \u001b[0;32m~/Projects/Hotbit_Digital/hotbit-digital/methods.py:26\u001b[0m, in \u001b[0;36mlogin_apollo\u001b[0;34m(driver)\u001b[0m\n\u001b[1;32m     24\u001b[0m \u001b[38;5;28;01mdef\u001b[39;00m \u001b[38;5;21mlogin_apollo\u001b[39m(driver):\n\u001b[1;32m     25\u001b[0m     email,password\u001b[38;5;241m=\u001b[39mget_apollo_creds()\n\u001b[0;32m---> 26\u001b[0m     \u001b[43mdriver\u001b[49m\u001b[38;5;241;43m.\u001b[39;49m\u001b[43mget\u001b[49m\u001b[43m(\u001b[49m\u001b[38;5;124;43m\"\u001b[39;49m\u001b[38;5;124;43mhttps://app.apollo.io\u001b[39;49m\u001b[38;5;124;43m\"\u001b[39;49m\u001b[43m)\u001b[49m\n\u001b[1;32m     27\u001b[0m     time\u001b[38;5;241m.\u001b[39msleep(\u001b[38;5;241m5\u001b[39m)\n\u001b[1;32m     29\u001b[0m     driver\u001b[38;5;241m.\u001b[39mfind_element(By\u001b[38;5;241m.\u001b[39mNAME,\u001b[38;5;124m'\u001b[39m\u001b[38;5;124memail\u001b[39m\u001b[38;5;124m'\u001b[39m)\u001b[38;5;241m.\u001b[39msend_keys(email)\n",
      "File \u001b[0;32m~/Projects/.venv/lib/python3.9/site-packages/selenium/webdriver/remote/webdriver.py:356\u001b[0m, in \u001b[0;36mWebDriver.get\u001b[0;34m(self, url)\u001b[0m\n\u001b[1;32m    354\u001b[0m \u001b[38;5;28;01mdef\u001b[39;00m \u001b[38;5;21mget\u001b[39m(\u001b[38;5;28mself\u001b[39m, url: \u001b[38;5;28mstr\u001b[39m) \u001b[38;5;241m-\u001b[39m\u001b[38;5;241m>\u001b[39m \u001b[38;5;28;01mNone\u001b[39;00m:\n\u001b[1;32m    355\u001b[0m \u001b[38;5;250m    \u001b[39m\u001b[38;5;124;03m\"\"\"Loads a web page in the current browser session.\"\"\"\u001b[39;00m\n\u001b[0;32m--> 356\u001b[0m     \u001b[38;5;28;43mself\u001b[39;49m\u001b[38;5;241;43m.\u001b[39;49m\u001b[43mexecute\u001b[49m\u001b[43m(\u001b[49m\u001b[43mCommand\u001b[49m\u001b[38;5;241;43m.\u001b[39;49m\u001b[43mGET\u001b[49m\u001b[43m,\u001b[49m\u001b[43m \u001b[49m\u001b[43m{\u001b[49m\u001b[38;5;124;43m\"\u001b[39;49m\u001b[38;5;124;43murl\u001b[39;49m\u001b[38;5;124;43m\"\u001b[39;49m\u001b[43m:\u001b[49m\u001b[43m \u001b[49m\u001b[43murl\u001b[49m\u001b[43m}\u001b[49m\u001b[43m)\u001b[49m\n",
      "File \u001b[0;32m~/Projects/.venv/lib/python3.9/site-packages/selenium/webdriver/remote/webdriver.py:345\u001b[0m, in \u001b[0;36mWebDriver.execute\u001b[0;34m(self, driver_command, params)\u001b[0m\n\u001b[1;32m    342\u001b[0m     \u001b[38;5;28;01melif\u001b[39;00m \u001b[38;5;124m\"\u001b[39m\u001b[38;5;124msessionId\u001b[39m\u001b[38;5;124m\"\u001b[39m \u001b[38;5;129;01mnot\u001b[39;00m \u001b[38;5;129;01min\u001b[39;00m params:\n\u001b[1;32m    343\u001b[0m         params[\u001b[38;5;124m\"\u001b[39m\u001b[38;5;124msessionId\u001b[39m\u001b[38;5;124m\"\u001b[39m] \u001b[38;5;241m=\u001b[39m \u001b[38;5;28mself\u001b[39m\u001b[38;5;241m.\u001b[39msession_id\n\u001b[0;32m--> 345\u001b[0m response \u001b[38;5;241m=\u001b[39m \u001b[38;5;28;43mself\u001b[39;49m\u001b[38;5;241;43m.\u001b[39;49m\u001b[43mcommand_executor\u001b[49m\u001b[38;5;241;43m.\u001b[39;49m\u001b[43mexecute\u001b[49m\u001b[43m(\u001b[49m\u001b[43mdriver_command\u001b[49m\u001b[43m,\u001b[49m\u001b[43m \u001b[49m\u001b[43mparams\u001b[49m\u001b[43m)\u001b[49m\n\u001b[1;32m    346\u001b[0m \u001b[38;5;28;01mif\u001b[39;00m response:\n\u001b[1;32m    347\u001b[0m     \u001b[38;5;28mself\u001b[39m\u001b[38;5;241m.\u001b[39merror_handler\u001b[38;5;241m.\u001b[39mcheck_response(response)\n",
      "File \u001b[0;32m~/Projects/.venv/lib/python3.9/site-packages/selenium/webdriver/remote/remote_connection.py:302\u001b[0m, in \u001b[0;36mRemoteConnection.execute\u001b[0;34m(self, command, params)\u001b[0m\n\u001b[1;32m    300\u001b[0m trimmed \u001b[38;5;241m=\u001b[39m \u001b[38;5;28mself\u001b[39m\u001b[38;5;241m.\u001b[39m_trim_large_entries(params)\n\u001b[1;32m    301\u001b[0m LOGGER\u001b[38;5;241m.\u001b[39mdebug(\u001b[38;5;124m\"\u001b[39m\u001b[38;5;132;01m%s\u001b[39;00m\u001b[38;5;124m \u001b[39m\u001b[38;5;132;01m%s\u001b[39;00m\u001b[38;5;124m \u001b[39m\u001b[38;5;132;01m%s\u001b[39;00m\u001b[38;5;124m\"\u001b[39m, command_info[\u001b[38;5;241m0\u001b[39m], url, \u001b[38;5;28mstr\u001b[39m(trimmed))\n\u001b[0;32m--> 302\u001b[0m \u001b[38;5;28;01mreturn\u001b[39;00m \u001b[38;5;28;43mself\u001b[39;49m\u001b[38;5;241;43m.\u001b[39;49m\u001b[43m_request\u001b[49m\u001b[43m(\u001b[49m\u001b[43mcommand_info\u001b[49m\u001b[43m[\u001b[49m\u001b[38;5;241;43m0\u001b[39;49m\u001b[43m]\u001b[49m\u001b[43m,\u001b[49m\u001b[43m \u001b[49m\u001b[43murl\u001b[49m\u001b[43m,\u001b[49m\u001b[43m \u001b[49m\u001b[43mbody\u001b[49m\u001b[38;5;241;43m=\u001b[39;49m\u001b[43mdata\u001b[49m\u001b[43m)\u001b[49m\n",
      "File \u001b[0;32m~/Projects/.venv/lib/python3.9/site-packages/selenium/webdriver/remote/remote_connection.py:322\u001b[0m, in \u001b[0;36mRemoteConnection._request\u001b[0;34m(self, method, url, body)\u001b[0m\n\u001b[1;32m    319\u001b[0m     body \u001b[38;5;241m=\u001b[39m \u001b[38;5;28;01mNone\u001b[39;00m\n\u001b[1;32m    321\u001b[0m \u001b[38;5;28;01mif\u001b[39;00m \u001b[38;5;28mself\u001b[39m\u001b[38;5;241m.\u001b[39mkeep_alive:\n\u001b[0;32m--> 322\u001b[0m     response \u001b[38;5;241m=\u001b[39m \u001b[38;5;28;43mself\u001b[39;49m\u001b[38;5;241;43m.\u001b[39;49m\u001b[43m_conn\u001b[49m\u001b[38;5;241;43m.\u001b[39;49m\u001b[43mrequest\u001b[49m\u001b[43m(\u001b[49m\u001b[43mmethod\u001b[49m\u001b[43m,\u001b[49m\u001b[43m \u001b[49m\u001b[43murl\u001b[49m\u001b[43m,\u001b[49m\u001b[43m \u001b[49m\u001b[43mbody\u001b[49m\u001b[38;5;241;43m=\u001b[39;49m\u001b[43mbody\u001b[49m\u001b[43m,\u001b[49m\u001b[43m \u001b[49m\u001b[43mheaders\u001b[49m\u001b[38;5;241;43m=\u001b[39;49m\u001b[43mheaders\u001b[49m\u001b[43m)\u001b[49m\n\u001b[1;32m    323\u001b[0m     statuscode \u001b[38;5;241m=\u001b[39m response\u001b[38;5;241m.\u001b[39mstatus\n\u001b[1;32m    324\u001b[0m \u001b[38;5;28;01melse\u001b[39;00m:\n",
      "File \u001b[0;32m~/Projects/.venv/lib/python3.9/site-packages/urllib3/request.py:81\u001b[0m, in \u001b[0;36mRequestMethods.request\u001b[0;34m(self, method, url, fields, headers, **urlopen_kw)\u001b[0m\n\u001b[1;32m     77\u001b[0m     \u001b[38;5;28;01mreturn\u001b[39;00m \u001b[38;5;28mself\u001b[39m\u001b[38;5;241m.\u001b[39mrequest_encode_url(\n\u001b[1;32m     78\u001b[0m         method, url, fields\u001b[38;5;241m=\u001b[39mfields, headers\u001b[38;5;241m=\u001b[39mheaders, \u001b[38;5;241m*\u001b[39m\u001b[38;5;241m*\u001b[39murlopen_kw\n\u001b[1;32m     79\u001b[0m     )\n\u001b[1;32m     80\u001b[0m \u001b[38;5;28;01melse\u001b[39;00m:\n\u001b[0;32m---> 81\u001b[0m     \u001b[38;5;28;01mreturn\u001b[39;00m \u001b[38;5;28;43mself\u001b[39;49m\u001b[38;5;241;43m.\u001b[39;49m\u001b[43mrequest_encode_body\u001b[49m\u001b[43m(\u001b[49m\n\u001b[1;32m     82\u001b[0m \u001b[43m        \u001b[49m\u001b[43mmethod\u001b[49m\u001b[43m,\u001b[49m\u001b[43m \u001b[49m\u001b[43murl\u001b[49m\u001b[43m,\u001b[49m\u001b[43m \u001b[49m\u001b[43mfields\u001b[49m\u001b[38;5;241;43m=\u001b[39;49m\u001b[43mfields\u001b[49m\u001b[43m,\u001b[49m\u001b[43m \u001b[49m\u001b[43mheaders\u001b[49m\u001b[38;5;241;43m=\u001b[39;49m\u001b[43mheaders\u001b[49m\u001b[43m,\u001b[49m\u001b[43m \u001b[49m\u001b[38;5;241;43m*\u001b[39;49m\u001b[38;5;241;43m*\u001b[39;49m\u001b[43murlopen_kw\u001b[49m\n\u001b[1;32m     83\u001b[0m \u001b[43m    \u001b[49m\u001b[43m)\u001b[49m\n",
      "File \u001b[0;32m~/Projects/.venv/lib/python3.9/site-packages/urllib3/request.py:173\u001b[0m, in \u001b[0;36mRequestMethods.request_encode_body\u001b[0;34m(self, method, url, fields, headers, encode_multipart, multipart_boundary, **urlopen_kw)\u001b[0m\n\u001b[1;32m    170\u001b[0m extra_kw[\u001b[38;5;124m\"\u001b[39m\u001b[38;5;124mheaders\u001b[39m\u001b[38;5;124m\"\u001b[39m]\u001b[38;5;241m.\u001b[39mupdate(headers)\n\u001b[1;32m    171\u001b[0m extra_kw\u001b[38;5;241m.\u001b[39mupdate(urlopen_kw)\n\u001b[0;32m--> 173\u001b[0m \u001b[38;5;28;01mreturn\u001b[39;00m \u001b[38;5;28;43mself\u001b[39;49m\u001b[38;5;241;43m.\u001b[39;49m\u001b[43murlopen\u001b[49m\u001b[43m(\u001b[49m\u001b[43mmethod\u001b[49m\u001b[43m,\u001b[49m\u001b[43m \u001b[49m\u001b[43murl\u001b[49m\u001b[43m,\u001b[49m\u001b[43m \u001b[49m\u001b[38;5;241;43m*\u001b[39;49m\u001b[38;5;241;43m*\u001b[39;49m\u001b[43mextra_kw\u001b[49m\u001b[43m)\u001b[49m\n",
      "File \u001b[0;32m~/Projects/.venv/lib/python3.9/site-packages/urllib3/poolmanager.py:376\u001b[0m, in \u001b[0;36mPoolManager.urlopen\u001b[0;34m(self, method, url, redirect, **kw)\u001b[0m\n\u001b[1;32m    374\u001b[0m     response \u001b[38;5;241m=\u001b[39m conn\u001b[38;5;241m.\u001b[39murlopen(method, url, \u001b[38;5;241m*\u001b[39m\u001b[38;5;241m*\u001b[39mkw)\n\u001b[1;32m    375\u001b[0m \u001b[38;5;28;01melse\u001b[39;00m:\n\u001b[0;32m--> 376\u001b[0m     response \u001b[38;5;241m=\u001b[39m \u001b[43mconn\u001b[49m\u001b[38;5;241;43m.\u001b[39;49m\u001b[43murlopen\u001b[49m\u001b[43m(\u001b[49m\u001b[43mmethod\u001b[49m\u001b[43m,\u001b[49m\u001b[43m \u001b[49m\u001b[43mu\u001b[49m\u001b[38;5;241;43m.\u001b[39;49m\u001b[43mrequest_uri\u001b[49m\u001b[43m,\u001b[49m\u001b[43m \u001b[49m\u001b[38;5;241;43m*\u001b[39;49m\u001b[38;5;241;43m*\u001b[39;49m\u001b[43mkw\u001b[49m\u001b[43m)\u001b[49m\n\u001b[1;32m    378\u001b[0m redirect_location \u001b[38;5;241m=\u001b[39m redirect \u001b[38;5;129;01mand\u001b[39;00m response\u001b[38;5;241m.\u001b[39mget_redirect_location()\n\u001b[1;32m    379\u001b[0m \u001b[38;5;28;01mif\u001b[39;00m \u001b[38;5;129;01mnot\u001b[39;00m redirect_location:\n",
      "File \u001b[0;32m~/Projects/.venv/lib/python3.9/site-packages/urllib3/connectionpool.py:715\u001b[0m, in \u001b[0;36mHTTPConnectionPool.urlopen\u001b[0;34m(self, method, url, body, headers, retries, redirect, assert_same_host, timeout, pool_timeout, release_conn, chunked, body_pos, **response_kw)\u001b[0m\n\u001b[1;32m    712\u001b[0m     \u001b[38;5;28mself\u001b[39m\u001b[38;5;241m.\u001b[39m_prepare_proxy(conn)\n\u001b[1;32m    714\u001b[0m \u001b[38;5;66;03m# Make the request on the httplib connection object.\u001b[39;00m\n\u001b[0;32m--> 715\u001b[0m httplib_response \u001b[38;5;241m=\u001b[39m \u001b[38;5;28;43mself\u001b[39;49m\u001b[38;5;241;43m.\u001b[39;49m\u001b[43m_make_request\u001b[49m\u001b[43m(\u001b[49m\n\u001b[1;32m    716\u001b[0m \u001b[43m    \u001b[49m\u001b[43mconn\u001b[49m\u001b[43m,\u001b[49m\n\u001b[1;32m    717\u001b[0m \u001b[43m    \u001b[49m\u001b[43mmethod\u001b[49m\u001b[43m,\u001b[49m\n\u001b[1;32m    718\u001b[0m \u001b[43m    \u001b[49m\u001b[43murl\u001b[49m\u001b[43m,\u001b[49m\n\u001b[1;32m    719\u001b[0m \u001b[43m    \u001b[49m\u001b[43mtimeout\u001b[49m\u001b[38;5;241;43m=\u001b[39;49m\u001b[43mtimeout_obj\u001b[49m\u001b[43m,\u001b[49m\n\u001b[1;32m    720\u001b[0m \u001b[43m    \u001b[49m\u001b[43mbody\u001b[49m\u001b[38;5;241;43m=\u001b[39;49m\u001b[43mbody\u001b[49m\u001b[43m,\u001b[49m\n\u001b[1;32m    721\u001b[0m \u001b[43m    \u001b[49m\u001b[43mheaders\u001b[49m\u001b[38;5;241;43m=\u001b[39;49m\u001b[43mheaders\u001b[49m\u001b[43m,\u001b[49m\n\u001b[1;32m    722\u001b[0m \u001b[43m    \u001b[49m\u001b[43mchunked\u001b[49m\u001b[38;5;241;43m=\u001b[39;49m\u001b[43mchunked\u001b[49m\u001b[43m,\u001b[49m\n\u001b[1;32m    723\u001b[0m \u001b[43m\u001b[49m\u001b[43m)\u001b[49m\n\u001b[1;32m    725\u001b[0m \u001b[38;5;66;03m# If we're going to release the connection in ``finally:``, then\u001b[39;00m\n\u001b[1;32m    726\u001b[0m \u001b[38;5;66;03m# the response doesn't need to know about the connection. Otherwise\u001b[39;00m\n\u001b[1;32m    727\u001b[0m \u001b[38;5;66;03m# it will also try to release it and we'll have a double-release\u001b[39;00m\n\u001b[1;32m    728\u001b[0m \u001b[38;5;66;03m# mess.\u001b[39;00m\n\u001b[1;32m    729\u001b[0m response_conn \u001b[38;5;241m=\u001b[39m conn \u001b[38;5;28;01mif\u001b[39;00m \u001b[38;5;129;01mnot\u001b[39;00m release_conn \u001b[38;5;28;01melse\u001b[39;00m \u001b[38;5;28;01mNone\u001b[39;00m\n",
      "File \u001b[0;32m~/Projects/.venv/lib/python3.9/site-packages/urllib3/connectionpool.py:467\u001b[0m, in \u001b[0;36mHTTPConnectionPool._make_request\u001b[0;34m(self, conn, method, url, timeout, chunked, **httplib_request_kw)\u001b[0m\n\u001b[1;32m    462\u001b[0m             httplib_response \u001b[38;5;241m=\u001b[39m conn\u001b[38;5;241m.\u001b[39mgetresponse()\n\u001b[1;32m    463\u001b[0m         \u001b[38;5;28;01mexcept\u001b[39;00m \u001b[38;5;167;01mBaseException\u001b[39;00m \u001b[38;5;28;01mas\u001b[39;00m e:\n\u001b[1;32m    464\u001b[0m             \u001b[38;5;66;03m# Remove the TypeError from the exception chain in\u001b[39;00m\n\u001b[1;32m    465\u001b[0m             \u001b[38;5;66;03m# Python 3 (including for exceptions like SystemExit).\u001b[39;00m\n\u001b[1;32m    466\u001b[0m             \u001b[38;5;66;03m# Otherwise it looks like a bug in the code.\u001b[39;00m\n\u001b[0;32m--> 467\u001b[0m             \u001b[43msix\u001b[49m\u001b[38;5;241;43m.\u001b[39;49m\u001b[43mraise_from\u001b[49m\u001b[43m(\u001b[49m\u001b[43me\u001b[49m\u001b[43m,\u001b[49m\u001b[43m \u001b[49m\u001b[38;5;28;43;01mNone\u001b[39;49;00m\u001b[43m)\u001b[49m\n\u001b[1;32m    468\u001b[0m \u001b[38;5;28;01mexcept\u001b[39;00m (SocketTimeout, BaseSSLError, SocketError) \u001b[38;5;28;01mas\u001b[39;00m e:\n\u001b[1;32m    469\u001b[0m     \u001b[38;5;28mself\u001b[39m\u001b[38;5;241m.\u001b[39m_raise_timeout(err\u001b[38;5;241m=\u001b[39me, url\u001b[38;5;241m=\u001b[39murl, timeout_value\u001b[38;5;241m=\u001b[39mread_timeout)\n",
      "File \u001b[0;32m<string>:3\u001b[0m, in \u001b[0;36mraise_from\u001b[0;34m(value, from_value)\u001b[0m\n",
      "File \u001b[0;32m~/Projects/.venv/lib/python3.9/site-packages/urllib3/connectionpool.py:462\u001b[0m, in \u001b[0;36mHTTPConnectionPool._make_request\u001b[0;34m(self, conn, method, url, timeout, chunked, **httplib_request_kw)\u001b[0m\n\u001b[1;32m    459\u001b[0m \u001b[38;5;28;01mexcept\u001b[39;00m \u001b[38;5;167;01mTypeError\u001b[39;00m:\n\u001b[1;32m    460\u001b[0m     \u001b[38;5;66;03m# Python 3\u001b[39;00m\n\u001b[1;32m    461\u001b[0m     \u001b[38;5;28;01mtry\u001b[39;00m:\n\u001b[0;32m--> 462\u001b[0m         httplib_response \u001b[38;5;241m=\u001b[39m \u001b[43mconn\u001b[49m\u001b[38;5;241;43m.\u001b[39;49m\u001b[43mgetresponse\u001b[49m\u001b[43m(\u001b[49m\u001b[43m)\u001b[49m\n\u001b[1;32m    463\u001b[0m     \u001b[38;5;28;01mexcept\u001b[39;00m \u001b[38;5;167;01mBaseException\u001b[39;00m \u001b[38;5;28;01mas\u001b[39;00m e:\n\u001b[1;32m    464\u001b[0m         \u001b[38;5;66;03m# Remove the TypeError from the exception chain in\u001b[39;00m\n\u001b[1;32m    465\u001b[0m         \u001b[38;5;66;03m# Python 3 (including for exceptions like SystemExit).\u001b[39;00m\n\u001b[1;32m    466\u001b[0m         \u001b[38;5;66;03m# Otherwise it looks like a bug in the code.\u001b[39;00m\n\u001b[1;32m    467\u001b[0m         six\u001b[38;5;241m.\u001b[39mraise_from(e, \u001b[38;5;28;01mNone\u001b[39;00m)\n",
      "File \u001b[0;32m/Library/Developer/CommandLineTools/Library/Frameworks/Python3.framework/Versions/3.9/lib/python3.9/http/client.py:1349\u001b[0m, in \u001b[0;36mHTTPConnection.getresponse\u001b[0;34m(self)\u001b[0m\n\u001b[1;32m   1347\u001b[0m \u001b[38;5;28;01mtry\u001b[39;00m:\n\u001b[1;32m   1348\u001b[0m     \u001b[38;5;28;01mtry\u001b[39;00m:\n\u001b[0;32m-> 1349\u001b[0m         \u001b[43mresponse\u001b[49m\u001b[38;5;241;43m.\u001b[39;49m\u001b[43mbegin\u001b[49m\u001b[43m(\u001b[49m\u001b[43m)\u001b[49m\n\u001b[1;32m   1350\u001b[0m     \u001b[38;5;28;01mexcept\u001b[39;00m \u001b[38;5;167;01mConnectionError\u001b[39;00m:\n\u001b[1;32m   1351\u001b[0m         \u001b[38;5;28mself\u001b[39m\u001b[38;5;241m.\u001b[39mclose()\n",
      "File \u001b[0;32m/Library/Developer/CommandLineTools/Library/Frameworks/Python3.framework/Versions/3.9/lib/python3.9/http/client.py:316\u001b[0m, in \u001b[0;36mHTTPResponse.begin\u001b[0;34m(self)\u001b[0m\n\u001b[1;32m    314\u001b[0m \u001b[38;5;66;03m# read until we get a non-100 response\u001b[39;00m\n\u001b[1;32m    315\u001b[0m \u001b[38;5;28;01mwhile\u001b[39;00m \u001b[38;5;28;01mTrue\u001b[39;00m:\n\u001b[0;32m--> 316\u001b[0m     version, status, reason \u001b[38;5;241m=\u001b[39m \u001b[38;5;28;43mself\u001b[39;49m\u001b[38;5;241;43m.\u001b[39;49m\u001b[43m_read_status\u001b[49m\u001b[43m(\u001b[49m\u001b[43m)\u001b[49m\n\u001b[1;32m    317\u001b[0m     \u001b[38;5;28;01mif\u001b[39;00m status \u001b[38;5;241m!=\u001b[39m CONTINUE:\n\u001b[1;32m    318\u001b[0m         \u001b[38;5;28;01mbreak\u001b[39;00m\n",
      "File \u001b[0;32m/Library/Developer/CommandLineTools/Library/Frameworks/Python3.framework/Versions/3.9/lib/python3.9/http/client.py:277\u001b[0m, in \u001b[0;36mHTTPResponse._read_status\u001b[0;34m(self)\u001b[0m\n\u001b[1;32m    276\u001b[0m \u001b[38;5;28;01mdef\u001b[39;00m \u001b[38;5;21m_read_status\u001b[39m(\u001b[38;5;28mself\u001b[39m):\n\u001b[0;32m--> 277\u001b[0m     line \u001b[38;5;241m=\u001b[39m \u001b[38;5;28mstr\u001b[39m(\u001b[38;5;28;43mself\u001b[39;49m\u001b[38;5;241;43m.\u001b[39;49m\u001b[43mfp\u001b[49m\u001b[38;5;241;43m.\u001b[39;49m\u001b[43mreadline\u001b[49m\u001b[43m(\u001b[49m\u001b[43m_MAXLINE\u001b[49m\u001b[43m \u001b[49m\u001b[38;5;241;43m+\u001b[39;49m\u001b[43m \u001b[49m\u001b[38;5;241;43m1\u001b[39;49m\u001b[43m)\u001b[49m, \u001b[38;5;124m\"\u001b[39m\u001b[38;5;124miso-8859-1\u001b[39m\u001b[38;5;124m\"\u001b[39m)\n\u001b[1;32m    278\u001b[0m     \u001b[38;5;28;01mif\u001b[39;00m \u001b[38;5;28mlen\u001b[39m(line) \u001b[38;5;241m>\u001b[39m _MAXLINE:\n\u001b[1;32m    279\u001b[0m         \u001b[38;5;28;01mraise\u001b[39;00m LineTooLong(\u001b[38;5;124m\"\u001b[39m\u001b[38;5;124mstatus line\u001b[39m\u001b[38;5;124m\"\u001b[39m)\n",
      "File \u001b[0;32m/Library/Developer/CommandLineTools/Library/Frameworks/Python3.framework/Versions/3.9/lib/python3.9/socket.py:704\u001b[0m, in \u001b[0;36mSocketIO.readinto\u001b[0;34m(self, b)\u001b[0m\n\u001b[1;32m    702\u001b[0m \u001b[38;5;28;01mwhile\u001b[39;00m \u001b[38;5;28;01mTrue\u001b[39;00m:\n\u001b[1;32m    703\u001b[0m     \u001b[38;5;28;01mtry\u001b[39;00m:\n\u001b[0;32m--> 704\u001b[0m         \u001b[38;5;28;01mreturn\u001b[39;00m \u001b[38;5;28;43mself\u001b[39;49m\u001b[38;5;241;43m.\u001b[39;49m\u001b[43m_sock\u001b[49m\u001b[38;5;241;43m.\u001b[39;49m\u001b[43mrecv_into\u001b[49m\u001b[43m(\u001b[49m\u001b[43mb\u001b[49m\u001b[43m)\u001b[49m\n\u001b[1;32m    705\u001b[0m     \u001b[38;5;28;01mexcept\u001b[39;00m timeout:\n\u001b[1;32m    706\u001b[0m         \u001b[38;5;28mself\u001b[39m\u001b[38;5;241m.\u001b[39m_timeout_occurred \u001b[38;5;241m=\u001b[39m \u001b[38;5;28;01mTrue\u001b[39;00m\n",
      "\u001b[0;31mKeyboardInterrupt\u001b[0m: "
     ]
    }
   ],
   "source": [
    "login_apollo(driver=main_driver)\n",
    "go_to_lists(driver=main_driver)\n"
   ]
  },
  {
   "cell_type": "code",
   "execution_count": 14,
   "metadata": {},
   "outputs": [],
   "source": [
    "sort_by_name(driver=main_driver)"
   ]
  },
  {
   "cell_type": "code",
   "execution_count": 12,
   "metadata": {},
   "outputs": [],
   "source": [
    "def extract_data(row,bucket_name,competitor_domain,competitor_name):\n",
    "    com_linked_in=''\n",
    "    linked_in=''\n",
    "    name = row.findAll('td')[0].text.split(' ')[0]\n",
    "    # error handling for linkedin\n",
    "    try:\n",
    "        linked_in = row.findAll('td')[0].select('a[href]')[0].get('href')\n",
    "        if 'linkedin' not in linked_in:\n",
    "            linked_in = row.findAll('td')[0].select('a[href]')[1].get('href')\n",
    "            if 'linkedin' not in linked_in:\n",
    "                linked_in = row.findAll('td')[0].select('a[href]')[2].get('href')\n",
    "                if 'linkedin' not in linked_in:\n",
    "                    linked_in = row.findAll('td')[0].select('a[href]')[3].get('href')\n",
    "    except:\n",
    "        pass    \n",
    "    title = row.findAll('td')[1].text\n",
    "    company = row.findAll('td')[2].text\n",
    "    # error handling for company linkedin\n",
    "    try:\n",
    "        company_website = row.findAll('td')[2].select('a[href]')[1].get('href')\n",
    "    except:\n",
    "        company_website=\"\"\n",
    "\n",
    "    try:\n",
    "        com_linked_in = row.findAll('td')[2].select('a[href]')[1].get('href')\n",
    "        if 'linkedin' not in com_linked_in:\n",
    "            com_linked_in = row.findAll('td')[2].select('a[href]')[2].get('href')\n",
    "        else:\n",
    "            pass\n",
    "    except:\n",
    "        pass\n",
    "    email = row.findAll('td')[4].text\n",
    "    industry = row.findAll('td')[6].text\n",
    "    contact_loc = row.findAll('td')[8].text\n",
    "    company_loc = row.findAll('td')[7].text.replace('N/A',contact_loc)\n",
    "    \n",
    "    company_domain = company_website.replace('https://','').replace('http://','').replace('/','')\n",
    "    \n",
    "    # print(name,linked_in,title,company,contact_loc,industry,email)\n",
    "    return {'Name': name,\n",
    "            'Email':email,\n",
    "            'linked_in':linked_in,\n",
    "            'company':company,\n",
    "            'com_linked_in':com_linked_in,\n",
    "            'title': title,\n",
    "            'industry':industry,\n",
    "            'contact_loc':contact_loc,\n",
    "            'company_loc':company_loc,\n",
    "            'company_domain':company_domain,\n",
    "            }"
   ]
  },
  {
   "cell_type": "code",
   "execution_count": 13,
   "metadata": {},
   "outputs": [],
   "source": [
    "def get_data(driver,page_count,competitor_domain,competitor_name,industry,country,date):\n",
    "    industry = industry.lower().replace(' ','-')\n",
    "    country = country.lower().replace(' ','-')\n",
    "    date = date.replace('_','-').replace('/','-')\n",
    "    csv_filename = f\"{industry}-{country}-{date}.csv\"\n",
    "    bucket_name = f\"{industry}-{country}-{date}\"\n",
    "    data = []\n",
    "    for i in range(1,page_count+1):\n",
    "        time.sleep(5)\n",
    "        the_soup = BeautifulSoup(driver.page_source, 'html.parser')\n",
    "        table=the_soup.findAll('tbody')\n",
    "        for row in table:\n",
    "            data.append(extract_data(row,bucket_name,competitor_domain,competitor_name))\n",
    "        if i<page_count:\n",
    "            driver.find_element(By.XPATH,\"/html/body/div[2]/div/div[2]/div[2]/div/div[2]/div/div/div[2]/div[2]/div/div/div/div/div/div/div/div[2]/div/div[4]/div/div/div/div/div[3]/div/div[2]/button[2]\").click()\n",
    "    return data,bucket_name,csv_filename"
   ]
  },
  {
   "cell_type": "code",
   "execution_count": 3,
   "metadata": {},
   "outputs": [],
   "source": [
    "from random import randint\n",
    "\n",
    "\n",
    "def automate1(driver, url, list_name,num):\n",
    "    driver.get(url)\n",
    "    time.sleep(randint(5, 10))\n",
    "\n",
    "    for i in range(num):\n",
    "\n",
    "        #click on select all\n",
    "        driver.find_element(By.XPATH,'/html/body/div[2]/div/div[2]/div[2]/div/div[2]/div/div/div[2]/div[2]/div/div/div/div/div/div/div/div[2]/div/div[3]/div/div/div/div[1]/div[1]/div/button').click()\n",
    "        time.sleep(randint(5, 10))\n",
    "\n",
    "        #select all\n",
    "        driver.find_element(By.XPATH,'/html/body/div[7]/div/div/div/div/div/a[1]').click()\n",
    "        time.sleep(randint(5, 10))\n",
    "\n",
    "        # #open add to list\n",
    "        # driver.find_element(By.XPATH,'/html/body/div[2]/div/div[2]/div[2]/div/div[2]/div/div/div/div[2]/div/div[2]/div/div/div/div/div/div[2]/div/div[3]/div/div/div/div[1]/div[4]/button[3]').click()\n",
    "        # time.sleep(randint(5, 10))\n",
    "\n",
    "        # #click on add to list\n",
    "        # driver.find_element(By.XPATH,'/html/body/div[7]/div/div/div/div/div/a').click()\n",
    "        # time.sleep(randint(5, 10))\n",
    "\n",
    "        # click on save button\n",
    "        driver.find_element(By.XPATH,'/html/body/div[2]/div/div[2]/div[2]/div/div[2]/div/div/div[2]/div[2]/div/div/div/div/div/div/div/div[2]/div/div[3]/div/div/div/div[1]/div[3]/span[1]/button').click()\n",
    "        time.sleep(randint(5, 10))\n",
    "\n",
    "        #send list name\n",
    "        driver.find_element(By.XPATH,'/html/body/div[7]/div[2]/div/div/div[2]/form/div[1]/div[2]/div/div/div/div[2]/div/div/div/div/div/div[1]/input').send_keys(list_name)\n",
    "        time.sleep(randint(5, 10))\n",
    "\n",
    "        #click on save button\n",
    "        driver.find_element(By.XPATH,'/html/body/div[7]/div[2]/div/div/div[3]/button[1]').click()\n",
    "        time.sleep(randint(5, 10))\n",
    "\n",
    "        #refresh prospects\n",
    "        driver.find_element(By.XPATH,'/html/body/div[2]/div/div[2]/div[2]/div/div[4]/div/div[2]/div/div/div/div[2]/div/div[2]/div[2]').click()\n",
    "        time.sleep(randint(5, 10))\n",
    "\n",
    "\n",
    "        # # next page\n",
    "        # driver.find_element(By.XPATH,'/html/body/div[2]/div/div[2]/div[2]/div/div[2]/div/div/div/div[2]/div/div[2]/div/div/div/div/div/div[2]/div/div[4]/div/div/div/div/div[3]/div/div[2]/button[2]').click()\n",
    "        # time.sleep(randint(5, 10))"
   ]
  },
  {
   "cell_type": "code",
   "execution_count": 14,
   "metadata": {},
   "outputs": [],
   "source": [
    "def extract_data(row,bucket_name,competitor_domain,competitor_name):\n",
    "    com_linked_in=''\n",
    "    linked_in=''\n",
    "    name = row.findAll('td')[0].text.split(' ')[0]\n",
    "    # error handling for linkedin\n",
    "    try:\n",
    "        linked_in = row.findAll('td')[0].select('a[href]')[0].get('href')\n",
    "        if 'linkedin' not in linked_in:\n",
    "            linked_in = row.findAll('td')[0].select('a[href]')[1].get('href')\n",
    "            if 'linkedin' not in linked_in:\n",
    "                linked_in = row.findAll('td')[0].select('a[href]')[2].get('href')\n",
    "                if 'linkedin' not in linked_in:\n",
    "                    linked_in = row.findAll('td')[0].select('a[href]')[3].get('href')\n",
    "    except:\n",
    "        pass    \n",
    "    title = row.findAll('td')[1].text\n",
    "    company = row.findAll('td')[2].text\n",
    "    # error handling for company linkedin\n",
    "    try:    \n",
    "        company_website = row.findAll('td')[2].select('a[href]')[1].get('href')\n",
    "    except:\n",
    "        company_website=\"\"\n",
    "\n",
    "    try:\n",
    "        com_linked_in = row.findAll('td')[2].select('a[href]')[1].get('href')\n",
    "        if 'linkedin' not in com_linked_in:\n",
    "            com_linked_in = row.findAll('td')[2].select('a[href]')[2].get('href')\n",
    "            if 'linkedin' not in com_linked_in:\n",
    "                com_linked_in = row.findAll('td')[2].select('a[href]')[3].get('href')\n",
    "                if 'linkedin' not in com_linked_in:\n",
    "                    com_linked_in = row.findAll('td')[2].select('a[href]')[4].get('href')\n",
    "    except:\n",
    "        pass\n",
    "    email = row.findAll('td')[4].text\n",
    "    industry = row.findAll('td')[6].text\n",
    "    contact_loc = row.findAll('td')[8].text\n",
    "    company_loc = row.findAll('td')[7].text.replace('N/A',contact_loc)\n",
    "    \n",
    "    company_domain = company_website.replace('https://','').replace('http://','').replace('/','')\n",
    "    \n",
    "    # print(name,linked_in,title,company,contact_loc,industry,email)\n",
    "    return {'Name': name,\n",
    "            'Email':email,\n",
    "            'linked_in':linked_in,\n",
    "            'company':company,\n",
    "            'com_linked_in':com_linked_in,\n",
    "            'title': title,\n",
    "            'industry':industry,\n",
    "            'contact_loc':contact_loc,\n",
    "            'company_loc':company_loc,\n",
    "            'company_domain':company_domain\n",
    "            }"
   ]
  },
  {
   "cell_type": "code",
   "execution_count": 4,
   "metadata": {},
   "outputs": [],
   "source": [
    "main_driver=init_driver()"
   ]
  },
  {
   "cell_type": "code",
   "execution_count": null,
   "metadata": {},
   "outputs": [],
   "source": [
    "login"
   ]
  },
  {
   "cell_type": "code",
   "execution_count": 9,
   "metadata": {},
   "outputs": [],
   "source": [
    "link=\"https://app.apollo.io/#/people?finderViewId=5b6dfc5a73f47568b2e5f11c&personTitles[]=owner&personTitles[]=Founder&personTitles[]=founder%20and%20ceo&personTitles[]=CEO&personTitles[]=co%20founder&personTitles[]=CMO&personTitles[]=managing%20director&personTitles[]=Dean&personTitles[]=medical%20director&personTitles[]=md%20phd&page=1&organizationNumEmployeesRanges[]=1%2C10&contactEmailStatusV2[]=likely_to_engage&contactEmailStatusV2[]=verified&organizationLocations[]=United%20Kingdom&qOrganizationKeywordTags[]=Fitness&qOrganizationKeywordTags[]=gym&includedOrganizationKeywordFields[]=tags&includedOrganizationKeywordFields[]=name&sortByField=person_name.raw&sortAscending=true&prospectedByCurrentTeam[]=no\"\n",
    "list_name=\"Fitness UK 1\"\n",
    "automate1(main_driver,link, list_name,4)"
   ]
  },
  {
   "cell_type": "code",
   "execution_count": 10,
   "metadata": {},
   "outputs": [],
   "source": [
    "# pages=get_page_count(driver=main_driver)\n",
    "pages=20\n",
    "competitor_name=\"\"\n",
    "competitor_domain=\"\"\n",
    "industry=\"fitness-uk-1\"\n",
    "country=\"uk\"\n",
    "date=\"22-04-2024\"\n"
   ]
  },
  {
   "cell_type": "code",
   "execution_count": 15,
   "metadata": {},
   "outputs": [],
   "source": [
    "main_data,bucket_name,csv_file_name=get_data(driver=main_driver,page_count=pages,competitor_domain=competitor_domain,competitor_name=competitor_name,industry=industry,country=country,date=date)"
   ]
  },
  {
   "cell_type": "code",
   "execution_count": 5,
   "metadata": {},
   "outputs": [
    {
     "data": {
      "text/plain": [
       "True"
      ]
     },
     "execution_count": 5,
     "metadata": {},
     "output_type": "execute_result"
    }
   ],
   "source": [
    "create_s3_bucket(s3=init_s3(),bucket_name=\"real-estate-vermont-us-29-02-24\")"
   ]
  },
  {
   "cell_type": "code",
   "execution_count": 19,
   "metadata": {},
   "outputs": [],
   "source": [
    "csv_url=write_to_csv(data=main_data,filename=csv_file_name,bucket_name=bucket_name)"
   ]
  },
  {
   "cell_type": "code",
   "execution_count": 20,
   "metadata": {},
   "outputs": [
    {
     "name": "stdout",
     "output_type": "stream",
     "text": [
      "https://fitness-uk-1-uk-22-04-2024.s3.amazonaws.com/fitness-uk-1-uk-22-04-2024.csv\n"
     ]
    }
   ],
   "source": [
    "print(csv_url)"
   ]
  },
  {
   "cell_type": "code",
   "execution_count": 7,
   "metadata": {},
   "outputs": [],
   "source": [
    "login_semrush(main_driver)"
   ]
  },
  {
   "cell_type": "code",
   "execution_count": 154,
   "metadata": {},
   "outputs": [
    {
     "data": {
      "text/plain": [
       "True"
      ]
     },
     "execution_count": 154,
     "metadata": {},
     "output_type": "execute_result"
    }
   ],
   "source": [
    "screenshot_to_s3(s3=init_s3(),driver=main_driver,bucket_name=bucket_name,domain=competitor_domain,region=country)"
   ]
  },
  {
   "cell_type": "code",
   "execution_count": 39,
   "metadata": {},
   "outputs": [],
   "source": [
    "s3=init_s3()"
   ]
  },
  {
   "cell_type": "code",
   "execution_count": 14,
   "metadata": {},
   "outputs": [
    {
     "ename": "InvalidSessionIdException",
     "evalue": "Message: invalid session id\nStacktrace:\n0   chromedriver                        0x000000010480a814 chromedriver + 4040724\n1   chromedriver                        0x0000000104802a18 chromedriver + 4008472\n2   chromedriver                        0x00000001044756a8 chromedriver + 284328\n3   chromedriver                        0x00000001044acc14 chromedriver + 510996\n4   chromedriver                        0x00000001044d71c0 chromedriver + 684480\n5   chromedriver                        0x00000001044d2720 chromedriver + 665376\n6   chromedriver                        0x00000001044d209c chromedriver + 663708\n7   chromedriver                        0x0000000104446d74 chromedriver + 93556\n8   chromedriver                        0x00000001047cfa3c chromedriver + 3799612\n9   chromedriver                        0x00000001047d3f1c chromedriver + 3817244\n10  chromedriver                        0x00000001047b8298 chromedriver + 3703448\n11  chromedriver                        0x00000001047d4a64 chromedriver + 3820132\n12  chromedriver                        0x00000001047ab054 chromedriver + 3649620\n13  chromedriver                        0x0000000104445658 chromedriver + 87640\n14  dyld                                0x0000000181ed10e0 start + 2360\n",
     "output_type": "error",
     "traceback": [
      "\u001b[0;31m---------------------------------------------------------------------------\u001b[0m",
      "\u001b[0;31mInvalidSessionIdException\u001b[0m                 Traceback (most recent call last)",
      "Cell \u001b[0;32mIn[14], line 1\u001b[0m\n\u001b[0;32m----> 1\u001b[0m \u001b[43mupdate_screenshots_to_s3\u001b[49m\u001b[43m(\u001b[49m\u001b[43ms3\u001b[49m\u001b[38;5;241;43m=\u001b[39;49m\u001b[43minit_s3\u001b[49m\u001b[43m(\u001b[49m\u001b[43m)\u001b[49m\u001b[43m,\u001b[49m\u001b[43mdriver\u001b[49m\u001b[38;5;241;43m=\u001b[39;49m\u001b[43mmain_driver\u001b[49m\u001b[43m,\u001b[49m\u001b[43mbucket_name\u001b[49m\u001b[38;5;241;43m=\u001b[39;49m\u001b[43mbucket_name\u001b[49m\u001b[43m,\u001b[49m\u001b[43mdata\u001b[49m\u001b[38;5;241;43m=\u001b[39;49m\u001b[43mmain_data\u001b[49m\u001b[43m,\u001b[49m\u001b[43mregion\u001b[49m\u001b[38;5;241;43m=\u001b[39;49m\u001b[43mcountry\u001b[49m\u001b[43m)\u001b[49m\n",
      "File \u001b[0;32m~/Projects/Hotbit Digital/hotbit-digital/methods.py:193\u001b[0m, in \u001b[0;36mupdate_screenshots_to_s3\u001b[0;34m(s3, driver, bucket_name, data, region)\u001b[0m\n\u001b[1;32m    191\u001b[0m \u001b[38;5;28;01mfor\u001b[39;00m item \u001b[38;5;129;01min\u001b[39;00m data:\n\u001b[1;32m    192\u001b[0m     domain \u001b[38;5;241m=\u001b[39m item[\u001b[38;5;124m'\u001b[39m\u001b[38;5;124mcompany_domain\u001b[39m\u001b[38;5;124m'\u001b[39m]\n\u001b[0;32m--> 193\u001b[0m     \u001b[43mscreenshot_to_s3\u001b[49m\u001b[43m(\u001b[49m\u001b[43ms3\u001b[49m\u001b[38;5;241;43m=\u001b[39;49m\u001b[43ms3\u001b[49m\u001b[43m,\u001b[49m\u001b[43mdriver\u001b[49m\u001b[38;5;241;43m=\u001b[39;49m\u001b[43mdriver\u001b[49m\u001b[43m,\u001b[49m\u001b[43mbucket_name\u001b[49m\u001b[38;5;241;43m=\u001b[39;49m\u001b[43mbucket_name\u001b[49m\u001b[43m,\u001b[49m\u001b[43mdomain\u001b[49m\u001b[38;5;241;43m=\u001b[39;49m\u001b[43mdomain\u001b[49m\u001b[43m,\u001b[49m\u001b[43mregion\u001b[49m\u001b[38;5;241;43m=\u001b[39;49m\u001b[43mregion\u001b[49m\u001b[43m)\u001b[49m\n\u001b[1;32m    195\u001b[0m \u001b[38;5;28;01mreturn\u001b[39;00m \u001b[38;5;28;01mTrue\u001b[39;00m\n",
      "File \u001b[0;32m~/Projects/Hotbit Digital/hotbit-digital/methods.py:155\u001b[0m, in \u001b[0;36mscreenshot_to_s3\u001b[0;34m(s3, driver, bucket_name, domain, region)\u001b[0m\n\u001b[1;32m    153\u001b[0m \u001b[38;5;28;01mdef\u001b[39;00m \u001b[38;5;21mscreenshot_to_s3\u001b[39m(s3,driver,bucket_name,domain,region\u001b[38;5;241m=\u001b[39m\u001b[38;5;124m'\u001b[39m\u001b[38;5;124mus\u001b[39m\u001b[38;5;124m'\u001b[39m):\n\u001b[1;32m    154\u001b[0m     domain \u001b[38;5;241m=\u001b[39m domain\n\u001b[0;32m--> 155\u001b[0m     \u001b[43mdriver\u001b[49m\u001b[38;5;241;43m.\u001b[39;49m\u001b[43mget\u001b[49m\u001b[43m(\u001b[49m\u001b[38;5;124;43mf\u001b[39;49m\u001b[38;5;124;43m\"\u001b[39;49m\u001b[38;5;124;43mhttps://sm.proseotools.us/analytics/overview/?searchType=domain&q=\u001b[39;49m\u001b[38;5;132;43;01m{\u001b[39;49;00m\u001b[43mdomain\u001b[49m\u001b[38;5;132;43;01m}\u001b[39;49;00m\u001b[38;5;124;43m&db=\u001b[39;49m\u001b[38;5;132;43;01m{\u001b[39;49;00m\u001b[43mregion\u001b[49m\u001b[38;5;132;43;01m}\u001b[39;49;00m\u001b[38;5;124;43m\"\u001b[39;49m\u001b[43m)\u001b[49m\n\u001b[1;32m    156\u001b[0m     time\u001b[38;5;241m.\u001b[39msleep(\u001b[38;5;241m5\u001b[39m)\n\u001b[1;32m    158\u001b[0m     \u001b[38;5;66;03m#highlight borders\u001b[39;00m\n",
      "File \u001b[0;32m~/Projects/.venv/lib/python3.9/site-packages/selenium/webdriver/remote/webdriver.py:356\u001b[0m, in \u001b[0;36mWebDriver.get\u001b[0;34m(self, url)\u001b[0m\n\u001b[1;32m    354\u001b[0m \u001b[38;5;28;01mdef\u001b[39;00m \u001b[38;5;21mget\u001b[39m(\u001b[38;5;28mself\u001b[39m, url: \u001b[38;5;28mstr\u001b[39m) \u001b[38;5;241m-\u001b[39m\u001b[38;5;241m>\u001b[39m \u001b[38;5;28;01mNone\u001b[39;00m:\n\u001b[1;32m    355\u001b[0m \u001b[38;5;250m    \u001b[39m\u001b[38;5;124;03m\"\"\"Loads a web page in the current browser session.\"\"\"\u001b[39;00m\n\u001b[0;32m--> 356\u001b[0m     \u001b[38;5;28;43mself\u001b[39;49m\u001b[38;5;241;43m.\u001b[39;49m\u001b[43mexecute\u001b[49m\u001b[43m(\u001b[49m\u001b[43mCommand\u001b[49m\u001b[38;5;241;43m.\u001b[39;49m\u001b[43mGET\u001b[49m\u001b[43m,\u001b[49m\u001b[43m \u001b[49m\u001b[43m{\u001b[49m\u001b[38;5;124;43m\"\u001b[39;49m\u001b[38;5;124;43murl\u001b[39;49m\u001b[38;5;124;43m\"\u001b[39;49m\u001b[43m:\u001b[49m\u001b[43m \u001b[49m\u001b[43murl\u001b[49m\u001b[43m}\u001b[49m\u001b[43m)\u001b[49m\n",
      "File \u001b[0;32m~/Projects/.venv/lib/python3.9/site-packages/selenium/webdriver/remote/webdriver.py:347\u001b[0m, in \u001b[0;36mWebDriver.execute\u001b[0;34m(self, driver_command, params)\u001b[0m\n\u001b[1;32m    345\u001b[0m response \u001b[38;5;241m=\u001b[39m \u001b[38;5;28mself\u001b[39m\u001b[38;5;241m.\u001b[39mcommand_executor\u001b[38;5;241m.\u001b[39mexecute(driver_command, params)\n\u001b[1;32m    346\u001b[0m \u001b[38;5;28;01mif\u001b[39;00m response:\n\u001b[0;32m--> 347\u001b[0m     \u001b[38;5;28;43mself\u001b[39;49m\u001b[38;5;241;43m.\u001b[39;49m\u001b[43merror_handler\u001b[49m\u001b[38;5;241;43m.\u001b[39;49m\u001b[43mcheck_response\u001b[49m\u001b[43m(\u001b[49m\u001b[43mresponse\u001b[49m\u001b[43m)\u001b[49m\n\u001b[1;32m    348\u001b[0m     response[\u001b[38;5;124m\"\u001b[39m\u001b[38;5;124mvalue\u001b[39m\u001b[38;5;124m\"\u001b[39m] \u001b[38;5;241m=\u001b[39m \u001b[38;5;28mself\u001b[39m\u001b[38;5;241m.\u001b[39m_unwrap_value(response\u001b[38;5;241m.\u001b[39mget(\u001b[38;5;124m\"\u001b[39m\u001b[38;5;124mvalue\u001b[39m\u001b[38;5;124m\"\u001b[39m, \u001b[38;5;28;01mNone\u001b[39;00m))\n\u001b[1;32m    349\u001b[0m     \u001b[38;5;28;01mreturn\u001b[39;00m response\n",
      "File \u001b[0;32m~/Projects/.venv/lib/python3.9/site-packages/selenium/webdriver/remote/errorhandler.py:229\u001b[0m, in \u001b[0;36mErrorHandler.check_response\u001b[0;34m(self, response)\u001b[0m\n\u001b[1;32m    227\u001b[0m         alert_text \u001b[38;5;241m=\u001b[39m value[\u001b[38;5;124m\"\u001b[39m\u001b[38;5;124malert\u001b[39m\u001b[38;5;124m\"\u001b[39m]\u001b[38;5;241m.\u001b[39mget(\u001b[38;5;124m\"\u001b[39m\u001b[38;5;124mtext\u001b[39m\u001b[38;5;124m\"\u001b[39m)\n\u001b[1;32m    228\u001b[0m     \u001b[38;5;28;01mraise\u001b[39;00m exception_class(message, screen, stacktrace, alert_text)  \u001b[38;5;66;03m# type: ignore[call-arg]  # mypy is not smart enough here\u001b[39;00m\n\u001b[0;32m--> 229\u001b[0m \u001b[38;5;28;01mraise\u001b[39;00m exception_class(message, screen, stacktrace)\n",
      "\u001b[0;31mInvalidSessionIdException\u001b[0m: Message: invalid session id\nStacktrace:\n0   chromedriver                        0x000000010480a814 chromedriver + 4040724\n1   chromedriver                        0x0000000104802a18 chromedriver + 4008472\n2   chromedriver                        0x00000001044756a8 chromedriver + 284328\n3   chromedriver                        0x00000001044acc14 chromedriver + 510996\n4   chromedriver                        0x00000001044d71c0 chromedriver + 684480\n5   chromedriver                        0x00000001044d2720 chromedriver + 665376\n6   chromedriver                        0x00000001044d209c chromedriver + 663708\n7   chromedriver                        0x0000000104446d74 chromedriver + 93556\n8   chromedriver                        0x00000001047cfa3c chromedriver + 3799612\n9   chromedriver                        0x00000001047d3f1c chromedriver + 3817244\n10  chromedriver                        0x00000001047b8298 chromedriver + 3703448\n11  chromedriver                        0x00000001047d4a64 chromedriver + 3820132\n12  chromedriver                        0x00000001047ab054 chromedriver + 3649620\n13  chromedriver                        0x0000000104445658 chromedriver + 87640\n14  dyld                                0x0000000181ed10e0 start + 2360\n"
     ]
    }
   ],
   "source": [
    "update_screenshots_to_s3(s3=init_s3(),driver=main_driver,bucket_name=bucket_name,data=main_data,region=country)"
   ]
  },
  {
   "cell_type": "code",
   "execution_count": 185,
   "metadata": {},
   "outputs": [],
   "source": [
    "\n",
    "\n",
    "main_driver.quit()"
   ]
  },
  {
   "cell_type": "code",
   "execution_count": 8,
   "metadata": {},
   "outputs": [
    {
     "data": {
      "text/plain": [
       "True"
      ]
     },
     "execution_count": 8,
     "metadata": {},
     "output_type": "execute_result"
    }
   ],
   "source": [
    "screenshot_to_s3(s3=init_s3(),driver=main_driver,bucket_name=\"real-estate-ny-us-19-02-2024\",domain=\"www.peterashe.com\",region=\"us\")"
   ]
  },
  {
   "cell_type": "code",
   "execution_count": null,
   "metadata": {},
   "outputs": [],
   "source": []
  },
  {
   "cell_type": "code",
   "execution_count": 140,
   "metadata": {},
   "outputs": [],
   "source": []
  },
  {
   "cell_type": "code",
   "execution_count": 133,
   "metadata": {},
   "outputs": [],
   "source": [
    "data = update_competitor_details(data=main_data[1000:],competitor_name=\"Eagle Rock Properties\",competitor_domain=\"www.eaglerockproperties.com\",bucket_name=\"real-estate-ny-us-20-02-2024\")\n"
   ]
  },
  {
   "cell_type": "code",
   "execution_count": 146,
   "metadata": {},
   "outputs": [],
   "source": [
    "data=update_competitor_and_company_details(data=main_data[1000:],competitor_name=\"Eagle Rock Properties\",competitor_domain=\"www.eaglerockproperties.com\",bucket_name=\"real-estate-ny-us-20-02-2024\")"
   ]
  },
  {
   "cell_type": "code",
   "execution_count": 151,
   "metadata": {},
   "outputs": [
    {
     "data": {
      "text/plain": [
       "'https://real-estate-ny-us-20-02-2024.s3.amazonaws.com/real-estate-ny-us-20-02-2024.csv'"
      ]
     },
     "execution_count": 151,
     "metadata": {},
     "output_type": "execute_result"
    }
   ],
   "source": [
    "write_to_csv(data=data,filename=csv_file_name,bucket_name=bucket_name)"
   ]
  },
  {
   "cell_type": "code",
   "execution_count": 1,
   "metadata": {},
   "outputs": [],
   "source": [
    "# read csv into dictionary\n",
    "from pandas import read_csv\n",
    "df = read_csv('real-estate-ny-us-19-02-2024.csv')\n",
    "data = df.to_dict(orient='records')"
   ]
  },
  {
   "cell_type": "code",
   "execution_count": 30,
   "metadata": {},
   "outputs": [],
   "source": [
    "lookup_data=read_csv(\"clicked.csv\").to_dict(orient='records')\n"
   ]
  },
  {
   "cell_type": "code",
   "execution_count": 25,
   "metadata": {},
   "outputs": [
    {
     "data": {
      "text/plain": [
       "True"
      ]
     },
     "execution_count": 25,
     "metadata": {},
     "output_type": "execute_result"
    }
   ],
   "source": [
    "email=str(data[4][\"Email\"]).lower().strip()\n",
    "email1=str(lookup_data[0][\"Email\"]).lower().strip()\n",
    "\n",
    "email==email1"
   ]
  },
  {
   "cell_type": "code",
   "execution_count": 31,
   "metadata": {},
   "outputs": [
    {
     "name": "stdout",
     "output_type": "stream",
     "text": [
      "akleiman@nexusci.com\n",
      "http://www.linkedin.com/in/aaron-kleiman-bb2502122\n",
      "found\n",
      "abickoff@sterlingprojectdevelopment.com\n",
      "http://www.linkedin.com/in/adam-bickoff-4309548\n",
      "found\n",
      "a.albert@tmdre.com\n",
      "http://www.linkedin.com/in/adrienne-albert-59798413\n",
      "found\n",
      "alec@olcny.com\n",
      "http://www.linkedin.com/in/alec-ornstein-2530666\n",
      "found\n",
      "asvetlakou@ripcony.com\n",
      "http://www.linkedin.com/in/alex-svetlakou-a90a86161\n",
      "found\n",
      "acaiola@bandlmanagement.com\n",
      "http://www.linkedin.com/in/alfred-caiola-35112419\n",
      "found\n",
      "alyssa.thomas@rsequity.com\n",
      "http://www.linkedin.com/in/alyssa-thomas-43b69723\n",
      "found\n",
      "awetzler@sterlingprojectdevelopment.com\n",
      "http://www.linkedin.com/in/andrewwetzler\n",
      "found\n",
      "carol@velocitytitle.com\n",
      "#/contacts/65d2eac4db6b25000166a096\n",
      "found\n",
      "carol@premierequities.com\n",
      "http://www.linkedin.com/in/carol-hensley-chester-8749bb7\n",
      "found\n",
      "charlotte.banghart@rsequity.com\n",
      "http://www.linkedin.com/in/charlotte-banghart-9b18027b\n",
      "found\n",
      "chris.murray@redstoneequity.com\n",
      "http://www.linkedin.com/in/chris-murray-9642a09\n",
      "found\n",
      "christina@velocitytitle.com\n",
      "http://www.linkedin.com/in/christina-garvey-berman-14982982\n",
      "found\n",
      "craig@clkcorp.com\n",
      "http://www.linkedin.com/in/craig-koenigsberg-32153431\n",
      "found\n",
      "darren.swanson@rsequity.com\n",
      "http://www.linkedin.com/in/darrenswanson\n",
      "found\n",
      "dwelsh@senlacpartners.com\n",
      "http://www.linkedin.com/in/david-welsh-b2058913\n",
      "found\n",
      "dawn@closerattorney.com\n",
      "http://www.linkedin.com/in/paralegaldawnacevedo\n",
      "found\n",
      "dbraun@nexusci.com\n",
      "http://www.linkedin.com/in/dov-braun\n",
      "found\n",
      "edeangelo@crefc.org\n",
      "http://www.linkedin.com/in/ed-deangelo-4902428\n",
      "found\n",
      "ed@nycofficesuites.com\n",
      "http://www.linkedin.com/in/edward-carroll-88785223\n",
      "found\n",
      "elarner@schuylercompanies.com\n",
      "http://www.linkedin.com/in/eric-larner-72510511\n",
      "found\n",
      "eric@rsequity.com\n",
      "http://www.linkedin.com/in/eric-mcclelland-46b53441\n",
      "found\n",
      "erubin@cannonhillcap.com\n",
      "http://www.linkedin.com/in/eric-rubin-a36198170\n",
      "found\n",
      "gary@gdcproperties.com\n",
      "http://www.linkedin.com/in/gary-crowder-822556116\n",
      "found\n",
      "gspiegelman@ripcony.com\n",
      "http://www.linkedin.com/in/retailpro1\n",
      "found\n",
      "hrobey@ripcofl.com\n",
      "http://www.linkedin.com/in/hunter-robey-688a70170\n",
      "found\n",
      "isaac.assa@assaproperties.com\n",
      "http://www.linkedin.com/in/isaacassa\n",
      "found\n",
      "jamiefrank@acquestdevelopment.com\n",
      "http://www.linkedin.com/in/jamieefrank\n",
      "found\n",
      "sburki@crefc.org\n",
      "http://www.linkedin.com/in/sairah-burki-8b408a3\n",
      "found\n",
      "ksegel@schuylercompanies.com\n",
      "http://www.linkedin.com/in/segel-kenneth-4b32bb2b\n",
      "found\n",
      "tcsukor@bellingham-marine.com\n",
      "#/contacts/65c6e14af0c23a000174fe3f\n",
      "found\n",
      "will.blodgett@tredway.com\n",
      "http://www.linkedin.com/in/will-blodgett\n",
      "found\n",
      "abookwalter@apprise.us\n",
      "http://www.linkedin.com/in/adrianebookwalter\n",
      "found\n",
      "pallaoro@bizzipartners.com\n",
      "http://www.linkedin.com/in/alessandro-pallaoro-23ba8bb\n",
      "found\n",
      "bgold@karpinc.com\n",
      "http://www.linkedin.com/in/burt-gold-a4b61b19\n",
      "found\n",
      "cspagnuolo@tc-mgt.com\n",
      "http://www.linkedin.com/in/spagnuolochris\n",
      "found\n",
      "cernst@magnoliacap.com\n",
      "http://www.linkedin.com/in/cord-ernst-aa039627\n",
      "found\n",
      "david.perlman@thorofarecapital.com\n",
      "http://www.linkedin.com/in/david~perlman\n",
      "found\n",
      "fcappello@newgrowthliving.com\n",
      "http://www.linkedin.com/in/frank-cappello-2329474\n",
      "found\n",
      "mjoe@joe.com\n",
      "http://www.linkedin.com/in/joe-man-a68b0313\n",
      "found\n",
      "jmoshe@crrli.net\n",
      "http://www.linkedin.com/in/joemoshe\n",
      "found\n",
      "jgreene@maximcapitalgroup.com\n",
      "http://www.linkedin.com/in/joshgreene2\n",
      "found\n",
      "kparekh@toorakcapital.com\n",
      "http://www.linkedin.com/in/ketan-parekh-0b7a304\n",
      "found\n",
      "ltilney@sterlingprojectdevelopment.com\n",
      "http://www.linkedin.com/in/lisa-tilney-84912630\n",
      "found\n",
      "marc@ilstitle.com\n",
      "http://www.linkedin.com/in/marc-herskowitz-63987213\n",
      "found\n",
      "mf@acrescap.com\n",
      "http://www.linkedin.com/in/mark-fogel-24579561\n",
      "found\n",
      "mark@markhertzco.com\n",
      "http://www.linkedin.com/in/mark-hertz-1b41033b\n",
      "found\n",
      "mallen@amcap.com\n",
      "http://www.linkedin.com/in/matthew-allen-801a994\n",
      "found\n",
      "mnegrin@lexincapital.com\n",
      "http://www.linkedin.com/in/metin-negrin-8311b29\n",
      "found\n",
      "mjeinsidler@einsidler.com\n",
      "http://www.linkedin.com/in/michael-einsidler-51642015\n",
      "found\n",
      "mem@eamc.com\n",
      "http://www.linkedin.com/in/mike-mccann-b980824\n",
      "found\n",
      "mruthman@thespinneygroup.com\n",
      "http://www.linkedin.com/in/morganruthman\n",
      "found\n",
      "pmoshe@crrli.net\n",
      "http://www.linkedin.com/in/pamela-moshe-0b8b8781\n",
      "found\n",
      "raidasani@crefc.org\n",
      "http://www.linkedin.com/in/raj-aidasani-4634745\n",
      "found\n"
     ]
    }
   ],
   "source": [
    "linkedin_url=[]\n",
    "for item in lookup_data:\n",
    "    email=str(item[\"Email\"]).lower().strip()\n",
    "    for data_item in data:\n",
    "        email1=str(data_item[\"Email\"]).lower().strip()\n",
    "        if email==email1:\n",
    "            print(email)\n",
    "            print(data_item[\"linked_in\"])\n",
    "            print(\"found\")\n",
    "            linkedin_url.append(data_item[\"linked_in\"])\n",
    "            break\n",
    "    else:\n",
    "        print(\"not found\")\n",
    "        print(email)\n",
    "        print(email1)\n",
    "        print(\"not found\")\n",
    "        break"
   ]
  },
  {
   "cell_type": "code",
   "execution_count": 34,
   "metadata": {},
   "outputs": [],
   "source": [
    "main_driver.get(\"https://www.linkedin.com/in/\")"
   ]
  },
  {
   "cell_type": "code",
   "execution_count": 84,
   "metadata": {},
   "outputs": [
    {
     "ename": "KeyboardInterrupt",
     "evalue": "",
     "output_type": "error",
     "traceback": [
      "\u001b[0;31m---------------------------------------------------------------------------\u001b[0m",
      "\u001b[0;31mKeyboardInterrupt\u001b[0m                         Traceback (most recent call last)",
      "Cell \u001b[0;32mIn[84], line 3\u001b[0m\n\u001b[1;32m      1\u001b[0m \u001b[38;5;28;01mfor\u001b[39;00m i \u001b[38;5;129;01min\u001b[39;00m \u001b[38;5;28mrange\u001b[39m(\u001b[38;5;241m31\u001b[39m,\u001b[38;5;241m40\u001b[39m):\n\u001b[1;32m      2\u001b[0m     main_driver\u001b[38;5;241m.\u001b[39mget(linkedin_url[i])\n\u001b[0;32m----> 3\u001b[0m     \u001b[43mtime\u001b[49m\u001b[38;5;241;43m.\u001b[39;49m\u001b[43msleep\u001b[49m\u001b[43m(\u001b[49m\u001b[38;5;241;43m10\u001b[39;49m\u001b[43m)\u001b[49m\n",
      "\u001b[0;31mKeyboardInterrupt\u001b[0m: "
     ]
    }
   ],
   "source": [
    "\n",
    "\n",
    "\n",
    "for i in range(31,40):\n",
    "    main_driver.get(linkedin_url[i])\n",
    "    time.sleep(10)"
   ]
  },
  {
   "cell_type": "code",
   "execution_count": 79,
   "metadata": {},
   "outputs": [],
   "source": []
  },
  {
   "cell_type": "code",
   "execution_count": 80,
   "metadata": {},
   "outputs": [
    {
     "ename": "AttributeError",
     "evalue": "'S3' object has no attribute 'BucketVersioning'",
     "output_type": "error",
     "traceback": [
      "\u001b[0;31m---------------------------------------------------------------------------\u001b[0m",
      "\u001b[0;31mAttributeError\u001b[0m                            Traceback (most recent call last)",
      "Cell \u001b[0;32mIn[80], line 1\u001b[0m\n\u001b[0;32m----> 1\u001b[0m \u001b[43mcreate_s3_bucket\u001b[49m\u001b[43m(\u001b[49m\u001b[43ms3\u001b[49m\u001b[38;5;241;43m=\u001b[39;49m\u001b[43minit_s3\u001b[49m\u001b[43m(\u001b[49m\u001b[43m)\u001b[49m\u001b[43m,\u001b[49m\u001b[43mbucket_name\u001b[49m\u001b[38;5;241;43m=\u001b[39;49m\u001b[38;5;124;43m\"\u001b[39;49m\u001b[38;5;124;43mtest-bucket-versioning-hotbit\u001b[39;49m\u001b[38;5;124;43m\"\u001b[39;49m\u001b[43m)\u001b[49m\n",
      "Cell \u001b[0;32mIn[79], line 5\u001b[0m, in \u001b[0;36mcreate_s3_bucket\u001b[0;34m(s3, bucket_name)\u001b[0m\n\u001b[1;32m      3\u001b[0m s3\u001b[38;5;241m.\u001b[39mput_public_access_block(Bucket\u001b[38;5;241m=\u001b[39mbucket_name, PublicAccessBlockConfiguration\u001b[38;5;241m=\u001b[39m{\u001b[38;5;124m'\u001b[39m\u001b[38;5;124mBlockPublicAcls\u001b[39m\u001b[38;5;124m'\u001b[39m: \u001b[38;5;28;01mFalse\u001b[39;00m,\u001b[38;5;124m'\u001b[39m\u001b[38;5;124mIgnorePublicAcls\u001b[39m\u001b[38;5;124m'\u001b[39m: \u001b[38;5;28;01mFalse\u001b[39;00m,\u001b[38;5;124m'\u001b[39m\u001b[38;5;124mBlockPublicPolicy\u001b[39m\u001b[38;5;124m'\u001b[39m: \u001b[38;5;28;01mTrue\u001b[39;00m,\u001b[38;5;124m'\u001b[39m\u001b[38;5;124mRestrictPublicBuckets\u001b[39m\u001b[38;5;124m'\u001b[39m: \u001b[38;5;28;01mTrue\u001b[39;00m})\n\u001b[1;32m      4\u001b[0m s3\u001b[38;5;241m.\u001b[39mput_bucket_acl(ACL\u001b[38;5;241m=\u001b[39m\u001b[38;5;124m'\u001b[39m\u001b[38;5;124mpublic-read\u001b[39m\u001b[38;5;124m'\u001b[39m,Bucket\u001b[38;5;241m=\u001b[39mbucket_name)\n\u001b[0;32m----> 5\u001b[0m versioning \u001b[38;5;241m=\u001b[39m \u001b[43ms3\u001b[49m\u001b[38;5;241;43m.\u001b[39;49m\u001b[43mBucketVersioning\u001b[49m(bucket_name)\n\u001b[1;32m      6\u001b[0m versioning\u001b[38;5;241m.\u001b[39menable()\n\u001b[1;32m      8\u001b[0m \u001b[38;5;28;01mreturn\u001b[39;00m \u001b[38;5;28;01mTrue\u001b[39;00m\n",
      "File \u001b[0;32m~/Projects/.venv/lib/python3.9/site-packages/botocore/client.py:906\u001b[0m, in \u001b[0;36mBaseClient.__getattr__\u001b[0;34m(self, item)\u001b[0m\n\u001b[1;32m    903\u001b[0m \u001b[38;5;28;01mif\u001b[39;00m event_response \u001b[38;5;129;01mis\u001b[39;00m \u001b[38;5;129;01mnot\u001b[39;00m \u001b[38;5;28;01mNone\u001b[39;00m:\n\u001b[1;32m    904\u001b[0m     \u001b[38;5;28;01mreturn\u001b[39;00m event_response\n\u001b[0;32m--> 906\u001b[0m \u001b[38;5;28;01mraise\u001b[39;00m \u001b[38;5;167;01mAttributeError\u001b[39;00m(\n\u001b[1;32m    907\u001b[0m     \u001b[38;5;124mf\u001b[39m\u001b[38;5;124m\"\u001b[39m\u001b[38;5;124m'\u001b[39m\u001b[38;5;132;01m{\u001b[39;00m\u001b[38;5;28mself\u001b[39m\u001b[38;5;241m.\u001b[39m\u001b[38;5;18m__class__\u001b[39m\u001b[38;5;241m.\u001b[39m\u001b[38;5;18m__name__\u001b[39m\u001b[38;5;132;01m}\u001b[39;00m\u001b[38;5;124m'\u001b[39m\u001b[38;5;124m object has no attribute \u001b[39m\u001b[38;5;124m'\u001b[39m\u001b[38;5;132;01m{\u001b[39;00mitem\u001b[38;5;132;01m}\u001b[39;00m\u001b[38;5;124m'\u001b[39m\u001b[38;5;124m\"\u001b[39m\n\u001b[1;32m    908\u001b[0m )\n",
      "\u001b[0;31mAttributeError\u001b[0m: 'S3' object has no attribute 'BucketVersioning'"
     ]
    }
   ],
   "source": [
    "create_s3_bucket(s3=init_s3(),bucket_name=\"test-bucket-versioning-hotbit\")"
   ]
  },
  {
   "cell_type": "code",
   "execution_count": null,
   "metadata": {},
   "outputs": [],
   "source": []
  },
  {
   "cell_type": "code",
   "execution_count": null,
   "metadata": {},
   "outputs": [],
   "source": []
  },
  {
   "cell_type": "code",
   "execution_count": null,
   "metadata": {},
   "outputs": [],
   "source": []
  },
  {
   "cell_type": "code",
   "execution_count": null,
   "metadata": {},
   "outputs": [],
   "source": []
  },
  {
   "cell_type": "code",
   "execution_count": null,
   "metadata": {},
   "outputs": [],
   "source": []
  },
  {
   "cell_type": "code",
   "execution_count": null,
   "metadata": {},
   "outputs": [],
   "source": [
    "import imaplib\n",
    "import email\n",
    "from email.mime.text import MIMEText\n",
    "from email.mime.multipart import MIMEMultipart\n",
    "\n",
    "# Function to connect to Gmail\n",
    "def connect_to_gmail(username, password):\n",
    "    mail = imaplib.IMAP4_SSL('imap.gmail.com')\n",
    "    mail.login(username, password)\n",
    "    return mail\n",
    "\n",
    "# Function to search for email thread\n",
    "def search_email(mail, search_query):\n",
    "    mail.select('inbox')\n",
    "    result, data = mail.search(None, '(SUBJECT \"{}\")'.format(search_query))\n",
    "    return data[0].split()[-1]  # Assuming the latest email in the thread is what we want\n",
    "\n",
    "# Function to fetch email\n",
    "def fetch_email(mail, email_id):\n",
    "    result, data = mail.fetch(email_id, '(RFC822)')\n",
    "    raw_email = data[0][1]\n",
    "    return email.message_from_bytes(raw_email)\n",
    "\n",
    "# Function to compose email\n",
    "def compose_email(to, subject, body, references=None):\n",
    "    msg = MIMEMultipart()\n",
    "    msg['From'] = \"your_email@gmail.com\"\n",
    "    msg['To'] = to\n",
    "    msg['Subject'] = subject\n",
    "    \n",
    "    # If there are references, add them to the email headers\n",
    "    if references:\n",
    "        msg['References'] = references\n",
    "        msg['In-Reply-To'] = references\n",
    "\n",
    "    # Create a MIMEText object with HTML content\n",
    "    print(type(body))\n",
    "    print(body)\n",
    "    if isinstance(body, bytes):\n",
    "        body = body.decode('utf-8')\n",
    "    html_body = MIMEText(body, 'html')\n",
    "    msg.attach(html_body)\n",
    "    \n",
    "    return msg\n",
    "\n",
    "# Function to save email as draft\n",
    "def save_as_draft(mail, draft):\n",
    "    mail.append('INBOX', None, None, draft)\n",
    "\n",
    "# Function to draft initial email\n",
    "def draft_initial_email(mail, to, subject, body):\n",
    "    draft = compose_email(to, subject, body)\n",
    "    save_as_draft(mail, draft)\n",
    "\n",
    "# Function to draft trailing email\n",
    "def draft_trailing_email(mail, to, subject, body, references):\n",
    "    draft = compose_email(to, subject, body, references)\n",
    "    save_as_draft(mail, draft)\n",
    "\n",
    "\n",
    "def draft_email_imap(data, initial, follow_up):\n",
    "    # Example usage\n",
    "    username = 'avora@hotbitdigital.com'\n",
    "    password = 'unsw vvjr nzbt yhwd'\n",
    "\n",
    "    mail = connect_to_gmail(username, password)\n",
    "    if initial:\n",
    "    # Draft initial email\n",
    "        to = data['receiver']\n",
    "        initial_subject = f\"Discover How {data['company']} Can Soar in Vermont!\"\n",
    "        initial_body = '<html><body><p>Dear recipient,</p><p>This is the initial email...</p></body></html>'\n",
    "        draft_initial_email(mail, to, initial_subject, initial_body)\n",
    "\n",
    "    if follow_up:\n",
    "        # Draft trailing emails with different subject lines in the same thread\n",
    "        initial_subject = f\"Discover How {data['company']} Can Soar in Vermont!\"\n",
    "        initial_references = search_email(mail, initial_subject)\n",
    "        trailing_subjects = [f\"Quick Check-In: Enhancing {data['company']}'s Visibility\", 'Follow-up 2 Subject', 'Follow-up 3 Subject', 'Follow-up 4 Subject', 'Follow-up 5 Subject']\n",
    "\n",
    "\n",
    "        draft_trailing_email(mail, data['receiver'], trailing_subjects[follow_up-1], get_trailing_body(data,follow_up=follow_up), initial_references)\n"
   ]
  }
 ],
 "metadata": {
  "kernelspec": {
   "display_name": ".venv",
   "language": "python",
   "name": "python3"
  },
  "language_info": {
   "codemirror_mode": {
    "name": "ipython",
    "version": 3
   },
   "file_extension": ".py",
   "mimetype": "text/x-python",
   "name": "python",
   "nbconvert_exporter": "python",
   "pygments_lexer": "ipython3",
   "version": "3.9.6"
  }
 },
 "nbformat": 4,
 "nbformat_minor": 2
}
