{
 "cells": [
  {
   "cell_type": "code",
   "execution_count": 9,
   "metadata": {},
   "outputs": [],
   "source": [
    "from methods import *\n",
    "# Set up the Chrome driver\n",
    "main_driver= init_driver()\n",
    "#headless driver"
   ]
  },
  {
   "cell_type": "code",
   "execution_count": 10,
   "metadata": {},
   "outputs": [],
   "source": [
    "def login_linkedin_sales_navigator(main_driver,user):\n",
    "\n",
    "    main_driver.get(\"https://www.linkedin.com/login?session_redirect=%2Fsales&_f=navigator&fromSignIn=true/1000\")\n",
    "    username,password = get_sales_navigator_creds(user)\n",
    "    time.sleep(5)\n",
    "\n",
    "    main_driver.find_element(By.XPATH, \"/html/body/div/main/div[2]/form/div[1]/input\").send_keys(username)\n",
    "    main_driver.find_element(By.XPATH, \"/html/body/div/main/div[2]/form/div[2]/input\").send_keys(password)\n",
    "\n",
    "    time.sleep(3)\n",
    "\n",
    "    main_driver.find_element(By.XPATH, \"/html/body/div/main/div[2]/form/div[3]/button\").click()\n"
   ]
  },
  {
   "cell_type": "code",
   "execution_count": 8,
   "metadata": {},
   "outputs": [],
   "source": [
    "main_driver.quit()"
   ]
  },
  {
   "cell_type": "code",
   "execution_count": null,
   "metadata": {},
   "outputs": [],
   "source": []
  },
  {
   "cell_type": "code",
   "execution_count": null,
   "metadata": {},
   "outputs": [],
   "source": []
  },
  {
   "cell_type": "code",
   "execution_count": null,
   "metadata": {},
   "outputs": [],
   "source": []
  },
  {
   "cell_type": "code",
   "execution_count": null,
   "metadata": {},
   "outputs": [],
   "source": []
  },
  {
   "cell_type": "code",
   "execution_count": null,
   "metadata": {},
   "outputs": [],
   "source": []
  },
  {
   "cell_type": "code",
   "execution_count": 13,
   "metadata": {},
   "outputs": [
    {
     "ename": "KeyboardInterrupt",
     "evalue": "",
     "output_type": "error",
     "traceback": [
      "\u001b[0;31m---------------------------------------------------------------------------\u001b[0m",
      "\u001b[0;31mKeyboardInterrupt\u001b[0m                         Traceback (most recent call last)",
      "Cell \u001b[0;32mIn[13], line 1\u001b[0m\n\u001b[0;32m----> 1\u001b[0m \u001b[43mlogin_apollo\u001b[49m\u001b[43m(\u001b[49m\u001b[43mdriver\u001b[49m\u001b[38;5;241;43m=\u001b[39;49m\u001b[43mmain_driver\u001b[49m\u001b[43m)\u001b[49m\n\u001b[1;32m      2\u001b[0m go_to_lists(driver\u001b[38;5;241m=\u001b[39mmain_driver)\n",
      "File \u001b[0;32m~/Projects/Hotbit_Digital/hotbit-digital/methods.py:26\u001b[0m, in \u001b[0;36mlogin_apollo\u001b[0;34m(driver)\u001b[0m\n\u001b[1;32m     24\u001b[0m \u001b[38;5;28;01mdef\u001b[39;00m \u001b[38;5;21mlogin_apollo\u001b[39m(driver):\n\u001b[1;32m     25\u001b[0m     email,password\u001b[38;5;241m=\u001b[39mget_apollo_creds()\n\u001b[0;32m---> 26\u001b[0m     \u001b[43mdriver\u001b[49m\u001b[38;5;241;43m.\u001b[39;49m\u001b[43mget\u001b[49m\u001b[43m(\u001b[49m\u001b[38;5;124;43m\"\u001b[39;49m\u001b[38;5;124;43mhttps://app.apollo.io\u001b[39;49m\u001b[38;5;124;43m\"\u001b[39;49m\u001b[43m)\u001b[49m\n\u001b[1;32m     27\u001b[0m     time\u001b[38;5;241m.\u001b[39msleep(\u001b[38;5;241m5\u001b[39m)\n\u001b[1;32m     29\u001b[0m     driver\u001b[38;5;241m.\u001b[39mfind_element(By\u001b[38;5;241m.\u001b[39mNAME,\u001b[38;5;124m'\u001b[39m\u001b[38;5;124memail\u001b[39m\u001b[38;5;124m'\u001b[39m)\u001b[38;5;241m.\u001b[39msend_keys(email)\n",
      "File \u001b[0;32m~/Projects/.venv/lib/python3.9/site-packages/selenium/webdriver/remote/webdriver.py:356\u001b[0m, in \u001b[0;36mWebDriver.get\u001b[0;34m(self, url)\u001b[0m\n\u001b[1;32m    354\u001b[0m \u001b[38;5;28;01mdef\u001b[39;00m \u001b[38;5;21mget\u001b[39m(\u001b[38;5;28mself\u001b[39m, url: \u001b[38;5;28mstr\u001b[39m) \u001b[38;5;241m-\u001b[39m\u001b[38;5;241m>\u001b[39m \u001b[38;5;28;01mNone\u001b[39;00m:\n\u001b[1;32m    355\u001b[0m \u001b[38;5;250m    \u001b[39m\u001b[38;5;124;03m\"\"\"Loads a web page in the current browser session.\"\"\"\u001b[39;00m\n\u001b[0;32m--> 356\u001b[0m     \u001b[38;5;28;43mself\u001b[39;49m\u001b[38;5;241;43m.\u001b[39;49m\u001b[43mexecute\u001b[49m\u001b[43m(\u001b[49m\u001b[43mCommand\u001b[49m\u001b[38;5;241;43m.\u001b[39;49m\u001b[43mGET\u001b[49m\u001b[43m,\u001b[49m\u001b[43m \u001b[49m\u001b[43m{\u001b[49m\u001b[38;5;124;43m\"\u001b[39;49m\u001b[38;5;124;43murl\u001b[39;49m\u001b[38;5;124;43m\"\u001b[39;49m\u001b[43m:\u001b[49m\u001b[43m \u001b[49m\u001b[43murl\u001b[49m\u001b[43m}\u001b[49m\u001b[43m)\u001b[49m\n",
      "File \u001b[0;32m~/Projects/.venv/lib/python3.9/site-packages/selenium/webdriver/remote/webdriver.py:345\u001b[0m, in \u001b[0;36mWebDriver.execute\u001b[0;34m(self, driver_command, params)\u001b[0m\n\u001b[1;32m    342\u001b[0m     \u001b[38;5;28;01melif\u001b[39;00m \u001b[38;5;124m\"\u001b[39m\u001b[38;5;124msessionId\u001b[39m\u001b[38;5;124m\"\u001b[39m \u001b[38;5;129;01mnot\u001b[39;00m \u001b[38;5;129;01min\u001b[39;00m params:\n\u001b[1;32m    343\u001b[0m         params[\u001b[38;5;124m\"\u001b[39m\u001b[38;5;124msessionId\u001b[39m\u001b[38;5;124m\"\u001b[39m] \u001b[38;5;241m=\u001b[39m \u001b[38;5;28mself\u001b[39m\u001b[38;5;241m.\u001b[39msession_id\n\u001b[0;32m--> 345\u001b[0m response \u001b[38;5;241m=\u001b[39m \u001b[38;5;28;43mself\u001b[39;49m\u001b[38;5;241;43m.\u001b[39;49m\u001b[43mcommand_executor\u001b[49m\u001b[38;5;241;43m.\u001b[39;49m\u001b[43mexecute\u001b[49m\u001b[43m(\u001b[49m\u001b[43mdriver_command\u001b[49m\u001b[43m,\u001b[49m\u001b[43m \u001b[49m\u001b[43mparams\u001b[49m\u001b[43m)\u001b[49m\n\u001b[1;32m    346\u001b[0m \u001b[38;5;28;01mif\u001b[39;00m response:\n\u001b[1;32m    347\u001b[0m     \u001b[38;5;28mself\u001b[39m\u001b[38;5;241m.\u001b[39merror_handler\u001b[38;5;241m.\u001b[39mcheck_response(response)\n",
      "File \u001b[0;32m~/Projects/.venv/lib/python3.9/site-packages/selenium/webdriver/remote/remote_connection.py:302\u001b[0m, in \u001b[0;36mRemoteConnection.execute\u001b[0;34m(self, command, params)\u001b[0m\n\u001b[1;32m    300\u001b[0m trimmed \u001b[38;5;241m=\u001b[39m \u001b[38;5;28mself\u001b[39m\u001b[38;5;241m.\u001b[39m_trim_large_entries(params)\n\u001b[1;32m    301\u001b[0m LOGGER\u001b[38;5;241m.\u001b[39mdebug(\u001b[38;5;124m\"\u001b[39m\u001b[38;5;132;01m%s\u001b[39;00m\u001b[38;5;124m \u001b[39m\u001b[38;5;132;01m%s\u001b[39;00m\u001b[38;5;124m \u001b[39m\u001b[38;5;132;01m%s\u001b[39;00m\u001b[38;5;124m\"\u001b[39m, command_info[\u001b[38;5;241m0\u001b[39m], url, \u001b[38;5;28mstr\u001b[39m(trimmed))\n\u001b[0;32m--> 302\u001b[0m \u001b[38;5;28;01mreturn\u001b[39;00m \u001b[38;5;28;43mself\u001b[39;49m\u001b[38;5;241;43m.\u001b[39;49m\u001b[43m_request\u001b[49m\u001b[43m(\u001b[49m\u001b[43mcommand_info\u001b[49m\u001b[43m[\u001b[49m\u001b[38;5;241;43m0\u001b[39;49m\u001b[43m]\u001b[49m\u001b[43m,\u001b[49m\u001b[43m \u001b[49m\u001b[43murl\u001b[49m\u001b[43m,\u001b[49m\u001b[43m \u001b[49m\u001b[43mbody\u001b[49m\u001b[38;5;241;43m=\u001b[39;49m\u001b[43mdata\u001b[49m\u001b[43m)\u001b[49m\n",
      "File \u001b[0;32m~/Projects/.venv/lib/python3.9/site-packages/selenium/webdriver/remote/remote_connection.py:322\u001b[0m, in \u001b[0;36mRemoteConnection._request\u001b[0;34m(self, method, url, body)\u001b[0m\n\u001b[1;32m    319\u001b[0m     body \u001b[38;5;241m=\u001b[39m \u001b[38;5;28;01mNone\u001b[39;00m\n\u001b[1;32m    321\u001b[0m \u001b[38;5;28;01mif\u001b[39;00m \u001b[38;5;28mself\u001b[39m\u001b[38;5;241m.\u001b[39mkeep_alive:\n\u001b[0;32m--> 322\u001b[0m     response \u001b[38;5;241m=\u001b[39m \u001b[38;5;28;43mself\u001b[39;49m\u001b[38;5;241;43m.\u001b[39;49m\u001b[43m_conn\u001b[49m\u001b[38;5;241;43m.\u001b[39;49m\u001b[43mrequest\u001b[49m\u001b[43m(\u001b[49m\u001b[43mmethod\u001b[49m\u001b[43m,\u001b[49m\u001b[43m \u001b[49m\u001b[43murl\u001b[49m\u001b[43m,\u001b[49m\u001b[43m \u001b[49m\u001b[43mbody\u001b[49m\u001b[38;5;241;43m=\u001b[39;49m\u001b[43mbody\u001b[49m\u001b[43m,\u001b[49m\u001b[43m \u001b[49m\u001b[43mheaders\u001b[49m\u001b[38;5;241;43m=\u001b[39;49m\u001b[43mheaders\u001b[49m\u001b[43m)\u001b[49m\n\u001b[1;32m    323\u001b[0m     statuscode \u001b[38;5;241m=\u001b[39m response\u001b[38;5;241m.\u001b[39mstatus\n\u001b[1;32m    324\u001b[0m \u001b[38;5;28;01melse\u001b[39;00m:\n",
      "File \u001b[0;32m~/Projects/.venv/lib/python3.9/site-packages/urllib3/request.py:81\u001b[0m, in \u001b[0;36mRequestMethods.request\u001b[0;34m(self, method, url, fields, headers, **urlopen_kw)\u001b[0m\n\u001b[1;32m     77\u001b[0m     \u001b[38;5;28;01mreturn\u001b[39;00m \u001b[38;5;28mself\u001b[39m\u001b[38;5;241m.\u001b[39mrequest_encode_url(\n\u001b[1;32m     78\u001b[0m         method, url, fields\u001b[38;5;241m=\u001b[39mfields, headers\u001b[38;5;241m=\u001b[39mheaders, \u001b[38;5;241m*\u001b[39m\u001b[38;5;241m*\u001b[39murlopen_kw\n\u001b[1;32m     79\u001b[0m     )\n\u001b[1;32m     80\u001b[0m \u001b[38;5;28;01melse\u001b[39;00m:\n\u001b[0;32m---> 81\u001b[0m     \u001b[38;5;28;01mreturn\u001b[39;00m \u001b[38;5;28;43mself\u001b[39;49m\u001b[38;5;241;43m.\u001b[39;49m\u001b[43mrequest_encode_body\u001b[49m\u001b[43m(\u001b[49m\n\u001b[1;32m     82\u001b[0m \u001b[43m        \u001b[49m\u001b[43mmethod\u001b[49m\u001b[43m,\u001b[49m\u001b[43m \u001b[49m\u001b[43murl\u001b[49m\u001b[43m,\u001b[49m\u001b[43m \u001b[49m\u001b[43mfields\u001b[49m\u001b[38;5;241;43m=\u001b[39;49m\u001b[43mfields\u001b[49m\u001b[43m,\u001b[49m\u001b[43m \u001b[49m\u001b[43mheaders\u001b[49m\u001b[38;5;241;43m=\u001b[39;49m\u001b[43mheaders\u001b[49m\u001b[43m,\u001b[49m\u001b[43m \u001b[49m\u001b[38;5;241;43m*\u001b[39;49m\u001b[38;5;241;43m*\u001b[39;49m\u001b[43murlopen_kw\u001b[49m\n\u001b[1;32m     83\u001b[0m \u001b[43m    \u001b[49m\u001b[43m)\u001b[49m\n",
      "File \u001b[0;32m~/Projects/.venv/lib/python3.9/site-packages/urllib3/request.py:173\u001b[0m, in \u001b[0;36mRequestMethods.request_encode_body\u001b[0;34m(self, method, url, fields, headers, encode_multipart, multipart_boundary, **urlopen_kw)\u001b[0m\n\u001b[1;32m    170\u001b[0m extra_kw[\u001b[38;5;124m\"\u001b[39m\u001b[38;5;124mheaders\u001b[39m\u001b[38;5;124m\"\u001b[39m]\u001b[38;5;241m.\u001b[39mupdate(headers)\n\u001b[1;32m    171\u001b[0m extra_kw\u001b[38;5;241m.\u001b[39mupdate(urlopen_kw)\n\u001b[0;32m--> 173\u001b[0m \u001b[38;5;28;01mreturn\u001b[39;00m \u001b[38;5;28;43mself\u001b[39;49m\u001b[38;5;241;43m.\u001b[39;49m\u001b[43murlopen\u001b[49m\u001b[43m(\u001b[49m\u001b[43mmethod\u001b[49m\u001b[43m,\u001b[49m\u001b[43m \u001b[49m\u001b[43murl\u001b[49m\u001b[43m,\u001b[49m\u001b[43m \u001b[49m\u001b[38;5;241;43m*\u001b[39;49m\u001b[38;5;241;43m*\u001b[39;49m\u001b[43mextra_kw\u001b[49m\u001b[43m)\u001b[49m\n",
      "File \u001b[0;32m~/Projects/.venv/lib/python3.9/site-packages/urllib3/poolmanager.py:376\u001b[0m, in \u001b[0;36mPoolManager.urlopen\u001b[0;34m(self, method, url, redirect, **kw)\u001b[0m\n\u001b[1;32m    374\u001b[0m     response \u001b[38;5;241m=\u001b[39m conn\u001b[38;5;241m.\u001b[39murlopen(method, url, \u001b[38;5;241m*\u001b[39m\u001b[38;5;241m*\u001b[39mkw)\n\u001b[1;32m    375\u001b[0m \u001b[38;5;28;01melse\u001b[39;00m:\n\u001b[0;32m--> 376\u001b[0m     response \u001b[38;5;241m=\u001b[39m \u001b[43mconn\u001b[49m\u001b[38;5;241;43m.\u001b[39;49m\u001b[43murlopen\u001b[49m\u001b[43m(\u001b[49m\u001b[43mmethod\u001b[49m\u001b[43m,\u001b[49m\u001b[43m \u001b[49m\u001b[43mu\u001b[49m\u001b[38;5;241;43m.\u001b[39;49m\u001b[43mrequest_uri\u001b[49m\u001b[43m,\u001b[49m\u001b[43m \u001b[49m\u001b[38;5;241;43m*\u001b[39;49m\u001b[38;5;241;43m*\u001b[39;49m\u001b[43mkw\u001b[49m\u001b[43m)\u001b[49m\n\u001b[1;32m    378\u001b[0m redirect_location \u001b[38;5;241m=\u001b[39m redirect \u001b[38;5;129;01mand\u001b[39;00m response\u001b[38;5;241m.\u001b[39mget_redirect_location()\n\u001b[1;32m    379\u001b[0m \u001b[38;5;28;01mif\u001b[39;00m \u001b[38;5;129;01mnot\u001b[39;00m redirect_location:\n",
      "File \u001b[0;32m~/Projects/.venv/lib/python3.9/site-packages/urllib3/connectionpool.py:715\u001b[0m, in \u001b[0;36mHTTPConnectionPool.urlopen\u001b[0;34m(self, method, url, body, headers, retries, redirect, assert_same_host, timeout, pool_timeout, release_conn, chunked, body_pos, **response_kw)\u001b[0m\n\u001b[1;32m    712\u001b[0m     \u001b[38;5;28mself\u001b[39m\u001b[38;5;241m.\u001b[39m_prepare_proxy(conn)\n\u001b[1;32m    714\u001b[0m \u001b[38;5;66;03m# Make the request on the httplib connection object.\u001b[39;00m\n\u001b[0;32m--> 715\u001b[0m httplib_response \u001b[38;5;241m=\u001b[39m \u001b[38;5;28;43mself\u001b[39;49m\u001b[38;5;241;43m.\u001b[39;49m\u001b[43m_make_request\u001b[49m\u001b[43m(\u001b[49m\n\u001b[1;32m    716\u001b[0m \u001b[43m    \u001b[49m\u001b[43mconn\u001b[49m\u001b[43m,\u001b[49m\n\u001b[1;32m    717\u001b[0m \u001b[43m    \u001b[49m\u001b[43mmethod\u001b[49m\u001b[43m,\u001b[49m\n\u001b[1;32m    718\u001b[0m \u001b[43m    \u001b[49m\u001b[43murl\u001b[49m\u001b[43m,\u001b[49m\n\u001b[1;32m    719\u001b[0m \u001b[43m    \u001b[49m\u001b[43mtimeout\u001b[49m\u001b[38;5;241;43m=\u001b[39;49m\u001b[43mtimeout_obj\u001b[49m\u001b[43m,\u001b[49m\n\u001b[1;32m    720\u001b[0m \u001b[43m    \u001b[49m\u001b[43mbody\u001b[49m\u001b[38;5;241;43m=\u001b[39;49m\u001b[43mbody\u001b[49m\u001b[43m,\u001b[49m\n\u001b[1;32m    721\u001b[0m \u001b[43m    \u001b[49m\u001b[43mheaders\u001b[49m\u001b[38;5;241;43m=\u001b[39;49m\u001b[43mheaders\u001b[49m\u001b[43m,\u001b[49m\n\u001b[1;32m    722\u001b[0m \u001b[43m    \u001b[49m\u001b[43mchunked\u001b[49m\u001b[38;5;241;43m=\u001b[39;49m\u001b[43mchunked\u001b[49m\u001b[43m,\u001b[49m\n\u001b[1;32m    723\u001b[0m \u001b[43m\u001b[49m\u001b[43m)\u001b[49m\n\u001b[1;32m    725\u001b[0m \u001b[38;5;66;03m# If we're going to release the connection in ``finally:``, then\u001b[39;00m\n\u001b[1;32m    726\u001b[0m \u001b[38;5;66;03m# the response doesn't need to know about the connection. Otherwise\u001b[39;00m\n\u001b[1;32m    727\u001b[0m \u001b[38;5;66;03m# it will also try to release it and we'll have a double-release\u001b[39;00m\n\u001b[1;32m    728\u001b[0m \u001b[38;5;66;03m# mess.\u001b[39;00m\n\u001b[1;32m    729\u001b[0m response_conn \u001b[38;5;241m=\u001b[39m conn \u001b[38;5;28;01mif\u001b[39;00m \u001b[38;5;129;01mnot\u001b[39;00m release_conn \u001b[38;5;28;01melse\u001b[39;00m \u001b[38;5;28;01mNone\u001b[39;00m\n",
      "File \u001b[0;32m~/Projects/.venv/lib/python3.9/site-packages/urllib3/connectionpool.py:467\u001b[0m, in \u001b[0;36mHTTPConnectionPool._make_request\u001b[0;34m(self, conn, method, url, timeout, chunked, **httplib_request_kw)\u001b[0m\n\u001b[1;32m    462\u001b[0m             httplib_response \u001b[38;5;241m=\u001b[39m conn\u001b[38;5;241m.\u001b[39mgetresponse()\n\u001b[1;32m    463\u001b[0m         \u001b[38;5;28;01mexcept\u001b[39;00m \u001b[38;5;167;01mBaseException\u001b[39;00m \u001b[38;5;28;01mas\u001b[39;00m e:\n\u001b[1;32m    464\u001b[0m             \u001b[38;5;66;03m# Remove the TypeError from the exception chain in\u001b[39;00m\n\u001b[1;32m    465\u001b[0m             \u001b[38;5;66;03m# Python 3 (including for exceptions like SystemExit).\u001b[39;00m\n\u001b[1;32m    466\u001b[0m             \u001b[38;5;66;03m# Otherwise it looks like a bug in the code.\u001b[39;00m\n\u001b[0;32m--> 467\u001b[0m             \u001b[43msix\u001b[49m\u001b[38;5;241;43m.\u001b[39;49m\u001b[43mraise_from\u001b[49m\u001b[43m(\u001b[49m\u001b[43me\u001b[49m\u001b[43m,\u001b[49m\u001b[43m \u001b[49m\u001b[38;5;28;43;01mNone\u001b[39;49;00m\u001b[43m)\u001b[49m\n\u001b[1;32m    468\u001b[0m \u001b[38;5;28;01mexcept\u001b[39;00m (SocketTimeout, BaseSSLError, SocketError) \u001b[38;5;28;01mas\u001b[39;00m e:\n\u001b[1;32m    469\u001b[0m     \u001b[38;5;28mself\u001b[39m\u001b[38;5;241m.\u001b[39m_raise_timeout(err\u001b[38;5;241m=\u001b[39me, url\u001b[38;5;241m=\u001b[39murl, timeout_value\u001b[38;5;241m=\u001b[39mread_timeout)\n",
      "File \u001b[0;32m<string>:3\u001b[0m, in \u001b[0;36mraise_from\u001b[0;34m(value, from_value)\u001b[0m\n",
      "File \u001b[0;32m~/Projects/.venv/lib/python3.9/site-packages/urllib3/connectionpool.py:462\u001b[0m, in \u001b[0;36mHTTPConnectionPool._make_request\u001b[0;34m(self, conn, method, url, timeout, chunked, **httplib_request_kw)\u001b[0m\n\u001b[1;32m    459\u001b[0m \u001b[38;5;28;01mexcept\u001b[39;00m \u001b[38;5;167;01mTypeError\u001b[39;00m:\n\u001b[1;32m    460\u001b[0m     \u001b[38;5;66;03m# Python 3\u001b[39;00m\n\u001b[1;32m    461\u001b[0m     \u001b[38;5;28;01mtry\u001b[39;00m:\n\u001b[0;32m--> 462\u001b[0m         httplib_response \u001b[38;5;241m=\u001b[39m \u001b[43mconn\u001b[49m\u001b[38;5;241;43m.\u001b[39;49m\u001b[43mgetresponse\u001b[49m\u001b[43m(\u001b[49m\u001b[43m)\u001b[49m\n\u001b[1;32m    463\u001b[0m     \u001b[38;5;28;01mexcept\u001b[39;00m \u001b[38;5;167;01mBaseException\u001b[39;00m \u001b[38;5;28;01mas\u001b[39;00m e:\n\u001b[1;32m    464\u001b[0m         \u001b[38;5;66;03m# Remove the TypeError from the exception chain in\u001b[39;00m\n\u001b[1;32m    465\u001b[0m         \u001b[38;5;66;03m# Python 3 (including for exceptions like SystemExit).\u001b[39;00m\n\u001b[1;32m    466\u001b[0m         \u001b[38;5;66;03m# Otherwise it looks like a bug in the code.\u001b[39;00m\n\u001b[1;32m    467\u001b[0m         six\u001b[38;5;241m.\u001b[39mraise_from(e, \u001b[38;5;28;01mNone\u001b[39;00m)\n",
      "File \u001b[0;32m/Library/Developer/CommandLineTools/Library/Frameworks/Python3.framework/Versions/3.9/lib/python3.9/http/client.py:1349\u001b[0m, in \u001b[0;36mHTTPConnection.getresponse\u001b[0;34m(self)\u001b[0m\n\u001b[1;32m   1347\u001b[0m \u001b[38;5;28;01mtry\u001b[39;00m:\n\u001b[1;32m   1348\u001b[0m     \u001b[38;5;28;01mtry\u001b[39;00m:\n\u001b[0;32m-> 1349\u001b[0m         \u001b[43mresponse\u001b[49m\u001b[38;5;241;43m.\u001b[39;49m\u001b[43mbegin\u001b[49m\u001b[43m(\u001b[49m\u001b[43m)\u001b[49m\n\u001b[1;32m   1350\u001b[0m     \u001b[38;5;28;01mexcept\u001b[39;00m \u001b[38;5;167;01mConnectionError\u001b[39;00m:\n\u001b[1;32m   1351\u001b[0m         \u001b[38;5;28mself\u001b[39m\u001b[38;5;241m.\u001b[39mclose()\n",
      "File \u001b[0;32m/Library/Developer/CommandLineTools/Library/Frameworks/Python3.framework/Versions/3.9/lib/python3.9/http/client.py:316\u001b[0m, in \u001b[0;36mHTTPResponse.begin\u001b[0;34m(self)\u001b[0m\n\u001b[1;32m    314\u001b[0m \u001b[38;5;66;03m# read until we get a non-100 response\u001b[39;00m\n\u001b[1;32m    315\u001b[0m \u001b[38;5;28;01mwhile\u001b[39;00m \u001b[38;5;28;01mTrue\u001b[39;00m:\n\u001b[0;32m--> 316\u001b[0m     version, status, reason \u001b[38;5;241m=\u001b[39m \u001b[38;5;28;43mself\u001b[39;49m\u001b[38;5;241;43m.\u001b[39;49m\u001b[43m_read_status\u001b[49m\u001b[43m(\u001b[49m\u001b[43m)\u001b[49m\n\u001b[1;32m    317\u001b[0m     \u001b[38;5;28;01mif\u001b[39;00m status \u001b[38;5;241m!=\u001b[39m CONTINUE:\n\u001b[1;32m    318\u001b[0m         \u001b[38;5;28;01mbreak\u001b[39;00m\n",
      "File \u001b[0;32m/Library/Developer/CommandLineTools/Library/Frameworks/Python3.framework/Versions/3.9/lib/python3.9/http/client.py:277\u001b[0m, in \u001b[0;36mHTTPResponse._read_status\u001b[0;34m(self)\u001b[0m\n\u001b[1;32m    276\u001b[0m \u001b[38;5;28;01mdef\u001b[39;00m \u001b[38;5;21m_read_status\u001b[39m(\u001b[38;5;28mself\u001b[39m):\n\u001b[0;32m--> 277\u001b[0m     line \u001b[38;5;241m=\u001b[39m \u001b[38;5;28mstr\u001b[39m(\u001b[38;5;28;43mself\u001b[39;49m\u001b[38;5;241;43m.\u001b[39;49m\u001b[43mfp\u001b[49m\u001b[38;5;241;43m.\u001b[39;49m\u001b[43mreadline\u001b[49m\u001b[43m(\u001b[49m\u001b[43m_MAXLINE\u001b[49m\u001b[43m \u001b[49m\u001b[38;5;241;43m+\u001b[39;49m\u001b[43m \u001b[49m\u001b[38;5;241;43m1\u001b[39;49m\u001b[43m)\u001b[49m, \u001b[38;5;124m\"\u001b[39m\u001b[38;5;124miso-8859-1\u001b[39m\u001b[38;5;124m\"\u001b[39m)\n\u001b[1;32m    278\u001b[0m     \u001b[38;5;28;01mif\u001b[39;00m \u001b[38;5;28mlen\u001b[39m(line) \u001b[38;5;241m>\u001b[39m _MAXLINE:\n\u001b[1;32m    279\u001b[0m         \u001b[38;5;28;01mraise\u001b[39;00m LineTooLong(\u001b[38;5;124m\"\u001b[39m\u001b[38;5;124mstatus line\u001b[39m\u001b[38;5;124m\"\u001b[39m)\n",
      "File \u001b[0;32m/Library/Developer/CommandLineTools/Library/Frameworks/Python3.framework/Versions/3.9/lib/python3.9/socket.py:704\u001b[0m, in \u001b[0;36mSocketIO.readinto\u001b[0;34m(self, b)\u001b[0m\n\u001b[1;32m    702\u001b[0m \u001b[38;5;28;01mwhile\u001b[39;00m \u001b[38;5;28;01mTrue\u001b[39;00m:\n\u001b[1;32m    703\u001b[0m     \u001b[38;5;28;01mtry\u001b[39;00m:\n\u001b[0;32m--> 704\u001b[0m         \u001b[38;5;28;01mreturn\u001b[39;00m \u001b[38;5;28;43mself\u001b[39;49m\u001b[38;5;241;43m.\u001b[39;49m\u001b[43m_sock\u001b[49m\u001b[38;5;241;43m.\u001b[39;49m\u001b[43mrecv_into\u001b[49m\u001b[43m(\u001b[49m\u001b[43mb\u001b[49m\u001b[43m)\u001b[49m\n\u001b[1;32m    705\u001b[0m     \u001b[38;5;28;01mexcept\u001b[39;00m timeout:\n\u001b[1;32m    706\u001b[0m         \u001b[38;5;28mself\u001b[39m\u001b[38;5;241m.\u001b[39m_timeout_occurred \u001b[38;5;241m=\u001b[39m \u001b[38;5;28;01mTrue\u001b[39;00m\n",
      "\u001b[0;31mKeyboardInterrupt\u001b[0m: "
     ]
    }
   ],
   "source": [
    "login_apollo(driver=main_driver)\n",
    "go_to_lists(driver=main_driver)\n"
   ]
  },
  {
   "cell_type": "code",
   "execution_count": 14,
   "metadata": {},
   "outputs": [],
   "source": [
    "sort_by_name(driver=main_driver)"
   ]
  },
  {
   "cell_type": "code",
   "execution_count": 15,
   "metadata": {},
   "outputs": [],
   "source": [
    "def extract_data(row,bucket_name,competitor_domain,competitor_name):\n",
    "    com_linked_in=''\n",
    "    linked_in=''\n",
    "    name = row.findAll('td')[0].text.split(' ')[0]\n",
    "    # error handling for linkedin\n",
    "    try:\n",
    "        linked_in = row.findAll('td')[0].select('a[href]')[0].get('href')\n",
    "        if 'linkedin' not in linked_in:\n",
    "            linked_in = row.findAll('td')[0].select('a[href]')[1].get('href')\n",
    "            if 'linkedin' not in linked_in:\n",
    "                linked_in = row.findAll('td')[0].select('a[href]')[2].get('href')\n",
    "                if 'linkedin' not in linked_in:\n",
    "                    linked_in = row.findAll('td')[0].select('a[href]')[3].get('href')\n",
    "    except:\n",
    "        pass    \n",
    "    title = row.findAll('td')[1].text\n",
    "    company = row.findAll('td')[2].text\n",
    "    # error handling for company linkedin\n",
    "    try:\n",
    "        company_website = row.findAll('td')[2].select('a[href]')[1].get('href')\n",
    "    except:\n",
    "        company_website=\"\"\n",
    "\n",
    "    try:\n",
    "        com_linked_in = row.findAll('td')[2].select('a[href]')[1].get('href')\n",
    "        if 'linkedin' not in com_linked_in:\n",
    "            com_linked_in = row.findAll('td')[2].select('a[href]')[2].get('href')\n",
    "        else:\n",
    "            pass\n",
    "    except:\n",
    "        pass\n",
    "    email = row.findAll('td')[4].text\n",
    "    industry = row.findAll('td')[6].text\n",
    "    contact_loc = row.findAll('td')[8].text\n",
    "    company_loc = row.findAll('td')[7].text.replace('N/A',contact_loc)\n",
    "    \n",
    "    company_domain = company_website.replace('https://','').replace('http://','').replace('/','')\n",
    "    \n",
    "    # print(name,linked_in,title,company,contact_loc,industry,email)\n",
    "    return {'Name': name,\n",
    "            'Email':email,\n",
    "            'linked_in':linked_in,\n",
    "            'company':company,\n",
    "            'com_linked_in':com_linked_in,\n",
    "            'title': title,\n",
    "            'industry':industry,\n",
    "            'contact_loc':contact_loc,\n",
    "            'company_loc':company_loc,\n",
    "            'company_domain':company_domain,\n",
    "            }"
   ]
  },
  {
   "cell_type": "code",
   "execution_count": 16,
   "metadata": {},
   "outputs": [],
   "source": [
    "def get_data(driver,page_count,competitor_domain,competitor_name,industry,country,date):\n",
    "    industry = industry.lower().replace(' ','-')\n",
    "    country = country.lower().replace(' ','-')\n",
    "    date = date.replace('_','-').replace('/','-')\n",
    "    csv_filename = f\"{industry}-{country}-{date}.csv\"\n",
    "    bucket_name = f\"{industry}-{country}-{date}\"\n",
    "    data = []\n",
    "    for i in range(1,page_count+1):\n",
    "        time.sleep(5)\n",
    "        the_soup = BeautifulSoup(driver.page_source, 'html.parser')\n",
    "        table=the_soup.findAll('tbody')\n",
    "        for row in table:\n",
    "            data.append(extract_data(row,bucket_name,competitor_domain,competitor_name))\n",
    "        if i<page_count:\n",
    "            driver.find_element(By.XPATH,\"/html/body/div[2]/div/div[2]/div[2]/div/div[2]/div/div/div[2]/div[2]/div/div/div/div/div/div/div/div[2]/div/div[4]/div/div/div/div/div[3]/div/div[2]/button[2]\").click()\n",
    "    return data,bucket_name,csv_filename"
   ]
  },
  {
   "cell_type": "code",
   "execution_count": 17,
   "metadata": {},
   "outputs": [],
   "source": [
    "from random import randint\n",
    "\n",
    "\n",
    "def automate1(driver, url, list_name,num):\n",
    "    driver.get(url)\n",
    "    time.sleep(randint(5, 10))\n",
    "\n",
    "    for i in range(num):\n",
    "\n",
    "        #click on select all\n",
    "        driver.find_element(By.XPATH,'/html/body/div[2]/div/div[2]/div[2]/div/div[2]/div/div/div[2]/div[2]/div/div/div/div/div/div/div/div[2]/div/div[3]/div/div/div/div[1]/div[1]/div/button').click()\n",
    "        time.sleep(randint(5, 10))\n",
    "\n",
    "        #select all\n",
    "        driver.find_element(By.XPATH,'/html/body/div[7]/div/div/div/div/div/a[1]').click()\n",
    "        time.sleep(randint(5, 10))\n",
    "\n",
    "        # #open add to list\n",
    "        # driver.find_element(By.XPATH,'/html/body/div[2]/div/div[2]/div[2]/div/div[2]/div/div/div/div[2]/div/div[2]/div/div/div/div/div/div[2]/div/div[3]/div/div/div/div[1]/div[4]/button[3]').click()\n",
    "        # time.sleep(randint(5, 10))\n",
    "\n",
    "        # #click on add to list\n",
    "        # driver.find_element(By.XPATH,'/html/body/div[7]/div/div/div/div/div/a').click()\n",
    "        # time.sleep(randint(5, 10))\n",
    "\n",
    "        # click on save button\n",
    "        driver.find_element(By.XPATH,'/html/body/div[2]/div/div[2]/div[2]/div/div[2]/div/div/div[2]/div[2]/div/div/div/div/div/div/div/div[2]/div/div[3]/div/div/div/div[1]/div[3]/span[1]/button').click()\n",
    "        time.sleep(randint(5, 10))\n",
    "\n",
    "        #send list name\n",
    "        driver.find_element(By.XPATH,'/html/body/div[7]/div[2]/div/div/div[2]/form/div[1]/div[2]/div/div/div/div[2]/div/div/div/div/div/div[1]/input').send_keys(list_name)\n",
    "        time.sleep(randint(5, 10))\n",
    "\n",
    "        #click on save button\n",
    "        driver.find_element(By.XPATH,'/html/body/div[7]/div[2]/div/div/div[3]/button[1]').click()\n",
    "        time.sleep(randint(5, 10))\n",
    "\n",
    "        #refresh prospects\n",
    "        driver.find_element(By.XPATH,'/html/body/div[2]/div/div[2]/div[2]/div/div[4]/div/div[2]/div/div/div/div[2]/div/div[2]/div[2]').click()\n",
    "        time.sleep(randint(5, 10))\n",
    "\n",
    "\n",
    "        # # next page\n",
    "        # driver.find_element(By.XPATH,'/html/body/div[2]/div/div[2]/div[2]/div/div[2]/div/div/div/div[2]/div/div[2]/div/div/div/div/div/div[2]/div/div[4]/div/div/div/div/div[3]/div/div[2]/button[2]').click()\n",
    "        # time.sleep(randint(5, 10))"
   ]
  },
  {
   "cell_type": "code",
   "execution_count": 18,
   "metadata": {},
   "outputs": [],
   "source": [
    "def extract_data(row,bucket_name,competitor_domain,competitor_name):\n",
    "    com_linked_in=''\n",
    "    linked_in=''\n",
    "    name = row.findAll('td')[0].text.split(' ')[0]\n",
    "    # error handling for linkedin\n",
    "    try:\n",
    "        linked_in = row.findAll('td')[0].select('a[href]')[0].get('href')\n",
    "        if 'linkedin' not in linked_in:\n",
    "            linked_in = row.findAll('td')[0].select('a[href]')[1].get('href')\n",
    "            if 'linkedin' not in linked_in:\n",
    "                linked_in = row.findAll('td')[0].select('a[href]')[2].get('href')\n",
    "                if 'linkedin' not in linked_in:\n",
    "                    linked_in = row.findAll('td')[0].select('a[href]')[3].get('href')\n",
    "    except:\n",
    "        pass    \n",
    "    title = row.findAll('td')[1].text\n",
    "    company = row.findAll('td')[2].text\n",
    "    # error handling for company linkedin\n",
    "    try:    \n",
    "        company_website = row.findAll('td')[2].select('a[href]')[1].get('href')\n",
    "    except:\n",
    "        company_website=\"\"\n",
    "\n",
    "    try:\n",
    "        com_linked_in = row.findAll('td')[2].select('a[href]')[1].get('href')\n",
    "        if 'linkedin' not in com_linked_in:\n",
    "            com_linked_in = row.findAll('td')[2].select('a[href]')[2].get('href')\n",
    "            if 'linkedin' not in com_linked_in:\n",
    "                com_linked_in = row.findAll('td')[2].select('a[href]')[3].get('href')\n",
    "                if 'linkedin' not in com_linked_in:\n",
    "                    com_linked_in = row.findAll('td')[2].select('a[href]')[4].get('href')\n",
    "    except:\n",
    "        pass\n",
    "    email = row.findAll('td')[4].text\n",
    "    industry = row.findAll('td')[6].text\n",
    "    contact_loc = row.findAll('td')[8].text\n",
    "    company_loc = row.findAll('td')[7].text.replace('N/A',contact_loc)\n",
    "    \n",
    "    company_domain = company_website.replace('https://','').replace('http://','').replace('/','')\n",
    "    \n",
    "    # print(name,linked_in,title,company,contact_loc,industry,email)\n",
    "    return {'Name': name,\n",
    "            'Email':email,\n",
    "            'linked_in':linked_in,\n",
    "            'company':company,\n",
    "            'com_linked_in':com_linked_in,\n",
    "            'title': title,\n",
    "            'industry':industry,\n",
    "            'contact_loc':contact_loc,\n",
    "            'company_loc':company_loc,\n",
    "            'company_domain':company_domain\n",
    "            }"
   ]
  },
  {
   "cell_type": "code",
   "execution_count": 14,
   "metadata": {},
   "outputs": [
    {
     "ename": "KeyboardInterrupt",
     "evalue": "",
     "output_type": "error",
     "traceback": [
      "\u001b[0;31m---------------------------------------------------------------------------\u001b[0m",
      "\u001b[0;31mKeyboardInterrupt\u001b[0m                         Traceback (most recent call last)",
      "Cell \u001b[0;32mIn[14], line 3\u001b[0m\n\u001b[1;32m      1\u001b[0m link\u001b[38;5;241m=\u001b[39m\u001b[38;5;124m\"\u001b[39m\u001b[38;5;124mhttps://app.apollo.io/#/people?finderViewId=5b6dfc5a73f47568b2e5f11c&personTitles[]=owner&personTitles[]=Founder&personTitles[]=founder\u001b[39m\u001b[38;5;132;01m%20a\u001b[39;00m\u001b[38;5;124mnd\u001b[39m\u001b[38;5;132;01m%20c\u001b[39;00m\u001b[38;5;124meo&personTitles[]=CEO&personTitles[]=co\u001b[39m\u001b[38;5;132;01m%20f\u001b[39;00m\u001b[38;5;124mounder&personTitles[]=CMO&personTitles[]=managing\u001b[39m\u001b[38;5;132;01m%20d\u001b[39;00m\u001b[38;5;124mirector&personTitles[]=manager&personTitles[]=Dean&personTitles[]=medical\u001b[39m\u001b[38;5;132;01m%20d\u001b[39;00m\u001b[38;5;124mirector&personTitles[]=md\u001b[39m\u001b[38;5;124m%\u001b[39m\u001b[38;5;124m20phd&page=1&personLocations[]=United\u001b[39m\u001b[38;5;124m%\u001b[39m\u001b[38;5;124m20Kingdom&organizationNumEmployeesRanges[]=1\u001b[39m\u001b[38;5;124m%\u001b[39m\u001b[38;5;124m2C10&organizationNumEmployeesRanges[]=11\u001b[39m\u001b[38;5;124m%\u001b[39m\u001b[38;5;124m2C20&organizationNumEmployeesRanges[]=21\u001b[39m\u001b[38;5;124m%\u001b[39m\u001b[38;5;124m2C50&organizationNumEmployeesRanges[]=51\u001b[39m\u001b[38;5;124m%\u001b[39m\u001b[38;5;124m2C100&organizationNumEmployeesRanges[]=101\u001b[39m\u001b[38;5;124m%\u001b[39m\u001b[38;5;124m2C200&organizationNotIndustryTagIds[]=5567e0c97369640d2b3b1600&organizationNotIndustryTagIds[]=5567cd4773696439b10b0000&organizationNotIndustryTagIds[]=5567cd467369644d39040000&contactEmailStatusV2[]=likely_to_engage&contactEmailStatusV2[]=verified&qOrganizationKeywordTags[]=IVF&qOrganizationKeywordTags[]=Fertility&qOrganizationKeywordTags[]=Infertility&qOrganizationKeywordTags[]=Surrogacy&qOrganizationKeywordTags[]=Test\u001b[39m\u001b[38;5;124m%\u001b[39m\u001b[38;5;124m20Tube\u001b[39m\u001b[38;5;124m%\u001b[39m\u001b[38;5;124m20baby&qOrganizationKeywordTags[]=Gynecology&qOrganizationKeywordTags[]=In\u001b[39m\u001b[38;5;124m%\u001b[39m\u001b[38;5;124m20vitro\u001b[39m\u001b[38;5;132;01m%20f\u001b[39;00m\u001b[38;5;124mertilization\u001b[39m\u001b[38;5;124m%\u001b[39m\u001b[38;5;124m20(IVF)&qOrganizationKeywordTags[]=in\u001b[39m\u001b[38;5;124m%\u001b[39m\u001b[38;5;124m20vitro\u001b[39m\u001b[38;5;132;01m%20f\u001b[39;00m\u001b[38;5;124mertilization&qOrganizationKeywordTags[]=obstetrics&qOrganizationKeywordTags[]=Reproductive&qOrganizationKeywordTags[]=Fertility\u001b[39m\u001b[38;5;124m%\u001b[39m\u001b[38;5;124m20Clinic&qOrganizationKeywordTags[]=Male\u001b[39m\u001b[38;5;132;01m%20F\u001b[39;00m\u001b[38;5;124mertility&qOrganizationKeywordTags[]=Ovulation\u001b[39m\u001b[38;5;124m%\u001b[39m\u001b[38;5;124m20Test&qOrganizationKeywordTags[]=Infertility\u001b[39m\u001b[38;5;124m%\u001b[39m\u001b[38;5;124m20Treatment&includedOrganizationKeywordFields[]=tags&includedOrganizationKeywordFields[]=name&finderTableLayoutId=65c9cf81d945150300252849&sortByField=person_name.raw&sortAscending=true&prospectedByCurrentTeam[]=no\u001b[39m\u001b[38;5;124m\"\u001b[39m\n\u001b[1;32m      2\u001b[0m list_name\u001b[38;5;241m=\u001b[39m\u001b[38;5;124m\"\u001b[39m\u001b[38;5;124mIVF UK 1\u001b[39m\u001b[38;5;124m\"\u001b[39m\n\u001b[0;32m----> 3\u001b[0m \u001b[43mautomate1\u001b[49m\u001b[43m(\u001b[49m\u001b[43mmain_driver\u001b[49m\u001b[43m,\u001b[49m\u001b[43mlink\u001b[49m\u001b[43m,\u001b[49m\u001b[43m \u001b[49m\u001b[43mlist_name\u001b[49m\u001b[43m,\u001b[49m\u001b[38;5;241;43m24\u001b[39;49m\u001b[43m)\u001b[49m\n",
      "Cell \u001b[0;32mIn[10], line 36\u001b[0m, in \u001b[0;36mautomate1\u001b[0;34m(driver, url, list_name, num)\u001b[0m\n\u001b[1;32m     34\u001b[0m \u001b[38;5;66;03m#click on save button\u001b[39;00m\n\u001b[1;32m     35\u001b[0m driver\u001b[38;5;241m.\u001b[39mfind_element(By\u001b[38;5;241m.\u001b[39mXPATH,\u001b[38;5;124m'\u001b[39m\u001b[38;5;124m/html/body/div[7]/div[2]/div/div/div[3]/button[1]\u001b[39m\u001b[38;5;124m'\u001b[39m)\u001b[38;5;241m.\u001b[39mclick()\n\u001b[0;32m---> 36\u001b[0m \u001b[43mtime\u001b[49m\u001b[38;5;241;43m.\u001b[39;49m\u001b[43msleep\u001b[49m\u001b[43m(\u001b[49m\u001b[43mrandint\u001b[49m\u001b[43m(\u001b[49m\u001b[38;5;241;43m5\u001b[39;49m\u001b[43m,\u001b[49m\u001b[43m \u001b[49m\u001b[38;5;241;43m10\u001b[39;49m\u001b[43m)\u001b[49m\u001b[43m)\u001b[49m\n\u001b[1;32m     38\u001b[0m \u001b[38;5;66;03m#refresh prospects\u001b[39;00m\n\u001b[1;32m     39\u001b[0m driver\u001b[38;5;241m.\u001b[39mfind_element(By\u001b[38;5;241m.\u001b[39mXPATH,\u001b[38;5;124m'\u001b[39m\u001b[38;5;124m/html/body/div[2]/div/div[2]/div[2]/div/div[4]/div/div[2]/div/div/div/div[2]/div/div[2]/div[2]\u001b[39m\u001b[38;5;124m'\u001b[39m)\u001b[38;5;241m.\u001b[39mclick()\n",
      "\u001b[0;31mKeyboardInterrupt\u001b[0m: "
     ]
    }
   ],
   "source": [
    "link=\"https://app.apollo.io/#/people?finderViewId=5b6dfc5a73f47568b2e5f11c&personTitles[]=owner&personTitles[]=Founder&personTitles[]=founder%20and%20ceo&personTitles[]=CEO&personTitles[]=co%20founder&personTitles[]=CMO&personTitles[]=managing%20director&personTitles[]=manager&personTitles[]=Dean&personTitles[]=medical%20director&personTitles[]=md%20phd&page=1&personLocations[]=United%20Kingdom&organizationNumEmployeesRanges[]=1%2C10&organizationNumEmployeesRanges[]=11%2C20&organizationNumEmployeesRanges[]=21%2C50&organizationNumEmployeesRanges[]=51%2C100&organizationNumEmployeesRanges[]=101%2C200&organizationNotIndustryTagIds[]=5567e0c97369640d2b3b1600&organizationNotIndustryTagIds[]=5567cd4773696439b10b0000&organizationNotIndustryTagIds[]=5567cd467369644d39040000&contactEmailStatusV2[]=likely_to_engage&contactEmailStatusV2[]=verified&qOrganizationKeywordTags[]=IVF&qOrganizationKeywordTags[]=Fertility&qOrganizationKeywordTags[]=Infertility&qOrganizationKeywordTags[]=Surrogacy&qOrganizationKeywordTags[]=Test%20Tube%20baby&qOrganizationKeywordTags[]=Gynecology&qOrganizationKeywordTags[]=In%20vitro%20fertilization%20(IVF)&qOrganizationKeywordTags[]=in%20vitro%20fertilization&qOrganizationKeywordTags[]=obstetrics&qOrganizationKeywordTags[]=Reproductive&qOrganizationKeywordTags[]=Fertility%20Clinic&qOrganizationKeywordTags[]=Male%20Fertility&qOrganizationKeywordTags[]=Ovulation%20Test&qOrganizationKeywordTags[]=Infertility%20Treatment&includedOrganizationKeywordFields[]=tags&includedOrganizationKeywordFields[]=name&finderTableLayoutId=65c9cf81d945150300252849&sortByField=person_name.raw&sortAscending=true&prospectedByCurrentTeam[]=no\"\n",
    "list_name=\"IVF UK 1\"\n",
    "automate1(main_driver,link, list_name,24)"
   ]
  },
  {
   "cell_type": "code",
   "execution_count": 19,
   "metadata": {},
   "outputs": [],
   "source": [
    "# pages=get_page_count(driver=main_driver)\n",
    "pages=21\n",
    "competitor_name=\"\"\n",
    "competitor_domain=\"\"\n",
    "industry=\"cannabis-3\"\n",
    "country=\"us\"\n",
    "date=\"17-04-2024\"\n"
   ]
  },
  {
   "cell_type": "code",
   "execution_count": 20,
   "metadata": {},
   "outputs": [],
   "source": [
    "main_data,bucket_name,csv_file_name=get_data(driver=main_driver,page_count=pages,competitor_domain=competitor_domain,competitor_name=competitor_name,industry=industry,country=country,date=date)"
   ]
  },
  {
   "cell_type": "code",
   "execution_count": 5,
   "metadata": {},
   "outputs": [
    {
     "data": {
      "text/plain": [
       "True"
      ]
     },
     "execution_count": 5,
     "metadata": {},
     "output_type": "execute_result"
    }
   ],
   "source": [
    "create_s3_bucket(s3=init_s3(),bucket_name=\"real-estate-vermont-us-29-02-24\")"
   ]
  },
  {
   "cell_type": "code",
   "execution_count": 21,
   "metadata": {},
   "outputs": [],
   "source": [
    "csv_url=write_to_csv(data=main_data,filename=csv_file_name,bucket_name=bucket_name)"
   ]
  },
  {
   "cell_type": "code",
   "execution_count": 22,
   "metadata": {},
   "outputs": [
    {
     "name": "stdout",
     "output_type": "stream",
     "text": [
      "https://cannabis-3-us-17-04-2024.s3.amazonaws.com/cannabis-3-us-17-04-2024.csv\n"
     ]
    }
   ],
   "source": [
    "print(csv_url)"
   ]
  },
  {
   "cell_type": "code",
   "execution_count": 7,
   "metadata": {},
   "outputs": [],
   "source": [
    "login_semrush(main_driver)"
   ]
  },
  {
   "cell_type": "code",
   "execution_count": 154,
   "metadata": {},
   "outputs": [
    {
     "data": {
      "text/plain": [
       "True"
      ]
     },
     "execution_count": 154,
     "metadata": {},
     "output_type": "execute_result"
    }
   ],
   "source": [
    "screenshot_to_s3(s3=init_s3(),driver=main_driver,bucket_name=bucket_name,domain=competitor_domain,region=country)"
   ]
  },
  {
   "cell_type": "code",
   "execution_count": 39,
   "metadata": {},
   "outputs": [],
   "source": [
    "s3=init_s3()"
   ]
  },
  {
   "cell_type": "code",
   "execution_count": 14,
   "metadata": {},
   "outputs": [
    {
     "ename": "InvalidSessionIdException",
     "evalue": "Message: invalid session id\nStacktrace:\n0   chromedriver                        0x000000010480a814 chromedriver + 4040724\n1   chromedriver                        0x0000000104802a18 chromedriver + 4008472\n2   chromedriver                        0x00000001044756a8 chromedriver + 284328\n3   chromedriver                        0x00000001044acc14 chromedriver + 510996\n4   chromedriver                        0x00000001044d71c0 chromedriver + 684480\n5   chromedriver                        0x00000001044d2720 chromedriver + 665376\n6   chromedriver                        0x00000001044d209c chromedriver + 663708\n7   chromedriver                        0x0000000104446d74 chromedriver + 93556\n8   chromedriver                        0x00000001047cfa3c chromedriver + 3799612\n9   chromedriver                        0x00000001047d3f1c chromedriver + 3817244\n10  chromedriver                        0x00000001047b8298 chromedriver + 3703448\n11  chromedriver                        0x00000001047d4a64 chromedriver + 3820132\n12  chromedriver                        0x00000001047ab054 chromedriver + 3649620\n13  chromedriver                        0x0000000104445658 chromedriver + 87640\n14  dyld                                0x0000000181ed10e0 start + 2360\n",
     "output_type": "error",
     "traceback": [
      "\u001b[0;31m---------------------------------------------------------------------------\u001b[0m",
      "\u001b[0;31mInvalidSessionIdException\u001b[0m                 Traceback (most recent call last)",
      "Cell \u001b[0;32mIn[14], line 1\u001b[0m\n\u001b[0;32m----> 1\u001b[0m \u001b[43mupdate_screenshots_to_s3\u001b[49m\u001b[43m(\u001b[49m\u001b[43ms3\u001b[49m\u001b[38;5;241;43m=\u001b[39;49m\u001b[43minit_s3\u001b[49m\u001b[43m(\u001b[49m\u001b[43m)\u001b[49m\u001b[43m,\u001b[49m\u001b[43mdriver\u001b[49m\u001b[38;5;241;43m=\u001b[39;49m\u001b[43mmain_driver\u001b[49m\u001b[43m,\u001b[49m\u001b[43mbucket_name\u001b[49m\u001b[38;5;241;43m=\u001b[39;49m\u001b[43mbucket_name\u001b[49m\u001b[43m,\u001b[49m\u001b[43mdata\u001b[49m\u001b[38;5;241;43m=\u001b[39;49m\u001b[43mmain_data\u001b[49m\u001b[43m,\u001b[49m\u001b[43mregion\u001b[49m\u001b[38;5;241;43m=\u001b[39;49m\u001b[43mcountry\u001b[49m\u001b[43m)\u001b[49m\n",
      "File \u001b[0;32m~/Projects/Hotbit Digital/hotbit-digital/methods.py:193\u001b[0m, in \u001b[0;36mupdate_screenshots_to_s3\u001b[0;34m(s3, driver, bucket_name, data, region)\u001b[0m\n\u001b[1;32m    191\u001b[0m \u001b[38;5;28;01mfor\u001b[39;00m item \u001b[38;5;129;01min\u001b[39;00m data:\n\u001b[1;32m    192\u001b[0m     domain \u001b[38;5;241m=\u001b[39m item[\u001b[38;5;124m'\u001b[39m\u001b[38;5;124mcompany_domain\u001b[39m\u001b[38;5;124m'\u001b[39m]\n\u001b[0;32m--> 193\u001b[0m     \u001b[43mscreenshot_to_s3\u001b[49m\u001b[43m(\u001b[49m\u001b[43ms3\u001b[49m\u001b[38;5;241;43m=\u001b[39;49m\u001b[43ms3\u001b[49m\u001b[43m,\u001b[49m\u001b[43mdriver\u001b[49m\u001b[38;5;241;43m=\u001b[39;49m\u001b[43mdriver\u001b[49m\u001b[43m,\u001b[49m\u001b[43mbucket_name\u001b[49m\u001b[38;5;241;43m=\u001b[39;49m\u001b[43mbucket_name\u001b[49m\u001b[43m,\u001b[49m\u001b[43mdomain\u001b[49m\u001b[38;5;241;43m=\u001b[39;49m\u001b[43mdomain\u001b[49m\u001b[43m,\u001b[49m\u001b[43mregion\u001b[49m\u001b[38;5;241;43m=\u001b[39;49m\u001b[43mregion\u001b[49m\u001b[43m)\u001b[49m\n\u001b[1;32m    195\u001b[0m \u001b[38;5;28;01mreturn\u001b[39;00m \u001b[38;5;28;01mTrue\u001b[39;00m\n",
      "File \u001b[0;32m~/Projects/Hotbit Digital/hotbit-digital/methods.py:155\u001b[0m, in \u001b[0;36mscreenshot_to_s3\u001b[0;34m(s3, driver, bucket_name, domain, region)\u001b[0m\n\u001b[1;32m    153\u001b[0m \u001b[38;5;28;01mdef\u001b[39;00m \u001b[38;5;21mscreenshot_to_s3\u001b[39m(s3,driver,bucket_name,domain,region\u001b[38;5;241m=\u001b[39m\u001b[38;5;124m'\u001b[39m\u001b[38;5;124mus\u001b[39m\u001b[38;5;124m'\u001b[39m):\n\u001b[1;32m    154\u001b[0m     domain \u001b[38;5;241m=\u001b[39m domain\n\u001b[0;32m--> 155\u001b[0m     \u001b[43mdriver\u001b[49m\u001b[38;5;241;43m.\u001b[39;49m\u001b[43mget\u001b[49m\u001b[43m(\u001b[49m\u001b[38;5;124;43mf\u001b[39;49m\u001b[38;5;124;43m\"\u001b[39;49m\u001b[38;5;124;43mhttps://sm.proseotools.us/analytics/overview/?searchType=domain&q=\u001b[39;49m\u001b[38;5;132;43;01m{\u001b[39;49;00m\u001b[43mdomain\u001b[49m\u001b[38;5;132;43;01m}\u001b[39;49;00m\u001b[38;5;124;43m&db=\u001b[39;49m\u001b[38;5;132;43;01m{\u001b[39;49;00m\u001b[43mregion\u001b[49m\u001b[38;5;132;43;01m}\u001b[39;49;00m\u001b[38;5;124;43m\"\u001b[39;49m\u001b[43m)\u001b[49m\n\u001b[1;32m    156\u001b[0m     time\u001b[38;5;241m.\u001b[39msleep(\u001b[38;5;241m5\u001b[39m)\n\u001b[1;32m    158\u001b[0m     \u001b[38;5;66;03m#highlight borders\u001b[39;00m\n",
      "File \u001b[0;32m~/Projects/.venv/lib/python3.9/site-packages/selenium/webdriver/remote/webdriver.py:356\u001b[0m, in \u001b[0;36mWebDriver.get\u001b[0;34m(self, url)\u001b[0m\n\u001b[1;32m    354\u001b[0m \u001b[38;5;28;01mdef\u001b[39;00m \u001b[38;5;21mget\u001b[39m(\u001b[38;5;28mself\u001b[39m, url: \u001b[38;5;28mstr\u001b[39m) \u001b[38;5;241m-\u001b[39m\u001b[38;5;241m>\u001b[39m \u001b[38;5;28;01mNone\u001b[39;00m:\n\u001b[1;32m    355\u001b[0m \u001b[38;5;250m    \u001b[39m\u001b[38;5;124;03m\"\"\"Loads a web page in the current browser session.\"\"\"\u001b[39;00m\n\u001b[0;32m--> 356\u001b[0m     \u001b[38;5;28;43mself\u001b[39;49m\u001b[38;5;241;43m.\u001b[39;49m\u001b[43mexecute\u001b[49m\u001b[43m(\u001b[49m\u001b[43mCommand\u001b[49m\u001b[38;5;241;43m.\u001b[39;49m\u001b[43mGET\u001b[49m\u001b[43m,\u001b[49m\u001b[43m \u001b[49m\u001b[43m{\u001b[49m\u001b[38;5;124;43m\"\u001b[39;49m\u001b[38;5;124;43murl\u001b[39;49m\u001b[38;5;124;43m\"\u001b[39;49m\u001b[43m:\u001b[49m\u001b[43m \u001b[49m\u001b[43murl\u001b[49m\u001b[43m}\u001b[49m\u001b[43m)\u001b[49m\n",
      "File \u001b[0;32m~/Projects/.venv/lib/python3.9/site-packages/selenium/webdriver/remote/webdriver.py:347\u001b[0m, in \u001b[0;36mWebDriver.execute\u001b[0;34m(self, driver_command, params)\u001b[0m\n\u001b[1;32m    345\u001b[0m response \u001b[38;5;241m=\u001b[39m \u001b[38;5;28mself\u001b[39m\u001b[38;5;241m.\u001b[39mcommand_executor\u001b[38;5;241m.\u001b[39mexecute(driver_command, params)\n\u001b[1;32m    346\u001b[0m \u001b[38;5;28;01mif\u001b[39;00m response:\n\u001b[0;32m--> 347\u001b[0m     \u001b[38;5;28;43mself\u001b[39;49m\u001b[38;5;241;43m.\u001b[39;49m\u001b[43merror_handler\u001b[49m\u001b[38;5;241;43m.\u001b[39;49m\u001b[43mcheck_response\u001b[49m\u001b[43m(\u001b[49m\u001b[43mresponse\u001b[49m\u001b[43m)\u001b[49m\n\u001b[1;32m    348\u001b[0m     response[\u001b[38;5;124m\"\u001b[39m\u001b[38;5;124mvalue\u001b[39m\u001b[38;5;124m\"\u001b[39m] \u001b[38;5;241m=\u001b[39m \u001b[38;5;28mself\u001b[39m\u001b[38;5;241m.\u001b[39m_unwrap_value(response\u001b[38;5;241m.\u001b[39mget(\u001b[38;5;124m\"\u001b[39m\u001b[38;5;124mvalue\u001b[39m\u001b[38;5;124m\"\u001b[39m, \u001b[38;5;28;01mNone\u001b[39;00m))\n\u001b[1;32m    349\u001b[0m     \u001b[38;5;28;01mreturn\u001b[39;00m response\n",
      "File \u001b[0;32m~/Projects/.venv/lib/python3.9/site-packages/selenium/webdriver/remote/errorhandler.py:229\u001b[0m, in \u001b[0;36mErrorHandler.check_response\u001b[0;34m(self, response)\u001b[0m\n\u001b[1;32m    227\u001b[0m         alert_text \u001b[38;5;241m=\u001b[39m value[\u001b[38;5;124m\"\u001b[39m\u001b[38;5;124malert\u001b[39m\u001b[38;5;124m\"\u001b[39m]\u001b[38;5;241m.\u001b[39mget(\u001b[38;5;124m\"\u001b[39m\u001b[38;5;124mtext\u001b[39m\u001b[38;5;124m\"\u001b[39m)\n\u001b[1;32m    228\u001b[0m     \u001b[38;5;28;01mraise\u001b[39;00m exception_class(message, screen, stacktrace, alert_text)  \u001b[38;5;66;03m# type: ignore[call-arg]  # mypy is not smart enough here\u001b[39;00m\n\u001b[0;32m--> 229\u001b[0m \u001b[38;5;28;01mraise\u001b[39;00m exception_class(message, screen, stacktrace)\n",
      "\u001b[0;31mInvalidSessionIdException\u001b[0m: Message: invalid session id\nStacktrace:\n0   chromedriver                        0x000000010480a814 chromedriver + 4040724\n1   chromedriver                        0x0000000104802a18 chromedriver + 4008472\n2   chromedriver                        0x00000001044756a8 chromedriver + 284328\n3   chromedriver                        0x00000001044acc14 chromedriver + 510996\n4   chromedriver                        0x00000001044d71c0 chromedriver + 684480\n5   chromedriver                        0x00000001044d2720 chromedriver + 665376\n6   chromedriver                        0x00000001044d209c chromedriver + 663708\n7   chromedriver                        0x0000000104446d74 chromedriver + 93556\n8   chromedriver                        0x00000001047cfa3c chromedriver + 3799612\n9   chromedriver                        0x00000001047d3f1c chromedriver + 3817244\n10  chromedriver                        0x00000001047b8298 chromedriver + 3703448\n11  chromedriver                        0x00000001047d4a64 chromedriver + 3820132\n12  chromedriver                        0x00000001047ab054 chromedriver + 3649620\n13  chromedriver                        0x0000000104445658 chromedriver + 87640\n14  dyld                                0x0000000181ed10e0 start + 2360\n"
     ]
    }
   ],
   "source": [
    "update_screenshots_to_s3(s3=init_s3(),driver=main_driver,bucket_name=bucket_name,data=main_data,region=country)"
   ]
  },
  {
   "cell_type": "code",
   "execution_count": 185,
   "metadata": {},
   "outputs": [],
   "source": [
    "\n",
    "\n",
    "main_driver.quit()"
   ]
  },
  {
   "cell_type": "code",
   "execution_count": 8,
   "metadata": {},
   "outputs": [
    {
     "data": {
      "text/plain": [
       "True"
      ]
     },
     "execution_count": 8,
     "metadata": {},
     "output_type": "execute_result"
    }
   ],
   "source": [
    "screenshot_to_s3(s3=init_s3(),driver=main_driver,bucket_name=\"real-estate-ny-us-19-02-2024\",domain=\"www.peterashe.com\",region=\"us\")"
   ]
  },
  {
   "cell_type": "code",
   "execution_count": null,
   "metadata": {},
   "outputs": [],
   "source": []
  },
  {
   "cell_type": "code",
   "execution_count": 140,
   "metadata": {},
   "outputs": [],
   "source": []
  },
  {
   "cell_type": "code",
   "execution_count": 133,
   "metadata": {},
   "outputs": [],
   "source": [
    "data = update_competitor_details(data=main_data[1000:],competitor_name=\"Eagle Rock Properties\",competitor_domain=\"www.eaglerockproperties.com\",bucket_name=\"real-estate-ny-us-20-02-2024\")\n"
   ]
  },
  {
   "cell_type": "code",
   "execution_count": 146,
   "metadata": {},
   "outputs": [],
   "source": [
    "data=update_competitor_and_company_details(data=main_data[1000:],competitor_name=\"Eagle Rock Properties\",competitor_domain=\"www.eaglerockproperties.com\",bucket_name=\"real-estate-ny-us-20-02-2024\")"
   ]
  },
  {
   "cell_type": "code",
   "execution_count": 151,
   "metadata": {},
   "outputs": [
    {
     "data": {
      "text/plain": [
       "'https://real-estate-ny-us-20-02-2024.s3.amazonaws.com/real-estate-ny-us-20-02-2024.csv'"
      ]
     },
     "execution_count": 151,
     "metadata": {},
     "output_type": "execute_result"
    }
   ],
   "source": [
    "write_to_csv(data=data,filename=csv_file_name,bucket_name=bucket_name)"
   ]
  },
  {
   "cell_type": "code",
   "execution_count": 1,
   "metadata": {},
   "outputs": [],
   "source": [
    "# read csv into dictionary\n",
    "from pandas import read_csv\n",
    "df = read_csv('real-estate-ny-us-19-02-2024.csv')\n",
    "data = df.to_dict(orient='records')"
   ]
  },
  {
   "cell_type": "code",
   "execution_count": 30,
   "metadata": {},
   "outputs": [],
   "source": [
    "lookup_data=read_csv(\"clicked.csv\").to_dict(orient='records')\n"
   ]
  },
  {
   "cell_type": "code",
   "execution_count": 25,
   "metadata": {},
   "outputs": [
    {
     "data": {
      "text/plain": [
       "True"
      ]
     },
     "execution_count": 25,
     "metadata": {},
     "output_type": "execute_result"
    }
   ],
   "source": [
    "email=str(data[4][\"Email\"]).lower().strip()\n",
    "email1=str(lookup_data[0][\"Email\"]).lower().strip()\n",
    "\n",
    "email==email1"
   ]
  },
  {
   "cell_type": "code",
   "execution_count": 31,
   "metadata": {},
   "outputs": [
    {
     "name": "stdout",
     "output_type": "stream",
     "text": [
      "akleiman@nexusci.com\n",
      "http://www.linkedin.com/in/aaron-kleiman-bb2502122\n",
      "found\n",
      "abickoff@sterlingprojectdevelopment.com\n",
      "http://www.linkedin.com/in/adam-bickoff-4309548\n",
      "found\n",
      "a.albert@tmdre.com\n",
      "http://www.linkedin.com/in/adrienne-albert-59798413\n",
      "found\n",
      "alec@olcny.com\n",
      "http://www.linkedin.com/in/alec-ornstein-2530666\n",
      "found\n",
      "asvetlakou@ripcony.com\n",
      "http://www.linkedin.com/in/alex-svetlakou-a90a86161\n",
      "found\n",
      "acaiola@bandlmanagement.com\n",
      "http://www.linkedin.com/in/alfred-caiola-35112419\n",
      "found\n",
      "alyssa.thomas@rsequity.com\n",
      "http://www.linkedin.com/in/alyssa-thomas-43b69723\n",
      "found\n",
      "awetzler@sterlingprojectdevelopment.com\n",
      "http://www.linkedin.com/in/andrewwetzler\n",
      "found\n",
      "carol@velocitytitle.com\n",
      "#/contacts/65d2eac4db6b25000166a096\n",
      "found\n",
      "carol@premierequities.com\n",
      "http://www.linkedin.com/in/carol-hensley-chester-8749bb7\n",
      "found\n",
      "charlotte.banghart@rsequity.com\n",
      "http://www.linkedin.com/in/charlotte-banghart-9b18027b\n",
      "found\n",
      "chris.murray@redstoneequity.com\n",
      "http://www.linkedin.com/in/chris-murray-9642a09\n",
      "found\n",
      "christina@velocitytitle.com\n",
      "http://www.linkedin.com/in/christina-garvey-berman-14982982\n",
      "found\n",
      "craig@clkcorp.com\n",
      "http://www.linkedin.com/in/craig-koenigsberg-32153431\n",
      "found\n",
      "darren.swanson@rsequity.com\n",
      "http://www.linkedin.com/in/darrenswanson\n",
      "found\n",
      "dwelsh@senlacpartners.com\n",
      "http://www.linkedin.com/in/david-welsh-b2058913\n",
      "found\n",
      "dawn@closerattorney.com\n",
      "http://www.linkedin.com/in/paralegaldawnacevedo\n",
      "found\n",
      "dbraun@nexusci.com\n",
      "http://www.linkedin.com/in/dov-braun\n",
      "found\n",
      "edeangelo@crefc.org\n",
      "http://www.linkedin.com/in/ed-deangelo-4902428\n",
      "found\n",
      "ed@nycofficesuites.com\n",
      "http://www.linkedin.com/in/edward-carroll-88785223\n",
      "found\n",
      "elarner@schuylercompanies.com\n",
      "http://www.linkedin.com/in/eric-larner-72510511\n",
      "found\n",
      "eric@rsequity.com\n",
      "http://www.linkedin.com/in/eric-mcclelland-46b53441\n",
      "found\n",
      "erubin@cannonhillcap.com\n",
      "http://www.linkedin.com/in/eric-rubin-a36198170\n",
      "found\n",
      "gary@gdcproperties.com\n",
      "http://www.linkedin.com/in/gary-crowder-822556116\n",
      "found\n",
      "gspiegelman@ripcony.com\n",
      "http://www.linkedin.com/in/retailpro1\n",
      "found\n",
      "hrobey@ripcofl.com\n",
      "http://www.linkedin.com/in/hunter-robey-688a70170\n",
      "found\n",
      "isaac.assa@assaproperties.com\n",
      "http://www.linkedin.com/in/isaacassa\n",
      "found\n",
      "jamiefrank@acquestdevelopment.com\n",
      "http://www.linkedin.com/in/jamieefrank\n",
      "found\n",
      "sburki@crefc.org\n",
      "http://www.linkedin.com/in/sairah-burki-8b408a3\n",
      "found\n",
      "ksegel@schuylercompanies.com\n",
      "http://www.linkedin.com/in/segel-kenneth-4b32bb2b\n",
      "found\n",
      "tcsukor@bellingham-marine.com\n",
      "#/contacts/65c6e14af0c23a000174fe3f\n",
      "found\n",
      "will.blodgett@tredway.com\n",
      "http://www.linkedin.com/in/will-blodgett\n",
      "found\n",
      "abookwalter@apprise.us\n",
      "http://www.linkedin.com/in/adrianebookwalter\n",
      "found\n",
      "pallaoro@bizzipartners.com\n",
      "http://www.linkedin.com/in/alessandro-pallaoro-23ba8bb\n",
      "found\n",
      "bgold@karpinc.com\n",
      "http://www.linkedin.com/in/burt-gold-a4b61b19\n",
      "found\n",
      "cspagnuolo@tc-mgt.com\n",
      "http://www.linkedin.com/in/spagnuolochris\n",
      "found\n",
      "cernst@magnoliacap.com\n",
      "http://www.linkedin.com/in/cord-ernst-aa039627\n",
      "found\n",
      "david.perlman@thorofarecapital.com\n",
      "http://www.linkedin.com/in/david~perlman\n",
      "found\n",
      "fcappello@newgrowthliving.com\n",
      "http://www.linkedin.com/in/frank-cappello-2329474\n",
      "found\n",
      "mjoe@joe.com\n",
      "http://www.linkedin.com/in/joe-man-a68b0313\n",
      "found\n",
      "jmoshe@crrli.net\n",
      "http://www.linkedin.com/in/joemoshe\n",
      "found\n",
      "jgreene@maximcapitalgroup.com\n",
      "http://www.linkedin.com/in/joshgreene2\n",
      "found\n",
      "kparekh@toorakcapital.com\n",
      "http://www.linkedin.com/in/ketan-parekh-0b7a304\n",
      "found\n",
      "ltilney@sterlingprojectdevelopment.com\n",
      "http://www.linkedin.com/in/lisa-tilney-84912630\n",
      "found\n",
      "marc@ilstitle.com\n",
      "http://www.linkedin.com/in/marc-herskowitz-63987213\n",
      "found\n",
      "mf@acrescap.com\n",
      "http://www.linkedin.com/in/mark-fogel-24579561\n",
      "found\n",
      "mark@markhertzco.com\n",
      "http://www.linkedin.com/in/mark-hertz-1b41033b\n",
      "found\n",
      "mallen@amcap.com\n",
      "http://www.linkedin.com/in/matthew-allen-801a994\n",
      "found\n",
      "mnegrin@lexincapital.com\n",
      "http://www.linkedin.com/in/metin-negrin-8311b29\n",
      "found\n",
      "mjeinsidler@einsidler.com\n",
      "http://www.linkedin.com/in/michael-einsidler-51642015\n",
      "found\n",
      "mem@eamc.com\n",
      "http://www.linkedin.com/in/mike-mccann-b980824\n",
      "found\n",
      "mruthman@thespinneygroup.com\n",
      "http://www.linkedin.com/in/morganruthman\n",
      "found\n",
      "pmoshe@crrli.net\n",
      "http://www.linkedin.com/in/pamela-moshe-0b8b8781\n",
      "found\n",
      "raidasani@crefc.org\n",
      "http://www.linkedin.com/in/raj-aidasani-4634745\n",
      "found\n"
     ]
    }
   ],
   "source": [
    "linkedin_url=[]\n",
    "for item in lookup_data:\n",
    "    email=str(item[\"Email\"]).lower().strip()\n",
    "    for data_item in data:\n",
    "        email1=str(data_item[\"Email\"]).lower().strip()\n",
    "        if email==email1:\n",
    "            print(email)\n",
    "            print(data_item[\"linked_in\"])\n",
    "            print(\"found\")\n",
    "            linkedin_url.append(data_item[\"linked_in\"])\n",
    "            break\n",
    "    else:\n",
    "        print(\"not found\")\n",
    "        print(email)\n",
    "        print(email1)\n",
    "        print(\"not found\")\n",
    "        break"
   ]
  },
  {
   "cell_type": "code",
   "execution_count": 34,
   "metadata": {},
   "outputs": [],
   "source": [
    "main_driver.get(\"https://www.linkedin.com/in/\")"
   ]
  },
  {
   "cell_type": "code",
   "execution_count": 84,
   "metadata": {},
   "outputs": [
    {
     "ename": "KeyboardInterrupt",
     "evalue": "",
     "output_type": "error",
     "traceback": [
      "\u001b[0;31m---------------------------------------------------------------------------\u001b[0m",
      "\u001b[0;31mKeyboardInterrupt\u001b[0m                         Traceback (most recent call last)",
      "Cell \u001b[0;32mIn[84], line 3\u001b[0m\n\u001b[1;32m      1\u001b[0m \u001b[38;5;28;01mfor\u001b[39;00m i \u001b[38;5;129;01min\u001b[39;00m \u001b[38;5;28mrange\u001b[39m(\u001b[38;5;241m31\u001b[39m,\u001b[38;5;241m40\u001b[39m):\n\u001b[1;32m      2\u001b[0m     main_driver\u001b[38;5;241m.\u001b[39mget(linkedin_url[i])\n\u001b[0;32m----> 3\u001b[0m     \u001b[43mtime\u001b[49m\u001b[38;5;241;43m.\u001b[39;49m\u001b[43msleep\u001b[49m\u001b[43m(\u001b[49m\u001b[38;5;241;43m10\u001b[39;49m\u001b[43m)\u001b[49m\n",
      "\u001b[0;31mKeyboardInterrupt\u001b[0m: "
     ]
    }
   ],
   "source": [
    "\n",
    "\n",
    "\n",
    "for i in range(31,40):\n",
    "    main_driver.get(linkedin_url[i])\n",
    "    time.sleep(10)"
   ]
  },
  {
   "cell_type": "code",
   "execution_count": 79,
   "metadata": {},
   "outputs": [],
   "source": []
  },
  {
   "cell_type": "code",
   "execution_count": 80,
   "metadata": {},
   "outputs": [
    {
     "ename": "AttributeError",
     "evalue": "'S3' object has no attribute 'BucketVersioning'",
     "output_type": "error",
     "traceback": [
      "\u001b[0;31m---------------------------------------------------------------------------\u001b[0m",
      "\u001b[0;31mAttributeError\u001b[0m                            Traceback (most recent call last)",
      "Cell \u001b[0;32mIn[80], line 1\u001b[0m\n\u001b[0;32m----> 1\u001b[0m \u001b[43mcreate_s3_bucket\u001b[49m\u001b[43m(\u001b[49m\u001b[43ms3\u001b[49m\u001b[38;5;241;43m=\u001b[39;49m\u001b[43minit_s3\u001b[49m\u001b[43m(\u001b[49m\u001b[43m)\u001b[49m\u001b[43m,\u001b[49m\u001b[43mbucket_name\u001b[49m\u001b[38;5;241;43m=\u001b[39;49m\u001b[38;5;124;43m\"\u001b[39;49m\u001b[38;5;124;43mtest-bucket-versioning-hotbit\u001b[39;49m\u001b[38;5;124;43m\"\u001b[39;49m\u001b[43m)\u001b[49m\n",
      "Cell \u001b[0;32mIn[79], line 5\u001b[0m, in \u001b[0;36mcreate_s3_bucket\u001b[0;34m(s3, bucket_name)\u001b[0m\n\u001b[1;32m      3\u001b[0m s3\u001b[38;5;241m.\u001b[39mput_public_access_block(Bucket\u001b[38;5;241m=\u001b[39mbucket_name, PublicAccessBlockConfiguration\u001b[38;5;241m=\u001b[39m{\u001b[38;5;124m'\u001b[39m\u001b[38;5;124mBlockPublicAcls\u001b[39m\u001b[38;5;124m'\u001b[39m: \u001b[38;5;28;01mFalse\u001b[39;00m,\u001b[38;5;124m'\u001b[39m\u001b[38;5;124mIgnorePublicAcls\u001b[39m\u001b[38;5;124m'\u001b[39m: \u001b[38;5;28;01mFalse\u001b[39;00m,\u001b[38;5;124m'\u001b[39m\u001b[38;5;124mBlockPublicPolicy\u001b[39m\u001b[38;5;124m'\u001b[39m: \u001b[38;5;28;01mTrue\u001b[39;00m,\u001b[38;5;124m'\u001b[39m\u001b[38;5;124mRestrictPublicBuckets\u001b[39m\u001b[38;5;124m'\u001b[39m: \u001b[38;5;28;01mTrue\u001b[39;00m})\n\u001b[1;32m      4\u001b[0m s3\u001b[38;5;241m.\u001b[39mput_bucket_acl(ACL\u001b[38;5;241m=\u001b[39m\u001b[38;5;124m'\u001b[39m\u001b[38;5;124mpublic-read\u001b[39m\u001b[38;5;124m'\u001b[39m,Bucket\u001b[38;5;241m=\u001b[39mbucket_name)\n\u001b[0;32m----> 5\u001b[0m versioning \u001b[38;5;241m=\u001b[39m \u001b[43ms3\u001b[49m\u001b[38;5;241;43m.\u001b[39;49m\u001b[43mBucketVersioning\u001b[49m(bucket_name)\n\u001b[1;32m      6\u001b[0m versioning\u001b[38;5;241m.\u001b[39menable()\n\u001b[1;32m      8\u001b[0m \u001b[38;5;28;01mreturn\u001b[39;00m \u001b[38;5;28;01mTrue\u001b[39;00m\n",
      "File \u001b[0;32m~/Projects/.venv/lib/python3.9/site-packages/botocore/client.py:906\u001b[0m, in \u001b[0;36mBaseClient.__getattr__\u001b[0;34m(self, item)\u001b[0m\n\u001b[1;32m    903\u001b[0m \u001b[38;5;28;01mif\u001b[39;00m event_response \u001b[38;5;129;01mis\u001b[39;00m \u001b[38;5;129;01mnot\u001b[39;00m \u001b[38;5;28;01mNone\u001b[39;00m:\n\u001b[1;32m    904\u001b[0m     \u001b[38;5;28;01mreturn\u001b[39;00m event_response\n\u001b[0;32m--> 906\u001b[0m \u001b[38;5;28;01mraise\u001b[39;00m \u001b[38;5;167;01mAttributeError\u001b[39;00m(\n\u001b[1;32m    907\u001b[0m     \u001b[38;5;124mf\u001b[39m\u001b[38;5;124m\"\u001b[39m\u001b[38;5;124m'\u001b[39m\u001b[38;5;132;01m{\u001b[39;00m\u001b[38;5;28mself\u001b[39m\u001b[38;5;241m.\u001b[39m\u001b[38;5;18m__class__\u001b[39m\u001b[38;5;241m.\u001b[39m\u001b[38;5;18m__name__\u001b[39m\u001b[38;5;132;01m}\u001b[39;00m\u001b[38;5;124m'\u001b[39m\u001b[38;5;124m object has no attribute \u001b[39m\u001b[38;5;124m'\u001b[39m\u001b[38;5;132;01m{\u001b[39;00mitem\u001b[38;5;132;01m}\u001b[39;00m\u001b[38;5;124m'\u001b[39m\u001b[38;5;124m\"\u001b[39m\n\u001b[1;32m    908\u001b[0m )\n",
      "\u001b[0;31mAttributeError\u001b[0m: 'S3' object has no attribute 'BucketVersioning'"
     ]
    }
   ],
   "source": [
    "create_s3_bucket(s3=init_s3(),bucket_name=\"test-bucket-versioning-hotbit\")"
   ]
  },
  {
   "cell_type": "code",
   "execution_count": null,
   "metadata": {},
   "outputs": [],
   "source": []
  },
  {
   "cell_type": "code",
   "execution_count": null,
   "metadata": {},
   "outputs": [],
   "source": []
  },
  {
   "cell_type": "code",
   "execution_count": null,
   "metadata": {},
   "outputs": [],
   "source": []
  },
  {
   "cell_type": "code",
   "execution_count": null,
   "metadata": {},
   "outputs": [],
   "source": []
  },
  {
   "cell_type": "code",
   "execution_count": null,
   "metadata": {},
   "outputs": [],
   "source": []
  },
  {
   "cell_type": "code",
   "execution_count": null,
   "metadata": {},
   "outputs": [],
   "source": [
    "import imaplib\n",
    "import email\n",
    "from email.mime.text import MIMEText\n",
    "from email.mime.multipart import MIMEMultipart\n",
    "\n",
    "# Function to connect to Gmail\n",
    "def connect_to_gmail(username, password):\n",
    "    mail = imaplib.IMAP4_SSL('imap.gmail.com')\n",
    "    mail.login(username, password)\n",
    "    return mail\n",
    "\n",
    "# Function to search for email thread\n",
    "def search_email(mail, search_query):\n",
    "    mail.select('inbox')\n",
    "    result, data = mail.search(None, '(SUBJECT \"{}\")'.format(search_query))\n",
    "    return data[0].split()[-1]  # Assuming the latest email in the thread is what we want\n",
    "\n",
    "# Function to fetch email\n",
    "def fetch_email(mail, email_id):\n",
    "    result, data = mail.fetch(email_id, '(RFC822)')\n",
    "    raw_email = data[0][1]\n",
    "    return email.message_from_bytes(raw_email)\n",
    "\n",
    "# Function to compose email\n",
    "def compose_email(to, subject, body, references=None):\n",
    "    msg = MIMEMultipart()\n",
    "    msg['From'] = \"your_email@gmail.com\"\n",
    "    msg['To'] = to\n",
    "    msg['Subject'] = subject\n",
    "    \n",
    "    # If there are references, add them to the email headers\n",
    "    if references:\n",
    "        msg['References'] = references\n",
    "        msg['In-Reply-To'] = references\n",
    "\n",
    "    # Create a MIMEText object with HTML content\n",
    "    print(type(body))\n",
    "    print(body)\n",
    "    if isinstance(body, bytes):\n",
    "        body = body.decode('utf-8')\n",
    "    html_body = MIMEText(body, 'html')\n",
    "    msg.attach(html_body)\n",
    "    \n",
    "    return msg\n",
    "\n",
    "# Function to save email as draft\n",
    "def save_as_draft(mail, draft):\n",
    "    mail.append('INBOX', None, None, draft)\n",
    "\n",
    "# Function to draft initial email\n",
    "def draft_initial_email(mail, to, subject, body):\n",
    "    draft = compose_email(to, subject, body)\n",
    "    save_as_draft(mail, draft)\n",
    "\n",
    "# Function to draft trailing email\n",
    "def draft_trailing_email(mail, to, subject, body, references):\n",
    "    draft = compose_email(to, subject, body, references)\n",
    "    save_as_draft(mail, draft)\n",
    "\n",
    "\n",
    "def draft_email_imap(data, initial, follow_up):\n",
    "    # Example usage\n",
    "    username = 'avora@hotbitdigital.com'\n",
    "    password = 'unsw vvjr nzbt yhwd'\n",
    "\n",
    "    mail = connect_to_gmail(username, password)\n",
    "    if initial:\n",
    "    # Draft initial email\n",
    "        to = data['receiver']\n",
    "        initial_subject = f\"Discover How {data['company']} Can Soar in Vermont!\"\n",
    "        initial_body = '<html><body><p>Dear recipient,</p><p>This is the initial email...</p></body></html>'\n",
    "        draft_initial_email(mail, to, initial_subject, initial_body)\n",
    "\n",
    "    if follow_up:\n",
    "        # Draft trailing emails with different subject lines in the same thread\n",
    "        initial_subject = f\"Discover How {data['company']} Can Soar in Vermont!\"\n",
    "        initial_references = search_email(mail, initial_subject)\n",
    "        trailing_subjects = [f\"Quick Check-In: Enhancing {data['company']}'s Visibility\", 'Follow-up 2 Subject', 'Follow-up 3 Subject', 'Follow-up 4 Subject', 'Follow-up 5 Subject']\n",
    "\n",
    "\n",
    "        draft_trailing_email(mail, data['receiver'], trailing_subjects[follow_up-1], get_trailing_body(data,follow_up=follow_up), initial_references)\n"
   ]
  }
 ],
 "metadata": {
  "kernelspec": {
   "display_name": ".venv",
   "language": "python",
   "name": "python3"
  },
  "language_info": {
   "codemirror_mode": {
    "name": "ipython",
    "version": 3
   },
   "file_extension": ".py",
   "mimetype": "text/x-python",
   "name": "python",
   "nbconvert_exporter": "python",
   "pygments_lexer": "ipython3",
   "version": "3.9.6"
  }
 },
 "nbformat": 4,
 "nbformat_minor": 2
}
